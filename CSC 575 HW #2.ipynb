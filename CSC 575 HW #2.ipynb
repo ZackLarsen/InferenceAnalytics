{
 "cells": [
  {
   "cell_type": "code",
   "execution_count": 141,
   "metadata": {
    "collapsed": true
   },
   "outputs": [],
   "source": [
    "#This line configures the plotting resolution for retina screens\n",
    "\n",
    "%config InlineBackend.figure_format = 'retina'"
   ]
  },
  {
   "cell_type": "code",
   "execution_count": 142,
   "metadata": {},
   "outputs": [
    {
     "name": "stdout",
     "output_type": "stream",
     "text": [
      "/Users/zacklarsen/Desktop/CSC 575/HW/HW2\n"
     ]
    }
   ],
   "source": [
    "cd /Users/zacklarsen/Desktop/CSC 575/HW/HW2"
   ]
  },
  {
   "cell_type": "code",
   "execution_count": 143,
   "metadata": {
    "collapsed": true
   },
   "outputs": [],
   "source": [
    "from __future__ import division   #Importing this because otherwise there is no precision after decimal place"
   ]
  },
  {
   "cell_type": "code",
   "execution_count": 144,
   "metadata": {
    "collapsed": true
   },
   "outputs": [],
   "source": [
    "#This is really nice. It lets you print multiple variables without print statements\n",
    "\n",
    "from IPython.core.interactiveshell import InteractiveShell\n",
    "InteractiveShell.ast_node_interactivity = \"all\""
   ]
  },
  {
   "cell_type": "code",
   "execution_count": 145,
   "metadata": {
    "collapsed": true
   },
   "outputs": [],
   "source": [
    "import pylab as pl\n",
    "import numpy as np\n",
    "np.set_printoptions(precision=8)\n",
    "from numpy import linalg as la\n",
    "import pandas as pd\n",
    "from sklearn.metrics import confusion_matrix, precision_score, recall_score"
   ]
  },
  {
   "cell_type": "markdown",
   "metadata": {},
   "source": [
    "# 1 Retrieval from an inverted index"
   ]
  },
  {
   "cell_type": "markdown",
   "metadata": {},
   "source": [
    "### Please see the word document for the answers to question 1. What follows below is just for certain calculations."
   ]
  },
  {
   "cell_type": "code",
   "execution_count": 146,
   "metadata": {},
   "outputs": [
    {
     "data": {
      "text/html": [
       "<div>\n",
       "<table border=\"1\" class=\"dataframe\">\n",
       "  <thead>\n",
       "    <tr style=\"text-align: right;\">\n",
       "      <th></th>\n",
       "      <th>allow</th>\n",
       "      <th>base</th>\n",
       "      <th>cluster</th>\n",
       "      <th>collect</th>\n",
       "      <th>creat</th>\n",
       "      <th>critic</th>\n",
       "      <th>default</th>\n",
       "      <th>document</th>\n",
       "      <th>effici</th>\n",
       "      <th>engine</th>\n",
       "      <th>...</th>\n",
       "      <th>retriev</th>\n",
       "      <th>scale</th>\n",
       "      <th>search</th>\n",
       "      <th>short</th>\n",
       "      <th>snippet</th>\n",
       "      <th>system</th>\n",
       "      <th>text</th>\n",
       "      <th>updat</th>\n",
       "      <th>us</th>\n",
       "      <th>web</th>\n",
       "    </tr>\n",
       "    <tr>\n",
       "      <th>Document</th>\n",
       "      <th></th>\n",
       "      <th></th>\n",
       "      <th></th>\n",
       "      <th></th>\n",
       "      <th></th>\n",
       "      <th></th>\n",
       "      <th></th>\n",
       "      <th></th>\n",
       "      <th></th>\n",
       "      <th></th>\n",
       "      <th></th>\n",
       "      <th></th>\n",
       "      <th></th>\n",
       "      <th></th>\n",
       "      <th></th>\n",
       "      <th></th>\n",
       "      <th></th>\n",
       "      <th></th>\n",
       "      <th></th>\n",
       "      <th></th>\n",
       "      <th></th>\n",
       "    </tr>\n",
       "  </thead>\n",
       "  <tbody>\n",
       "    <tr>\n",
       "      <th>Doc1</th>\n",
       "      <td>1</td>\n",
       "      <td>1</td>\n",
       "      <td>0</td>\n",
       "      <td>1</td>\n",
       "      <td>0</td>\n",
       "      <td>0</td>\n",
       "      <td>1</td>\n",
       "      <td>1</td>\n",
       "      <td>0</td>\n",
       "      <td>2</td>\n",
       "      <td>...</td>\n",
       "      <td>1</td>\n",
       "      <td>0</td>\n",
       "      <td>3</td>\n",
       "      <td>0</td>\n",
       "      <td>0</td>\n",
       "      <td>3</td>\n",
       "      <td>0</td>\n",
       "      <td>0</td>\n",
       "      <td>1</td>\n",
       "      <td>1</td>\n",
       "    </tr>\n",
       "    <tr>\n",
       "      <th>Doc2</th>\n",
       "      <td>0</td>\n",
       "      <td>0</td>\n",
       "      <td>0</td>\n",
       "      <td>0</td>\n",
       "      <td>0</td>\n",
       "      <td>1</td>\n",
       "      <td>0</td>\n",
       "      <td>1</td>\n",
       "      <td>1</td>\n",
       "      <td>0</td>\n",
       "      <td>...</td>\n",
       "      <td>1</td>\n",
       "      <td>1</td>\n",
       "      <td>0</td>\n",
       "      <td>0</td>\n",
       "      <td>0</td>\n",
       "      <td>2</td>\n",
       "      <td>0</td>\n",
       "      <td>1</td>\n",
       "      <td>0</td>\n",
       "      <td>0</td>\n",
       "    </tr>\n",
       "    <tr>\n",
       "      <th>Doc3</th>\n",
       "      <td>0</td>\n",
       "      <td>0</td>\n",
       "      <td>2</td>\n",
       "      <td>0</td>\n",
       "      <td>2</td>\n",
       "      <td>0</td>\n",
       "      <td>0</td>\n",
       "      <td>2</td>\n",
       "      <td>0</td>\n",
       "      <td>1</td>\n",
       "      <td>...</td>\n",
       "      <td>1</td>\n",
       "      <td>0</td>\n",
       "      <td>1</td>\n",
       "      <td>1</td>\n",
       "      <td>1</td>\n",
       "      <td>0</td>\n",
       "      <td>1</td>\n",
       "      <td>0</td>\n",
       "      <td>0</td>\n",
       "      <td>2</td>\n",
       "    </tr>\n",
       "  </tbody>\n",
       "</table>\n",
       "<p>3 rows × 36 columns</p>\n",
       "</div>"
      ],
      "text/plain": [
       "          allow  base  cluster  collect  creat  critic  default  document  \\\n",
       "Document                                                                    \n",
       "Doc1          1     1        0        1      0       0        1         1   \n",
       "Doc2          0     0        0        0      0       1        0         1   \n",
       "Doc3          0     0        2        0      2       0        0         2   \n",
       "\n",
       "          effici  engine ...   retriev  scale  search  short  snippet  system  \\\n",
       "Document                 ...                                                    \n",
       "Doc1           0       2 ...         1      0       3      0        0       3   \n",
       "Doc2           1       0 ...         1      1       0      0        0       2   \n",
       "Doc3           0       1 ...         1      0       1      1        1       0   \n",
       "\n",
       "          text  updat  us  web  \n",
       "Document                        \n",
       "Doc1         0      0   1    1  \n",
       "Doc2         0      1   0    0  \n",
       "Doc3         1      0   0    2  \n",
       "\n",
       "[3 rows x 36 columns]"
      ]
     },
     "execution_count": 146,
     "metadata": {},
     "output_type": "execute_result"
    },
    {
     "data": {
      "text/html": [
       "<div>\n",
       "<table border=\"1\" class=\"dataframe\">\n",
       "  <thead>\n",
       "    <tr style=\"text-align: right;\">\n",
       "      <th>Document</th>\n",
       "      <th>Doc1</th>\n",
       "      <th>Doc2</th>\n",
       "      <th>Doc3</th>\n",
       "    </tr>\n",
       "  </thead>\n",
       "  <tbody>\n",
       "    <tr>\n",
       "      <th>allow</th>\n",
       "      <td>1</td>\n",
       "      <td>0</td>\n",
       "      <td>0</td>\n",
       "    </tr>\n",
       "    <tr>\n",
       "      <th>base</th>\n",
       "      <td>1</td>\n",
       "      <td>0</td>\n",
       "      <td>0</td>\n",
       "    </tr>\n",
       "    <tr>\n",
       "      <th>cluster</th>\n",
       "      <td>0</td>\n",
       "      <td>0</td>\n",
       "      <td>2</td>\n",
       "    </tr>\n",
       "    <tr>\n",
       "      <th>collect</th>\n",
       "      <td>1</td>\n",
       "      <td>0</td>\n",
       "      <td>0</td>\n",
       "    </tr>\n",
       "    <tr>\n",
       "      <th>creat</th>\n",
       "      <td>0</td>\n",
       "      <td>0</td>\n",
       "      <td>2</td>\n",
       "    </tr>\n",
       "    <tr>\n",
       "      <th>critic</th>\n",
       "      <td>0</td>\n",
       "      <td>1</td>\n",
       "      <td>0</td>\n",
       "    </tr>\n",
       "  </tbody>\n",
       "</table>\n",
       "</div>"
      ],
      "text/plain": [
       "Document  Doc1  Doc2  Doc3\n",
       "allow        1     0     0\n",
       "base         1     0     0\n",
       "cluster      0     0     2\n",
       "collect      1     0     0\n",
       "creat        0     0     2\n",
       "critic       0     1     0"
      ]
     },
     "execution_count": 146,
     "metadata": {},
     "output_type": "execute_result"
    }
   ],
   "source": [
    "# This index is provided in the homework handout, and I am simply creating a dataframe out of it below:\n",
    "\n",
    "index = {'Document' : pd.Series(('Doc1','Doc2','Doc3')),\n",
    "    'allow' : pd.Series((1,0,0)),\n",
    "    'base' : pd.Series((1,0,0)),\n",
    "    'cluster' : pd.Series((0,0,2)),\n",
    "    'collect' : pd.Series((1,0,0)),\n",
    "    'creat' : pd.Series((0,0,2)),\n",
    "    'critic' : pd.Series((0,1,0)),\n",
    "    'default' : pd.Series((1,0,0)),\n",
    "    'document' : pd.Series((1,1,2)),\n",
    "    'effici' : pd.Series((0,1,0)), \n",
    "    'engine' : pd.Series((2,0,1)),\n",
    "    'evalu' : pd.Series((0,1,0)),\n",
    "    'feedback' : pd.Series((0,1,0)),\n",
    "    'file' : pd.Series((1,0,0)),\n",
    "    'full' : pd.Series((0,0,1)),\n",
    "    'glimps' : pd.Series((2,0,0)),\n",
    "    'good' : pd.Series((0,0,1)),\n",
    "    'index' : pd.Series((1,2,0)),\n",
    "    'inform' : pd.Series((1,0,0)),\n",
    "    'larg' : pd.Series((0,1,0)),\n",
    "    'larger' : pd.Series((1,0,0)),\n",
    "    'main' : pd.Series((0,1,0)),\n",
    "    'part' : pd.Series((1,0,0)),\n",
    "    'process' : pd.Series((0,2,0)),\n",
    "    'queri' : pd.Series((1,2,0)),\n",
    "    'quickli' : pd.Series((1,0,0)),\n",
    "    'relev' : pd.Series((0,1,0)),\n",
    "    'retriev' : pd.Series((1,1,1)),\n",
    "    'scale' : pd.Series((0,1,0)),\n",
    "    'search' : pd.Series((3,0,1)),\n",
    "    'short' : pd.Series((0,0,1)),\n",
    "    'snippet' : pd.Series((0,0,1)),\n",
    "    'system' : pd.Series((3,2,0)),\n",
    "    'text' : pd.Series((0,0,1)),\n",
    "    'updat' : pd.Series((0,1,0)),\n",
    "    'us' : pd.Series((1,0,0)),\n",
    "    'web' : pd.Series((1,0,2)),\n",
    "    }\n",
    "\n",
    "index = pd.DataFrame(data=index)\n",
    "index = index.set_index('Document')\n",
    "index\n",
    "index.T.head(6)"
   ]
  },
  {
   "cell_type": "code",
   "execution_count": 147,
   "metadata": {},
   "outputs": [
    {
     "data": {
      "text/plain": [
       "array([[1, 1, 1, 1, 1, 1, 1, 3, 1, 2, 1, 1, 1, 1, 1, 1, 2, 1, 1, 1, 1, 1, 1, 2, 1, 1, 3, 1, 2, 1, 1, 2, 1, 1, 1, 2]])"
      ]
     },
     "execution_count": 147,
     "metadata": {},
     "output_type": "execute_result"
    }
   ],
   "source": [
    "DF = np.array([(index!=0).sum(0)]) \n",
    "DF"
   ]
  },
  {
   "cell_type": "code",
   "execution_count": 148,
   "metadata": {},
   "outputs": [
    {
     "data": {
      "text/plain": [
       "36"
      ]
     },
     "execution_count": 148,
     "metadata": {},
     "output_type": "execute_result"
    }
   ],
   "source": [
    "N = len(index.T)\n",
    "N"
   ]
  },
  {
   "cell_type": "code",
   "execution_count": 149,
   "metadata": {},
   "outputs": [
    {
     "data": {
      "text/plain": [
       "array([[1, 1, 1, 1, 1, 1, 1, 3, 1, 2, 1, 1, 1, 1, 1, 1, 2, 1, 1, 1, 1, 1, 1, 2, 1, 1, 3, 1, 2, 1, 1, 2, 1, 1, 1, 2]])"
      ]
     },
     "execution_count": 149,
     "metadata": {},
     "output_type": "execute_result"
    }
   ],
   "source": [
    "DF"
   ]
  },
  {
   "cell_type": "code",
   "execution_count": 188,
   "metadata": {},
   "outputs": [
    {
     "data": {
      "text/plain": [
       "array([[ 5.169925 ,  5.169925 ,  5.169925 ,  5.169925 ,  5.169925 ,  5.169925 ,  5.169925 ,  3.5849625,  5.169925 ,\n",
       "         4.169925 ,  5.169925 ,  5.169925 ,  5.169925 ,  5.169925 ,  5.169925 ,  5.169925 ,  4.169925 ,  5.169925 ,\n",
       "         5.169925 ,  5.169925 ,  5.169925 ,  5.169925 ,  5.169925 ,  4.169925 ,  5.169925 ,  5.169925 ,  3.5849625,\n",
       "         5.169925 ,  4.169925 ,  5.169925 ,  5.169925 ,  4.169925 ,  5.169925 ,  5.169925 ,  5.169925 ,  4.169925 ]])"
      ]
     },
     "execution_count": 188,
     "metadata": {},
     "output_type": "execute_result"
    }
   ],
   "source": [
    "# Calculating IDF values for each term\n",
    "\n",
    "\n",
    "IDF = np.log2((np.divide(N, DF)))\n",
    "\n",
    "IDF"
   ]
  },
  {
   "cell_type": "code",
   "execution_count": 182,
   "metadata": {},
   "outputs": [
    {
     "data": {
      "text/plain": [
       "['allow', 'base', 'cluster', 'collect', 'creat']"
      ]
     },
     "execution_count": 182,
     "metadata": {},
     "output_type": "execute_result"
    }
   ],
   "source": [
    "colnames = list(index)\n",
    "colnames[0:5]\n",
    "#colnames = pd.DataFrame(colnames)"
   ]
  },
  {
   "cell_type": "code",
   "execution_count": 186,
   "metadata": {},
   "outputs": [
    {
     "data": {
      "text/plain": [
       "1"
      ]
     },
     "execution_count": 186,
     "metadata": {},
     "output_type": "execute_result"
    }
   ],
   "source": [
    "index['allow'][0]"
   ]
  },
  {
   "cell_type": "code",
   "execution_count": 185,
   "metadata": {},
   "outputs": [
    {
     "data": {
      "text/plain": [
       "1"
      ]
     },
     "execution_count": 185,
     "metadata": {},
     "output_type": "execute_result"
    }
   ],
   "source": [
    "index[colnames[0]][0]"
   ]
  },
  {
   "cell_type": "code",
   "execution_count": 189,
   "metadata": {},
   "outputs": [
    {
     "data": {
      "text/plain": [
       "array([[ 5.169925 ,  5.169925 ,  5.169925 ,  5.169925 ,  5.169925 ,  5.169925 ,  5.169925 ,  3.5849625,  5.169925 ,\n",
       "         4.169925 ,  5.169925 ,  5.169925 ,  5.169925 ,  5.169925 ,  5.169925 ,  5.169925 ,  4.169925 ,  5.169925 ,\n",
       "         5.169925 ,  5.169925 ,  5.169925 ,  5.169925 ,  5.169925 ,  4.169925 ,  5.169925 ,  5.169925 ,  3.5849625,\n",
       "         5.169925 ,  4.169925 ,  5.169925 ,  5.169925 ,  4.169925 ,  5.169925 ,  5.169925 ,  5.169925 ,  4.169925 ]])"
      ]
     },
     "execution_count": 189,
     "metadata": {},
     "output_type": "execute_result"
    }
   ],
   "source": [
    "IDF"
   ]
  },
  {
   "cell_type": "code",
   "execution_count": 196,
   "metadata": {},
   "outputs": [
    {
     "data": {
      "text/plain": [
       "5.1699250014423122"
      ]
     },
     "execution_count": 196,
     "metadata": {},
     "output_type": "execute_result"
    }
   ],
   "source": [
    "IDF[0][1]"
   ]
  },
  {
   "cell_type": "code",
   "execution_count": 219,
   "metadata": {},
   "outputs": [
    {
     "data": {
      "text/plain": [
       "{'allow': 5.1699250014423122,\n",
       " 'base': 5.1699250014423122,\n",
       " 'cluster': 5.1699250014423122,\n",
       " 'collect': 5.1699250014423122,\n",
       " 'creat': 5.1699250014423122,\n",
       " 'critic': 5.1699250014423122,\n",
       " 'default': 5.1699250014423122,\n",
       " 'document': 3.5849625007211561,\n",
       " 'effici': 5.1699250014423122,\n",
       " 'engine': 4.1699250014423122,\n",
       " 'evalu': 5.1699250014423122,\n",
       " 'feedback': 5.1699250014423122,\n",
       " 'file': 5.1699250014423122,\n",
       " 'full': 5.1699250014423122,\n",
       " 'glimps': 5.1699250014423122,\n",
       " 'good': 5.1699250014423122,\n",
       " 'index': 4.1699250014423122,\n",
       " 'inform': 5.1699250014423122,\n",
       " 'larg': 5.1699250014423122,\n",
       " 'larger': 5.1699250014423122,\n",
       " 'main': 5.1699250014423122,\n",
       " 'part': 5.1699250014423122,\n",
       " 'process': 5.1699250014423122,\n",
       " 'queri': 4.1699250014423122,\n",
       " 'quickli': 5.1699250014423122,\n",
       " 'relev': 5.1699250014423122,\n",
       " 'retriev': 3.5849625007211561,\n",
       " 'scale': 5.1699250014423122,\n",
       " 'search': 4.1699250014423122,\n",
       " 'short': 5.1699250014423122,\n",
       " 'snippet': 5.1699250014423122,\n",
       " 'system': 4.1699250014423122,\n",
       " 'text': 5.1699250014423122,\n",
       " 'updat': 5.1699250014423122,\n",
       " 'us': 5.1699250014423122,\n",
       " 'web': 4.1699250014423122}"
      ]
     },
     "execution_count": 219,
     "metadata": {},
     "output_type": "execute_result"
    }
   ],
   "source": [
    "# Construct a dictionary for the terms and their IDF weights\n",
    "\n",
    "term_Dict = {}\n",
    "\n",
    "for i in range(0,36):\n",
    "    #print i\n",
    "    term = colnames[i]\n",
    "    term_Dict[term] = IDF[0][i]\n",
    "    \n",
    "term_Dict"
   ]
  },
  {
   "cell_type": "code",
   "execution_count": 220,
   "metadata": {},
   "outputs": [],
   "source": [
    "DOC1Terms = []\n",
    "DOC2Terms = []\n",
    "DOC3Terms = []\n",
    "\n",
    "for i in index:        #This loop allows us to construct a bag of words for each document based on the presence of the term\n",
    "    #print i\n",
    "    #print index[i].sum()\n",
    "    \n",
    "    if index[i][0] > 0:\n",
    "        DOC1Terms.append(i)\n",
    "        \n",
    "    if index[i][1] > 0:\n",
    "        DOC2Terms.append(i)\n",
    "    \n",
    "    if index[i][2] > 0:\n",
    "        DOC3Terms.append(i)\n",
    "    "
   ]
  },
  {
   "cell_type": "code",
   "execution_count": 221,
   "metadata": {},
   "outputs": [
    {
     "data": {
      "text/plain": [
       "['allow',\n",
       " 'base',\n",
       " 'collect',\n",
       " 'default',\n",
       " 'document',\n",
       " 'engine',\n",
       " 'file',\n",
       " 'glimps',\n",
       " 'index',\n",
       " 'inform',\n",
       " 'larger',\n",
       " 'part',\n",
       " 'queri',\n",
       " 'quickli',\n",
       " 'retriev',\n",
       " 'search',\n",
       " 'system',\n",
       " 'us',\n",
       " 'web']"
      ]
     },
     "execution_count": 221,
     "metadata": {},
     "output_type": "execute_result"
    },
    {
     "data": {
      "text/plain": [
       "['critic',\n",
       " 'document',\n",
       " 'effici',\n",
       " 'evalu',\n",
       " 'feedback',\n",
       " 'index',\n",
       " 'larg',\n",
       " 'main',\n",
       " 'process',\n",
       " 'queri',\n",
       " 'relev',\n",
       " 'retriev',\n",
       " 'scale',\n",
       " 'system',\n",
       " 'updat']"
      ]
     },
     "execution_count": 221,
     "metadata": {},
     "output_type": "execute_result"
    },
    {
     "data": {
      "text/plain": [
       "['cluster',\n",
       " 'creat',\n",
       " 'document',\n",
       " 'engine',\n",
       " 'full',\n",
       " 'good',\n",
       " 'retriev',\n",
       " 'search',\n",
       " 'short',\n",
       " 'snippet',\n",
       " 'text',\n",
       " 'web']"
      ]
     },
     "execution_count": 221,
     "metadata": {},
     "output_type": "execute_result"
    }
   ],
   "source": [
    "DOC1Terms\n",
    "DOC2Terms\n",
    "DOC3Terms"
   ]
  },
  {
   "cell_type": "markdown",
   "metadata": {},
   "source": [
    "### Below, we are calculating the length or norm of each document\n",
    "\n",
    "Calculating the lengths of each document involves taking the square root of the sum of the squared idf values for all terms occurring in each document"
   ]
  },
  {
   "cell_type": "code",
   "execution_count": 229,
   "metadata": {},
   "outputs": [
    {
     "data": {
      "text/plain": [
       "20.592302666166233"
      ]
     },
     "execution_count": 229,
     "metadata": {},
     "output_type": "execute_result"
    }
   ],
   "source": [
    "DOC1NormSquared = 0\n",
    "\n",
    "for term in DOC1Terms:\n",
    "    term_IDF_weight = term_Dict[term]\n",
    "    #print term_IDF_weight**2\n",
    "    DOC1NormSquared += term_IDF_weight**2\n",
    "    \n",
    "    \n",
    "    \n",
    "DOC1Norm = np.sqrt(DOC1NormSquared)\n",
    "DOC1Norm"
   ]
  },
  {
   "cell_type": "code",
   "execution_count": 231,
   "metadata": {},
   "outputs": [
    {
     "data": {
      "text/plain": [
       "18.578212535696156"
      ]
     },
     "execution_count": 231,
     "metadata": {},
     "output_type": "execute_result"
    }
   ],
   "source": [
    "DOC2NormSquared = 0\n",
    "\n",
    "for term in DOC2Terms:\n",
    "    term_IDF_weight = term_Dict[term]\n",
    "    #print term_IDF_weight**2\n",
    "    DOC2NormSquared += term_IDF_weight**2\n",
    "    \n",
    "    \n",
    "    \n",
    "DOC2Norm = np.sqrt(DOC2NormSquared)\n",
    "DOC2Norm"
   ]
  },
  {
   "cell_type": "code",
   "execution_count": 230,
   "metadata": {},
   "outputs": [
    {
     "data": {
      "text/plain": [
       "16.277764203350621"
      ]
     },
     "execution_count": 230,
     "metadata": {},
     "output_type": "execute_result"
    }
   ],
   "source": [
    "DOC3NormSquared = 0\n",
    "\n",
    "for term in DOC3Terms:\n",
    "    term_IDF_weight = term_Dict[term]\n",
    "    #print term_IDF_weight**2\n",
    "    DOC3NormSquared += term_IDF_weight**2\n",
    "    \n",
    "    \n",
    "    \n",
    "DOC3Norm = np.sqrt(DOC3NormSquared)\n",
    "DOC3Norm"
   ]
  },
  {
   "cell_type": "code",
   "execution_count": 232,
   "metadata": {},
   "outputs": [
    {
     "data": {
      "text/plain": [
       "0.16400726469382268"
      ]
     },
     "execution_count": 232,
     "metadata": {},
     "output_type": "execute_result"
    }
   ],
   "source": [
    "# Computing document 1 cosine similarity normalized final score:\n",
    "\n",
    "3.421818916011/(20.592302666166233*1.0131856365479133) "
   ]
  },
  {
   "cell_type": "code",
   "execution_count": 233,
   "metadata": {
    "scrolled": true
   },
   "outputs": [
    {
     "data": {
      "text/plain": [
       "0.05453603684701764"
      ]
     },
     "execution_count": 233,
     "metadata": {},
     "output_type": "execute_result"
    }
   ],
   "source": [
    "# Computing document 2 cosine similarity normalized final score:\n",
    "\n",
    "1.026541534107/(18.578212535696156*1.0131856365479133)"
   ]
  },
  {
   "cell_type": "code",
   "execution_count": 234,
   "metadata": {},
   "outputs": [
    {
     "data": {
      "text/plain": [
       "0.04149601963812038"
      ]
     },
     "execution_count": 234,
     "metadata": {},
     "output_type": "execute_result"
    }
   ],
   "source": [
    "# Computing document 3 cosine similarity normalized final score:\n",
    "\n",
    "0.684368825059/(16.277764203350621*1.0131856365479133) "
   ]
  },
  {
   "cell_type": "code",
   "execution_count": 210,
   "metadata": {},
   "outputs": [
    {
     "data": {
      "text/plain": [
       "0     5.16993\n",
       "1     5.16993\n",
       "2     5.16993\n",
       "3     5.16993\n",
       "4     5.16993\n",
       "5     5.16993\n",
       "6     5.16993\n",
       "7     3.58496\n",
       "8     5.16993\n",
       "9     4.16993\n",
       "10    5.16993\n",
       "11    5.16993\n",
       "12    5.16993\n",
       "13    5.16993\n",
       "14    5.16993\n",
       "15    5.16993\n",
       "16    4.16993\n",
       "17    5.16993\n",
       "18    5.16993\n",
       "19    5.16993\n",
       "20    5.16993\n",
       "21    5.16993\n",
       "22    5.16993\n",
       "23    4.16993\n",
       "24    5.16993\n",
       "25    5.16993\n",
       "26    3.58496\n",
       "27    5.16993\n",
       "28    4.16993\n",
       "29    5.16993\n",
       "30    5.16993\n",
       "31    4.16993\n",
       "32    5.16993\n",
       "33    5.16993\n",
       "34    5.16993\n",
       "35    4.16993\n",
       "Name: 0, dtype: object"
      ]
     },
     "execution_count": 210,
     "metadata": {},
     "output_type": "execute_result"
    }
   ],
   "source": [
    "Term_IDF.iloc[1]"
   ]
  },
  {
   "cell_type": "markdown",
   "metadata": {},
   "source": [
    "## 2 Indexing Models and Term Weighting"
   ]
  },
  {
   "cell_type": "code",
   "execution_count": 432,
   "metadata": {},
   "outputs": [],
   "source": [
    "D = {'Index' : pd.Series(('Doc1','Doc2','Doc3','Doc4','Doc5','Doc6','Doc7','Doc8','Doc9','Doc10')),\n",
    "    'Term1' : pd.Series((0,5,3,1,0,2,2,3,0,1)),\n",
    "     'Term2' : pd.Series((3,0,0,8,1,0,5,3,0,0)),\n",
    "     'Term3' : pd.Series((1,0,4,0,0,2,0,0,3,5)),\n",
    "     'Term4' : pd.Series((0,0,3,3,0,0,3,2,3,0)),\n",
    "     'Term5' : pd.Series((0,3,4,0,0,0,0,0,3,2)),\n",
    "     'Term6' : pd.Series((2,0,0,1,5,4,1,0,0,4)),\n",
    "     'Term7' : pd.Series((1,0,0,4,4,0,4,1,0,0)),\n",
    "     'Term8' : pd.Series((0,2,5,0,2,1,2,3,0,2))\n",
    "    }"
   ]
  },
  {
   "cell_type": "code",
   "execution_count": 433,
   "metadata": {},
   "outputs": [],
   "source": [
    "D = pd.DataFrame(data=D)\n",
    "D = D.set_index('Index')"
   ]
  },
  {
   "cell_type": "code",
   "execution_count": 434,
   "metadata": {},
   "outputs": [
    {
     "data": {
      "text/html": [
       "<div>\n",
       "<table border=\"1\" class=\"dataframe\">\n",
       "  <thead>\n",
       "    <tr style=\"text-align: right;\">\n",
       "      <th></th>\n",
       "      <th>Term1</th>\n",
       "      <th>Term2</th>\n",
       "      <th>Term3</th>\n",
       "      <th>Term4</th>\n",
       "      <th>Term5</th>\n",
       "      <th>Term6</th>\n",
       "      <th>Term7</th>\n",
       "      <th>Term8</th>\n",
       "    </tr>\n",
       "    <tr>\n",
       "      <th>Index</th>\n",
       "      <th></th>\n",
       "      <th></th>\n",
       "      <th></th>\n",
       "      <th></th>\n",
       "      <th></th>\n",
       "      <th></th>\n",
       "      <th></th>\n",
       "      <th></th>\n",
       "    </tr>\n",
       "  </thead>\n",
       "  <tbody>\n",
       "    <tr>\n",
       "      <th>Doc1</th>\n",
       "      <td>0</td>\n",
       "      <td>3</td>\n",
       "      <td>1</td>\n",
       "      <td>0</td>\n",
       "      <td>0</td>\n",
       "      <td>2</td>\n",
       "      <td>1</td>\n",
       "      <td>0</td>\n",
       "    </tr>\n",
       "    <tr>\n",
       "      <th>Doc2</th>\n",
       "      <td>5</td>\n",
       "      <td>0</td>\n",
       "      <td>0</td>\n",
       "      <td>0</td>\n",
       "      <td>3</td>\n",
       "      <td>0</td>\n",
       "      <td>0</td>\n",
       "      <td>2</td>\n",
       "    </tr>\n",
       "    <tr>\n",
       "      <th>Doc3</th>\n",
       "      <td>3</td>\n",
       "      <td>0</td>\n",
       "      <td>4</td>\n",
       "      <td>3</td>\n",
       "      <td>4</td>\n",
       "      <td>0</td>\n",
       "      <td>0</td>\n",
       "      <td>5</td>\n",
       "    </tr>\n",
       "    <tr>\n",
       "      <th>Doc4</th>\n",
       "      <td>1</td>\n",
       "      <td>8</td>\n",
       "      <td>0</td>\n",
       "      <td>3</td>\n",
       "      <td>0</td>\n",
       "      <td>1</td>\n",
       "      <td>4</td>\n",
       "      <td>0</td>\n",
       "    </tr>\n",
       "    <tr>\n",
       "      <th>Doc5</th>\n",
       "      <td>0</td>\n",
       "      <td>1</td>\n",
       "      <td>0</td>\n",
       "      <td>0</td>\n",
       "      <td>0</td>\n",
       "      <td>5</td>\n",
       "      <td>4</td>\n",
       "      <td>2</td>\n",
       "    </tr>\n",
       "    <tr>\n",
       "      <th>Doc6</th>\n",
       "      <td>2</td>\n",
       "      <td>0</td>\n",
       "      <td>2</td>\n",
       "      <td>0</td>\n",
       "      <td>0</td>\n",
       "      <td>4</td>\n",
       "      <td>0</td>\n",
       "      <td>1</td>\n",
       "    </tr>\n",
       "    <tr>\n",
       "      <th>Doc7</th>\n",
       "      <td>2</td>\n",
       "      <td>5</td>\n",
       "      <td>0</td>\n",
       "      <td>3</td>\n",
       "      <td>0</td>\n",
       "      <td>1</td>\n",
       "      <td>4</td>\n",
       "      <td>2</td>\n",
       "    </tr>\n",
       "    <tr>\n",
       "      <th>Doc8</th>\n",
       "      <td>3</td>\n",
       "      <td>3</td>\n",
       "      <td>0</td>\n",
       "      <td>2</td>\n",
       "      <td>0</td>\n",
       "      <td>0</td>\n",
       "      <td>1</td>\n",
       "      <td>3</td>\n",
       "    </tr>\n",
       "    <tr>\n",
       "      <th>Doc9</th>\n",
       "      <td>0</td>\n",
       "      <td>0</td>\n",
       "      <td>3</td>\n",
       "      <td>3</td>\n",
       "      <td>3</td>\n",
       "      <td>0</td>\n",
       "      <td>0</td>\n",
       "      <td>0</td>\n",
       "    </tr>\n",
       "    <tr>\n",
       "      <th>Doc10</th>\n",
       "      <td>1</td>\n",
       "      <td>0</td>\n",
       "      <td>5</td>\n",
       "      <td>0</td>\n",
       "      <td>2</td>\n",
       "      <td>4</td>\n",
       "      <td>0</td>\n",
       "      <td>2</td>\n",
       "    </tr>\n",
       "  </tbody>\n",
       "</table>\n",
       "</div>"
      ],
      "text/plain": [
       "       Term1  Term2  Term3  Term4  Term5  Term6  Term7  Term8\n",
       "Index                                                        \n",
       "Doc1       0      3      1      0      0      2      1      0\n",
       "Doc2       5      0      0      0      3      0      0      2\n",
       "Doc3       3      0      4      3      4      0      0      5\n",
       "Doc4       1      8      0      3      0      1      4      0\n",
       "Doc5       0      1      0      0      0      5      4      2\n",
       "Doc6       2      0      2      0      0      4      0      1\n",
       "Doc7       2      5      0      3      0      1      4      2\n",
       "Doc8       3      3      0      2      0      0      1      3\n",
       "Doc9       0      0      3      3      3      0      0      0\n",
       "Doc10      1      0      5      0      2      4      0      2"
      ]
     },
     "execution_count": 434,
     "metadata": {},
     "output_type": "execute_result"
    }
   ],
   "source": [
    "D"
   ]
  },
  {
   "cell_type": "code",
   "execution_count": 435,
   "metadata": {
    "collapsed": true
   },
   "outputs": [],
   "source": [
    "DF = np.array([(D!=0).sum(0)])   #Document frequency- this is the number of documents in the collection\n",
    "                                #in which a term appears"
   ]
  },
  {
   "cell_type": "code",
   "execution_count": 436,
   "metadata": {},
   "outputs": [
    {
     "data": {
      "text/plain": [
       "array([[7, 5, 5, 5, 4, 6, 5, 7]])"
      ]
     },
     "execution_count": 436,
     "metadata": {},
     "output_type": "execute_result"
    }
   ],
   "source": [
    "DF"
   ]
  },
  {
   "cell_type": "markdown",
   "metadata": {},
   "source": [
    "### a) Compute the new weights for all the terms in document DOC4 using the tf x idf approach."
   ]
  },
  {
   "cell_type": "code",
   "execution_count": 437,
   "metadata": {
    "collapsed": true
   },
   "outputs": [],
   "source": [
    "NDocs = 10"
   ]
  },
  {
   "cell_type": "code",
   "execution_count": 438,
   "metadata": {},
   "outputs": [
    {
     "name": "stdout",
     "output_type": "stream",
     "text": [
      "[[ 10.  10.  10.  10.  10.  10.  10.  10.]\n",
      " [ 10.  10.  10.  10.  10.  10.  10.  10.]\n",
      " [ 10.  10.  10.  10.  10.  10.  10.  10.]\n",
      " [ 10.  10.  10.  10.  10.  10.  10.  10.]\n",
      " [ 10.  10.  10.  10.  10.  10.  10.  10.]\n",
      " [ 10.  10.  10.  10.  10.  10.  10.  10.]\n",
      " [ 10.  10.  10.  10.  10.  10.  10.  10.]\n",
      " [ 10.  10.  10.  10.  10.  10.  10.  10.]\n",
      " [ 10.  10.  10.  10.  10.  10.  10.  10.]\n",
      " [ 10.  10.  10.  10.  10.  10.  10.  10.]]\n"
     ]
    }
   ],
   "source": [
    "# Create a matrix with all entries = NDocs\n",
    "NMatrix=np.ones(np.shape(D), dtype=float)*NDocs\n",
    "np.set_printoptions(precision=4,suppress=True,linewidth=120)\n",
    "print NMatrix"
   ]
  },
  {
   "cell_type": "code",
   "execution_count": 439,
   "metadata": {},
   "outputs": [
    {
     "data": {
      "text/plain": [
       "(10, 8)"
      ]
     },
     "execution_count": 439,
     "metadata": {},
     "output_type": "execute_result"
    },
    {
     "data": {
      "text/plain": [
       "(1, 8)"
      ]
     },
     "execution_count": 439,
     "metadata": {},
     "output_type": "execute_result"
    }
   ],
   "source": [
    "NMatrix.shape\n",
    "DF.shape"
   ]
  },
  {
   "cell_type": "code",
   "execution_count": 440,
   "metadata": {
    "collapsed": true
   },
   "outputs": [],
   "source": [
    "IDF = np.log2(np.divide(NMatrix, DF))"
   ]
  },
  {
   "cell_type": "code",
   "execution_count": 441,
   "metadata": {
    "scrolled": true
   },
   "outputs": [
    {
     "data": {
      "text/plain": [
       "array([[ 0.5146,  1.    ,  1.    ,  1.    ,  1.3219,  0.737 ,  1.    ,  0.5146],\n",
       "       [ 0.5146,  1.    ,  1.    ,  1.    ,  1.3219,  0.737 ,  1.    ,  0.5146],\n",
       "       [ 0.5146,  1.    ,  1.    ,  1.    ,  1.3219,  0.737 ,  1.    ,  0.5146],\n",
       "       [ 0.5146,  1.    ,  1.    ,  1.    ,  1.3219,  0.737 ,  1.    ,  0.5146],\n",
       "       [ 0.5146,  1.    ,  1.    ,  1.    ,  1.3219,  0.737 ,  1.    ,  0.5146],\n",
       "       [ 0.5146,  1.    ,  1.    ,  1.    ,  1.3219,  0.737 ,  1.    ,  0.5146],\n",
       "       [ 0.5146,  1.    ,  1.    ,  1.    ,  1.3219,  0.737 ,  1.    ,  0.5146],\n",
       "       [ 0.5146,  1.    ,  1.    ,  1.    ,  1.3219,  0.737 ,  1.    ,  0.5146],\n",
       "       [ 0.5146,  1.    ,  1.    ,  1.    ,  1.3219,  0.737 ,  1.    ,  0.5146],\n",
       "       [ 0.5146,  1.    ,  1.    ,  1.    ,  1.3219,  0.737 ,  1.    ,  0.5146]])"
      ]
     },
     "execution_count": 441,
     "metadata": {},
     "output_type": "execute_result"
    }
   ],
   "source": [
    "IDF"
   ]
  },
  {
   "cell_type": "code",
   "execution_count": 442,
   "metadata": {
    "collapsed": true
   },
   "outputs": [],
   "source": [
    "TFIDF = D * IDF"
   ]
  },
  {
   "cell_type": "code",
   "execution_count": 443,
   "metadata": {},
   "outputs": [
    {
     "data": {
      "text/html": [
       "<div>\n",
       "<table border=\"1\" class=\"dataframe\">\n",
       "  <thead>\n",
       "    <tr style=\"text-align: right;\">\n",
       "      <th></th>\n",
       "      <th>Term1</th>\n",
       "      <th>Term2</th>\n",
       "      <th>Term3</th>\n",
       "      <th>Term4</th>\n",
       "      <th>Term5</th>\n",
       "      <th>Term6</th>\n",
       "      <th>Term7</th>\n",
       "      <th>Term8</th>\n",
       "    </tr>\n",
       "    <tr>\n",
       "      <th>Index</th>\n",
       "      <th></th>\n",
       "      <th></th>\n",
       "      <th></th>\n",
       "      <th></th>\n",
       "      <th></th>\n",
       "      <th></th>\n",
       "      <th></th>\n",
       "      <th></th>\n",
       "    </tr>\n",
       "  </thead>\n",
       "  <tbody>\n",
       "    <tr>\n",
       "      <th>Doc1</th>\n",
       "      <td>0.000000</td>\n",
       "      <td>3.0</td>\n",
       "      <td>1.0</td>\n",
       "      <td>0.0</td>\n",
       "      <td>0.000000</td>\n",
       "      <td>1.473931</td>\n",
       "      <td>1.0</td>\n",
       "      <td>0.000000</td>\n",
       "    </tr>\n",
       "    <tr>\n",
       "      <th>Doc2</th>\n",
       "      <td>2.572866</td>\n",
       "      <td>0.0</td>\n",
       "      <td>0.0</td>\n",
       "      <td>0.0</td>\n",
       "      <td>3.965784</td>\n",
       "      <td>0.000000</td>\n",
       "      <td>0.0</td>\n",
       "      <td>1.029146</td>\n",
       "    </tr>\n",
       "    <tr>\n",
       "      <th>Doc3</th>\n",
       "      <td>1.543720</td>\n",
       "      <td>0.0</td>\n",
       "      <td>4.0</td>\n",
       "      <td>3.0</td>\n",
       "      <td>5.287712</td>\n",
       "      <td>0.000000</td>\n",
       "      <td>0.0</td>\n",
       "      <td>2.572866</td>\n",
       "    </tr>\n",
       "    <tr>\n",
       "      <th>Doc4</th>\n",
       "      <td>0.514573</td>\n",
       "      <td>8.0</td>\n",
       "      <td>0.0</td>\n",
       "      <td>3.0</td>\n",
       "      <td>0.000000</td>\n",
       "      <td>0.736966</td>\n",
       "      <td>4.0</td>\n",
       "      <td>0.000000</td>\n",
       "    </tr>\n",
       "    <tr>\n",
       "      <th>Doc5</th>\n",
       "      <td>0.000000</td>\n",
       "      <td>1.0</td>\n",
       "      <td>0.0</td>\n",
       "      <td>0.0</td>\n",
       "      <td>0.000000</td>\n",
       "      <td>3.684828</td>\n",
       "      <td>4.0</td>\n",
       "      <td>1.029146</td>\n",
       "    </tr>\n",
       "    <tr>\n",
       "      <th>Doc6</th>\n",
       "      <td>1.029146</td>\n",
       "      <td>0.0</td>\n",
       "      <td>2.0</td>\n",
       "      <td>0.0</td>\n",
       "      <td>0.000000</td>\n",
       "      <td>2.947862</td>\n",
       "      <td>0.0</td>\n",
       "      <td>0.514573</td>\n",
       "    </tr>\n",
       "    <tr>\n",
       "      <th>Doc7</th>\n",
       "      <td>1.029146</td>\n",
       "      <td>5.0</td>\n",
       "      <td>0.0</td>\n",
       "      <td>3.0</td>\n",
       "      <td>0.000000</td>\n",
       "      <td>0.736966</td>\n",
       "      <td>4.0</td>\n",
       "      <td>1.029146</td>\n",
       "    </tr>\n",
       "    <tr>\n",
       "      <th>Doc8</th>\n",
       "      <td>1.543720</td>\n",
       "      <td>3.0</td>\n",
       "      <td>0.0</td>\n",
       "      <td>2.0</td>\n",
       "      <td>0.000000</td>\n",
       "      <td>0.000000</td>\n",
       "      <td>1.0</td>\n",
       "      <td>1.543720</td>\n",
       "    </tr>\n",
       "    <tr>\n",
       "      <th>Doc9</th>\n",
       "      <td>0.000000</td>\n",
       "      <td>0.0</td>\n",
       "      <td>3.0</td>\n",
       "      <td>3.0</td>\n",
       "      <td>3.965784</td>\n",
       "      <td>0.000000</td>\n",
       "      <td>0.0</td>\n",
       "      <td>0.000000</td>\n",
       "    </tr>\n",
       "    <tr>\n",
       "      <th>Doc10</th>\n",
       "      <td>0.514573</td>\n",
       "      <td>0.0</td>\n",
       "      <td>5.0</td>\n",
       "      <td>0.0</td>\n",
       "      <td>2.643856</td>\n",
       "      <td>2.947862</td>\n",
       "      <td>0.0</td>\n",
       "      <td>1.029146</td>\n",
       "    </tr>\n",
       "  </tbody>\n",
       "</table>\n",
       "</div>"
      ],
      "text/plain": [
       "          Term1  Term2  Term3  Term4     Term5     Term6  Term7     Term8\n",
       "Index                                                                    \n",
       "Doc1   0.000000    3.0    1.0    0.0  0.000000  1.473931    1.0  0.000000\n",
       "Doc2   2.572866    0.0    0.0    0.0  3.965784  0.000000    0.0  1.029146\n",
       "Doc3   1.543720    0.0    4.0    3.0  5.287712  0.000000    0.0  2.572866\n",
       "Doc4   0.514573    8.0    0.0    3.0  0.000000  0.736966    4.0  0.000000\n",
       "Doc5   0.000000    1.0    0.0    0.0  0.000000  3.684828    4.0  1.029146\n",
       "Doc6   1.029146    0.0    2.0    0.0  0.000000  2.947862    0.0  0.514573\n",
       "Doc7   1.029146    5.0    0.0    3.0  0.000000  0.736966    4.0  1.029146\n",
       "Doc8   1.543720    3.0    0.0    2.0  0.000000  0.000000    1.0  1.543720\n",
       "Doc9   0.000000    0.0    3.0    3.0  3.965784  0.000000    0.0  0.000000\n",
       "Doc10  0.514573    0.0    5.0    0.0  2.643856  2.947862    0.0  1.029146"
      ]
     },
     "execution_count": 443,
     "metadata": {},
     "output_type": "execute_result"
    }
   ],
   "source": [
    "TFIDF"
   ]
  },
  {
   "cell_type": "markdown",
   "metadata": {},
   "source": [
    "### b) Compute the new weights for all the terms in documents DOC4 using the signal-to-noise ratio approach."
   ]
  },
  {
   "cell_type": "code",
   "execution_count": 444,
   "metadata": {},
   "outputs": [
    {
     "data": {
      "text/html": [
       "<div>\n",
       "<table border=\"1\" class=\"dataframe\">\n",
       "  <thead>\n",
       "    <tr style=\"text-align: right;\">\n",
       "      <th></th>\n",
       "      <th>0</th>\n",
       "      <th>1</th>\n",
       "      <th>2</th>\n",
       "      <th>3</th>\n",
       "      <th>4</th>\n",
       "      <th>5</th>\n",
       "      <th>6</th>\n",
       "      <th>7</th>\n",
       "    </tr>\n",
       "  </thead>\n",
       "  <tbody>\n",
       "    <tr>\n",
       "      <th>0</th>\n",
       "      <td>17</td>\n",
       "      <td>20</td>\n",
       "      <td>15</td>\n",
       "      <td>14</td>\n",
       "      <td>12</td>\n",
       "      <td>17</td>\n",
       "      <td>14</td>\n",
       "      <td>17</td>\n",
       "    </tr>\n",
       "  </tbody>\n",
       "</table>\n",
       "</div>"
      ],
      "text/plain": [
       "    0   1   2   3   4   5   6   7\n",
       "0  17  20  15  14  12  17  14  17"
      ]
     },
     "execution_count": 444,
     "metadata": {},
     "output_type": "execute_result"
    }
   ],
   "source": [
    "#Here, tfk is the total number of times a term k appears in the collection. Note that this\n",
    "# is different from DF\n",
    "tfk = np.array([(D).sum(0)])\n",
    "tfk = pd.DataFrame(tfk)\n",
    "tfk"
   ]
  },
  {
   "cell_type": "code",
   "execution_count": 445,
   "metadata": {},
   "outputs": [
    {
     "data": {
      "text/html": [
       "<div>\n",
       "<table border=\"1\" class=\"dataframe\">\n",
       "  <thead>\n",
       "    <tr style=\"text-align: right;\">\n",
       "      <th></th>\n",
       "      <th>Term1</th>\n",
       "      <th>Term2</th>\n",
       "      <th>Term3</th>\n",
       "      <th>Term4</th>\n",
       "      <th>Term5</th>\n",
       "      <th>Term6</th>\n",
       "      <th>Term7</th>\n",
       "      <th>Term8</th>\n",
       "    </tr>\n",
       "    <tr>\n",
       "      <th>Index</th>\n",
       "      <th></th>\n",
       "      <th></th>\n",
       "      <th></th>\n",
       "      <th></th>\n",
       "      <th></th>\n",
       "      <th></th>\n",
       "      <th></th>\n",
       "      <th></th>\n",
       "    </tr>\n",
       "  </thead>\n",
       "  <tbody>\n",
       "    <tr>\n",
       "      <th>Doc1</th>\n",
       "      <td>0</td>\n",
       "      <td>3</td>\n",
       "      <td>1</td>\n",
       "      <td>0</td>\n",
       "      <td>0</td>\n",
       "      <td>2</td>\n",
       "      <td>1</td>\n",
       "      <td>0</td>\n",
       "    </tr>\n",
       "    <tr>\n",
       "      <th>Doc2</th>\n",
       "      <td>5</td>\n",
       "      <td>0</td>\n",
       "      <td>0</td>\n",
       "      <td>0</td>\n",
       "      <td>3</td>\n",
       "      <td>0</td>\n",
       "      <td>0</td>\n",
       "      <td>2</td>\n",
       "    </tr>\n",
       "    <tr>\n",
       "      <th>Doc3</th>\n",
       "      <td>3</td>\n",
       "      <td>0</td>\n",
       "      <td>4</td>\n",
       "      <td>3</td>\n",
       "      <td>4</td>\n",
       "      <td>0</td>\n",
       "      <td>0</td>\n",
       "      <td>5</td>\n",
       "    </tr>\n",
       "    <tr>\n",
       "      <th>Doc4</th>\n",
       "      <td>1</td>\n",
       "      <td>8</td>\n",
       "      <td>0</td>\n",
       "      <td>3</td>\n",
       "      <td>0</td>\n",
       "      <td>1</td>\n",
       "      <td>4</td>\n",
       "      <td>0</td>\n",
       "    </tr>\n",
       "    <tr>\n",
       "      <th>Doc5</th>\n",
       "      <td>0</td>\n",
       "      <td>1</td>\n",
       "      <td>0</td>\n",
       "      <td>0</td>\n",
       "      <td>0</td>\n",
       "      <td>5</td>\n",
       "      <td>4</td>\n",
       "      <td>2</td>\n",
       "    </tr>\n",
       "    <tr>\n",
       "      <th>Doc6</th>\n",
       "      <td>2</td>\n",
       "      <td>0</td>\n",
       "      <td>2</td>\n",
       "      <td>0</td>\n",
       "      <td>0</td>\n",
       "      <td>4</td>\n",
       "      <td>0</td>\n",
       "      <td>1</td>\n",
       "    </tr>\n",
       "    <tr>\n",
       "      <th>Doc7</th>\n",
       "      <td>2</td>\n",
       "      <td>5</td>\n",
       "      <td>0</td>\n",
       "      <td>3</td>\n",
       "      <td>0</td>\n",
       "      <td>1</td>\n",
       "      <td>4</td>\n",
       "      <td>2</td>\n",
       "    </tr>\n",
       "    <tr>\n",
       "      <th>Doc8</th>\n",
       "      <td>3</td>\n",
       "      <td>3</td>\n",
       "      <td>0</td>\n",
       "      <td>2</td>\n",
       "      <td>0</td>\n",
       "      <td>0</td>\n",
       "      <td>1</td>\n",
       "      <td>3</td>\n",
       "    </tr>\n",
       "    <tr>\n",
       "      <th>Doc9</th>\n",
       "      <td>0</td>\n",
       "      <td>0</td>\n",
       "      <td>3</td>\n",
       "      <td>3</td>\n",
       "      <td>3</td>\n",
       "      <td>0</td>\n",
       "      <td>0</td>\n",
       "      <td>0</td>\n",
       "    </tr>\n",
       "    <tr>\n",
       "      <th>Doc10</th>\n",
       "      <td>1</td>\n",
       "      <td>0</td>\n",
       "      <td>5</td>\n",
       "      <td>0</td>\n",
       "      <td>2</td>\n",
       "      <td>4</td>\n",
       "      <td>0</td>\n",
       "      <td>2</td>\n",
       "    </tr>\n",
       "  </tbody>\n",
       "</table>\n",
       "</div>"
      ],
      "text/plain": [
       "       Term1  Term2  Term3  Term4  Term5  Term6  Term7  Term8\n",
       "Index                                                        \n",
       "Doc1       0      3      1      0      0      2      1      0\n",
       "Doc2       5      0      0      0      3      0      0      2\n",
       "Doc3       3      0      4      3      4      0      0      5\n",
       "Doc4       1      8      0      3      0      1      4      0\n",
       "Doc5       0      1      0      0      0      5      4      2\n",
       "Doc6       2      0      2      0      0      4      0      1\n",
       "Doc7       2      5      0      3      0      1      4      2\n",
       "Doc8       3      3      0      2      0      0      1      3\n",
       "Doc9       0      0      3      3      3      0      0      0\n",
       "Doc10      1      0      5      0      2      4      0      2"
      ]
     },
     "execution_count": 445,
     "metadata": {},
     "output_type": "execute_result"
    }
   ],
   "source": [
    "# tfik is the frequency with which a term occurs in document i in the collection, so it is \n",
    "# just the entries of dataframe D for any given document\n",
    "tfik = D\n",
    "tfik"
   ]
  },
  {
   "cell_type": "code",
   "execution_count": 446,
   "metadata": {},
   "outputs": [
    {
     "data": {
      "text/html": [
       "<div>\n",
       "<table border=\"1\" class=\"dataframe\">\n",
       "  <thead>\n",
       "    <tr style=\"text-align: right;\">\n",
       "      <th></th>\n",
       "      <th>0</th>\n",
       "      <th>1</th>\n",
       "      <th>2</th>\n",
       "      <th>3</th>\n",
       "      <th>4</th>\n",
       "      <th>5</th>\n",
       "      <th>6</th>\n",
       "      <th>7</th>\n",
       "    </tr>\n",
       "  </thead>\n",
       "  <tbody>\n",
       "    <tr>\n",
       "      <th>0</th>\n",
       "      <td>17</td>\n",
       "      <td>20</td>\n",
       "      <td>15</td>\n",
       "      <td>14</td>\n",
       "      <td>12</td>\n",
       "      <td>17</td>\n",
       "      <td>14</td>\n",
       "      <td>17</td>\n",
       "    </tr>\n",
       "  </tbody>\n",
       "</table>\n",
       "</div>"
      ],
      "text/plain": [
       "    0   1   2   3   4   5   6   7\n",
       "0  17  20  15  14  12  17  14  17"
      ]
     },
     "execution_count": 446,
     "metadata": {},
     "output_type": "execute_result"
    }
   ],
   "source": [
    "tfk"
   ]
  },
  {
   "cell_type": "code",
   "execution_count": 447,
   "metadata": {},
   "outputs": [
    {
     "data": {
      "text/plain": [
       "0    17\n",
       "1    20\n",
       "2    15\n",
       "3    14\n",
       "4    12\n",
       "5    17\n",
       "6    14\n",
       "7    17\n",
       "Name: 0, dtype: int64"
      ]
     },
     "execution_count": 447,
     "metadata": {},
     "output_type": "execute_result"
    }
   ],
   "source": [
    "tfk.ix[0]"
   ]
  },
  {
   "cell_type": "code",
   "execution_count": 451,
   "metadata": {},
   "outputs": [],
   "source": [
    "TFKlist = []\n",
    "for i in tfk.loc[0]:\n",
    "    TFKlist.append(i)"
   ]
  },
  {
   "cell_type": "code",
   "execution_count": 452,
   "metadata": {},
   "outputs": [
    {
     "data": {
      "text/plain": [
       "[17, 20, 15, 14, 12, 17, 14, 17]"
      ]
     },
     "execution_count": 452,
     "metadata": {},
     "output_type": "execute_result"
    }
   ],
   "source": [
    "TFKlist"
   ]
  },
  {
   "cell_type": "code",
   "execution_count": 453,
   "metadata": {},
   "outputs": [
    {
     "data": {
      "text/plain": [
       "Index\n",
       "Doc1     0.000000\n",
       "Doc2     0.294118\n",
       "Doc3     0.176471\n",
       "Doc4     0.058824\n",
       "Doc5     0.000000\n",
       "Doc6     0.117647\n",
       "Doc7     0.117647\n",
       "Doc8     0.176471\n",
       "Doc9     0.000000\n",
       "Doc10    0.058824\n",
       "Name: Term1, dtype: float64"
      ]
     },
     "execution_count": 453,
     "metadata": {},
     "output_type": "execute_result"
    }
   ],
   "source": [
    "tfik['Term1']/17   #This is the array of values we should get for the pk values in Term1. Compare these to \n",
    "                    # pk below"
   ]
  },
  {
   "cell_type": "code",
   "execution_count": 454,
   "metadata": {},
   "outputs": [
    {
     "data": {
      "text/plain": [
       "(10, 8)"
      ]
     },
     "execution_count": 454,
     "metadata": {},
     "output_type": "execute_result"
    },
    {
     "data": {
      "text/plain": [
       "(1, 8)"
      ]
     },
     "execution_count": 454,
     "metadata": {},
     "output_type": "execute_result"
    }
   ],
   "source": [
    "tfik.shape\n",
    "tfk.shape"
   ]
  },
  {
   "cell_type": "code",
   "execution_count": 455,
   "metadata": {},
   "outputs": [
    {
     "data": {
      "text/plain": [
       "Term1    5\n",
       "Term2    0\n",
       "Term3    0\n",
       "Term4    0\n",
       "Term5    3\n",
       "Term6    0\n",
       "Term7    0\n",
       "Term8    2\n",
       "Name: Doc2, dtype: int64"
      ]
     },
     "execution_count": 455,
     "metadata": {},
     "output_type": "execute_result"
    }
   ],
   "source": [
    "tfik.ix[1]"
   ]
  },
  {
   "cell_type": "code",
   "execution_count": 461,
   "metadata": {},
   "outputs": [
    {
     "data": {
      "text/html": [
       "<div>\n",
       "<table border=\"1\" class=\"dataframe\">\n",
       "  <thead>\n",
       "    <tr style=\"text-align: right;\">\n",
       "      <th></th>\n",
       "      <th>Term1</th>\n",
       "      <th>Term2</th>\n",
       "      <th>Term3</th>\n",
       "      <th>Term4</th>\n",
       "      <th>Term5</th>\n",
       "      <th>Term6</th>\n",
       "      <th>Term7</th>\n",
       "      <th>Term8</th>\n",
       "    </tr>\n",
       "    <tr>\n",
       "      <th>Index</th>\n",
       "      <th></th>\n",
       "      <th></th>\n",
       "      <th></th>\n",
       "      <th></th>\n",
       "      <th></th>\n",
       "      <th></th>\n",
       "      <th></th>\n",
       "      <th></th>\n",
       "    </tr>\n",
       "  </thead>\n",
       "  <tbody>\n",
       "    <tr>\n",
       "      <th>Doc1</th>\n",
       "      <td>0.000000</td>\n",
       "      <td>0.008824</td>\n",
       "      <td>0.003922</td>\n",
       "      <td>0.000000</td>\n",
       "      <td>0.000000</td>\n",
       "      <td>0.006920</td>\n",
       "      <td>0.004202</td>\n",
       "      <td>0.000000</td>\n",
       "    </tr>\n",
       "    <tr>\n",
       "      <th>Doc2</th>\n",
       "      <td>0.294118</td>\n",
       "      <td>0.000000</td>\n",
       "      <td>0.000000</td>\n",
       "      <td>0.000000</td>\n",
       "      <td>0.250000</td>\n",
       "      <td>0.000000</td>\n",
       "      <td>0.000000</td>\n",
       "      <td>0.117647</td>\n",
       "    </tr>\n",
       "    <tr>\n",
       "      <th>Doc3</th>\n",
       "      <td>0.176471</td>\n",
       "      <td>0.000000</td>\n",
       "      <td>0.266667</td>\n",
       "      <td>0.214286</td>\n",
       "      <td>0.333333</td>\n",
       "      <td>0.000000</td>\n",
       "      <td>0.000000</td>\n",
       "      <td>0.294118</td>\n",
       "    </tr>\n",
       "    <tr>\n",
       "      <th>Doc4</th>\n",
       "      <td>0.058824</td>\n",
       "      <td>0.400000</td>\n",
       "      <td>0.000000</td>\n",
       "      <td>0.214286</td>\n",
       "      <td>0.000000</td>\n",
       "      <td>0.058824</td>\n",
       "      <td>0.285714</td>\n",
       "      <td>0.000000</td>\n",
       "    </tr>\n",
       "    <tr>\n",
       "      <th>Doc5</th>\n",
       "      <td>0.000000</td>\n",
       "      <td>0.050000</td>\n",
       "      <td>0.000000</td>\n",
       "      <td>0.000000</td>\n",
       "      <td>0.000000</td>\n",
       "      <td>0.294118</td>\n",
       "      <td>0.285714</td>\n",
       "      <td>0.117647</td>\n",
       "    </tr>\n",
       "    <tr>\n",
       "      <th>Doc6</th>\n",
       "      <td>0.117647</td>\n",
       "      <td>0.000000</td>\n",
       "      <td>0.133333</td>\n",
       "      <td>0.000000</td>\n",
       "      <td>0.000000</td>\n",
       "      <td>0.235294</td>\n",
       "      <td>0.000000</td>\n",
       "      <td>0.058824</td>\n",
       "    </tr>\n",
       "    <tr>\n",
       "      <th>Doc7</th>\n",
       "      <td>0.117647</td>\n",
       "      <td>0.250000</td>\n",
       "      <td>0.000000</td>\n",
       "      <td>0.214286</td>\n",
       "      <td>0.000000</td>\n",
       "      <td>0.058824</td>\n",
       "      <td>0.285714</td>\n",
       "      <td>0.117647</td>\n",
       "    </tr>\n",
       "    <tr>\n",
       "      <th>Doc8</th>\n",
       "      <td>0.176471</td>\n",
       "      <td>0.150000</td>\n",
       "      <td>0.000000</td>\n",
       "      <td>0.142857</td>\n",
       "      <td>0.000000</td>\n",
       "      <td>0.000000</td>\n",
       "      <td>0.071429</td>\n",
       "      <td>0.176471</td>\n",
       "    </tr>\n",
       "    <tr>\n",
       "      <th>Doc9</th>\n",
       "      <td>0.000000</td>\n",
       "      <td>0.000000</td>\n",
       "      <td>0.200000</td>\n",
       "      <td>0.214286</td>\n",
       "      <td>0.250000</td>\n",
       "      <td>0.000000</td>\n",
       "      <td>0.000000</td>\n",
       "      <td>0.000000</td>\n",
       "    </tr>\n",
       "    <tr>\n",
       "      <th>Doc10</th>\n",
       "      <td>0.058824</td>\n",
       "      <td>0.000000</td>\n",
       "      <td>0.333333</td>\n",
       "      <td>0.000000</td>\n",
       "      <td>0.166667</td>\n",
       "      <td>0.235294</td>\n",
       "      <td>0.000000</td>\n",
       "      <td>0.117647</td>\n",
       "    </tr>\n",
       "  </tbody>\n",
       "</table>\n",
       "</div>"
      ],
      "text/plain": [
       "          Term1     Term2     Term3     Term4     Term5     Term6     Term7  \\\n",
       "Index                                                                         \n",
       "Doc1   0.000000  0.008824  0.003922  0.000000  0.000000  0.006920  0.004202   \n",
       "Doc2   0.294118  0.000000  0.000000  0.000000  0.250000  0.000000  0.000000   \n",
       "Doc3   0.176471  0.000000  0.266667  0.214286  0.333333  0.000000  0.000000   \n",
       "Doc4   0.058824  0.400000  0.000000  0.214286  0.000000  0.058824  0.285714   \n",
       "Doc5   0.000000  0.050000  0.000000  0.000000  0.000000  0.294118  0.285714   \n",
       "Doc6   0.117647  0.000000  0.133333  0.000000  0.000000  0.235294  0.000000   \n",
       "Doc7   0.117647  0.250000  0.000000  0.214286  0.000000  0.058824  0.285714   \n",
       "Doc8   0.176471  0.150000  0.000000  0.142857  0.000000  0.000000  0.071429   \n",
       "Doc9   0.000000  0.000000  0.200000  0.214286  0.250000  0.000000  0.000000   \n",
       "Doc10  0.058824  0.000000  0.333333  0.000000  0.166667  0.235294  0.000000   \n",
       "\n",
       "          Term8  \n",
       "Index            \n",
       "Doc1   0.000000  \n",
       "Doc2   0.117647  \n",
       "Doc3   0.294118  \n",
       "Doc4   0.000000  \n",
       "Doc5   0.117647  \n",
       "Doc6   0.058824  \n",
       "Doc7   0.117647  \n",
       "Doc8   0.176471  \n",
       "Doc9   0.000000  \n",
       "Doc10  0.117647  "
      ]
     },
     "execution_count": 461,
     "metadata": {},
     "output_type": "execute_result"
    }
   ],
   "source": [
    "# pk is the probability that a term occurs in document i, and is computed as tfik/tfk\n",
    "\n",
    "pk = pd.DataFrame(tfik)\n",
    "pk = tfik/TFKlist\n",
    "pk"
   ]
  },
  {
   "cell_type": "code",
   "execution_count": null,
   "metadata": {
    "collapsed": true
   },
   "outputs": [],
   "source": []
  },
  {
   "cell_type": "code",
   "execution_count": 471,
   "metadata": {},
   "outputs": [],
   "source": [
    "# We compute info here as -pk log pk\n",
    "INFO = -pk*(np.log(pk))"
   ]
  },
  {
   "cell_type": "code",
   "execution_count": 472,
   "metadata": {},
   "outputs": [
    {
     "data": {
      "text/html": [
       "<div>\n",
       "<table border=\"1\" class=\"dataframe\">\n",
       "  <thead>\n",
       "    <tr style=\"text-align: right;\">\n",
       "      <th></th>\n",
       "      <th>Term1</th>\n",
       "      <th>Term2</th>\n",
       "      <th>Term3</th>\n",
       "      <th>Term4</th>\n",
       "      <th>Term5</th>\n",
       "      <th>Term6</th>\n",
       "      <th>Term7</th>\n",
       "      <th>Term8</th>\n",
       "    </tr>\n",
       "    <tr>\n",
       "      <th>Index</th>\n",
       "      <th></th>\n",
       "      <th></th>\n",
       "      <th></th>\n",
       "      <th></th>\n",
       "      <th></th>\n",
       "      <th></th>\n",
       "      <th></th>\n",
       "      <th></th>\n",
       "    </tr>\n",
       "  </thead>\n",
       "  <tbody>\n",
       "    <tr>\n",
       "      <th>Doc1</th>\n",
       "      <td>NaN</td>\n",
       "      <td>0.041738</td>\n",
       "      <td>0.021730</td>\n",
       "      <td>NaN</td>\n",
       "      <td>NaN</td>\n",
       "      <td>0.034417</td>\n",
       "      <td>0.022993</td>\n",
       "      <td>NaN</td>\n",
       "    </tr>\n",
       "    <tr>\n",
       "      <th>Doc2</th>\n",
       "      <td>0.359934</td>\n",
       "      <td>NaN</td>\n",
       "      <td>NaN</td>\n",
       "      <td>NaN</td>\n",
       "      <td>0.346574</td>\n",
       "      <td>NaN</td>\n",
       "      <td>NaN</td>\n",
       "      <td>0.251772</td>\n",
       "    </tr>\n",
       "    <tr>\n",
       "      <th>Doc3</th>\n",
       "      <td>0.306106</td>\n",
       "      <td>NaN</td>\n",
       "      <td>0.352468</td>\n",
       "      <td>0.330095</td>\n",
       "      <td>0.366204</td>\n",
       "      <td>NaN</td>\n",
       "      <td>NaN</td>\n",
       "      <td>0.359934</td>\n",
       "    </tr>\n",
       "    <tr>\n",
       "      <th>Doc4</th>\n",
       "      <td>0.166660</td>\n",
       "      <td>0.366516</td>\n",
       "      <td>NaN</td>\n",
       "      <td>0.330095</td>\n",
       "      <td>NaN</td>\n",
       "      <td>0.166660</td>\n",
       "      <td>0.357932</td>\n",
       "      <td>NaN</td>\n",
       "    </tr>\n",
       "    <tr>\n",
       "      <th>Doc5</th>\n",
       "      <td>NaN</td>\n",
       "      <td>0.149787</td>\n",
       "      <td>NaN</td>\n",
       "      <td>NaN</td>\n",
       "      <td>NaN</td>\n",
       "      <td>0.359934</td>\n",
       "      <td>0.357932</td>\n",
       "      <td>0.251772</td>\n",
       "    </tr>\n",
       "    <tr>\n",
       "      <th>Doc6</th>\n",
       "      <td>0.251772</td>\n",
       "      <td>NaN</td>\n",
       "      <td>0.268654</td>\n",
       "      <td>NaN</td>\n",
       "      <td>NaN</td>\n",
       "      <td>0.340452</td>\n",
       "      <td>NaN</td>\n",
       "      <td>0.166660</td>\n",
       "    </tr>\n",
       "    <tr>\n",
       "      <th>Doc7</th>\n",
       "      <td>0.251772</td>\n",
       "      <td>0.346574</td>\n",
       "      <td>NaN</td>\n",
       "      <td>0.330095</td>\n",
       "      <td>NaN</td>\n",
       "      <td>0.166660</td>\n",
       "      <td>0.357932</td>\n",
       "      <td>0.251772</td>\n",
       "    </tr>\n",
       "    <tr>\n",
       "      <th>Doc8</th>\n",
       "      <td>0.306106</td>\n",
       "      <td>0.284568</td>\n",
       "      <td>NaN</td>\n",
       "      <td>0.277987</td>\n",
       "      <td>NaN</td>\n",
       "      <td>NaN</td>\n",
       "      <td>0.188504</td>\n",
       "      <td>0.306106</td>\n",
       "    </tr>\n",
       "    <tr>\n",
       "      <th>Doc9</th>\n",
       "      <td>NaN</td>\n",
       "      <td>NaN</td>\n",
       "      <td>0.321888</td>\n",
       "      <td>0.330095</td>\n",
       "      <td>0.346574</td>\n",
       "      <td>NaN</td>\n",
       "      <td>NaN</td>\n",
       "      <td>NaN</td>\n",
       "    </tr>\n",
       "    <tr>\n",
       "      <th>Doc10</th>\n",
       "      <td>0.166660</td>\n",
       "      <td>NaN</td>\n",
       "      <td>0.366204</td>\n",
       "      <td>NaN</td>\n",
       "      <td>0.298627</td>\n",
       "      <td>0.340452</td>\n",
       "      <td>NaN</td>\n",
       "      <td>0.251772</td>\n",
       "    </tr>\n",
       "  </tbody>\n",
       "</table>\n",
       "</div>"
      ],
      "text/plain": [
       "          Term1     Term2     Term3     Term4     Term5     Term6     Term7  \\\n",
       "Index                                                                         \n",
       "Doc1        NaN  0.041738  0.021730       NaN       NaN  0.034417  0.022993   \n",
       "Doc2   0.359934       NaN       NaN       NaN  0.346574       NaN       NaN   \n",
       "Doc3   0.306106       NaN  0.352468  0.330095  0.366204       NaN       NaN   \n",
       "Doc4   0.166660  0.366516       NaN  0.330095       NaN  0.166660  0.357932   \n",
       "Doc5        NaN  0.149787       NaN       NaN       NaN  0.359934  0.357932   \n",
       "Doc6   0.251772       NaN  0.268654       NaN       NaN  0.340452       NaN   \n",
       "Doc7   0.251772  0.346574       NaN  0.330095       NaN  0.166660  0.357932   \n",
       "Doc8   0.306106  0.284568       NaN  0.277987       NaN       NaN  0.188504   \n",
       "Doc9        NaN       NaN  0.321888  0.330095  0.346574       NaN       NaN   \n",
       "Doc10  0.166660       NaN  0.366204       NaN  0.298627  0.340452       NaN   \n",
       "\n",
       "          Term8  \n",
       "Index            \n",
       "Doc1        NaN  \n",
       "Doc2   0.251772  \n",
       "Doc3   0.359934  \n",
       "Doc4        NaN  \n",
       "Doc5   0.251772  \n",
       "Doc6   0.166660  \n",
       "Doc7   0.251772  \n",
       "Doc8   0.306106  \n",
       "Doc9        NaN  \n",
       "Doc10  0.251772  "
      ]
     },
     "execution_count": 472,
     "metadata": {},
     "output_type": "execute_result"
    }
   ],
   "source": [
    "INFO"
   ]
  },
  {
   "cell_type": "code",
   "execution_count": 475,
   "metadata": {},
   "outputs": [
    {
     "data": {
      "text/plain": [
       "array([[ 1.809 ,  1.1892,  1.3309,  1.5984,  1.358 ,  1.4086,  1.2853,  1.8398]])"
      ]
     },
     "execution_count": 475,
     "metadata": {},
     "output_type": "execute_result"
    },
    {
     "data": {
      "text/plain": [
       "array([[-1.809 , -1.1892, -1.3309, -1.5984, -1.358 , -1.4086, -1.2853, -1.8398]])"
      ]
     },
     "execution_count": 475,
     "metadata": {},
     "output_type": "execute_result"
    },
    {
     "data": {
      "text/html": [
       "<div>\n",
       "<table border=\"1\" class=\"dataframe\">\n",
       "  <thead>\n",
       "    <tr style=\"text-align: right;\">\n",
       "      <th></th>\n",
       "      <th>0</th>\n",
       "      <th>1</th>\n",
       "      <th>2</th>\n",
       "      <th>3</th>\n",
       "      <th>4</th>\n",
       "      <th>5</th>\n",
       "      <th>6</th>\n",
       "      <th>7</th>\n",
       "    </tr>\n",
       "  </thead>\n",
       "  <tbody>\n",
       "    <tr>\n",
       "      <th>0</th>\n",
       "      <td>2.278453</td>\n",
       "      <td>3.132745</td>\n",
       "      <td>2.575947</td>\n",
       "      <td>2.208986</td>\n",
       "      <td>2.226985</td>\n",
       "      <td>2.678889</td>\n",
       "      <td>2.522061</td>\n",
       "      <td>2.247673</td>\n",
       "    </tr>\n",
       "  </tbody>\n",
       "</table>\n",
       "</div>"
      ],
      "text/plain": [
       "          0         1         2         3         4         5         6  \\\n",
       "0  2.278453  3.132745  2.575947  2.208986  2.226985  2.678889  2.522061   \n",
       "\n",
       "          7  \n",
       "0  2.247673  "
      ]
     },
     "execution_count": 475,
     "metadata": {},
     "output_type": "execute_result"
    }
   ],
   "source": [
    "# Once we have pk, we can take the average of all pk values for a given term and that is its\n",
    "# average info (AVG-INFO) \n",
    "AVG_INFO = np.array([(INFO).sum(0)])\n",
    "AVG_INFO\n",
    "\n",
    "# NOISE is defined as -(AVG-INFO)\n",
    "NOISE = -AVG_INFO\n",
    "NOISE\n",
    "\n",
    "# SIGNAL is defined as log(tfk)+NOISE\n",
    "SIGNAL = np.log2(tfk) + NOISE\n",
    "SIGNAL\n"
   ]
  },
  {
   "cell_type": "code",
   "execution_count": 493,
   "metadata": {},
   "outputs": [
    {
     "data": {
      "text/plain": [
       "3.1327453651917749"
      ]
     },
     "execution_count": 493,
     "metadata": {},
     "output_type": "execute_result"
    }
   ],
   "source": [
    "SIGNAL.loc[0][1]"
   ]
  },
  {
   "cell_type": "code",
   "execution_count": 492,
   "metadata": {},
   "outputs": [],
   "source": [
    "SIGNAL_LIST = []\n",
    "\n",
    "for i in SIGNAL.loc[0]:\n",
    "    #print i\n",
    "    SIGNAL_LIST.append(i)"
   ]
  },
  {
   "cell_type": "code",
   "execution_count": 494,
   "metadata": {},
   "outputs": [
    {
     "data": {
      "text/plain": [
       "[2.2784525569834724,\n",
       " 3.1327453651917749,\n",
       " 2.575946511556277,\n",
       " 2.2089862942378602,\n",
       " 2.2269846457338316,\n",
       " 2.6788894638100746,\n",
       " 2.5220612630232093,\n",
       " 2.2476732544090874]"
      ]
     },
     "execution_count": 494,
     "metadata": {},
     "output_type": "execute_result"
    }
   ],
   "source": [
    "SIGNAL_LIST"
   ]
  },
  {
   "cell_type": "code",
   "execution_count": 497,
   "metadata": {},
   "outputs": [
    {
     "data": {
      "text/html": [
       "<div>\n",
       "<table border=\"1\" class=\"dataframe\">\n",
       "  <thead>\n",
       "    <tr style=\"text-align: right;\">\n",
       "      <th></th>\n",
       "      <th>Term1</th>\n",
       "      <th>Term2</th>\n",
       "      <th>Term3</th>\n",
       "      <th>Term4</th>\n",
       "      <th>Term5</th>\n",
       "      <th>Term6</th>\n",
       "      <th>Term7</th>\n",
       "      <th>Term8</th>\n",
       "    </tr>\n",
       "    <tr>\n",
       "      <th>Index</th>\n",
       "      <th></th>\n",
       "      <th></th>\n",
       "      <th></th>\n",
       "      <th></th>\n",
       "      <th></th>\n",
       "      <th></th>\n",
       "      <th></th>\n",
       "      <th></th>\n",
       "    </tr>\n",
       "  </thead>\n",
       "  <tbody>\n",
       "    <tr>\n",
       "      <th>Doc1</th>\n",
       "      <td>0.000000</td>\n",
       "      <td>0.552837</td>\n",
       "      <td>0.151526</td>\n",
       "      <td>0.000000</td>\n",
       "      <td>0.000000</td>\n",
       "      <td>0.315163</td>\n",
       "      <td>0.148357</td>\n",
       "      <td>0.000000</td>\n",
       "    </tr>\n",
       "    <tr>\n",
       "      <th>Doc2</th>\n",
       "      <td>11.392263</td>\n",
       "      <td>0.000000</td>\n",
       "      <td>0.000000</td>\n",
       "      <td>0.000000</td>\n",
       "      <td>6.680954</td>\n",
       "      <td>0.000000</td>\n",
       "      <td>0.000000</td>\n",
       "      <td>4.495347</td>\n",
       "    </tr>\n",
       "    <tr>\n",
       "      <th>Doc3</th>\n",
       "      <td>6.835358</td>\n",
       "      <td>0.000000</td>\n",
       "      <td>10.303786</td>\n",
       "      <td>6.626959</td>\n",
       "      <td>8.907939</td>\n",
       "      <td>0.000000</td>\n",
       "      <td>0.000000</td>\n",
       "      <td>11.238366</td>\n",
       "    </tr>\n",
       "    <tr>\n",
       "      <th>Doc4</th>\n",
       "      <td>2.278453</td>\n",
       "      <td>25.061963</td>\n",
       "      <td>0.000000</td>\n",
       "      <td>6.626959</td>\n",
       "      <td>0.000000</td>\n",
       "      <td>2.678889</td>\n",
       "      <td>10.088245</td>\n",
       "      <td>0.000000</td>\n",
       "    </tr>\n",
       "    <tr>\n",
       "      <th>Doc5</th>\n",
       "      <td>0.000000</td>\n",
       "      <td>3.132745</td>\n",
       "      <td>0.000000</td>\n",
       "      <td>0.000000</td>\n",
       "      <td>0.000000</td>\n",
       "      <td>13.394447</td>\n",
       "      <td>10.088245</td>\n",
       "      <td>4.495347</td>\n",
       "    </tr>\n",
       "    <tr>\n",
       "      <th>Doc6</th>\n",
       "      <td>4.556905</td>\n",
       "      <td>0.000000</td>\n",
       "      <td>5.151893</td>\n",
       "      <td>0.000000</td>\n",
       "      <td>0.000000</td>\n",
       "      <td>10.715558</td>\n",
       "      <td>0.000000</td>\n",
       "      <td>2.247673</td>\n",
       "    </tr>\n",
       "    <tr>\n",
       "      <th>Doc7</th>\n",
       "      <td>4.556905</td>\n",
       "      <td>15.663727</td>\n",
       "      <td>0.000000</td>\n",
       "      <td>6.626959</td>\n",
       "      <td>0.000000</td>\n",
       "      <td>2.678889</td>\n",
       "      <td>10.088245</td>\n",
       "      <td>4.495347</td>\n",
       "    </tr>\n",
       "    <tr>\n",
       "      <th>Doc8</th>\n",
       "      <td>6.835358</td>\n",
       "      <td>9.398236</td>\n",
       "      <td>0.000000</td>\n",
       "      <td>4.417973</td>\n",
       "      <td>0.000000</td>\n",
       "      <td>0.000000</td>\n",
       "      <td>2.522061</td>\n",
       "      <td>6.743020</td>\n",
       "    </tr>\n",
       "    <tr>\n",
       "      <th>Doc9</th>\n",
       "      <td>0.000000</td>\n",
       "      <td>0.000000</td>\n",
       "      <td>7.727840</td>\n",
       "      <td>6.626959</td>\n",
       "      <td>6.680954</td>\n",
       "      <td>0.000000</td>\n",
       "      <td>0.000000</td>\n",
       "      <td>0.000000</td>\n",
       "    </tr>\n",
       "    <tr>\n",
       "      <th>Doc10</th>\n",
       "      <td>2.278453</td>\n",
       "      <td>0.000000</td>\n",
       "      <td>12.879733</td>\n",
       "      <td>0.000000</td>\n",
       "      <td>4.453969</td>\n",
       "      <td>10.715558</td>\n",
       "      <td>0.000000</td>\n",
       "      <td>4.495347</td>\n",
       "    </tr>\n",
       "  </tbody>\n",
       "</table>\n",
       "</div>"
      ],
      "text/plain": [
       "           Term1      Term2      Term3     Term4     Term5      Term6  \\\n",
       "Index                                                                   \n",
       "Doc1    0.000000   0.552837   0.151526  0.000000  0.000000   0.315163   \n",
       "Doc2   11.392263   0.000000   0.000000  0.000000  6.680954   0.000000   \n",
       "Doc3    6.835358   0.000000  10.303786  6.626959  8.907939   0.000000   \n",
       "Doc4    2.278453  25.061963   0.000000  6.626959  0.000000   2.678889   \n",
       "Doc5    0.000000   3.132745   0.000000  0.000000  0.000000  13.394447   \n",
       "Doc6    4.556905   0.000000   5.151893  0.000000  0.000000  10.715558   \n",
       "Doc7    4.556905  15.663727   0.000000  6.626959  0.000000   2.678889   \n",
       "Doc8    6.835358   9.398236   0.000000  4.417973  0.000000   0.000000   \n",
       "Doc9    0.000000   0.000000   7.727840  6.626959  6.680954   0.000000   \n",
       "Doc10   2.278453   0.000000  12.879733  0.000000  4.453969  10.715558   \n",
       "\n",
       "           Term7      Term8  \n",
       "Index                        \n",
       "Doc1    0.148357   0.000000  \n",
       "Doc2    0.000000   4.495347  \n",
       "Doc3    0.000000  11.238366  \n",
       "Doc4   10.088245   0.000000  \n",
       "Doc5   10.088245   4.495347  \n",
       "Doc6    0.000000   2.247673  \n",
       "Doc7   10.088245   4.495347  \n",
       "Doc8    2.522061   6.743020  \n",
       "Doc9    0.000000   0.000000  \n",
       "Doc10   0.000000   4.495347  "
      ]
     },
     "execution_count": 497,
     "metadata": {},
     "output_type": "execute_result"
    }
   ],
   "source": [
    "# The WEIGHT for term k in document i is computed as below:\n",
    "\n",
    "Wik = tfik * SIGNAL_LIST\n",
    "\n",
    "\n",
    "Wik\n"
   ]
  },
  {
   "cell_type": "markdown",
   "metadata": {},
   "source": [
    "### c) Using the Keyword Discrimination approach, determine if Term4 is a good index term or not (by computing its discriminant). To compute average similarities use Cosine similarity as your similarity measure. Show your work. "
   ]
  },
  {
   "cell_type": "code",
   "execution_count": 499,
   "metadata": {},
   "outputs": [
    {
     "data": {
      "text/html": [
       "<div>\n",
       "<table border=\"1\" class=\"dataframe\">\n",
       "  <thead>\n",
       "    <tr style=\"text-align: right;\">\n",
       "      <th></th>\n",
       "      <th>Term1</th>\n",
       "      <th>Term2</th>\n",
       "      <th>Term3</th>\n",
       "      <th>Term4</th>\n",
       "      <th>Term5</th>\n",
       "      <th>Term6</th>\n",
       "      <th>Term7</th>\n",
       "      <th>Term8</th>\n",
       "    </tr>\n",
       "    <tr>\n",
       "      <th>Index</th>\n",
       "      <th></th>\n",
       "      <th></th>\n",
       "      <th></th>\n",
       "      <th></th>\n",
       "      <th></th>\n",
       "      <th></th>\n",
       "      <th></th>\n",
       "      <th></th>\n",
       "    </tr>\n",
       "  </thead>\n",
       "  <tbody>\n",
       "    <tr>\n",
       "      <th>Doc1</th>\n",
       "      <td>0</td>\n",
       "      <td>3</td>\n",
       "      <td>1</td>\n",
       "      <td>0</td>\n",
       "      <td>0</td>\n",
       "      <td>2</td>\n",
       "      <td>1</td>\n",
       "      <td>0</td>\n",
       "    </tr>\n",
       "    <tr>\n",
       "      <th>Doc2</th>\n",
       "      <td>5</td>\n",
       "      <td>0</td>\n",
       "      <td>0</td>\n",
       "      <td>0</td>\n",
       "      <td>3</td>\n",
       "      <td>0</td>\n",
       "      <td>0</td>\n",
       "      <td>2</td>\n",
       "    </tr>\n",
       "    <tr>\n",
       "      <th>Doc3</th>\n",
       "      <td>3</td>\n",
       "      <td>0</td>\n",
       "      <td>4</td>\n",
       "      <td>3</td>\n",
       "      <td>4</td>\n",
       "      <td>0</td>\n",
       "      <td>0</td>\n",
       "      <td>5</td>\n",
       "    </tr>\n",
       "    <tr>\n",
       "      <th>Doc4</th>\n",
       "      <td>1</td>\n",
       "      <td>8</td>\n",
       "      <td>0</td>\n",
       "      <td>3</td>\n",
       "      <td>0</td>\n",
       "      <td>1</td>\n",
       "      <td>4</td>\n",
       "      <td>0</td>\n",
       "    </tr>\n",
       "    <tr>\n",
       "      <th>Doc5</th>\n",
       "      <td>0</td>\n",
       "      <td>1</td>\n",
       "      <td>0</td>\n",
       "      <td>0</td>\n",
       "      <td>0</td>\n",
       "      <td>5</td>\n",
       "      <td>4</td>\n",
       "      <td>2</td>\n",
       "    </tr>\n",
       "    <tr>\n",
       "      <th>Doc6</th>\n",
       "      <td>2</td>\n",
       "      <td>0</td>\n",
       "      <td>2</td>\n",
       "      <td>0</td>\n",
       "      <td>0</td>\n",
       "      <td>4</td>\n",
       "      <td>0</td>\n",
       "      <td>1</td>\n",
       "    </tr>\n",
       "    <tr>\n",
       "      <th>Doc7</th>\n",
       "      <td>2</td>\n",
       "      <td>5</td>\n",
       "      <td>0</td>\n",
       "      <td>3</td>\n",
       "      <td>0</td>\n",
       "      <td>1</td>\n",
       "      <td>4</td>\n",
       "      <td>2</td>\n",
       "    </tr>\n",
       "    <tr>\n",
       "      <th>Doc8</th>\n",
       "      <td>3</td>\n",
       "      <td>3</td>\n",
       "      <td>0</td>\n",
       "      <td>2</td>\n",
       "      <td>0</td>\n",
       "      <td>0</td>\n",
       "      <td>1</td>\n",
       "      <td>3</td>\n",
       "    </tr>\n",
       "    <tr>\n",
       "      <th>Doc9</th>\n",
       "      <td>0</td>\n",
       "      <td>0</td>\n",
       "      <td>3</td>\n",
       "      <td>3</td>\n",
       "      <td>3</td>\n",
       "      <td>0</td>\n",
       "      <td>0</td>\n",
       "      <td>0</td>\n",
       "    </tr>\n",
       "    <tr>\n",
       "      <th>Doc10</th>\n",
       "      <td>1</td>\n",
       "      <td>0</td>\n",
       "      <td>5</td>\n",
       "      <td>0</td>\n",
       "      <td>2</td>\n",
       "      <td>4</td>\n",
       "      <td>0</td>\n",
       "      <td>2</td>\n",
       "    </tr>\n",
       "  </tbody>\n",
       "</table>\n",
       "</div>"
      ],
      "text/plain": [
       "       Term1  Term2  Term3  Term4  Term5  Term6  Term7  Term8\n",
       "Index                                                        \n",
       "Doc1       0      3      1      0      0      2      1      0\n",
       "Doc2       5      0      0      0      3      0      0      2\n",
       "Doc3       3      0      4      3      4      0      0      5\n",
       "Doc4       1      8      0      3      0      1      4      0\n",
       "Doc5       0      1      0      0      0      5      4      2\n",
       "Doc6       2      0      2      0      0      4      0      1\n",
       "Doc7       2      5      0      3      0      1      4      2\n",
       "Doc8       3      3      0      2      0      0      1      3\n",
       "Doc9       0      0      3      3      3      0      0      0\n",
       "Doc10      1      0      5      0      2      4      0      2"
      ]
     },
     "execution_count": 499,
     "metadata": {},
     "output_type": "execute_result"
    }
   ],
   "source": [
    "D = {'Index' : pd.Series(('Doc1','Doc2','Doc3','Doc4','Doc5','Doc6','Doc7','Doc8','Doc9','Doc10')),\n",
    "    'Term1' : pd.Series((0,5,3,1,0,2,2,3,0,1)),\n",
    "     'Term2' : pd.Series((3,0,0,8,1,0,5,3,0,0)),\n",
    "     'Term3' : pd.Series((1,0,4,0,0,2,0,0,3,5)),\n",
    "     'Term4' : pd.Series((0,0,3,3,0,0,3,2,3,0)),\n",
    "     'Term5' : pd.Series((0,3,4,0,0,0,0,0,3,2)),\n",
    "     'Term6' : pd.Series((2,0,0,1,5,4,1,0,0,4)),\n",
    "     'Term7' : pd.Series((1,0,0,4,4,0,4,1,0,0)),\n",
    "     'Term8' : pd.Series((0,2,5,0,2,1,2,3,0,2))\n",
    "    }\n",
    "\n",
    "D = pd.DataFrame(data=D)\n",
    "D = D.set_index('Index')\n",
    "\n",
    "partc = pd.DataFrame(D)\n",
    "partc"
   ]
  },
  {
   "cell_type": "code",
   "execution_count": 500,
   "metadata": {},
   "outputs": [
    {
     "data": {
      "text/plain": [
       "array([[ 1.7,  2. ,  1.5,  1.4,  1.2,  1.7,  1.4,  1.7]])"
      ]
     },
     "execution_count": 500,
     "metadata": {},
     "output_type": "execute_result"
    }
   ],
   "source": [
    "# Compute Dstar, the centriod document vector\n",
    "\n",
    "Dstar = np.array([(partc).mean()])\n",
    "Dstar"
   ]
  },
  {
   "cell_type": "code",
   "execution_count": 501,
   "metadata": {},
   "outputs": [
    {
     "data": {
      "text/plain": [
       "array([ 0.6806])"
      ]
     },
     "execution_count": 501,
     "metadata": {},
     "output_type": "execute_result"
    }
   ],
   "source": [
    "TOTAL_SIM = 0\n",
    "\n",
    "Index = pd.Series(('Doc1','Doc2','Doc3','Doc4','Doc5','Doc6','Doc7','Doc8','Doc9','Doc10'))\n",
    "\n",
    "for i in Index:\n",
    "    sim = (np.dot(Dstar,partc.loc[i]))/(la.norm(Dstar)*la.norm(partc.loc[i]))\n",
    "    TOTAL_SIM += sim\n",
    "    \n",
    "\n",
    "AVG_SIM = TOTAL_SIM/len(partc)\n",
    "AVG_SIM   "
   ]
  },
  {
   "cell_type": "code",
   "execution_count": 502,
   "metadata": {},
   "outputs": [
    {
     "data": {
      "text/html": [
       "<div>\n",
       "<table border=\"1\" class=\"dataframe\">\n",
       "  <thead>\n",
       "    <tr style=\"text-align: right;\">\n",
       "      <th></th>\n",
       "      <th>Term1</th>\n",
       "      <th>Term2</th>\n",
       "      <th>Term3</th>\n",
       "      <th>Term5</th>\n",
       "      <th>Term6</th>\n",
       "      <th>Term7</th>\n",
       "      <th>Term8</th>\n",
       "    </tr>\n",
       "    <tr>\n",
       "      <th>Index</th>\n",
       "      <th></th>\n",
       "      <th></th>\n",
       "      <th></th>\n",
       "      <th></th>\n",
       "      <th></th>\n",
       "      <th></th>\n",
       "      <th></th>\n",
       "    </tr>\n",
       "  </thead>\n",
       "  <tbody>\n",
       "    <tr>\n",
       "      <th>Doc1</th>\n",
       "      <td>0</td>\n",
       "      <td>3</td>\n",
       "      <td>1</td>\n",
       "      <td>0</td>\n",
       "      <td>2</td>\n",
       "      <td>1</td>\n",
       "      <td>0</td>\n",
       "    </tr>\n",
       "    <tr>\n",
       "      <th>Doc2</th>\n",
       "      <td>5</td>\n",
       "      <td>0</td>\n",
       "      <td>0</td>\n",
       "      <td>3</td>\n",
       "      <td>0</td>\n",
       "      <td>0</td>\n",
       "      <td>2</td>\n",
       "    </tr>\n",
       "    <tr>\n",
       "      <th>Doc3</th>\n",
       "      <td>3</td>\n",
       "      <td>0</td>\n",
       "      <td>4</td>\n",
       "      <td>4</td>\n",
       "      <td>0</td>\n",
       "      <td>0</td>\n",
       "      <td>5</td>\n",
       "    </tr>\n",
       "    <tr>\n",
       "      <th>Doc4</th>\n",
       "      <td>1</td>\n",
       "      <td>8</td>\n",
       "      <td>0</td>\n",
       "      <td>0</td>\n",
       "      <td>1</td>\n",
       "      <td>4</td>\n",
       "      <td>0</td>\n",
       "    </tr>\n",
       "    <tr>\n",
       "      <th>Doc5</th>\n",
       "      <td>0</td>\n",
       "      <td>1</td>\n",
       "      <td>0</td>\n",
       "      <td>0</td>\n",
       "      <td>5</td>\n",
       "      <td>4</td>\n",
       "      <td>2</td>\n",
       "    </tr>\n",
       "    <tr>\n",
       "      <th>Doc6</th>\n",
       "      <td>2</td>\n",
       "      <td>0</td>\n",
       "      <td>2</td>\n",
       "      <td>0</td>\n",
       "      <td>4</td>\n",
       "      <td>0</td>\n",
       "      <td>1</td>\n",
       "    </tr>\n",
       "    <tr>\n",
       "      <th>Doc7</th>\n",
       "      <td>2</td>\n",
       "      <td>5</td>\n",
       "      <td>0</td>\n",
       "      <td>0</td>\n",
       "      <td>1</td>\n",
       "      <td>4</td>\n",
       "      <td>2</td>\n",
       "    </tr>\n",
       "    <tr>\n",
       "      <th>Doc8</th>\n",
       "      <td>3</td>\n",
       "      <td>3</td>\n",
       "      <td>0</td>\n",
       "      <td>0</td>\n",
       "      <td>0</td>\n",
       "      <td>1</td>\n",
       "      <td>3</td>\n",
       "    </tr>\n",
       "    <tr>\n",
       "      <th>Doc9</th>\n",
       "      <td>0</td>\n",
       "      <td>0</td>\n",
       "      <td>3</td>\n",
       "      <td>3</td>\n",
       "      <td>0</td>\n",
       "      <td>0</td>\n",
       "      <td>0</td>\n",
       "    </tr>\n",
       "    <tr>\n",
       "      <th>Doc10</th>\n",
       "      <td>1</td>\n",
       "      <td>0</td>\n",
       "      <td>5</td>\n",
       "      <td>2</td>\n",
       "      <td>4</td>\n",
       "      <td>0</td>\n",
       "      <td>2</td>\n",
       "    </tr>\n",
       "  </tbody>\n",
       "</table>\n",
       "</div>"
      ],
      "text/plain": [
       "       Term1  Term2  Term3  Term5  Term6  Term7  Term8\n",
       "Index                                                 \n",
       "Doc1       0      3      1      0      2      1      0\n",
       "Doc2       5      0      0      3      0      0      2\n",
       "Doc3       3      0      4      4      0      0      5\n",
       "Doc4       1      8      0      0      1      4      0\n",
       "Doc5       0      1      0      0      5      4      2\n",
       "Doc6       2      0      2      0      4      0      1\n",
       "Doc7       2      5      0      0      1      4      2\n",
       "Doc8       3      3      0      0      0      1      3\n",
       "Doc9       0      0      3      3      0      0      0\n",
       "Doc10      1      0      5      2      4      0      2"
      ]
     },
     "execution_count": 502,
     "metadata": {},
     "output_type": "execute_result"
    }
   ],
   "source": [
    "# Make a dataframe with term4 removed\n",
    "removed_T4 = partc[['Term1','Term2','Term3','Term5','Term6','Term7','Term8']]\n",
    "removed_T4"
   ]
  },
  {
   "cell_type": "code",
   "execution_count": 503,
   "metadata": {},
   "outputs": [
    {
     "data": {
      "text/plain": [
       "array([[ 1.7,  2. ,  1.5,  1.2,  1.7,  1.4,  1.7]])"
      ]
     },
     "execution_count": 503,
     "metadata": {},
     "output_type": "execute_result"
    }
   ],
   "source": [
    "# Here, we need to compute Dstar again with Term4 removed to get the right dimensions\n",
    "\n",
    "Dstar4 = np.array([(removed_T4).mean()])\n",
    "Dstar4"
   ]
  },
  {
   "cell_type": "code",
   "execution_count": 504,
   "metadata": {},
   "outputs": [
    {
     "data": {
      "text/plain": [
       "array([ 0.6784])"
      ]
     },
     "execution_count": 504,
     "metadata": {},
     "output_type": "execute_result"
    }
   ],
   "source": [
    "TOTAL_SIM4 = 0\n",
    "\n",
    "Index = pd.Series(('Doc1','Doc2','Doc3','Doc4','Doc5','Doc6','Doc7','Doc8','Doc9','Doc10'))\n",
    "\n",
    "for i in Index:\n",
    "    sim = (np.dot(Dstar4,removed_T4.loc[i]))/(la.norm(Dstar4)*la.norm(removed_T4.loc[i]))\n",
    "    TOTAL_SIM4 += sim\n",
    "\n",
    "AVG_SIM4 = TOTAL_SIM4/len(removed_T4)\n",
    "AVG_SIM4"
   ]
  },
  {
   "cell_type": "markdown",
   "metadata": {},
   "source": [
    "### Determine if Term4 is a good index term or not by computing its discriminant"
   ]
  },
  {
   "cell_type": "code",
   "execution_count": 505,
   "metadata": {},
   "outputs": [
    {
     "data": {
      "text/plain": [
       "array([-0.0022])"
      ]
     },
     "execution_count": 505,
     "metadata": {},
     "output_type": "execute_result"
    }
   ],
   "source": [
    "DISC4 = AVG_SIM4 - AVG_SIM\n",
    "DISC4"
   ]
  },
  {
   "cell_type": "markdown",
   "metadata": {
    "collapsed": true
   },
   "source": [
    "### As we can see, the discriminant of Term4 is -0.0022, so it is not a good discriminant."
   ]
  },
  {
   "cell_type": "code",
   "execution_count": null,
   "metadata": {
    "collapsed": true
   },
   "outputs": [],
   "source": []
  },
  {
   "cell_type": "code",
   "execution_count": null,
   "metadata": {
    "collapsed": true
   },
   "outputs": [],
   "source": []
  },
  {
   "cell_type": "code",
   "execution_count": null,
   "metadata": {
    "collapsed": true
   },
   "outputs": [],
   "source": []
  },
  {
   "cell_type": "code",
   "execution_count": null,
   "metadata": {
    "collapsed": true
   },
   "outputs": [],
   "source": []
  },
  {
   "cell_type": "code",
   "execution_count": null,
   "metadata": {
    "collapsed": true
   },
   "outputs": [],
   "source": []
  },
  {
   "cell_type": "markdown",
   "metadata": {
    "collapsed": true
   },
   "source": [
    "## 3 Vector-Space Retrieval Model"
   ]
  },
  {
   "cell_type": "code",
   "execution_count": null,
   "metadata": {
    "collapsed": true
   },
   "outputs": [],
   "source": [
    "np.set_printoptions(precision=8,suppress=True,linewidth=120)"
   ]
  },
  {
   "cell_type": "code",
   "execution_count": 506,
   "metadata": {
    "collapsed": true
   },
   "outputs": [],
   "source": [
    "index=['DOC1','DOC2','DOC3','DOC4','DOC5','DOC6','DOC7','DOC8','DOC9','DOC10','QUERY']\n",
    "columns = ['A','B','C','D','E','F','G','H']\n",
    "table3 = pd.read_csv('HW2.csv',names=columns)"
   ]
  },
  {
   "cell_type": "code",
   "execution_count": 507,
   "metadata": {},
   "outputs": [
    {
     "data": {
      "text/html": [
       "<div>\n",
       "<table border=\"1\" class=\"dataframe\">\n",
       "  <thead>\n",
       "    <tr style=\"text-align: right;\">\n",
       "      <th></th>\n",
       "      <th>A</th>\n",
       "      <th>B</th>\n",
       "      <th>C</th>\n",
       "      <th>D</th>\n",
       "      <th>E</th>\n",
       "      <th>F</th>\n",
       "      <th>G</th>\n",
       "      <th>H</th>\n",
       "    </tr>\n",
       "  </thead>\n",
       "  <tbody>\n",
       "    <tr>\n",
       "      <th>DOC1</th>\n",
       "      <td>0</td>\n",
       "      <td>3</td>\n",
       "      <td>4</td>\n",
       "      <td>0</td>\n",
       "      <td>0</td>\n",
       "      <td>2</td>\n",
       "      <td>4</td>\n",
       "      <td>0</td>\n",
       "    </tr>\n",
       "    <tr>\n",
       "      <th>DOC2</th>\n",
       "      <td>5</td>\n",
       "      <td>5</td>\n",
       "      <td>0</td>\n",
       "      <td>0</td>\n",
       "      <td>4</td>\n",
       "      <td>0</td>\n",
       "      <td>4</td>\n",
       "      <td>3</td>\n",
       "    </tr>\n",
       "    <tr>\n",
       "      <th>DOC3</th>\n",
       "      <td>3</td>\n",
       "      <td>0</td>\n",
       "      <td>4</td>\n",
       "      <td>3</td>\n",
       "      <td>4</td>\n",
       "      <td>0</td>\n",
       "      <td>0</td>\n",
       "      <td>5</td>\n",
       "    </tr>\n",
       "    <tr>\n",
       "      <th>DOC4</th>\n",
       "      <td>0</td>\n",
       "      <td>7</td>\n",
       "      <td>0</td>\n",
       "      <td>3</td>\n",
       "      <td>2</td>\n",
       "      <td>0</td>\n",
       "      <td>4</td>\n",
       "      <td>3</td>\n",
       "    </tr>\n",
       "    <tr>\n",
       "      <th>DOC5</th>\n",
       "      <td>0</td>\n",
       "      <td>1</td>\n",
       "      <td>0</td>\n",
       "      <td>0</td>\n",
       "      <td>0</td>\n",
       "      <td>5</td>\n",
       "      <td>4</td>\n",
       "      <td>2</td>\n",
       "    </tr>\n",
       "    <tr>\n",
       "      <th>DOC6</th>\n",
       "      <td>2</td>\n",
       "      <td>0</td>\n",
       "      <td>2</td>\n",
       "      <td>0</td>\n",
       "      <td>0</td>\n",
       "      <td>4</td>\n",
       "      <td>0</td>\n",
       "      <td>1</td>\n",
       "    </tr>\n",
       "    <tr>\n",
       "      <th>DOC7</th>\n",
       "      <td>3</td>\n",
       "      <td>5</td>\n",
       "      <td>3</td>\n",
       "      <td>4</td>\n",
       "      <td>0</td>\n",
       "      <td>0</td>\n",
       "      <td>4</td>\n",
       "      <td>2</td>\n",
       "    </tr>\n",
       "    <tr>\n",
       "      <th>DOC8</th>\n",
       "      <td>0</td>\n",
       "      <td>3</td>\n",
       "      <td>0</td>\n",
       "      <td>0</td>\n",
       "      <td>0</td>\n",
       "      <td>4</td>\n",
       "      <td>4</td>\n",
       "      <td>2</td>\n",
       "    </tr>\n",
       "    <tr>\n",
       "      <th>DOC9</th>\n",
       "      <td>0</td>\n",
       "      <td>0</td>\n",
       "      <td>3</td>\n",
       "      <td>3</td>\n",
       "      <td>3</td>\n",
       "      <td>0</td>\n",
       "      <td>0</td>\n",
       "      <td>1</td>\n",
       "    </tr>\n",
       "    <tr>\n",
       "      <th>DOC10</th>\n",
       "      <td>0</td>\n",
       "      <td>5</td>\n",
       "      <td>0</td>\n",
       "      <td>0</td>\n",
       "      <td>0</td>\n",
       "      <td>4</td>\n",
       "      <td>4</td>\n",
       "      <td>2</td>\n",
       "    </tr>\n",
       "    <tr>\n",
       "      <th>QUERY</th>\n",
       "      <td>2</td>\n",
       "      <td>1</td>\n",
       "      <td>1</td>\n",
       "      <td>0</td>\n",
       "      <td>2</td>\n",
       "      <td>0</td>\n",
       "      <td>3</td>\n",
       "      <td>0</td>\n",
       "    </tr>\n",
       "  </tbody>\n",
       "</table>\n",
       "</div>"
      ],
      "text/plain": [
       "       A  B  C  D  E  F  G  H\n",
       "DOC1   0  3  4  0  0  2  4  0\n",
       "DOC2   5  5  0  0  4  0  4  3\n",
       "DOC3   3  0  4  3  4  0  0  5\n",
       "DOC4   0  7  0  3  2  0  4  3\n",
       "DOC5   0  1  0  0  0  5  4  2\n",
       "DOC6   2  0  2  0  0  4  0  1\n",
       "DOC7   3  5  3  4  0  0  4  2\n",
       "DOC8   0  3  0  0  0  4  4  2\n",
       "DOC9   0  0  3  3  3  0  0  1\n",
       "DOC10  0  5  0  0  0  4  4  2\n",
       "QUERY  2  1  1  0  2  0  3  0"
      ]
     },
     "execution_count": 507,
     "metadata": {},
     "output_type": "execute_result"
    }
   ],
   "source": [
    "table3"
   ]
  },
  {
   "cell_type": "markdown",
   "metadata": {
    "collapsed": true
   },
   "source": [
    "### a. Compute the ranking score for each document based on each of the following query-document similarity measures (sort the documents in decreasing order of the rank score)"
   ]
  },
  {
   "cell_type": "code",
   "execution_count": 509,
   "metadata": {
    "collapsed": true
   },
   "outputs": [],
   "source": [
    "from numpy import linalg as LA"
   ]
  },
  {
   "cell_type": "code",
   "execution_count": 510,
   "metadata": {},
   "outputs": [
    {
     "name": "stdout",
     "output_type": "stream",
     "text": [
      "DOC1 dot product is: 19\n",
      "DOC2 dot product is: 35\n",
      "DOC3 dot product is: 18\n",
      "DOC4 dot product is: 23\n",
      "DOC5 dot product is: 13\n",
      "DOC6 dot product is: 6\n",
      "DOC7 dot product is: 26\n",
      "DOC8 dot product is: 15\n",
      "DOC9 dot product is: 9\n",
      "DOC10 dot product is: 17\n"
     ]
    },
    {
     "data": {
      "text/plain": [
       "[('DOC2', 35),\n",
       " ('DOC7', 26),\n",
       " ('DOC4', 23),\n",
       " ('DOC1', 19),\n",
       " ('DOC3', 18),\n",
       " ('DOC10', 17),\n",
       " ('DOC8', 15),\n",
       " ('DOC5', 13),\n",
       " ('DOC9', 9),\n",
       " ('DOC6', 6)]"
      ]
     },
     "execution_count": 510,
     "metadata": {},
     "output_type": "execute_result"
    }
   ],
   "source": [
    "# Dot product\n",
    "Query = table3.loc['QUERY']\n",
    "\n",
    "\n",
    "DP_rank_dict = {}\n",
    "\n",
    "for i in index[:10]:\n",
    "    print i,'dot product is:',np.dot(Query,table3.loc[i])\n",
    "    rank = np.dot(Query,table3.loc[i])\n",
    "    DP_rank_dict[i]=rank\n",
    "    \n",
    "    \n",
    "import operator\n",
    "sorted_dict = sorted(DP_rank_dict.items(), key=operator.itemgetter(1),reverse=True)\n",
    "sorted_dict"
   ]
  },
  {
   "cell_type": "code",
   "execution_count": 511,
   "metadata": {},
   "outputs": [
    {
     "name": "stdout",
     "output_type": "stream",
     "text": [
      "DOC1 cosine similarity is: 0.649786289654\n",
      "DOC2 cosine similarity is: 0.841725622927\n",
      "DOC3 cosine similarity is: 0.476831648543\n",
      "DOC4 cosine similarity is: 0.565706813135\n",
      "DOC5 cosine similarity is: 0.43973155947\n",
      "DOC6 cosine similarity is: 0.275298880645\n",
      "DOC7 cosine similarity is: 0.671093452796\n",
      "DOC8 cosine similarity is: 0.512989176043\n",
      "DOC9 cosine similarity is: 0.390199486286\n",
      "DOC10 cosine similarity is: 0.499352471129\n"
     ]
    },
    {
     "data": {
      "text/plain": [
       "[('DOC2', 0.84172562292679309),\n",
       " ('DOC7', 0.67109345279556754),\n",
       " ('DOC1', 0.64978628965393082),\n",
       " ('DOC4', 0.56570681313477411),\n",
       " ('DOC8', 0.51298917604257699),\n",
       " ('DOC10', 0.49935247112913966),\n",
       " ('DOC3', 0.4768316485434157),\n",
       " ('DOC5', 0.43973155946962988),\n",
       " ('DOC9', 0.39019948628585394),\n",
       " ('DOC6', 0.27529888064467412)]"
      ]
     },
     "execution_count": 511,
     "metadata": {},
     "output_type": "execute_result"
    }
   ],
   "source": [
    "# Cosine similarity\n",
    "Query = table3.loc['QUERY']\n",
    "\n",
    "\n",
    "CS_rank_dict = {}\n",
    "\n",
    "\n",
    "for i in index[:10]:\n",
    "    print i,'cosine similarity is:',(np.dot(Query,table3.loc[i]))/(LA.norm(Query)*LA.norm(table3.loc[i]))\n",
    "    rank = (np.dot(Query,table3.loc[i]))/(LA.norm(Query)*LA.norm(table3.loc[i]))\n",
    "    CS_rank_dict[i]=rank\n",
    "    \n",
    "    \n",
    "import operator\n",
    "sorted_dict = sorted(CS_rank_dict.items(), key=operator.itemgetter(1),reverse=True)\n",
    "sorted_dict"
   ]
  },
  {
   "cell_type": "code",
   "execution_count": 513,
   "metadata": {},
   "outputs": [
    {
     "name": "stdout",
     "output_type": "stream",
     "text": [
      "DOC1 dice coefficient is: 3.43359959925\n",
      "DOC2 dice coefficient is: 5.03659048533\n",
      "DOC3 dice coefficient is: 2.76515684634\n",
      "DOC4 dice coefficient is: 3.36103066234\n",
      "DOC5 dice coefficient is: 2.33367433441\n",
      "DOC6 dice coefficient is: 1.28220211292\n",
      "DOC7 dice coefficient is: 3.9253894106\n",
      "DOC8 dice coefficient is: 2.71073652572\n",
      "DOC9 dice coefficient is: 1.86520735718\n",
      "DOC10 dice coefficient is: 2.79395059287\n"
     ]
    },
    {
     "data": {
      "text/plain": [
       "[('DOC2', 5.036590485333539),\n",
       " ('DOC7', 3.925389410604927),\n",
       " ('DOC1', 3.4335995992473243),\n",
       " ('DOC4', 3.3610306623413897),\n",
       " ('DOC10', 2.7939505928676991),\n",
       " ('DOC3', 2.7651568463381007),\n",
       " ('DOC8', 2.7107365257215719),\n",
       " ('DOC5', 2.3336743344147948),\n",
       " ('DOC9', 1.8652073571770149),\n",
       " ('DOC6', 1.2822021129186529)]"
      ]
     },
     "execution_count": 513,
     "metadata": {},
     "output_type": "execute_result"
    }
   ],
   "source": [
    "# Dice's coefficient\n",
    "\n",
    "Query = table3.loc['QUERY']\n",
    "\n",
    "\n",
    "DC_rank_dict = {}\n",
    "\n",
    "\n",
    "for i in index[:10]:\n",
    "    numerator = 2*(np.dot(Query,table3.loc[i]))\n",
    "    denominator = (LA.norm(Query)+LA.norm(table3.loc[i]))\n",
    "    rank = numerator/denominator\n",
    "    print i,'dice coefficient is:',rank\n",
    "    DC_rank_dict[i]=rank\n",
    "    \n",
    "    \n",
    "import operator\n",
    "sorted_dict = sorted(DC_rank_dict.items(), key=operator.itemgetter(1),reverse=True)\n",
    "sorted_dict"
   ]
  },
  {
   "cell_type": "code",
   "execution_count": 514,
   "metadata": {},
   "outputs": [
    {
     "name": "stdout",
     "output_type": "stream",
     "text": [
      "DOC1 jaccard similarity is: 0.6\n",
      "DOC2 jaccard similarity is: 0.333333333333\n",
      "DOC3 jaccard similarity is: 0.333333333333\n",
      "DOC4 jaccard similarity is: 0.5\n",
      "DOC5 jaccard similarity is: 0.5\n",
      "DOC6 jaccard similarity is: 0.6\n",
      "DOC7 jaccard similarity is: 0.5\n",
      "DOC8 jaccard similarity is: 0.6\n",
      "DOC9 jaccard similarity is: 0.75\n",
      "DOC10 jaccard similarity is: 0.333333333333\n"
     ]
    },
    {
     "data": {
      "text/plain": [
       "[('DOC9', 0.75),\n",
       " ('DOC8', 0.6),\n",
       " ('DOC1', 0.6),\n",
       " ('DOC6', 0.6),\n",
       " ('DOC7', 0.5),\n",
       " ('DOC4', 0.5),\n",
       " ('DOC5', 0.5),\n",
       " ('DOC2', 0.3333333333333333),\n",
       " ('DOC3', 0.3333333333333333),\n",
       " ('DOC10', 0.3333333333333333)]"
      ]
     },
     "execution_count": 514,
     "metadata": {},
     "output_type": "execute_result"
    }
   ],
   "source": [
    "# Jaccard's coefficient\n",
    "\n",
    "Query = table3.loc['QUERY']\n",
    "\n",
    "\n",
    "from math import*\n",
    " \n",
    "def jaccard_similarity(x,y):\n",
    " \n",
    "    intersection_cardinality = len(set.intersection(*[set(x), set(y)]))\n",
    "    union_cardinality = len(set.union(*[set(x), set(y)]))\n",
    "    return intersection_cardinality/float(union_cardinality)\n",
    "\n",
    "\n",
    "JC_rank_dict = {}\n",
    "\n",
    "\n",
    "for i in index[:10]:\n",
    "    print i,'jaccard similarity is:',jaccard_similarity(Query,table3.loc[i])\n",
    "    rank = jaccard_similarity(Query,table3.loc[i])\n",
    "    JC_rank_dict[i]=rank\n",
    "    \n",
    "    \n",
    "import operator\n",
    "sorted_dict = sorted(JC_rank_dict.items(), key=operator.itemgetter(1),reverse=True)\n",
    "sorted_dict"
   ]
  },
  {
   "cell_type": "markdown",
   "metadata": {},
   "source": [
    "### b. Compare the ranking obtained when binary term weights are used to do the ranking obtained in part a instead of raw term weights. (Do this only for dot product as the similarity measure, and explain any discrepancy between the two rankings)"
   ]
  },
  {
   "cell_type": "code",
   "execution_count": 515,
   "metadata": {
    "collapsed": true
   },
   "outputs": [],
   "source": [
    "BTW = table3"
   ]
  },
  {
   "cell_type": "code",
   "execution_count": 516,
   "metadata": {},
   "outputs": [
    {
     "data": {
      "text/html": [
       "<div>\n",
       "<table border=\"1\" class=\"dataframe\">\n",
       "  <thead>\n",
       "    <tr style=\"text-align: right;\">\n",
       "      <th></th>\n",
       "      <th>A</th>\n",
       "      <th>B</th>\n",
       "      <th>C</th>\n",
       "      <th>D</th>\n",
       "      <th>E</th>\n",
       "      <th>F</th>\n",
       "      <th>G</th>\n",
       "      <th>H</th>\n",
       "    </tr>\n",
       "  </thead>\n",
       "  <tbody>\n",
       "    <tr>\n",
       "      <th>DOC1</th>\n",
       "      <td>0</td>\n",
       "      <td>3</td>\n",
       "      <td>4</td>\n",
       "      <td>0</td>\n",
       "      <td>0</td>\n",
       "      <td>2</td>\n",
       "      <td>4</td>\n",
       "      <td>0</td>\n",
       "    </tr>\n",
       "    <tr>\n",
       "      <th>DOC2</th>\n",
       "      <td>5</td>\n",
       "      <td>5</td>\n",
       "      <td>0</td>\n",
       "      <td>0</td>\n",
       "      <td>4</td>\n",
       "      <td>0</td>\n",
       "      <td>4</td>\n",
       "      <td>3</td>\n",
       "    </tr>\n",
       "    <tr>\n",
       "      <th>DOC3</th>\n",
       "      <td>3</td>\n",
       "      <td>0</td>\n",
       "      <td>4</td>\n",
       "      <td>3</td>\n",
       "      <td>4</td>\n",
       "      <td>0</td>\n",
       "      <td>0</td>\n",
       "      <td>5</td>\n",
       "    </tr>\n",
       "    <tr>\n",
       "      <th>DOC4</th>\n",
       "      <td>0</td>\n",
       "      <td>7</td>\n",
       "      <td>0</td>\n",
       "      <td>3</td>\n",
       "      <td>2</td>\n",
       "      <td>0</td>\n",
       "      <td>4</td>\n",
       "      <td>3</td>\n",
       "    </tr>\n",
       "    <tr>\n",
       "      <th>DOC5</th>\n",
       "      <td>0</td>\n",
       "      <td>1</td>\n",
       "      <td>0</td>\n",
       "      <td>0</td>\n",
       "      <td>0</td>\n",
       "      <td>5</td>\n",
       "      <td>4</td>\n",
       "      <td>2</td>\n",
       "    </tr>\n",
       "    <tr>\n",
       "      <th>DOC6</th>\n",
       "      <td>2</td>\n",
       "      <td>0</td>\n",
       "      <td>2</td>\n",
       "      <td>0</td>\n",
       "      <td>0</td>\n",
       "      <td>4</td>\n",
       "      <td>0</td>\n",
       "      <td>1</td>\n",
       "    </tr>\n",
       "    <tr>\n",
       "      <th>DOC7</th>\n",
       "      <td>3</td>\n",
       "      <td>5</td>\n",
       "      <td>3</td>\n",
       "      <td>4</td>\n",
       "      <td>0</td>\n",
       "      <td>0</td>\n",
       "      <td>4</td>\n",
       "      <td>2</td>\n",
       "    </tr>\n",
       "    <tr>\n",
       "      <th>DOC8</th>\n",
       "      <td>0</td>\n",
       "      <td>3</td>\n",
       "      <td>0</td>\n",
       "      <td>0</td>\n",
       "      <td>0</td>\n",
       "      <td>4</td>\n",
       "      <td>4</td>\n",
       "      <td>2</td>\n",
       "    </tr>\n",
       "    <tr>\n",
       "      <th>DOC9</th>\n",
       "      <td>0</td>\n",
       "      <td>0</td>\n",
       "      <td>3</td>\n",
       "      <td>3</td>\n",
       "      <td>3</td>\n",
       "      <td>0</td>\n",
       "      <td>0</td>\n",
       "      <td>1</td>\n",
       "    </tr>\n",
       "    <tr>\n",
       "      <th>DOC10</th>\n",
       "      <td>0</td>\n",
       "      <td>5</td>\n",
       "      <td>0</td>\n",
       "      <td>0</td>\n",
       "      <td>0</td>\n",
       "      <td>4</td>\n",
       "      <td>4</td>\n",
       "      <td>2</td>\n",
       "    </tr>\n",
       "    <tr>\n",
       "      <th>QUERY</th>\n",
       "      <td>2</td>\n",
       "      <td>1</td>\n",
       "      <td>1</td>\n",
       "      <td>0</td>\n",
       "      <td>2</td>\n",
       "      <td>0</td>\n",
       "      <td>3</td>\n",
       "      <td>0</td>\n",
       "    </tr>\n",
       "  </tbody>\n",
       "</table>\n",
       "</div>"
      ],
      "text/plain": [
       "       A  B  C  D  E  F  G  H\n",
       "DOC1   0  3  4  0  0  2  4  0\n",
       "DOC2   5  5  0  0  4  0  4  3\n",
       "DOC3   3  0  4  3  4  0  0  5\n",
       "DOC4   0  7  0  3  2  0  4  3\n",
       "DOC5   0  1  0  0  0  5  4  2\n",
       "DOC6   2  0  2  0  0  4  0  1\n",
       "DOC7   3  5  3  4  0  0  4  2\n",
       "DOC8   0  3  0  0  0  4  4  2\n",
       "DOC9   0  0  3  3  3  0  0  1\n",
       "DOC10  0  5  0  0  0  4  4  2\n",
       "QUERY  2  1  1  0  2  0  3  0"
      ]
     },
     "execution_count": 516,
     "metadata": {},
     "output_type": "execute_result"
    }
   ],
   "source": [
    "BTW"
   ]
  },
  {
   "cell_type": "code",
   "execution_count": 517,
   "metadata": {},
   "outputs": [],
   "source": [
    "BTW[BTW>1]=1"
   ]
  },
  {
   "cell_type": "code",
   "execution_count": 518,
   "metadata": {},
   "outputs": [
    {
     "data": {
      "text/html": [
       "<div>\n",
       "<table border=\"1\" class=\"dataframe\">\n",
       "  <thead>\n",
       "    <tr style=\"text-align: right;\">\n",
       "      <th></th>\n",
       "      <th>A</th>\n",
       "      <th>B</th>\n",
       "      <th>C</th>\n",
       "      <th>D</th>\n",
       "      <th>E</th>\n",
       "      <th>F</th>\n",
       "      <th>G</th>\n",
       "      <th>H</th>\n",
       "    </tr>\n",
       "  </thead>\n",
       "  <tbody>\n",
       "    <tr>\n",
       "      <th>DOC1</th>\n",
       "      <td>0</td>\n",
       "      <td>1</td>\n",
       "      <td>1</td>\n",
       "      <td>0</td>\n",
       "      <td>0</td>\n",
       "      <td>1</td>\n",
       "      <td>1</td>\n",
       "      <td>0</td>\n",
       "    </tr>\n",
       "    <tr>\n",
       "      <th>DOC2</th>\n",
       "      <td>1</td>\n",
       "      <td>1</td>\n",
       "      <td>0</td>\n",
       "      <td>0</td>\n",
       "      <td>1</td>\n",
       "      <td>0</td>\n",
       "      <td>1</td>\n",
       "      <td>1</td>\n",
       "    </tr>\n",
       "    <tr>\n",
       "      <th>DOC3</th>\n",
       "      <td>1</td>\n",
       "      <td>0</td>\n",
       "      <td>1</td>\n",
       "      <td>1</td>\n",
       "      <td>1</td>\n",
       "      <td>0</td>\n",
       "      <td>0</td>\n",
       "      <td>1</td>\n",
       "    </tr>\n",
       "    <tr>\n",
       "      <th>DOC4</th>\n",
       "      <td>0</td>\n",
       "      <td>1</td>\n",
       "      <td>0</td>\n",
       "      <td>1</td>\n",
       "      <td>1</td>\n",
       "      <td>0</td>\n",
       "      <td>1</td>\n",
       "      <td>1</td>\n",
       "    </tr>\n",
       "    <tr>\n",
       "      <th>DOC5</th>\n",
       "      <td>0</td>\n",
       "      <td>1</td>\n",
       "      <td>0</td>\n",
       "      <td>0</td>\n",
       "      <td>0</td>\n",
       "      <td>1</td>\n",
       "      <td>1</td>\n",
       "      <td>1</td>\n",
       "    </tr>\n",
       "    <tr>\n",
       "      <th>DOC6</th>\n",
       "      <td>1</td>\n",
       "      <td>0</td>\n",
       "      <td>1</td>\n",
       "      <td>0</td>\n",
       "      <td>0</td>\n",
       "      <td>1</td>\n",
       "      <td>0</td>\n",
       "      <td>1</td>\n",
       "    </tr>\n",
       "    <tr>\n",
       "      <th>DOC7</th>\n",
       "      <td>1</td>\n",
       "      <td>1</td>\n",
       "      <td>1</td>\n",
       "      <td>1</td>\n",
       "      <td>0</td>\n",
       "      <td>0</td>\n",
       "      <td>1</td>\n",
       "      <td>1</td>\n",
       "    </tr>\n",
       "    <tr>\n",
       "      <th>DOC8</th>\n",
       "      <td>0</td>\n",
       "      <td>1</td>\n",
       "      <td>0</td>\n",
       "      <td>0</td>\n",
       "      <td>0</td>\n",
       "      <td>1</td>\n",
       "      <td>1</td>\n",
       "      <td>1</td>\n",
       "    </tr>\n",
       "    <tr>\n",
       "      <th>DOC9</th>\n",
       "      <td>0</td>\n",
       "      <td>0</td>\n",
       "      <td>1</td>\n",
       "      <td>1</td>\n",
       "      <td>1</td>\n",
       "      <td>0</td>\n",
       "      <td>0</td>\n",
       "      <td>1</td>\n",
       "    </tr>\n",
       "    <tr>\n",
       "      <th>DOC10</th>\n",
       "      <td>0</td>\n",
       "      <td>1</td>\n",
       "      <td>0</td>\n",
       "      <td>0</td>\n",
       "      <td>0</td>\n",
       "      <td>1</td>\n",
       "      <td>1</td>\n",
       "      <td>1</td>\n",
       "    </tr>\n",
       "    <tr>\n",
       "      <th>QUERY</th>\n",
       "      <td>1</td>\n",
       "      <td>1</td>\n",
       "      <td>1</td>\n",
       "      <td>0</td>\n",
       "      <td>1</td>\n",
       "      <td>0</td>\n",
       "      <td>1</td>\n",
       "      <td>0</td>\n",
       "    </tr>\n",
       "  </tbody>\n",
       "</table>\n",
       "</div>"
      ],
      "text/plain": [
       "       A  B  C  D  E  F  G  H\n",
       "DOC1   0  1  1  0  0  1  1  0\n",
       "DOC2   1  1  0  0  1  0  1  1\n",
       "DOC3   1  0  1  1  1  0  0  1\n",
       "DOC4   0  1  0  1  1  0  1  1\n",
       "DOC5   0  1  0  0  0  1  1  1\n",
       "DOC6   1  0  1  0  0  1  0  1\n",
       "DOC7   1  1  1  1  0  0  1  1\n",
       "DOC8   0  1  0  0  0  1  1  1\n",
       "DOC9   0  0  1  1  1  0  0  1\n",
       "DOC10  0  1  0  0  0  1  1  1\n",
       "QUERY  1  1  1  0  1  0  1  0"
      ]
     },
     "execution_count": 518,
     "metadata": {},
     "output_type": "execute_result"
    }
   ],
   "source": [
    "BTW"
   ]
  },
  {
   "cell_type": "code",
   "execution_count": 519,
   "metadata": {},
   "outputs": [
    {
     "name": "stdout",
     "output_type": "stream",
     "text": [
      "DOC1 dot product is: 3\n",
      "DOC2 dot product is: 4\n",
      "DOC3 dot product is: 3\n",
      "DOC4 dot product is: 3\n",
      "DOC5 dot product is: 2\n",
      "DOC6 dot product is: 2\n",
      "DOC7 dot product is: 4\n",
      "DOC8 dot product is: 2\n",
      "DOC9 dot product is: 2\n",
      "DOC10 dot product is: 2\n"
     ]
    },
    {
     "data": {
      "text/plain": [
       "[('DOC2', 4),\n",
       " ('DOC7', 4),\n",
       " ('DOC3', 3),\n",
       " ('DOC1', 3),\n",
       " ('DOC4', 3),\n",
       " ('DOC8', 2),\n",
       " ('DOC9', 2),\n",
       " ('DOC6', 2),\n",
       " ('DOC5', 2),\n",
       " ('DOC10', 2)]"
      ]
     },
     "execution_count": 519,
     "metadata": {},
     "output_type": "execute_result"
    }
   ],
   "source": [
    "# Dot product similarity with binary term weights\n",
    "Query = BTW.loc['QUERY']\n",
    "\n",
    "\n",
    "BTW_rank_dict = {}\n",
    "\n",
    "\n",
    "\n",
    "for i in index[:10]:\n",
    "    print i,'dot product is:',np.dot(Query,BTW.loc[i])\n",
    "    rank = np.dot(Query,BTW.loc[i])\n",
    "    BTW_rank_dict[i]=rank\n",
    "     \n",
    "import operator\n",
    "sorted_dict = sorted(BTW_rank_dict.items(), key=operator.itemgetter(1),reverse=True)\n",
    "sorted_dict"
   ]
  },
  {
   "cell_type": "code",
   "execution_count": 520,
   "metadata": {},
   "outputs": [
    {
     "data": {
      "text/plain": [
       "[('DOC2', 35),\n",
       " ('DOC7', 26),\n",
       " ('DOC4', 23),\n",
       " ('DOC1', 19),\n",
       " ('DOC3', 18),\n",
       " ('DOC10', 17),\n",
       " ('DOC8', 15),\n",
       " ('DOC5', 13),\n",
       " ('DOC9', 9),\n",
       " ('DOC6', 6)]"
      ]
     },
     "execution_count": 520,
     "metadata": {},
     "output_type": "execute_result"
    },
    {
     "data": {
      "text/plain": [
       "[('DOC2', 4),\n",
       " ('DOC7', 4),\n",
       " ('DOC3', 3),\n",
       " ('DOC1', 3),\n",
       " ('DOC4', 3),\n",
       " ('DOC8', 2),\n",
       " ('DOC9', 2),\n",
       " ('DOC6', 2),\n",
       " ('DOC5', 2),\n",
       " ('DOC10', 2)]"
      ]
     },
     "execution_count": 520,
     "metadata": {},
     "output_type": "execute_result"
    }
   ],
   "source": [
    "import operator\n",
    "DP_sorted_dict = sorted(DP_rank_dict.items(), key=operator.itemgetter(1),reverse=True)\n",
    "DP_sorted_dict\n",
    "\n",
    "\n",
    "BTW_sorted_dict = sorted(BTW_rank_dict.items(), key=operator.itemgetter(1),reverse=True)\n",
    "BTW_sorted_dict"
   ]
  },
  {
   "cell_type": "markdown",
   "metadata": {},
   "source": [
    "## Explain any discrepancy between the two rankings"
   ]
  },
  {
   "cell_type": "markdown",
   "metadata": {},
   "source": [
    "#### The discrepancy between the two rankings can be explained by the fact that we are now using binary term weights instead of raw term weights. This means that a document that has multiple occurrences of a term will not have a higher ranking than another document having the same words but only one occurrence of each. This has the effect of normalizing the length of the documents because it doesn't matter if a document is very long and contains multiple references to the term in the query; its similarity only increases a certain amount once the term occurs. Any marginal occurrences of a term do not add anything to the similarity."
   ]
  },
  {
   "cell_type": "code",
   "execution_count": null,
   "metadata": {
    "collapsed": true
   },
   "outputs": [],
   "source": []
  },
  {
   "cell_type": "markdown",
   "metadata": {},
   "source": [
    "### c. Construct a similar table to the one above, but instead of raw term frequencies, compute the (non-normalized) tf-idf weights for the terms. Then compute the ranking scores using the Cosine Similarity. Explain any significant differences between the ranking you obtained here and the Cosine ranking from the previous part."
   ]
  },
  {
   "cell_type": "code",
   "execution_count": 521,
   "metadata": {},
   "outputs": [],
   "source": [
    "index=['DOC1','DOC2','DOC3','DOC4','DOC5','DOC6','DOC7','DOC8','DOC9','DOC10','QUERY']\n",
    "columns = ['A','B','C','D','E','F','G','H']\n",
    "table3c = pd.read_csv('HW2.csv',names=columns)"
   ]
  },
  {
   "cell_type": "code",
   "execution_count": 522,
   "metadata": {},
   "outputs": [
    {
     "data": {
      "text/html": [
       "<div>\n",
       "<table border=\"1\" class=\"dataframe\">\n",
       "  <thead>\n",
       "    <tr style=\"text-align: right;\">\n",
       "      <th></th>\n",
       "      <th>A</th>\n",
       "      <th>B</th>\n",
       "      <th>C</th>\n",
       "      <th>D</th>\n",
       "      <th>E</th>\n",
       "      <th>F</th>\n",
       "      <th>G</th>\n",
       "      <th>H</th>\n",
       "    </tr>\n",
       "  </thead>\n",
       "  <tbody>\n",
       "    <tr>\n",
       "      <th>DOC1</th>\n",
       "      <td>0</td>\n",
       "      <td>3</td>\n",
       "      <td>4</td>\n",
       "      <td>0</td>\n",
       "      <td>0</td>\n",
       "      <td>2</td>\n",
       "      <td>4</td>\n",
       "      <td>0</td>\n",
       "    </tr>\n",
       "    <tr>\n",
       "      <th>DOC2</th>\n",
       "      <td>5</td>\n",
       "      <td>5</td>\n",
       "      <td>0</td>\n",
       "      <td>0</td>\n",
       "      <td>4</td>\n",
       "      <td>0</td>\n",
       "      <td>4</td>\n",
       "      <td>3</td>\n",
       "    </tr>\n",
       "    <tr>\n",
       "      <th>DOC3</th>\n",
       "      <td>3</td>\n",
       "      <td>0</td>\n",
       "      <td>4</td>\n",
       "      <td>3</td>\n",
       "      <td>4</td>\n",
       "      <td>0</td>\n",
       "      <td>0</td>\n",
       "      <td>5</td>\n",
       "    </tr>\n",
       "    <tr>\n",
       "      <th>DOC4</th>\n",
       "      <td>0</td>\n",
       "      <td>7</td>\n",
       "      <td>0</td>\n",
       "      <td>3</td>\n",
       "      <td>2</td>\n",
       "      <td>0</td>\n",
       "      <td>4</td>\n",
       "      <td>3</td>\n",
       "    </tr>\n",
       "    <tr>\n",
       "      <th>DOC5</th>\n",
       "      <td>0</td>\n",
       "      <td>1</td>\n",
       "      <td>0</td>\n",
       "      <td>0</td>\n",
       "      <td>0</td>\n",
       "      <td>5</td>\n",
       "      <td>4</td>\n",
       "      <td>2</td>\n",
       "    </tr>\n",
       "    <tr>\n",
       "      <th>DOC6</th>\n",
       "      <td>2</td>\n",
       "      <td>0</td>\n",
       "      <td>2</td>\n",
       "      <td>0</td>\n",
       "      <td>0</td>\n",
       "      <td>4</td>\n",
       "      <td>0</td>\n",
       "      <td>1</td>\n",
       "    </tr>\n",
       "    <tr>\n",
       "      <th>DOC7</th>\n",
       "      <td>3</td>\n",
       "      <td>5</td>\n",
       "      <td>3</td>\n",
       "      <td>4</td>\n",
       "      <td>0</td>\n",
       "      <td>0</td>\n",
       "      <td>4</td>\n",
       "      <td>2</td>\n",
       "    </tr>\n",
       "    <tr>\n",
       "      <th>DOC8</th>\n",
       "      <td>0</td>\n",
       "      <td>3</td>\n",
       "      <td>0</td>\n",
       "      <td>0</td>\n",
       "      <td>0</td>\n",
       "      <td>4</td>\n",
       "      <td>4</td>\n",
       "      <td>2</td>\n",
       "    </tr>\n",
       "    <tr>\n",
       "      <th>DOC9</th>\n",
       "      <td>0</td>\n",
       "      <td>0</td>\n",
       "      <td>3</td>\n",
       "      <td>3</td>\n",
       "      <td>3</td>\n",
       "      <td>0</td>\n",
       "      <td>0</td>\n",
       "      <td>1</td>\n",
       "    </tr>\n",
       "    <tr>\n",
       "      <th>DOC10</th>\n",
       "      <td>0</td>\n",
       "      <td>5</td>\n",
       "      <td>0</td>\n",
       "      <td>0</td>\n",
       "      <td>0</td>\n",
       "      <td>4</td>\n",
       "      <td>4</td>\n",
       "      <td>2</td>\n",
       "    </tr>\n",
       "    <tr>\n",
       "      <th>QUERY</th>\n",
       "      <td>2</td>\n",
       "      <td>1</td>\n",
       "      <td>1</td>\n",
       "      <td>0</td>\n",
       "      <td>2</td>\n",
       "      <td>0</td>\n",
       "      <td>3</td>\n",
       "      <td>0</td>\n",
       "    </tr>\n",
       "  </tbody>\n",
       "</table>\n",
       "</div>"
      ],
      "text/plain": [
       "       A  B  C  D  E  F  G  H\n",
       "DOC1   0  3  4  0  0  2  4  0\n",
       "DOC2   5  5  0  0  4  0  4  3\n",
       "DOC3   3  0  4  3  4  0  0  5\n",
       "DOC4   0  7  0  3  2  0  4  3\n",
       "DOC5   0  1  0  0  0  5  4  2\n",
       "DOC6   2  0  2  0  0  4  0  1\n",
       "DOC7   3  5  3  4  0  0  4  2\n",
       "DOC8   0  3  0  0  0  4  4  2\n",
       "DOC9   0  0  3  3  3  0  0  1\n",
       "DOC10  0  5  0  0  0  4  4  2\n",
       "QUERY  2  1  1  0  2  0  3  0"
      ]
     },
     "execution_count": 522,
     "metadata": {},
     "output_type": "execute_result"
    }
   ],
   "source": [
    "table3c"
   ]
  },
  {
   "cell_type": "code",
   "execution_count": 523,
   "metadata": {},
   "outputs": [
    {
     "data": {
      "text/plain": [
       "array([[5, 8, 6, 4, 5, 5, 8, 9]])"
      ]
     },
     "execution_count": 523,
     "metadata": {},
     "output_type": "execute_result"
    },
    {
     "name": "stdout",
     "output_type": "stream",
     "text": [
      "[[ 10.  10.  10.  10.  10.  10.  10.  10.]\n",
      " [ 10.  10.  10.  10.  10.  10.  10.  10.]\n",
      " [ 10.  10.  10.  10.  10.  10.  10.  10.]\n",
      " [ 10.  10.  10.  10.  10.  10.  10.  10.]\n",
      " [ 10.  10.  10.  10.  10.  10.  10.  10.]\n",
      " [ 10.  10.  10.  10.  10.  10.  10.  10.]\n",
      " [ 10.  10.  10.  10.  10.  10.  10.  10.]\n",
      " [ 10.  10.  10.  10.  10.  10.  10.  10.]\n",
      " [ 10.  10.  10.  10.  10.  10.  10.  10.]\n",
      " [ 10.  10.  10.  10.  10.  10.  10.  10.]\n",
      " [ 10.  10.  10.  10.  10.  10.  10.  10.]]\n"
     ]
    },
    {
     "data": {
      "text/plain": [
       "array([[ 1.    ,  0.3219,  0.737 ,  1.3219,  1.    ,  1.    ,  0.3219,  0.152 ],\n",
       "       [ 1.    ,  0.3219,  0.737 ,  1.3219,  1.    ,  1.    ,  0.3219,  0.152 ],\n",
       "       [ 1.    ,  0.3219,  0.737 ,  1.3219,  1.    ,  1.    ,  0.3219,  0.152 ],\n",
       "       [ 1.    ,  0.3219,  0.737 ,  1.3219,  1.    ,  1.    ,  0.3219,  0.152 ],\n",
       "       [ 1.    ,  0.3219,  0.737 ,  1.3219,  1.    ,  1.    ,  0.3219,  0.152 ],\n",
       "       [ 1.    ,  0.3219,  0.737 ,  1.3219,  1.    ,  1.    ,  0.3219,  0.152 ],\n",
       "       [ 1.    ,  0.3219,  0.737 ,  1.3219,  1.    ,  1.    ,  0.3219,  0.152 ],\n",
       "       [ 1.    ,  0.3219,  0.737 ,  1.3219,  1.    ,  1.    ,  0.3219,  0.152 ],\n",
       "       [ 1.    ,  0.3219,  0.737 ,  1.3219,  1.    ,  1.    ,  0.3219,  0.152 ],\n",
       "       [ 1.    ,  0.3219,  0.737 ,  1.3219,  1.    ,  1.    ,  0.3219,  0.152 ],\n",
       "       [ 1.    ,  0.3219,  0.737 ,  1.3219,  1.    ,  1.    ,  0.3219,  0.152 ]])"
      ]
     },
     "execution_count": 523,
     "metadata": {},
     "output_type": "execute_result"
    }
   ],
   "source": [
    "# TFIDF\n",
    "\n",
    "NDocs = 10\n",
    "\n",
    "\n",
    "DF = np.array([(table3c!=0).sum(0)])\n",
    "DF\n",
    "\n",
    "\n",
    "# Create a matrix with all entries = NDocs\n",
    "NMatrix=np.ones(np.shape(table3c), dtype=float)*NDocs\n",
    "np.set_printoptions(precision=4,suppress=True,linewidth=120)\n",
    "print NMatrix\n",
    "\n",
    "\n",
    "\n",
    "IDF = np.log2(np.divide(NMatrix, DF))\n",
    "\n",
    "IDF"
   ]
  },
  {
   "cell_type": "code",
   "execution_count": 524,
   "metadata": {},
   "outputs": [
    {
     "data": {
      "text/html": [
       "<div>\n",
       "<table border=\"1\" class=\"dataframe\">\n",
       "  <thead>\n",
       "    <tr style=\"text-align: right;\">\n",
       "      <th></th>\n",
       "      <th>A</th>\n",
       "      <th>B</th>\n",
       "      <th>C</th>\n",
       "      <th>D</th>\n",
       "      <th>E</th>\n",
       "      <th>F</th>\n",
       "      <th>G</th>\n",
       "      <th>H</th>\n",
       "    </tr>\n",
       "  </thead>\n",
       "  <tbody>\n",
       "    <tr>\n",
       "      <th>DOC1</th>\n",
       "      <td>0.0</td>\n",
       "      <td>0.965784</td>\n",
       "      <td>2.947862</td>\n",
       "      <td>0.000000</td>\n",
       "      <td>0.0</td>\n",
       "      <td>2.0</td>\n",
       "      <td>1.287712</td>\n",
       "      <td>0.000000</td>\n",
       "    </tr>\n",
       "    <tr>\n",
       "      <th>DOC2</th>\n",
       "      <td>5.0</td>\n",
       "      <td>1.609640</td>\n",
       "      <td>0.000000</td>\n",
       "      <td>0.000000</td>\n",
       "      <td>4.0</td>\n",
       "      <td>0.0</td>\n",
       "      <td>1.287712</td>\n",
       "      <td>0.456009</td>\n",
       "    </tr>\n",
       "    <tr>\n",
       "      <th>DOC3</th>\n",
       "      <td>3.0</td>\n",
       "      <td>0.000000</td>\n",
       "      <td>2.947862</td>\n",
       "      <td>3.965784</td>\n",
       "      <td>4.0</td>\n",
       "      <td>0.0</td>\n",
       "      <td>0.000000</td>\n",
       "      <td>0.760015</td>\n",
       "    </tr>\n",
       "    <tr>\n",
       "      <th>DOC4</th>\n",
       "      <td>0.0</td>\n",
       "      <td>2.253497</td>\n",
       "      <td>0.000000</td>\n",
       "      <td>3.965784</td>\n",
       "      <td>2.0</td>\n",
       "      <td>0.0</td>\n",
       "      <td>1.287712</td>\n",
       "      <td>0.456009</td>\n",
       "    </tr>\n",
       "    <tr>\n",
       "      <th>DOC5</th>\n",
       "      <td>0.0</td>\n",
       "      <td>0.321928</td>\n",
       "      <td>0.000000</td>\n",
       "      <td>0.000000</td>\n",
       "      <td>0.0</td>\n",
       "      <td>5.0</td>\n",
       "      <td>1.287712</td>\n",
       "      <td>0.304006</td>\n",
       "    </tr>\n",
       "    <tr>\n",
       "      <th>DOC6</th>\n",
       "      <td>2.0</td>\n",
       "      <td>0.000000</td>\n",
       "      <td>1.473931</td>\n",
       "      <td>0.000000</td>\n",
       "      <td>0.0</td>\n",
       "      <td>4.0</td>\n",
       "      <td>0.000000</td>\n",
       "      <td>0.152003</td>\n",
       "    </tr>\n",
       "    <tr>\n",
       "      <th>DOC7</th>\n",
       "      <td>3.0</td>\n",
       "      <td>1.609640</td>\n",
       "      <td>2.210897</td>\n",
       "      <td>5.287712</td>\n",
       "      <td>0.0</td>\n",
       "      <td>0.0</td>\n",
       "      <td>1.287712</td>\n",
       "      <td>0.304006</td>\n",
       "    </tr>\n",
       "    <tr>\n",
       "      <th>DOC8</th>\n",
       "      <td>0.0</td>\n",
       "      <td>0.965784</td>\n",
       "      <td>0.000000</td>\n",
       "      <td>0.000000</td>\n",
       "      <td>0.0</td>\n",
       "      <td>4.0</td>\n",
       "      <td>1.287712</td>\n",
       "      <td>0.304006</td>\n",
       "    </tr>\n",
       "    <tr>\n",
       "      <th>DOC9</th>\n",
       "      <td>0.0</td>\n",
       "      <td>0.000000</td>\n",
       "      <td>2.210897</td>\n",
       "      <td>3.965784</td>\n",
       "      <td>3.0</td>\n",
       "      <td>0.0</td>\n",
       "      <td>0.000000</td>\n",
       "      <td>0.152003</td>\n",
       "    </tr>\n",
       "    <tr>\n",
       "      <th>DOC10</th>\n",
       "      <td>0.0</td>\n",
       "      <td>1.609640</td>\n",
       "      <td>0.000000</td>\n",
       "      <td>0.000000</td>\n",
       "      <td>0.0</td>\n",
       "      <td>4.0</td>\n",
       "      <td>1.287712</td>\n",
       "      <td>0.304006</td>\n",
       "    </tr>\n",
       "    <tr>\n",
       "      <th>QUERY</th>\n",
       "      <td>2.0</td>\n",
       "      <td>0.321928</td>\n",
       "      <td>0.736966</td>\n",
       "      <td>0.000000</td>\n",
       "      <td>2.0</td>\n",
       "      <td>0.0</td>\n",
       "      <td>0.965784</td>\n",
       "      <td>0.000000</td>\n",
       "    </tr>\n",
       "  </tbody>\n",
       "</table>\n",
       "</div>"
      ],
      "text/plain": [
       "         A         B         C         D    E    F         G         H\n",
       "DOC1   0.0  0.965784  2.947862  0.000000  0.0  2.0  1.287712  0.000000\n",
       "DOC2   5.0  1.609640  0.000000  0.000000  4.0  0.0  1.287712  0.456009\n",
       "DOC3   3.0  0.000000  2.947862  3.965784  4.0  0.0  0.000000  0.760015\n",
       "DOC4   0.0  2.253497  0.000000  3.965784  2.0  0.0  1.287712  0.456009\n",
       "DOC5   0.0  0.321928  0.000000  0.000000  0.0  5.0  1.287712  0.304006\n",
       "DOC6   2.0  0.000000  1.473931  0.000000  0.0  4.0  0.000000  0.152003\n",
       "DOC7   3.0  1.609640  2.210897  5.287712  0.0  0.0  1.287712  0.304006\n",
       "DOC8   0.0  0.965784  0.000000  0.000000  0.0  4.0  1.287712  0.304006\n",
       "DOC9   0.0  0.000000  2.210897  3.965784  3.0  0.0  0.000000  0.152003\n",
       "DOC10  0.0  1.609640  0.000000  0.000000  0.0  4.0  1.287712  0.304006\n",
       "QUERY  2.0  0.321928  0.736966  0.000000  2.0  0.0  0.965784  0.000000"
      ]
     },
     "execution_count": 524,
     "metadata": {},
     "output_type": "execute_result"
    }
   ],
   "source": [
    "TFIDF = table3c * IDF\n",
    "TFIDF"
   ]
  },
  {
   "cell_type": "code",
   "execution_count": 525,
   "metadata": {},
   "outputs": [
    {
     "data": {
      "text/html": [
       "<div>\n",
       "<table border=\"1\" class=\"dataframe\">\n",
       "  <thead>\n",
       "    <tr style=\"text-align: right;\">\n",
       "      <th></th>\n",
       "      <th>A</th>\n",
       "      <th>B</th>\n",
       "      <th>C</th>\n",
       "      <th>D</th>\n",
       "      <th>E</th>\n",
       "      <th>F</th>\n",
       "      <th>G</th>\n",
       "      <th>H</th>\n",
       "    </tr>\n",
       "  </thead>\n",
       "  <tbody>\n",
       "    <tr>\n",
       "      <th>DOC1</th>\n",
       "      <td>0</td>\n",
       "      <td>3</td>\n",
       "      <td>4</td>\n",
       "      <td>0</td>\n",
       "      <td>0</td>\n",
       "      <td>2</td>\n",
       "      <td>4</td>\n",
       "      <td>0</td>\n",
       "    </tr>\n",
       "    <tr>\n",
       "      <th>DOC2</th>\n",
       "      <td>5</td>\n",
       "      <td>5</td>\n",
       "      <td>0</td>\n",
       "      <td>0</td>\n",
       "      <td>4</td>\n",
       "      <td>0</td>\n",
       "      <td>4</td>\n",
       "      <td>3</td>\n",
       "    </tr>\n",
       "    <tr>\n",
       "      <th>DOC3</th>\n",
       "      <td>3</td>\n",
       "      <td>0</td>\n",
       "      <td>4</td>\n",
       "      <td>3</td>\n",
       "      <td>4</td>\n",
       "      <td>0</td>\n",
       "      <td>0</td>\n",
       "      <td>5</td>\n",
       "    </tr>\n",
       "    <tr>\n",
       "      <th>DOC4</th>\n",
       "      <td>0</td>\n",
       "      <td>7</td>\n",
       "      <td>0</td>\n",
       "      <td>3</td>\n",
       "      <td>2</td>\n",
       "      <td>0</td>\n",
       "      <td>4</td>\n",
       "      <td>3</td>\n",
       "    </tr>\n",
       "    <tr>\n",
       "      <th>DOC5</th>\n",
       "      <td>0</td>\n",
       "      <td>1</td>\n",
       "      <td>0</td>\n",
       "      <td>0</td>\n",
       "      <td>0</td>\n",
       "      <td>5</td>\n",
       "      <td>4</td>\n",
       "      <td>2</td>\n",
       "    </tr>\n",
       "    <tr>\n",
       "      <th>DOC6</th>\n",
       "      <td>2</td>\n",
       "      <td>0</td>\n",
       "      <td>2</td>\n",
       "      <td>0</td>\n",
       "      <td>0</td>\n",
       "      <td>4</td>\n",
       "      <td>0</td>\n",
       "      <td>1</td>\n",
       "    </tr>\n",
       "    <tr>\n",
       "      <th>DOC7</th>\n",
       "      <td>3</td>\n",
       "      <td>5</td>\n",
       "      <td>3</td>\n",
       "      <td>4</td>\n",
       "      <td>0</td>\n",
       "      <td>0</td>\n",
       "      <td>4</td>\n",
       "      <td>2</td>\n",
       "    </tr>\n",
       "    <tr>\n",
       "      <th>DOC8</th>\n",
       "      <td>0</td>\n",
       "      <td>3</td>\n",
       "      <td>0</td>\n",
       "      <td>0</td>\n",
       "      <td>0</td>\n",
       "      <td>4</td>\n",
       "      <td>4</td>\n",
       "      <td>2</td>\n",
       "    </tr>\n",
       "    <tr>\n",
       "      <th>DOC9</th>\n",
       "      <td>0</td>\n",
       "      <td>0</td>\n",
       "      <td>3</td>\n",
       "      <td>3</td>\n",
       "      <td>3</td>\n",
       "      <td>0</td>\n",
       "      <td>0</td>\n",
       "      <td>1</td>\n",
       "    </tr>\n",
       "    <tr>\n",
       "      <th>DOC10</th>\n",
       "      <td>0</td>\n",
       "      <td>5</td>\n",
       "      <td>0</td>\n",
       "      <td>0</td>\n",
       "      <td>0</td>\n",
       "      <td>4</td>\n",
       "      <td>4</td>\n",
       "      <td>2</td>\n",
       "    </tr>\n",
       "    <tr>\n",
       "      <th>QUERY</th>\n",
       "      <td>2</td>\n",
       "      <td>1</td>\n",
       "      <td>1</td>\n",
       "      <td>0</td>\n",
       "      <td>2</td>\n",
       "      <td>0</td>\n",
       "      <td>3</td>\n",
       "      <td>0</td>\n",
       "    </tr>\n",
       "  </tbody>\n",
       "</table>\n",
       "</div>"
      ],
      "text/plain": [
       "       A  B  C  D  E  F  G  H\n",
       "DOC1   0  3  4  0  0  2  4  0\n",
       "DOC2   5  5  0  0  4  0  4  3\n",
       "DOC3   3  0  4  3  4  0  0  5\n",
       "DOC4   0  7  0  3  2  0  4  3\n",
       "DOC5   0  1  0  0  0  5  4  2\n",
       "DOC6   2  0  2  0  0  4  0  1\n",
       "DOC7   3  5  3  4  0  0  4  2\n",
       "DOC8   0  3  0  0  0  4  4  2\n",
       "DOC9   0  0  3  3  3  0  0  1\n",
       "DOC10  0  5  0  0  0  4  4  2\n",
       "QUERY  2  1  1  0  2  0  3  0"
      ]
     },
     "execution_count": 525,
     "metadata": {},
     "output_type": "execute_result"
    }
   ],
   "source": [
    "table3c"
   ]
  },
  {
   "cell_type": "code",
   "execution_count": 526,
   "metadata": {},
   "outputs": [
    {
     "name": "stdout",
     "output_type": "stream",
     "text": [
      "DOC1 cosine similarity is: 0.649786289654\n",
      "DOC2 cosine similarity is: 0.841725622927\n",
      "DOC3 cosine similarity is: 0.476831648543\n",
      "DOC4 cosine similarity is: 0.565706813135\n",
      "DOC5 cosine similarity is: 0.43973155947\n",
      "DOC6 cosine similarity is: 0.275298880645\n",
      "DOC7 cosine similarity is: 0.671093452796\n",
      "DOC8 cosine similarity is: 0.512989176043\n",
      "DOC9 cosine similarity is: 0.390199486286\n",
      "DOC10 cosine similarity is: 0.499352471129\n"
     ]
    },
    {
     "data": {
      "text/plain": [
       "[('DOC2', 0.82078268166812318),\n",
       " ('DOC7', 0.65561006810718581),\n",
       " ('DOC4', 0.61558701125109239),\n",
       " ('DOC1', 0.57353933467640439),\n",
       " ('DOC3', 0.51298917604257699),\n",
       " ('DOC8', 0.45883146774112349),\n",
       " ('DOC5', 0.45883146774112349),\n",
       " ('DOC10', 0.45883146774112349),\n",
       " ('DOC9', 0.34412360080584259),\n",
       " ('DOC6', 0.34412360080584259)]"
      ]
     },
     "execution_count": 526,
     "metadata": {},
     "output_type": "execute_result"
    }
   ],
   "source": [
    "# Cosine similarity\n",
    "Query = table3c.loc['QUERY']\n",
    "\n",
    "\n",
    "CS3_rank_dict = {}\n",
    "\n",
    "\n",
    "for i in index[:10]:\n",
    "    print i,'cosine similarity is:',(np.dot(Query,table3c.loc[i]))/(LA.norm(Query)*LA.norm(table3c.loc[i]))\n",
    "    rank = (np.dot(Query,table3.loc[i]))/(LA.norm(Query)*LA.norm(table3.loc[i]))\n",
    "    CS3_rank_dict[i]=rank\n",
    "    \n",
    "    \n",
    "import operator\n",
    "sorted_dict = sorted(CS3_rank_dict.items(), key=operator.itemgetter(1),reverse=True)\n",
    "sorted_dict"
   ]
  },
  {
   "cell_type": "markdown",
   "metadata": {},
   "source": [
    "## Explain any significant differences between the ranking you obtained here and the Cosine ranking from the previous part."
   ]
  },
  {
   "cell_type": "markdown",
   "metadata": {},
   "source": [
    "#### The difference between the rankings we obtained here and the rankings from part a) using Cosine similarity is that we used tf-idf weights instead of raw term frequencies. What this means is that we are making a correction for terms that occur frequently within certain documents but infrequently over the span of the entire document collection. This will give higher weights to terms that are more specific to our query or specific subject matter and lower weights to terms that simply have a high overall frequency or probability of occurrence. \n",
    "\n",
    "#### The importance of using this tf-idf weighting is in its power to discriminate against terms that do not really add much distiniguishing power. What I mean by this is that users will not receive much value by retrieving documents that have common words such as (the, a, it, he, she, by, yes, no, etc.) . The users will benefit more from a retrieval system that specifically grabs documents with words that have a high prbability of occurring in relevant documents but low probability in nonrelevant documents. The use of tf-idf weighting is like using stop word removal in preprocessing, because it focuses on words that are not likely to be found in all documents. It could be said that tf-idf weighting is a way of reducing the noise in the dataset and focusing more on the signal."
   ]
  },
  {
   "cell_type": "code",
   "execution_count": null,
   "metadata": {
    "collapsed": true
   },
   "outputs": [],
   "source": []
  },
  {
   "cell_type": "code",
   "execution_count": null,
   "metadata": {
    "collapsed": true
   },
   "outputs": [],
   "source": []
  },
  {
   "cell_type": "code",
   "execution_count": null,
   "metadata": {
    "collapsed": true
   },
   "outputs": [],
   "source": []
  },
  {
   "cell_type": "code",
   "execution_count": null,
   "metadata": {
    "collapsed": true
   },
   "outputs": [],
   "source": []
  },
  {
   "cell_type": "code",
   "execution_count": null,
   "metadata": {
    "collapsed": true
   },
   "outputs": [],
   "source": []
  },
  {
   "cell_type": "code",
   "execution_count": null,
   "metadata": {
    "collapsed": true
   },
   "outputs": [],
   "source": []
  },
  {
   "cell_type": "markdown",
   "metadata": {},
   "source": [
    "## 4. Probabilistic Retrieval Model"
   ]
  },
  {
   "cell_type": "code",
   "execution_count": 546,
   "metadata": {
    "collapsed": true
   },
   "outputs": [],
   "source": [
    "np.set_printoptions(precision=8,suppress=True,linewidth=120)"
   ]
  },
  {
   "cell_type": "code",
   "execution_count": 568,
   "metadata": {
    "collapsed": true
   },
   "outputs": [],
   "source": [
    "P4 = {'Index' : pd.Series(('Doc1','Doc2','Doc3','Doc4','Doc5','Doc6','Doc7','Doc8','Doc9','Doc10')),\n",
    "    'T1' : pd.Series((1,0,1,0,1,1,0,0,1,1)),\n",
    "     'T2' : pd.Series((0,1,0,1,1,1,0,0,1,0)),\n",
    "     'T3' : pd.Series((1,0,1,1,0,0,0,1,1,0)),\n",
    "     'T4' : pd.Series((1,1,1,0,1,1,0,1,0,1)),\n",
    "     'T5' : pd.Series((0,0,1,1,0,1,0,1,1,1)),\n",
    "     'T6' : pd.Series((0,1,0,1,0,1,1,0,1,0)),\n",
    "      'Relevance' : pd.Series(('R','R','NR','NR','NR','NR','R','NR','R','NR'))\n",
    "    }"
   ]
  },
  {
   "cell_type": "code",
   "execution_count": 569,
   "metadata": {},
   "outputs": [],
   "source": [
    "P4 = pd.DataFrame(P4,columns=['Index','T1','T2','T3','T4','T5','T6','Relevance'])"
   ]
  },
  {
   "cell_type": "code",
   "execution_count": 570,
   "metadata": {},
   "outputs": [],
   "source": [
    "P4 = P4.set_index('Index')"
   ]
  },
  {
   "cell_type": "code",
   "execution_count": 571,
   "metadata": {},
   "outputs": [
    {
     "data": {
      "text/html": [
       "<div>\n",
       "<table border=\"1\" class=\"dataframe\">\n",
       "  <thead>\n",
       "    <tr style=\"text-align: right;\">\n",
       "      <th></th>\n",
       "      <th>T1</th>\n",
       "      <th>T2</th>\n",
       "      <th>T3</th>\n",
       "      <th>T4</th>\n",
       "      <th>T5</th>\n",
       "      <th>T6</th>\n",
       "      <th>Relevance</th>\n",
       "    </tr>\n",
       "    <tr>\n",
       "      <th>Index</th>\n",
       "      <th></th>\n",
       "      <th></th>\n",
       "      <th></th>\n",
       "      <th></th>\n",
       "      <th></th>\n",
       "      <th></th>\n",
       "      <th></th>\n",
       "    </tr>\n",
       "  </thead>\n",
       "  <tbody>\n",
       "    <tr>\n",
       "      <th>Doc1</th>\n",
       "      <td>1</td>\n",
       "      <td>0</td>\n",
       "      <td>1</td>\n",
       "      <td>1</td>\n",
       "      <td>0</td>\n",
       "      <td>0</td>\n",
       "      <td>R</td>\n",
       "    </tr>\n",
       "    <tr>\n",
       "      <th>Doc2</th>\n",
       "      <td>0</td>\n",
       "      <td>1</td>\n",
       "      <td>0</td>\n",
       "      <td>1</td>\n",
       "      <td>0</td>\n",
       "      <td>1</td>\n",
       "      <td>R</td>\n",
       "    </tr>\n",
       "    <tr>\n",
       "      <th>Doc3</th>\n",
       "      <td>1</td>\n",
       "      <td>0</td>\n",
       "      <td>1</td>\n",
       "      <td>1</td>\n",
       "      <td>1</td>\n",
       "      <td>0</td>\n",
       "      <td>NR</td>\n",
       "    </tr>\n",
       "    <tr>\n",
       "      <th>Doc4</th>\n",
       "      <td>0</td>\n",
       "      <td>1</td>\n",
       "      <td>1</td>\n",
       "      <td>0</td>\n",
       "      <td>1</td>\n",
       "      <td>1</td>\n",
       "      <td>NR</td>\n",
       "    </tr>\n",
       "    <tr>\n",
       "      <th>Doc5</th>\n",
       "      <td>1</td>\n",
       "      <td>1</td>\n",
       "      <td>0</td>\n",
       "      <td>1</td>\n",
       "      <td>0</td>\n",
       "      <td>0</td>\n",
       "      <td>NR</td>\n",
       "    </tr>\n",
       "    <tr>\n",
       "      <th>Doc6</th>\n",
       "      <td>1</td>\n",
       "      <td>1</td>\n",
       "      <td>0</td>\n",
       "      <td>1</td>\n",
       "      <td>1</td>\n",
       "      <td>1</td>\n",
       "      <td>NR</td>\n",
       "    </tr>\n",
       "    <tr>\n",
       "      <th>Doc7</th>\n",
       "      <td>0</td>\n",
       "      <td>0</td>\n",
       "      <td>0</td>\n",
       "      <td>0</td>\n",
       "      <td>0</td>\n",
       "      <td>1</td>\n",
       "      <td>R</td>\n",
       "    </tr>\n",
       "    <tr>\n",
       "      <th>Doc8</th>\n",
       "      <td>0</td>\n",
       "      <td>0</td>\n",
       "      <td>1</td>\n",
       "      <td>1</td>\n",
       "      <td>1</td>\n",
       "      <td>0</td>\n",
       "      <td>NR</td>\n",
       "    </tr>\n",
       "    <tr>\n",
       "      <th>Doc9</th>\n",
       "      <td>1</td>\n",
       "      <td>1</td>\n",
       "      <td>1</td>\n",
       "      <td>0</td>\n",
       "      <td>1</td>\n",
       "      <td>1</td>\n",
       "      <td>R</td>\n",
       "    </tr>\n",
       "    <tr>\n",
       "      <th>Doc10</th>\n",
       "      <td>1</td>\n",
       "      <td>0</td>\n",
       "      <td>0</td>\n",
       "      <td>1</td>\n",
       "      <td>1</td>\n",
       "      <td>0</td>\n",
       "      <td>NR</td>\n",
       "    </tr>\n",
       "  </tbody>\n",
       "</table>\n",
       "</div>"
      ],
      "text/plain": [
       "       T1  T2  T3  T4  T5  T6 Relevance\n",
       "Index                                  \n",
       "Doc1    1   0   1   1   0   0         R\n",
       "Doc2    0   1   0   1   0   1         R\n",
       "Doc3    1   0   1   1   1   0        NR\n",
       "Doc4    0   1   1   0   1   1        NR\n",
       "Doc5    1   1   0   1   0   0        NR\n",
       "Doc6    1   1   0   1   1   1        NR\n",
       "Doc7    0   0   0   0   0   1         R\n",
       "Doc8    0   0   1   1   1   0        NR\n",
       "Doc9    1   1   1   0   1   1         R\n",
       "Doc10   1   0   0   1   1   0        NR"
      ]
     },
     "execution_count": 571,
     "metadata": {},
     "output_type": "execute_result"
    }
   ],
   "source": [
    "P4 "
   ]
  },
  {
   "cell_type": "code",
   "execution_count": 572,
   "metadata": {},
   "outputs": [
    {
     "data": {
      "text/html": [
       "<div>\n",
       "<table border=\"1\" class=\"dataframe\">\n",
       "  <thead>\n",
       "    <tr style=\"text-align: right;\">\n",
       "      <th></th>\n",
       "      <th>T1</th>\n",
       "      <th>T2</th>\n",
       "      <th>T3</th>\n",
       "      <th>T4</th>\n",
       "      <th>T5</th>\n",
       "      <th>T6</th>\n",
       "      <th>Relevance</th>\n",
       "    </tr>\n",
       "    <tr>\n",
       "      <th>Index</th>\n",
       "      <th></th>\n",
       "      <th></th>\n",
       "      <th></th>\n",
       "      <th></th>\n",
       "      <th></th>\n",
       "      <th></th>\n",
       "      <th></th>\n",
       "    </tr>\n",
       "  </thead>\n",
       "  <tbody>\n",
       "    <tr>\n",
       "      <th>Doc1</th>\n",
       "      <td>1</td>\n",
       "      <td>0</td>\n",
       "      <td>1</td>\n",
       "      <td>1</td>\n",
       "      <td>0</td>\n",
       "      <td>0</td>\n",
       "      <td>R</td>\n",
       "    </tr>\n",
       "    <tr>\n",
       "      <th>Doc2</th>\n",
       "      <td>0</td>\n",
       "      <td>1</td>\n",
       "      <td>0</td>\n",
       "      <td>1</td>\n",
       "      <td>0</td>\n",
       "      <td>1</td>\n",
       "      <td>R</td>\n",
       "    </tr>\n",
       "    <tr>\n",
       "      <th>Doc7</th>\n",
       "      <td>0</td>\n",
       "      <td>0</td>\n",
       "      <td>0</td>\n",
       "      <td>0</td>\n",
       "      <td>0</td>\n",
       "      <td>1</td>\n",
       "      <td>R</td>\n",
       "    </tr>\n",
       "    <tr>\n",
       "      <th>Doc9</th>\n",
       "      <td>1</td>\n",
       "      <td>1</td>\n",
       "      <td>1</td>\n",
       "      <td>0</td>\n",
       "      <td>1</td>\n",
       "      <td>1</td>\n",
       "      <td>R</td>\n",
       "    </tr>\n",
       "  </tbody>\n",
       "</table>\n",
       "</div>"
      ],
      "text/plain": [
       "       T1  T2  T3  T4  T5  T6 Relevance\n",
       "Index                                  \n",
       "Doc1    1   0   1   1   0   0         R\n",
       "Doc2    0   1   0   1   0   1         R\n",
       "Doc7    0   0   0   0   0   1         R\n",
       "Doc9    1   1   1   0   1   1         R"
      ]
     },
     "execution_count": 572,
     "metadata": {},
     "output_type": "execute_result"
    },
    {
     "data": {
      "text/plain": [
       "array([ 0.5 ,  0.5 ,  0.5 ,  0.5 ,  0.25,  0.75])"
      ]
     },
     "execution_count": 572,
     "metadata": {},
     "output_type": "execute_result"
    }
   ],
   "source": [
    "Relevant = P4[P4['Relevance']=='R']\n",
    "Relevant\n",
    "\n",
    "\n",
    "# Compute Pi, the probability that a term i occurs in a relevant document\n",
    "Pi = np.array([(Relevant==1).sum(0)])/len(Relevant)\n",
    "Pi = Pi[0][0:6]\n",
    "Pi"
   ]
  },
  {
   "cell_type": "code",
   "execution_count": 573,
   "metadata": {},
   "outputs": [
    {
     "data": {
      "text/html": [
       "<div>\n",
       "<table border=\"1\" class=\"dataframe\">\n",
       "  <thead>\n",
       "    <tr style=\"text-align: right;\">\n",
       "      <th></th>\n",
       "      <th>T1</th>\n",
       "      <th>T2</th>\n",
       "      <th>T3</th>\n",
       "      <th>T4</th>\n",
       "      <th>T5</th>\n",
       "      <th>T6</th>\n",
       "      <th>Relevance</th>\n",
       "    </tr>\n",
       "    <tr>\n",
       "      <th>Index</th>\n",
       "      <th></th>\n",
       "      <th></th>\n",
       "      <th></th>\n",
       "      <th></th>\n",
       "      <th></th>\n",
       "      <th></th>\n",
       "      <th></th>\n",
       "    </tr>\n",
       "  </thead>\n",
       "  <tbody>\n",
       "    <tr>\n",
       "      <th>Doc3</th>\n",
       "      <td>1</td>\n",
       "      <td>0</td>\n",
       "      <td>1</td>\n",
       "      <td>1</td>\n",
       "      <td>1</td>\n",
       "      <td>0</td>\n",
       "      <td>NR</td>\n",
       "    </tr>\n",
       "    <tr>\n",
       "      <th>Doc4</th>\n",
       "      <td>0</td>\n",
       "      <td>1</td>\n",
       "      <td>1</td>\n",
       "      <td>0</td>\n",
       "      <td>1</td>\n",
       "      <td>1</td>\n",
       "      <td>NR</td>\n",
       "    </tr>\n",
       "    <tr>\n",
       "      <th>Doc5</th>\n",
       "      <td>1</td>\n",
       "      <td>1</td>\n",
       "      <td>0</td>\n",
       "      <td>1</td>\n",
       "      <td>0</td>\n",
       "      <td>0</td>\n",
       "      <td>NR</td>\n",
       "    </tr>\n",
       "    <tr>\n",
       "      <th>Doc6</th>\n",
       "      <td>1</td>\n",
       "      <td>1</td>\n",
       "      <td>0</td>\n",
       "      <td>1</td>\n",
       "      <td>1</td>\n",
       "      <td>1</td>\n",
       "      <td>NR</td>\n",
       "    </tr>\n",
       "    <tr>\n",
       "      <th>Doc8</th>\n",
       "      <td>0</td>\n",
       "      <td>0</td>\n",
       "      <td>1</td>\n",
       "      <td>1</td>\n",
       "      <td>1</td>\n",
       "      <td>0</td>\n",
       "      <td>NR</td>\n",
       "    </tr>\n",
       "    <tr>\n",
       "      <th>Doc10</th>\n",
       "      <td>1</td>\n",
       "      <td>0</td>\n",
       "      <td>0</td>\n",
       "      <td>1</td>\n",
       "      <td>1</td>\n",
       "      <td>0</td>\n",
       "      <td>NR</td>\n",
       "    </tr>\n",
       "  </tbody>\n",
       "</table>\n",
       "</div>"
      ],
      "text/plain": [
       "       T1  T2  T3  T4  T5  T6 Relevance\n",
       "Index                                  \n",
       "Doc3    1   0   1   1   1   0        NR\n",
       "Doc4    0   1   1   0   1   1        NR\n",
       "Doc5    1   1   0   1   0   0        NR\n",
       "Doc6    1   1   0   1   1   1        NR\n",
       "Doc8    0   0   1   1   1   0        NR\n",
       "Doc10   1   0   0   1   1   0        NR"
      ]
     },
     "execution_count": 573,
     "metadata": {},
     "output_type": "execute_result"
    },
    {
     "data": {
      "text/plain": [
       "array([ 0.66666667,  0.5       ,  0.5       ,  0.83333333,  0.83333333,  0.33333333])"
      ]
     },
     "execution_count": 573,
     "metadata": {},
     "output_type": "execute_result"
    }
   ],
   "source": [
    "NonRelevant = P4[P4['Relevance']=='NR']\n",
    "NonRelevant\n",
    "\n",
    "\n",
    "# Compute Qi, the probability that a term i occurs in a nonrelevant document\n",
    "Qi = np.array([(NonRelevant==1).sum(0)])/len(NonRelevant)\n",
    "Qi = Qi[0][0:6]\n",
    "Qi"
   ]
  },
  {
   "cell_type": "code",
   "execution_count": 574,
   "metadata": {},
   "outputs": [
    {
     "data": {
      "text/plain": [
       "array([[ 0.6,  0.5,  0.5,  0.7,  0.6,  0.5]])"
      ]
     },
     "execution_count": 574,
     "metadata": {},
     "output_type": "execute_result"
    }
   ],
   "source": [
    "# Calculate D*, the centroid vector\n",
    "\n",
    "Dstar = np.array([(P4).mean()])\n",
    "Dstar"
   ]
  },
  {
   "cell_type": "code",
   "execution_count": 575,
   "metadata": {},
   "outputs": [
    {
     "data": {
      "text/html": [
       "<div>\n",
       "<table border=\"1\" class=\"dataframe\">\n",
       "  <thead>\n",
       "    <tr style=\"text-align: right;\">\n",
       "      <th></th>\n",
       "      <th>T1</th>\n",
       "      <th>T2</th>\n",
       "      <th>T3</th>\n",
       "      <th>T4</th>\n",
       "      <th>T5</th>\n",
       "      <th>T6</th>\n",
       "    </tr>\n",
       "    <tr>\n",
       "      <th>Index</th>\n",
       "      <th></th>\n",
       "      <th></th>\n",
       "      <th></th>\n",
       "      <th></th>\n",
       "      <th></th>\n",
       "      <th></th>\n",
       "    </tr>\n",
       "  </thead>\n",
       "  <tbody>\n",
       "    <tr>\n",
       "      <th>Doc1</th>\n",
       "      <td>1</td>\n",
       "      <td>0</td>\n",
       "      <td>1</td>\n",
       "      <td>1</td>\n",
       "      <td>0</td>\n",
       "      <td>0</td>\n",
       "    </tr>\n",
       "    <tr>\n",
       "      <th>Doc2</th>\n",
       "      <td>0</td>\n",
       "      <td>1</td>\n",
       "      <td>0</td>\n",
       "      <td>1</td>\n",
       "      <td>0</td>\n",
       "      <td>1</td>\n",
       "    </tr>\n",
       "    <tr>\n",
       "      <th>Doc3</th>\n",
       "      <td>1</td>\n",
       "      <td>0</td>\n",
       "      <td>1</td>\n",
       "      <td>1</td>\n",
       "      <td>1</td>\n",
       "      <td>0</td>\n",
       "    </tr>\n",
       "    <tr>\n",
       "      <th>Doc4</th>\n",
       "      <td>0</td>\n",
       "      <td>1</td>\n",
       "      <td>1</td>\n",
       "      <td>0</td>\n",
       "      <td>1</td>\n",
       "      <td>1</td>\n",
       "    </tr>\n",
       "    <tr>\n",
       "      <th>Doc5</th>\n",
       "      <td>1</td>\n",
       "      <td>1</td>\n",
       "      <td>0</td>\n",
       "      <td>1</td>\n",
       "      <td>0</td>\n",
       "      <td>0</td>\n",
       "    </tr>\n",
       "    <tr>\n",
       "      <th>Doc6</th>\n",
       "      <td>1</td>\n",
       "      <td>1</td>\n",
       "      <td>0</td>\n",
       "      <td>1</td>\n",
       "      <td>1</td>\n",
       "      <td>1</td>\n",
       "    </tr>\n",
       "    <tr>\n",
       "      <th>Doc7</th>\n",
       "      <td>0</td>\n",
       "      <td>0</td>\n",
       "      <td>0</td>\n",
       "      <td>0</td>\n",
       "      <td>0</td>\n",
       "      <td>1</td>\n",
       "    </tr>\n",
       "    <tr>\n",
       "      <th>Doc8</th>\n",
       "      <td>0</td>\n",
       "      <td>0</td>\n",
       "      <td>1</td>\n",
       "      <td>1</td>\n",
       "      <td>1</td>\n",
       "      <td>0</td>\n",
       "    </tr>\n",
       "    <tr>\n",
       "      <th>Doc9</th>\n",
       "      <td>1</td>\n",
       "      <td>1</td>\n",
       "      <td>1</td>\n",
       "      <td>0</td>\n",
       "      <td>1</td>\n",
       "      <td>1</td>\n",
       "    </tr>\n",
       "    <tr>\n",
       "      <th>Doc10</th>\n",
       "      <td>1</td>\n",
       "      <td>0</td>\n",
       "      <td>0</td>\n",
       "      <td>1</td>\n",
       "      <td>1</td>\n",
       "      <td>0</td>\n",
       "    </tr>\n",
       "  </tbody>\n",
       "</table>\n",
       "</div>"
      ],
      "text/plain": [
       "       T1  T2  T3  T4  T5  T6\n",
       "Index                        \n",
       "Doc1    1   0   1   1   0   0\n",
       "Doc2    0   1   0   1   0   1\n",
       "Doc3    1   0   1   1   1   0\n",
       "Doc4    0   1   1   0   1   1\n",
       "Doc5    1   1   0   1   0   0\n",
       "Doc6    1   1   0   1   1   1\n",
       "Doc7    0   0   0   0   0   1\n",
       "Doc8    0   0   1   1   1   0\n",
       "Doc9    1   1   1   0   1   1\n",
       "Doc10   1   0   0   1   1   0"
      ]
     },
     "execution_count": 575,
     "metadata": {},
     "output_type": "execute_result"
    }
   ],
   "source": [
    "P4values = P4[['T1','T2','T3','T4','T5','T6']]\n",
    "P4values"
   ]
  },
  {
   "cell_type": "code",
   "execution_count": 576,
   "metadata": {},
   "outputs": [],
   "source": [
    "TOTAL_SIM = 0\n",
    "\n",
    "Index = pd.Series(('Doc1','Doc2','Doc3','Doc4','Doc5','Doc6','Doc7','Doc8','Doc9','Doc10'))\n",
    "\n",
    "for i in Index:\n",
    "    sim = (np.dot(Dstar,P4values.loc[i]))/(LA.norm(Dstar)*LA.norm(P4values.loc[i]))\n",
    "    TOTAL_SIM += sim"
   ]
  },
  {
   "cell_type": "code",
   "execution_count": 577,
   "metadata": {},
   "outputs": [
    {
     "data": {
      "text/plain": [
       "array([ 0.74646775])"
      ]
     },
     "execution_count": 577,
     "metadata": {},
     "output_type": "execute_result"
    }
   ],
   "source": [
    "AVG_SIM = TOTAL_SIM/len(P4values)\n",
    "AVG_SIM"
   ]
  },
  {
   "cell_type": "code",
   "execution_count": 578,
   "metadata": {
    "collapsed": true
   },
   "outputs": [],
   "source": [
    "Query4 = [1,1,0,1,0,1]  #What do we do with this query to compute the discriminants?"
   ]
  },
  {
   "cell_type": "code",
   "execution_count": 579,
   "metadata": {
    "collapsed": true
   },
   "outputs": [],
   "source": [
    "D11 = [0,1,1,0,0,1]\n",
    "D12 = [1,0,1,1,0,1]"
   ]
  },
  {
   "cell_type": "code",
   "execution_count": null,
   "metadata": {
    "collapsed": true
   },
   "outputs": [],
   "source": []
  },
  {
   "cell_type": "code",
   "execution_count": 580,
   "metadata": {},
   "outputs": [
    {
     "data": {
      "text/html": [
       "<div>\n",
       "<table border=\"1\" class=\"dataframe\">\n",
       "  <thead>\n",
       "    <tr style=\"text-align: right;\">\n",
       "      <th></th>\n",
       "      <th>T1</th>\n",
       "      <th>T2</th>\n",
       "      <th>T3</th>\n",
       "      <th>T4</th>\n",
       "      <th>T5</th>\n",
       "      <th>T6</th>\n",
       "    </tr>\n",
       "    <tr>\n",
       "      <th>Index</th>\n",
       "      <th></th>\n",
       "      <th></th>\n",
       "      <th></th>\n",
       "      <th></th>\n",
       "      <th></th>\n",
       "      <th></th>\n",
       "    </tr>\n",
       "  </thead>\n",
       "  <tbody>\n",
       "    <tr>\n",
       "      <th>Doc1</th>\n",
       "      <td>1</td>\n",
       "      <td>0</td>\n",
       "      <td>1</td>\n",
       "      <td>1</td>\n",
       "      <td>0</td>\n",
       "      <td>0</td>\n",
       "    </tr>\n",
       "    <tr>\n",
       "      <th>Doc2</th>\n",
       "      <td>0</td>\n",
       "      <td>1</td>\n",
       "      <td>0</td>\n",
       "      <td>1</td>\n",
       "      <td>0</td>\n",
       "      <td>1</td>\n",
       "    </tr>\n",
       "    <tr>\n",
       "      <th>Doc3</th>\n",
       "      <td>1</td>\n",
       "      <td>0</td>\n",
       "      <td>1</td>\n",
       "      <td>1</td>\n",
       "      <td>1</td>\n",
       "      <td>0</td>\n",
       "    </tr>\n",
       "    <tr>\n",
       "      <th>Doc4</th>\n",
       "      <td>0</td>\n",
       "      <td>1</td>\n",
       "      <td>1</td>\n",
       "      <td>0</td>\n",
       "      <td>1</td>\n",
       "      <td>1</td>\n",
       "    </tr>\n",
       "    <tr>\n",
       "      <th>Doc5</th>\n",
       "      <td>1</td>\n",
       "      <td>1</td>\n",
       "      <td>0</td>\n",
       "      <td>1</td>\n",
       "      <td>0</td>\n",
       "      <td>0</td>\n",
       "    </tr>\n",
       "    <tr>\n",
       "      <th>Doc6</th>\n",
       "      <td>1</td>\n",
       "      <td>1</td>\n",
       "      <td>0</td>\n",
       "      <td>1</td>\n",
       "      <td>1</td>\n",
       "      <td>1</td>\n",
       "    </tr>\n",
       "    <tr>\n",
       "      <th>Doc7</th>\n",
       "      <td>0</td>\n",
       "      <td>0</td>\n",
       "      <td>0</td>\n",
       "      <td>0</td>\n",
       "      <td>0</td>\n",
       "      <td>1</td>\n",
       "    </tr>\n",
       "    <tr>\n",
       "      <th>Doc8</th>\n",
       "      <td>0</td>\n",
       "      <td>0</td>\n",
       "      <td>1</td>\n",
       "      <td>1</td>\n",
       "      <td>1</td>\n",
       "      <td>0</td>\n",
       "    </tr>\n",
       "    <tr>\n",
       "      <th>Doc9</th>\n",
       "      <td>1</td>\n",
       "      <td>1</td>\n",
       "      <td>1</td>\n",
       "      <td>0</td>\n",
       "      <td>1</td>\n",
       "      <td>1</td>\n",
       "    </tr>\n",
       "    <tr>\n",
       "      <th>Doc10</th>\n",
       "      <td>1</td>\n",
       "      <td>0</td>\n",
       "      <td>0</td>\n",
       "      <td>1</td>\n",
       "      <td>1</td>\n",
       "      <td>0</td>\n",
       "    </tr>\n",
       "    <tr>\n",
       "      <th>Doc11</th>\n",
       "      <td>0</td>\n",
       "      <td>1</td>\n",
       "      <td>1</td>\n",
       "      <td>0</td>\n",
       "      <td>0</td>\n",
       "      <td>1</td>\n",
       "    </tr>\n",
       "  </tbody>\n",
       "</table>\n",
       "</div>"
      ],
      "text/plain": [
       "       T1  T2  T3  T4  T5  T6\n",
       "Index                        \n",
       "Doc1    1   0   1   1   0   0\n",
       "Doc2    0   1   0   1   0   1\n",
       "Doc3    1   0   1   1   1   0\n",
       "Doc4    0   1   1   0   1   1\n",
       "Doc5    1   1   0   1   0   0\n",
       "Doc6    1   1   0   1   1   1\n",
       "Doc7    0   0   0   0   0   1\n",
       "Doc8    0   0   1   1   1   0\n",
       "Doc9    1   1   1   0   1   1\n",
       "Doc10   1   0   0   1   1   0\n",
       "Doc11   0   1   1   0   0   1"
      ]
     },
     "execution_count": 580,
     "metadata": {},
     "output_type": "execute_result"
    }
   ],
   "source": [
    "# Construct a new dataframe with D11:\n",
    "\n",
    "D11 = {'Index' : pd.Series(('Doc1','Doc2','Doc3','Doc4','Doc5','Doc6','Doc7','Doc8','Doc9','Doc10','Doc11')),\n",
    "    'T1' : pd.Series((1,0,1,0,1,1,0,0,1,1,0)),\n",
    "     'T2' : pd.Series((0,1,0,1,1,1,0,0,1,0,1)),\n",
    "     'T3' : pd.Series((1,0,1,1,0,0,0,1,1,0,1)),\n",
    "     'T4' : pd.Series((1,1,1,0,1,1,0,1,0,1,0)),\n",
    "     'T5' : pd.Series((0,0,1,1,0,1,0,1,1,1,0)),\n",
    "     'T6' : pd.Series((0,1,0,1,0,1,1,0,1,0,1)),\n",
    "    }\n",
    "\n",
    "D11 = pd.DataFrame(D11,columns=['Index','T1','T2','T3','T4','T5','T6'])\n",
    "\n",
    "D11 = D11.set_index('Index')\n",
    "\n",
    "D11"
   ]
  },
  {
   "cell_type": "code",
   "execution_count": 581,
   "metadata": {
    "collapsed": true
   },
   "outputs": [],
   "source": [
    "TOTAL_SIMD11 = 0\n",
    "\n",
    "IndexD11 = pd.Series(('Doc1','Doc2','Doc3','Doc4','Doc5','Doc6','Doc7','Doc8','Doc9','Doc10','Doc11'))\n",
    "\n",
    "for i in IndexD11:\n",
    "    sim = (np.dot(Dstar,D11.loc[i]))/(LA.norm(Dstar)*LA.norm(D11.loc[i]))\n",
    "    TOTAL_SIMD11 += sim"
   ]
  },
  {
   "cell_type": "code",
   "execution_count": 582,
   "metadata": {},
   "outputs": [
    {
     "data": {
      "text/plain": [
       "array([ 0.73484247])"
      ]
     },
     "execution_count": 582,
     "metadata": {},
     "output_type": "execute_result"
    }
   ],
   "source": [
    "AVG_SIMD11 = TOTAL_SIMD11/len(D11)\n",
    "AVG_SIMD11"
   ]
  },
  {
   "cell_type": "code",
   "execution_count": 583,
   "metadata": {},
   "outputs": [
    {
     "data": {
      "text/plain": [
       "array([-0.01162529])"
      ]
     },
     "execution_count": 583,
     "metadata": {},
     "output_type": "execute_result"
    }
   ],
   "source": [
    "DiscQD11 = AVG_SIMD11-AVG_SIM \n",
    "DiscQD11"
   ]
  },
  {
   "cell_type": "code",
   "execution_count": null,
   "metadata": {
    "collapsed": true
   },
   "outputs": [],
   "source": []
  },
  {
   "cell_type": "code",
   "execution_count": 584,
   "metadata": {},
   "outputs": [
    {
     "data": {
      "text/html": [
       "<div>\n",
       "<table border=\"1\" class=\"dataframe\">\n",
       "  <thead>\n",
       "    <tr style=\"text-align: right;\">\n",
       "      <th></th>\n",
       "      <th>T1</th>\n",
       "      <th>T2</th>\n",
       "      <th>T3</th>\n",
       "      <th>T4</th>\n",
       "      <th>T5</th>\n",
       "      <th>T6</th>\n",
       "    </tr>\n",
       "    <tr>\n",
       "      <th>Index</th>\n",
       "      <th></th>\n",
       "      <th></th>\n",
       "      <th></th>\n",
       "      <th></th>\n",
       "      <th></th>\n",
       "      <th></th>\n",
       "    </tr>\n",
       "  </thead>\n",
       "  <tbody>\n",
       "    <tr>\n",
       "      <th>Doc1</th>\n",
       "      <td>1</td>\n",
       "      <td>0</td>\n",
       "      <td>1</td>\n",
       "      <td>1</td>\n",
       "      <td>0</td>\n",
       "      <td>0</td>\n",
       "    </tr>\n",
       "    <tr>\n",
       "      <th>Doc2</th>\n",
       "      <td>0</td>\n",
       "      <td>1</td>\n",
       "      <td>0</td>\n",
       "      <td>1</td>\n",
       "      <td>0</td>\n",
       "      <td>1</td>\n",
       "    </tr>\n",
       "    <tr>\n",
       "      <th>Doc3</th>\n",
       "      <td>1</td>\n",
       "      <td>0</td>\n",
       "      <td>1</td>\n",
       "      <td>1</td>\n",
       "      <td>1</td>\n",
       "      <td>0</td>\n",
       "    </tr>\n",
       "    <tr>\n",
       "      <th>Doc4</th>\n",
       "      <td>0</td>\n",
       "      <td>1</td>\n",
       "      <td>1</td>\n",
       "      <td>0</td>\n",
       "      <td>1</td>\n",
       "      <td>1</td>\n",
       "    </tr>\n",
       "    <tr>\n",
       "      <th>Doc5</th>\n",
       "      <td>1</td>\n",
       "      <td>1</td>\n",
       "      <td>0</td>\n",
       "      <td>1</td>\n",
       "      <td>0</td>\n",
       "      <td>0</td>\n",
       "    </tr>\n",
       "    <tr>\n",
       "      <th>Doc6</th>\n",
       "      <td>1</td>\n",
       "      <td>1</td>\n",
       "      <td>0</td>\n",
       "      <td>1</td>\n",
       "      <td>1</td>\n",
       "      <td>1</td>\n",
       "    </tr>\n",
       "    <tr>\n",
       "      <th>Doc7</th>\n",
       "      <td>0</td>\n",
       "      <td>0</td>\n",
       "      <td>0</td>\n",
       "      <td>0</td>\n",
       "      <td>0</td>\n",
       "      <td>1</td>\n",
       "    </tr>\n",
       "    <tr>\n",
       "      <th>Doc8</th>\n",
       "      <td>0</td>\n",
       "      <td>0</td>\n",
       "      <td>1</td>\n",
       "      <td>1</td>\n",
       "      <td>1</td>\n",
       "      <td>0</td>\n",
       "    </tr>\n",
       "    <tr>\n",
       "      <th>Doc9</th>\n",
       "      <td>1</td>\n",
       "      <td>1</td>\n",
       "      <td>1</td>\n",
       "      <td>0</td>\n",
       "      <td>1</td>\n",
       "      <td>1</td>\n",
       "    </tr>\n",
       "    <tr>\n",
       "      <th>Doc10</th>\n",
       "      <td>1</td>\n",
       "      <td>0</td>\n",
       "      <td>0</td>\n",
       "      <td>1</td>\n",
       "      <td>1</td>\n",
       "      <td>0</td>\n",
       "    </tr>\n",
       "    <tr>\n",
       "      <th>Doc12</th>\n",
       "      <td>1</td>\n",
       "      <td>0</td>\n",
       "      <td>1</td>\n",
       "      <td>1</td>\n",
       "      <td>0</td>\n",
       "      <td>1</td>\n",
       "    </tr>\n",
       "  </tbody>\n",
       "</table>\n",
       "</div>"
      ],
      "text/plain": [
       "       T1  T2  T3  T4  T5  T6\n",
       "Index                        \n",
       "Doc1    1   0   1   1   0   0\n",
       "Doc2    0   1   0   1   0   1\n",
       "Doc3    1   0   1   1   1   0\n",
       "Doc4    0   1   1   0   1   1\n",
       "Doc5    1   1   0   1   0   0\n",
       "Doc6    1   1   0   1   1   1\n",
       "Doc7    0   0   0   0   0   1\n",
       "Doc8    0   0   1   1   1   0\n",
       "Doc9    1   1   1   0   1   1\n",
       "Doc10   1   0   0   1   1   0\n",
       "Doc12   1   0   1   1   0   1"
      ]
     },
     "execution_count": 584,
     "metadata": {},
     "output_type": "execute_result"
    }
   ],
   "source": [
    "# Construct a new dataframe with D12:\n",
    "\n",
    "D12 = {'Index' : pd.Series(('Doc1','Doc2','Doc3','Doc4','Doc5','Doc6','Doc7','Doc8','Doc9','Doc10','Doc12')),\n",
    "    'T1' : pd.Series((1,0,1,0,1,1,0,0,1,1,1)),\n",
    "     'T2' : pd.Series((0,1,0,1,1,1,0,0,1,0,0)),\n",
    "     'T3' : pd.Series((1,0,1,1,0,0,0,1,1,0,1)),\n",
    "     'T4' : pd.Series((1,1,1,0,1,1,0,1,0,1,1)),\n",
    "     'T5' : pd.Series((0,0,1,1,0,1,0,1,1,1,0)),\n",
    "     'T6' : pd.Series((0,1,0,1,0,1,1,0,1,0,1)),\n",
    "    }\n",
    "\n",
    "D12 = pd.DataFrame(D12,columns=['Index','T1','T2','T3','T4','T5','T6'])\n",
    "\n",
    "D12 = D12.set_index('Index')\n",
    "\n",
    "D12"
   ]
  },
  {
   "cell_type": "code",
   "execution_count": 585,
   "metadata": {
    "collapsed": true
   },
   "outputs": [],
   "source": [
    "TOTAL_SIMD12 = 0\n",
    "\n",
    "IndexD12 = pd.Series(('Doc1','Doc2','Doc3','Doc4','Doc5','Doc6','Doc7','Doc8','Doc9','Doc10','Doc12'))\n",
    "\n",
    "for i in IndexD12:\n",
    "    sim = (np.dot(Dstar,D12.loc[i]))/(LA.norm(Dstar)*LA.norm(D12.loc[i]))\n",
    "    TOTAL_SIMD12 += sim"
   ]
  },
  {
   "cell_type": "code",
   "execution_count": 586,
   "metadata": {},
   "outputs": [
    {
     "data": {
      "text/plain": [
       "array([ 0.75328237])"
      ]
     },
     "execution_count": 586,
     "metadata": {},
     "output_type": "execute_result"
    }
   ],
   "source": [
    "AVG_SIMD12 = TOTAL_SIMD12/len(D12)\n",
    "AVG_SIMD12"
   ]
  },
  {
   "cell_type": "code",
   "execution_count": 587,
   "metadata": {},
   "outputs": [
    {
     "data": {
      "text/plain": [
       "array([ 0.00681462])"
      ]
     },
     "execution_count": 587,
     "metadata": {},
     "output_type": "execute_result"
    }
   ],
   "source": [
    "DiscQd12 = AVG_SIMD12-AVG_SIM \n",
    "DiscQd12"
   ]
  },
  {
   "cell_type": "markdown",
   "metadata": {
    "collapsed": true
   },
   "source": [
    "## Based on the discriminants, should these documents be retrieved? Explain your answer."
   ]
  },
  {
   "cell_type": "markdown",
   "metadata": {
    "collapsed": true
   },
   "source": [
    "### The discriminant for document 11 is -0.01162529, so we could say it is a poor discriminant because it is negative and close to zero;  we should not retrieve it.\n",
    "\n",
    "### The discriminant for document 12 is 0.00681462, so we could say it is a good discriminant because it is positive and therefore we should  retrieve it. We should note, however, that we prefer discriminant values that are large and this one is somewhat close to zero.\n",
    "\n",
    "### A discriminant is considered good if the similarity among documents changes significantly when the discriminating term (or in this case document) is removed. Both of these documents, D11 and D12, do not change the average similarity much, so there is not a very strong reason for us to retrieve these documents."
   ]
  },
  {
   "cell_type": "code",
   "execution_count": null,
   "metadata": {
    "collapsed": true
   },
   "outputs": [],
   "source": []
  },
  {
   "cell_type": "code",
   "execution_count": null,
   "metadata": {
    "collapsed": true
   },
   "outputs": [],
   "source": []
  },
  {
   "cell_type": "code",
   "execution_count": null,
   "metadata": {
    "collapsed": true
   },
   "outputs": [],
   "source": []
  },
  {
   "cell_type": "markdown",
   "metadata": {},
   "source": [
    "### See word document for the answer to question #5"
   ]
  }
 ],
 "metadata": {
  "anaconda-cloud": {},
  "kernelspec": {
   "display_name": "Python 3",
   "language": "python",
   "name": "python3"
  },
  "language_info": {
   "codemirror_mode": {
    "name": "ipython",
    "version": 3
   },
   "file_extension": ".py",
   "mimetype": "text/x-python",
   "name": "python",
   "nbconvert_exporter": "python",
   "pygments_lexer": "ipython3",
   "version": "3.6.2"
  }
 },
 "nbformat": 4,
 "nbformat_minor": 1
}
