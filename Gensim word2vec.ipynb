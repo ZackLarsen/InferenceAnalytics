{
 "cells": [
  {
   "cell_type": "markdown",
   "metadata": {},
   "source": [
    "## Gensim word2vec"
   ]
  },
  {
   "cell_type": "code",
   "execution_count": 1,
   "metadata": {},
   "outputs": [],
   "source": [
    "from gensim.models import Word2Vec, Doc2Vec\n",
    "import pandas as pd\n",
    "from nltk.corpus import brown"
   ]
  },
  {
   "cell_type": "code",
   "execution_count": 2,
   "metadata": {},
   "outputs": [
    {
     "data": {
      "text/plain": [
       "['The',\n",
       " 'Fulton',\n",
       " 'County',\n",
       " 'Grand',\n",
       " 'Jury',\n",
       " 'said',\n",
       " 'Friday',\n",
       " 'an',\n",
       " 'investigation',\n",
       " 'of',\n",
       " \"Atlanta's\",\n",
       " 'recent',\n",
       " 'primary',\n",
       " 'election',\n",
       " 'produced',\n",
       " '``',\n",
       " 'no',\n",
       " 'evidence',\n",
       " \"''\",\n",
       " 'that',\n",
       " 'any',\n",
       " 'irregularities',\n",
       " 'took',\n",
       " 'place',\n",
       " '.']"
      ]
     },
     "execution_count": 2,
     "metadata": {},
     "output_type": "execute_result"
    }
   ],
   "source": [
    "sentences = brown.sents()\n",
    "sentences[0]  #print the first sentence"
   ]
  },
  {
   "cell_type": "code",
   "execution_count": 3,
   "metadata": {},
   "outputs": [
    {
     "data": {
      "text/plain": [
       "[['The', 'Fulton', 'County', 'Grand', 'Jury', 'said', 'Friday', 'an', 'investigation', 'of', \"Atlanta's\", 'recent', 'primary', 'election', 'produced', '``', 'no', 'evidence', \"''\", 'that', 'any', 'irregularities', 'took', 'place', '.'], ['The', 'jury', 'further', 'said', 'in', 'term-end', 'presentments', 'that', 'the', 'City', 'Executive', 'Committee', ',', 'which', 'had', 'over-all', 'charge', 'of', 'the', 'election', ',', '``', 'deserves', 'the', 'praise', 'and', 'thanks', 'of', 'the', 'City', 'of', 'Atlanta', \"''\", 'for', 'the', 'manner', 'in', 'which', 'the', 'election', 'was', 'conducted', '.'], ...]"
      ]
     },
     "execution_count": 3,
     "metadata": {},
     "output_type": "execute_result"
    }
   ],
   "source": [
    "sentences"
   ]
  },
  {
   "cell_type": "code",
   "execution_count": 4,
   "metadata": {},
   "outputs": [
    {
     "name": "stdout",
     "output_type": "stream",
     "text": [
      "Word2Vec(vocab=22339, size=100, alpha=0.025)\n"
     ]
    }
   ],
   "source": [
    "model = Word2Vec(sentences, min_count=3)\n",
    "print (model)  #summarize the trained model"
   ]
  },
  {
   "cell_type": "code",
   "execution_count": 11,
   "metadata": {},
   "outputs": [],
   "source": [
    "## Persist the model and continue training if needed\n",
    "model.save('W2Vmodel1')\n",
    "model = Word2Vec.load('W2Vmodel1')  # you can continue training with the loaded model!"
   ]
  },
  {
   "cell_type": "code",
   "execution_count": 12,
   "metadata": {},
   "outputs": [
    {
     "data": {
      "text/plain": [
       "<gensim.models.word2vec.Word2Vec at 0x1a2101aeb8>"
      ]
     },
     "execution_count": 12,
     "metadata": {},
     "output_type": "execute_result"
    }
   ],
   "source": [
    "model"
   ]
  },
  {
   "cell_type": "code",
   "execution_count": 15,
   "metadata": {},
   "outputs": [
    {
     "data": {
      "text/plain": [
       "array([ 0.09909686,  0.11256191,  0.0065127 ,  0.11787158, -0.03387783,\n",
       "        0.00373004,  0.04097994, -0.02098452,  0.0683244 ,  0.01597408,\n",
       "        0.05950522,  0.03985448, -0.0308543 , -0.02826721, -0.15299889,\n",
       "        0.12700324, -0.04052313, -0.03839499,  0.0861714 , -0.03372171,\n",
       "       -0.03739543,  0.02653291,  0.04893001,  0.06566288,  0.00058641,\n",
       "        0.04037955, -0.0317414 , -0.02996361, -0.05594557, -0.00909222,\n",
       "        0.03003291,  0.023886  ,  0.04061798, -0.02926397, -0.03322479,\n",
       "       -0.04410864, -0.04832047,  0.01578639,  0.01505527,  0.09204113,\n",
       "       -0.08841292,  0.00814913, -0.02465152, -0.01965728, -0.00977967,\n",
       "       -0.03006423, -0.04546833, -0.0232312 , -0.00545323, -0.08175636,\n",
       "       -0.12647815,  0.0272809 ,  0.07824725,  0.0618863 , -0.05272772,\n",
       "        0.0418057 ,  0.05020745,  0.05653262,  0.0913403 , -0.06063283,\n",
       "       -0.03444863,  0.08696602,  0.02025831,  0.03776477, -0.01370875,\n",
       "       -0.01531565, -0.02745861,  0.07653229,  0.11456486, -0.07120676,\n",
       "        0.02423341,  0.04609439,  0.06025646, -0.03930161, -0.01036727,\n",
       "        0.05869034,  0.13149507,  0.03442321,  0.00511336, -0.01946051,\n",
       "        0.01537419,  0.00024116, -0.08128183,  0.0718911 , -0.0902814 ,\n",
       "        0.06173183, -0.01423439, -0.04606124, -0.00067126, -0.02306352,\n",
       "       -0.02401507,  0.03028239, -0.02066034,  0.07704327,  0.01774411,\n",
       "       -0.00587944, -0.05198393, -0.05819109, -0.10027963, -0.12079107], dtype=float32)"
      ]
     },
     "execution_count": 15,
     "metadata": {},
     "output_type": "execute_result"
    }
   ],
   "source": [
    "model.wv['computer'] # numpy vector of a word"
   ]
  },
  {
   "cell_type": "code",
   "execution_count": 17,
   "metadata": {},
   "outputs": [
    {
     "data": {
      "text/plain": [
       "[('coronary', 1.2414741516113281),\n",
       " ('diluting', 1.2405221462249756),\n",
       " ('dipped', 1.2390168905258179),\n",
       " ('roaming', 1.2378075122833252),\n",
       " ('beneath', 1.2374861240386963),\n",
       " ('Pacific', 1.2362805604934692),\n",
       " ('covering', 1.2344872951507568),\n",
       " ('hilar', 1.2344363927841187),\n",
       " ('completion', 1.2344108819961548),\n",
       " ('demons', 1.233255386352539)]"
      ]
     },
     "execution_count": 17,
     "metadata": {},
     "output_type": "execute_result"
    }
   ],
   "source": [
    "model.wv.most_similar(positive=['woman', 'king'], negative=['man'])\n",
    "\n",
    "# With cosine multiplication as in Yoav Goldberg's 2014 paper\n",
    "model.wv.most_similar_cosmul(positive=['woman', 'king'], negative=['man'])"
   ]
  },
  {
   "cell_type": "code",
   "execution_count": null,
   "metadata": {},
   "outputs": [],
   "source": []
  },
  {
   "cell_type": "code",
   "execution_count": null,
   "metadata": {},
   "outputs": [],
   "source": []
  },
  {
   "cell_type": "code",
   "execution_count": null,
   "metadata": {},
   "outputs": [],
   "source": []
  },
  {
   "cell_type": "code",
   "execution_count": null,
   "metadata": {},
   "outputs": [],
   "source": []
  },
  {
   "cell_type": "code",
   "execution_count": null,
   "metadata": {},
   "outputs": [],
   "source": []
  },
  {
   "cell_type": "code",
   "execution_count": null,
   "metadata": {},
   "outputs": [],
   "source": []
  },
  {
   "cell_type": "code",
   "execution_count": null,
   "metadata": {},
   "outputs": [],
   "source": []
  },
  {
   "cell_type": "code",
   "execution_count": null,
   "metadata": {},
   "outputs": [],
   "source": []
  },
  {
   "cell_type": "code",
   "execution_count": null,
   "metadata": {},
   "outputs": [],
   "source": []
  }
 ],
 "metadata": {
  "kernelspec": {
   "display_name": "Python 3",
   "language": "python",
   "name": "python3"
  },
  "language_info": {
   "codemirror_mode": {
    "name": "ipython",
    "version": 3
   },
   "file_extension": ".py",
   "mimetype": "text/x-python",
   "name": "python",
   "nbconvert_exporter": "python",
   "pygments_lexer": "ipython3",
   "version": "3.5.4"
  }
 },
 "nbformat": 4,
 "nbformat_minor": 2
}
