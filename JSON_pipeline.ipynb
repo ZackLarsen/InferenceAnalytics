{
 "cells": [
  {
   "cell_type": "code",
   "execution_count": 2,
   "metadata": {},
   "outputs": [],
   "source": [
    "from IPython.core.interactiveshell import InteractiveShell\n",
    "InteractiveShell.ast_node_interactivity = \"all\"\n",
    "%config InlineBackend.figure_format = 'retina'\n",
    "\n",
    "import pandas as pd\n",
    "pd.options.display.max_colwidth = 20\n",
    "import numpy as np\n",
    "import os\n",
    "\n",
    "from nltk.corpus import stopwords as sw\n",
    "from nltk.corpus import wordnet as wn\n",
    "from nltk import wordpunct_tokenize\n",
    "from nltk import WordNetLemmatizer\n",
    "from nltk import sent_tokenize\n",
    "from nltk import pos_tag\n",
    "\n",
    "from sklearn.feature_extraction.text import TfidfVectorizer\n",
    "from sklearn.preprocessing import StandardScaler\n",
    "from sklearn.model_selection import train_test_split, GridSearchCV\n",
    "from sklearn.decomposition import PCA\n",
    "from sklearn.svm import SVC\n",
    "from sklearn.pipeline import Pipeline\n",
    "from sklearn.metrics import confusion_matrix, classification_report\n",
    "from sklearn.naive_bayes import BernoulliNB, MultinomialNB, GaussianNB\n",
    "\n",
    "from imblearn.pipeline import make_pipeline\n",
    "from imblearn.over_sampling import SMOTE, RandomOverSampler\n",
    "from imblearn.combine import SMOTEENN, SMOTETomek\n",
    "\n",
    "from collections import Counter"
   ]
  },
  {
   "cell_type": "code",
   "execution_count": 3,
   "metadata": {},
   "outputs": [
    {
     "data": {
      "text/plain": [
       "'/Users/zacklarsen/Dropbox (Inference Analytics)/Inference Analytics Team Folder/Zack Work'"
      ]
     },
     "execution_count": 3,
     "metadata": {},
     "output_type": "execute_result"
    }
   ],
   "source": [
    "pwd"
   ]
  },
  {
   "cell_type": "code",
   "execution_count": 4,
   "metadata": {},
   "outputs": [],
   "source": [
    "os.chdir('/Users/zacklarsen/Desktop/')\n",
    "Chats2 = pd.read_csv('Chats2.csv',dtype={'ChatID': np.int64, 'Text': str, 'Expert label (1=design,2=integration,3=transaction)':np.int32},nrows=80)\n",
    "Chats = Chats2.head(80)"
   ]
  },
  {
   "cell_type": "code",
   "execution_count": 5,
   "metadata": {},
   "outputs": [
    {
     "data": {
      "text/html": [
       "<div>\n",
       "<style scoped>\n",
       "    .dataframe tbody tr th:only-of-type {\n",
       "        vertical-align: middle;\n",
       "    }\n",
       "\n",
       "    .dataframe tbody tr th {\n",
       "        vertical-align: top;\n",
       "    }\n",
       "\n",
       "    .dataframe thead th {\n",
       "        text-align: right;\n",
       "    }\n",
       "</style>\n",
       "<table border=\"1\" class=\"dataframe\">\n",
       "  <thead>\n",
       "    <tr style=\"text-align: right;\">\n",
       "      <th></th>\n",
       "      <th>ChatID</th>\n",
       "      <th>Text</th>\n",
       "      <th>Expert label (1=design,2=integration,3=transaction)</th>\n",
       "    </tr>\n",
       "  </thead>\n",
       "  <tbody>\n",
       "    <tr>\n",
       "      <th>75</th>\n",
       "      <td>447518000000000000</td>\n",
       "      <td>Hello, my name i...</td>\n",
       "      <td>2</td>\n",
       "    </tr>\n",
       "    <tr>\n",
       "      <th>76</th>\n",
       "      <td>447518000000000000</td>\n",
       "      <td>Hello, my name i...</td>\n",
       "      <td>4</td>\n",
       "    </tr>\n",
       "    <tr>\n",
       "      <th>77</th>\n",
       "      <td>447518000000000000</td>\n",
       "      <td>Hello, my name i...</td>\n",
       "      <td>4</td>\n",
       "    </tr>\n",
       "    <tr>\n",
       "      <th>78</th>\n",
       "      <td>447518000000000000</td>\n",
       "      <td>Hello, my name i...</td>\n",
       "      <td>4</td>\n",
       "    </tr>\n",
       "    <tr>\n",
       "      <th>79</th>\n",
       "      <td>447518000000000000</td>\n",
       "      <td>\\r\\rHello, my na...</td>\n",
       "      <td>2</td>\n",
       "    </tr>\n",
       "  </tbody>\n",
       "</table>\n",
       "</div>"
      ],
      "text/plain": [
       "                ChatID                 Text  \\\n",
       "75  447518000000000000  Hello, my name i...   \n",
       "76  447518000000000000  Hello, my name i...   \n",
       "77  447518000000000000  Hello, my name i...   \n",
       "78  447518000000000000  Hello, my name i...   \n",
       "79  447518000000000000  \\r\\rHello, my na...   \n",
       "\n",
       "    Expert label (1=design,2=integration,3=transaction)  \n",
       "75                    2                                  \n",
       "76                    4                                  \n",
       "77                    4                                  \n",
       "78                    4                                  \n",
       "79                    2                                  "
      ]
     },
     "execution_count": 5,
     "metadata": {},
     "output_type": "execute_result"
    }
   ],
   "source": [
    "Chats.tail()"
   ]
  },
  {
   "cell_type": "code",
   "execution_count": 6,
   "metadata": {},
   "outputs": [
    {
     "data": {
      "text/plain": [
       "'Under Specifications,Hello, my name is Carol, how may I help you?,What is FSO? Full Scale,FSO&nbsp; Full Scale Output.,Ok Thanks,Thanks for contacting us. Please do not hesitate to contact us again if we can be of further assistance.'"
      ]
     },
     "execution_count": 6,
     "metadata": {},
     "output_type": "execute_result"
    }
   ],
   "source": [
    "Chats['Text'][70]"
   ]
  },
  {
   "cell_type": "code",
   "execution_count": 7,
   "metadata": {},
   "outputs": [
    {
     "data": {
      "text/plain": [
       "447518000000000000"
      ]
     },
     "execution_count": 7,
     "metadata": {},
     "output_type": "execute_result"
    }
   ],
   "source": [
    "Chats['ChatID'][70]"
   ]
  },
  {
   "cell_type": "code",
   "execution_count": 8,
   "metadata": {},
   "outputs": [
    {
     "data": {
      "text/plain": [
       "{447517000000000000: 'Yes, how may I help you sir?,i want a digital flow meter for gases of 100 lpm-200lpm with having datalogging,kindly hold on while I do a check,by the way,, what is the fluid type?,sorry which type of gas?,air,ambient air,you will need a separate data logger to the flow meter,http://sea.omega.com/sg/pptst/FMA-LP2600A.html&nbsp;contain a meter with 4-20mA output,Kindly review to see if it is suitable for your application.,http://in.omega.com/pptst/OM-CP-PROCESS101A.html&nbsp;is the datalogger for your review as well,it is a full setup i want a handheld digital flow meter, it would be better if their exists datalogging option,Kindly hold on sir, I currently have 3 lines running.,Hi Mr Sanjay, we will sent the information to your email once we get the product suitable to your requirement.,ok. thanks.please do needful. ASAP.,Will do that . thanks',\n",
       " 447518000000000000: \"\\r\\rHello, my name is Chet, how may I help you?,Hi Chet,,I am using your wtt-6-24-tt and need to change from one probe to anther.  I only have one controller and need to switch between two probes.  Do you have any connectors that can do this?,sure,Get 2 of the SMPW-K-M. Get 1 of TECT10-13.,Sorry&nbsp;that was supposed to be &nbsp;SMPW-T-M.,TECT10-13 has a female SMPW for Type T on one end and stripped leads to connect to your controller on the other end.,Then you attach each of the SMPW-T-M connectors to your WTT-6-24-TT.,i can not find the tect10-13 as you describe it,please do a search for that part number and you will see what i mean,We don't have picture of that version because there are 72 different versions of these cables http://www.omega.com/pptst/TEC_REC_GEC.html,So if I place an order for the tect10-13 it will come with flying leads on one end and the mating connector for the smpw-t-m?  Also, there is no price listed for the tech10-13.  How much does it cost and are these parts in stock?,http://www.omega.com/search/esearch.asp?section=findpnredir&amp;start=1&amp;searchbyp=yes&amp;search=TECT10-13,http://www.omega.com/search/esearch.asp?section=findpn&amp;start=1&amp;search=SMPW-T-M,Thanks,\\r\\rThank you for contacting OMEGA Engineering. Have a great day and feel free to contact us again, should you need further assistance.\"}"
      ]
     },
     "execution_count": 8,
     "metadata": {},
     "output_type": "execute_result"
    }
   ],
   "source": [
    "# ## Create a dictionary of customerID,description pairs\n",
    "token_dict = pd.Series(Chats['Text'].values,index=Chats['ChatID']).to_dict()\n",
    "token_dict\n",
    "\n",
    "# ## Print first n (key,value) pairs in dictionary\n",
    "#n = 3\n",
    "#keys = sorted(token_dict.keys())\n",
    "#{k: token_dict[k] for k in keys[:n]}"
   ]
  },
  {
   "cell_type": "code",
   "execution_count": 9,
   "metadata": {},
   "outputs": [],
   "source": [
    "# Use line below for just unigrams\n",
    "#v = TfidfVectorizer()\n",
    "\n",
    "# Use line below for unigrams, bigrams, and trigrams\n",
    "v = TfidfVectorizer(ngram_range=(2,3))  \n",
    "\n",
    "\n",
    "\n",
    "X = v.fit_transform(Chats['Text']).toarray()\n",
    "\n",
    "convoDF = pd.DataFrame() # Initialize new DF\n",
    "\n",
    "for i, col in enumerate(v.get_feature_names()):\n",
    "    convoDF[col] = X[:, i]"
   ]
  },
  {
   "cell_type": "code",
   "execution_count": 10,
   "metadata": {},
   "outputs": [
    {
     "data": {
      "text/html": [
       "<div>\n",
       "<style scoped>\n",
       "    .dataframe tbody tr th:only-of-type {\n",
       "        vertical-align: middle;\n",
       "    }\n",
       "\n",
       "    .dataframe tbody tr th {\n",
       "        vertical-align: top;\n",
       "    }\n",
       "\n",
       "    .dataframe thead th {\n",
       "        text-align: right;\n",
       "    }\n",
       "</style>\n",
       "<table border=\"1\" class=\"dataframe\">\n",
       "  <thead>\n",
       "    <tr style=\"text-align: right;\">\n",
       "      <th></th>\n",
       "      <th>00 each</th>\n",
       "      <th>00 each with</th>\n",
       "      <th>00 indent</th>\n",
       "      <th>00 indent about</th>\n",
       "      <th>00 iserver</th>\n",
       "      <th>00 iserver bar</th>\n",
       "      <th>00 lbs</th>\n",
       "      <th>00 lbs found</th>\n",
       "      <th>00 ok</th>\n",
       "      <th>00 ok thanks</th>\n",
       "      <th>...</th>\n",
       "      <th>âºâ hold</th>\n",
       "      <th>âºâ hold on</th>\n",
       "      <th>â½ hour</th>\n",
       "      <th>â½ hour thank</th>\n",
       "      <th>œdoor openâ</th>\n",
       "      <th>œdoor openâ press</th>\n",
       "      <th>œreset data</th>\n",
       "      <th>œreset data press</th>\n",
       "      <th>œyes now</th>\n",
       "      <th>œyes now your</th>\n",
       "    </tr>\n",
       "  </thead>\n",
       "  <tbody>\n",
       "    <tr>\n",
       "      <th>0</th>\n",
       "      <td>0.0</td>\n",
       "      <td>0.0</td>\n",
       "      <td>0.0</td>\n",
       "      <td>0.0</td>\n",
       "      <td>0.0</td>\n",
       "      <td>0.0</td>\n",
       "      <td>0.0</td>\n",
       "      <td>0.0</td>\n",
       "      <td>0.0</td>\n",
       "      <td>0.0</td>\n",
       "      <td>...</td>\n",
       "      <td>0.0</td>\n",
       "      <td>0.0</td>\n",
       "      <td>0.0</td>\n",
       "      <td>0.0</td>\n",
       "      <td>0.0</td>\n",
       "      <td>0.0</td>\n",
       "      <td>0.0</td>\n",
       "      <td>0.0</td>\n",
       "      <td>0.0</td>\n",
       "      <td>0.0</td>\n",
       "    </tr>\n",
       "    <tr>\n",
       "      <th>1</th>\n",
       "      <td>0.0</td>\n",
       "      <td>0.0</td>\n",
       "      <td>0.0</td>\n",
       "      <td>0.0</td>\n",
       "      <td>0.0</td>\n",
       "      <td>0.0</td>\n",
       "      <td>0.0</td>\n",
       "      <td>0.0</td>\n",
       "      <td>0.0</td>\n",
       "      <td>0.0</td>\n",
       "      <td>...</td>\n",
       "      <td>0.0</td>\n",
       "      <td>0.0</td>\n",
       "      <td>0.0</td>\n",
       "      <td>0.0</td>\n",
       "      <td>0.0</td>\n",
       "      <td>0.0</td>\n",
       "      <td>0.0</td>\n",
       "      <td>0.0</td>\n",
       "      <td>0.0</td>\n",
       "      <td>0.0</td>\n",
       "    </tr>\n",
       "    <tr>\n",
       "      <th>2</th>\n",
       "      <td>0.0</td>\n",
       "      <td>0.0</td>\n",
       "      <td>0.0</td>\n",
       "      <td>0.0</td>\n",
       "      <td>0.0</td>\n",
       "      <td>0.0</td>\n",
       "      <td>0.0</td>\n",
       "      <td>0.0</td>\n",
       "      <td>0.0</td>\n",
       "      <td>0.0</td>\n",
       "      <td>...</td>\n",
       "      <td>0.0</td>\n",
       "      <td>0.0</td>\n",
       "      <td>0.0</td>\n",
       "      <td>0.0</td>\n",
       "      <td>0.0</td>\n",
       "      <td>0.0</td>\n",
       "      <td>0.0</td>\n",
       "      <td>0.0</td>\n",
       "      <td>0.0</td>\n",
       "      <td>0.0</td>\n",
       "    </tr>\n",
       "    <tr>\n",
       "      <th>3</th>\n",
       "      <td>0.0</td>\n",
       "      <td>0.0</td>\n",
       "      <td>0.0</td>\n",
       "      <td>0.0</td>\n",
       "      <td>0.0</td>\n",
       "      <td>0.0</td>\n",
       "      <td>0.0</td>\n",
       "      <td>0.0</td>\n",
       "      <td>0.0</td>\n",
       "      <td>0.0</td>\n",
       "      <td>...</td>\n",
       "      <td>0.0</td>\n",
       "      <td>0.0</td>\n",
       "      <td>0.0</td>\n",
       "      <td>0.0</td>\n",
       "      <td>0.0</td>\n",
       "      <td>0.0</td>\n",
       "      <td>0.0</td>\n",
       "      <td>0.0</td>\n",
       "      <td>0.0</td>\n",
       "      <td>0.0</td>\n",
       "    </tr>\n",
       "    <tr>\n",
       "      <th>4</th>\n",
       "      <td>0.0</td>\n",
       "      <td>0.0</td>\n",
       "      <td>0.0</td>\n",
       "      <td>0.0</td>\n",
       "      <td>0.0</td>\n",
       "      <td>0.0</td>\n",
       "      <td>0.0</td>\n",
       "      <td>0.0</td>\n",
       "      <td>0.0</td>\n",
       "      <td>0.0</td>\n",
       "      <td>...</td>\n",
       "      <td>0.0</td>\n",
       "      <td>0.0</td>\n",
       "      <td>0.0</td>\n",
       "      <td>0.0</td>\n",
       "      <td>0.0</td>\n",
       "      <td>0.0</td>\n",
       "      <td>0.0</td>\n",
       "      <td>0.0</td>\n",
       "      <td>0.0</td>\n",
       "      <td>0.0</td>\n",
       "    </tr>\n",
       "  </tbody>\n",
       "</table>\n",
       "<p>5 rows × 18712 columns</p>\n",
       "</div>"
      ],
      "text/plain": [
       "   00 each  00 each with  00 indent  00 indent about  00 iserver  \\\n",
       "0      0.0           0.0        0.0              0.0         0.0   \n",
       "1      0.0           0.0        0.0              0.0         0.0   \n",
       "2      0.0           0.0        0.0              0.0         0.0   \n",
       "3      0.0           0.0        0.0              0.0         0.0   \n",
       "4      0.0           0.0        0.0              0.0         0.0   \n",
       "\n",
       "   00 iserver bar  00 lbs  00 lbs found  00 ok  00 ok thanks      ...        \\\n",
       "0             0.0     0.0           0.0    0.0           0.0      ...         \n",
       "1             0.0     0.0           0.0    0.0           0.0      ...         \n",
       "2             0.0     0.0           0.0    0.0           0.0      ...         \n",
       "3             0.0     0.0           0.0    0.0           0.0      ...         \n",
       "4             0.0     0.0           0.0    0.0           0.0      ...         \n",
       "\n",
       "   âºâ hold  âºâ hold on  â½ hour  â½ hour thank  œdoor openâ  \\\n",
       "0       0.0          0.0      0.0            0.0          0.0   \n",
       "1       0.0          0.0      0.0            0.0          0.0   \n",
       "2       0.0          0.0      0.0            0.0          0.0   \n",
       "3       0.0          0.0      0.0            0.0          0.0   \n",
       "4       0.0          0.0      0.0            0.0          0.0   \n",
       "\n",
       "   œdoor openâ press  œreset data  œreset data press  œyes now  œyes now your  \n",
       "0                0.0          0.0                0.0       0.0            0.0  \n",
       "1                0.0          0.0                0.0       0.0            0.0  \n",
       "2                0.0          0.0                0.0       0.0            0.0  \n",
       "3                0.0          0.0                0.0       0.0            0.0  \n",
       "4                0.0          0.0                0.0       0.0            0.0  \n",
       "\n",
       "[5 rows x 18712 columns]"
      ]
     },
     "execution_count": 10,
     "metadata": {},
     "output_type": "execute_result"
    }
   ],
   "source": [
    "convoDF.head()"
   ]
  },
  {
   "cell_type": "code",
   "execution_count": 11,
   "metadata": {},
   "outputs": [
    {
     "data": {
      "text/plain": [
       "array(['00 each', '00 each with', '00 indent', '00 indent about',\n",
       "       '00 iserver', '00 iserver bar', '00 lbs', '00 lbs found', '00 ok',\n",
       "       '00 ok thanks', '00 please', '00 please hold', '00 reference',\n",
       "       '00 reference number', '016vdc all', '016vdc all right', '03 14',\n",
       "       '03 14 probably', '03 17', '03 17 2016', '03 24', '03 24 omega',\n",
       "       '03 25', '03 25 03', '034volts when', '034volts when just', '04 16',\n",
       "       '04 16 but', '04 16 shipment', '04 16 the', '06 03', '06 03 14',\n",
       "       '07 5gpm', '07 5gpm 26lpm', '078 ok', '078 ok what', '08 am',\n",
       "       '08 am created', '08 am this', '0800 488', '0800 488 488',\n",
       "       '087 2574', '087 2574 078', '0lpm 2lpm', '0lpm 2lpm hi', '10 51',\n",
       "       '10 51 08', '10 bar', '10 bar please', '10 cm', '10 cm length',\n",
       "       '10 for', '10 for that', '10 in', '10 in stock', '10 is',\n",
       "       '10 is bit', '10 oily', '10 oily product', '100 hi', '100 hi ben',\n",
       "       '100 lpm', '100 lpm 200lpm', '100 psi', '100 psi pressure',\n",
       "       '100 when', '100 when click', '1000 ft', '1000 ft one', '1000 roll',\n",
       "       '1000 roll is', '103 this', '103 this is', '105 watt',\n",
       "       '105 watt with', '10lpm yes', '10lpm yes we', '10psi flow',\n",
       "       '10psi flow rate', '10v pdf', '10v pdf do', '11 34', '11 34 tall',\n",
       "       '110 pdf', '110 pdf that', '111 12d', '111 12d ahs', '111 with',\n",
       "       '111 with npt', '114119 will', '114119 will check', '115vac 152',\n",
       "       '115vac 152 178', '12 2008', '12 2008 10', '12 34', '12 34 can',\n",
       "       '12 cp', '12 cp thanks', '12 deep', '12 deep to', '12 dual',\n",
       "       '12 dual nbsp', '12 in', '12 in stock', '12 length',\n",
       "       '12 length nb1', '12 lenth', '12 lenth one', '12 long',\n",
       "       '12 long probe', '12 nbsp', '12 nbsp yes', '12 number',\n",
       "       '12 number identify', '12 per', '12 per http', '12 style',\n",
       "       '12 style these', '12 weeks', '12 weeks you', '120 pdf',\n",
       "       '120 pdf will', '1200 mv', '1200 mv you', '120v 28a',\n",
       "       '120v 28a would', '120v heater', '120v heater qty', '120v the',\n",
       "       '120v the relay', '121 24d', '121 24d http', '125 is', '125 is 54',\n",
       "       '125 wire', '125 wire nickel', '12d ahs', '12d ahs 12vdc',\n",
       "       '12v coil', '12v coil and', '12v coil no', '12vdc and',\n",
       "       '12vdc and 24vdc', '12vdc as', '12vdc as excitation', '12vdc at',\n",
       "       '12vdc at the', '12vdc coil', '12vdc coil would', '12vdc or',\n",
       "       '12vdc or 24vdc', '12vdc will', '12vdc will any', '13 as',\n",
       "       '13 as you', '13 has', '13 has female', '13 how', '13 how much',\n",
       "       '13 http', '13 http www', '13 it', '13 it will', '13 sorry',\n",
       "       '13 sorry nbsp', '130 and', '130 and 137', '130 mv', '130 mv to',\n",
       "       '1311 http', '1311 http www', '1318 turbine', '1318 turbine flow',\n",
       "       '134 mv', '134 mv not', '137 mv', '137 mv ok', '14 14',\n",
       "       '14 14 gauge', '14 34', '14 34 cable', '14 500', '14 500 is',\n",
       "       '14 gauge', '14 gauge silica', '14 is', '14 is not', '14 probably',\n",
       "       '14 probably out', '14 ur', '14 ur distibutor', '14 xs', '14 xs 14',\n",
       "       '1405 nbsp', '1405 nbsp and', '145t 3456', '145t 3456 good',\n",
       "       '14awg is', '14awg is 6mm', '14u 12', '14u 12 dual', '14u 12 style',\n",
       "       '14u tbsl', '14u tbsl 260s', '15 16', '15 16 and', '15 16 it',\n",
       "       '15 can', '15 can you', '15 hello', '15 hello marcin', '152 178',\n",
       "       '152 178 mm', '15m is', '15m is 239', '16 34', '16 34 tubing',\n",
       "       '16 and', '16 and for', '16 but', '16 but want', '16 by',\n",
       "       '16 by xinyu', '16 do', '16 do not', '16 inch', '16 inch nbsp',\n",
       "       '16 it', '16 it was', '16 let', '16 let me', '16 od', '16 od 16',\n",
       "       '16 shipment', '16 shipment date', '16 the', '16 the complete',\n",
       "       '16 the only', '1600 psi', '1600 psi of', '161 484', '161 484 6504',\n",
       "       '1650 to', '1650 to 2000', '1660 ct',\n",
       "       '1660 ct 24692166084000101916766', '169 41', '169 41 15m', '17 16',\n",
       "       '17 16 by', '17 2016', '17 2016 need', '178 mm', '178 mm 105',\n",
       "       '180 bã', '180 bã âºâ', '1800 25', '1800 25 you', '1868946 applied',\n",
       "       '1868946 applied load', '1869129 nbsp', '1869129 nbsp one',\n",
       "       '18u 12', '18u 12 in', '18u 24', '18u 24 this', '18u cc',\n",
       "       '18u cc sb', '19lpm the', '19lpm the range', '20 30', '20 30 units',\n",
       "       '20 channels', '20 channels of', '20 different',\n",
       "       '20 different inks', '20 flowmeters', '20 flowmeters qty', '20 ma',\n",
       "       '20 ma ok', '20 separate', '20 separate line', '20 signal',\n",
       "       '20 signal conditioners', '200 but', '200 but this', '2000 are',\n",
       "       '2000 are you', '2008 10', '2008 10 51', '200lpm with',\n",
       "       '200lpm with having', '201 50', '201 50 load', '2016 need',\n",
       "       '2016 need an', '203 359', '203 359 1660', '20el2008ssstcan you',\n",
       "       '20el2008ssstcan you leave', '20ma for', '20ma for the',\n",
       "       '20ma inputs', '20ma inputs and', '20ma inputs for',\n",
       "       '20ma inputs http', '20ma output', '20ma output add',\n",
       "       '20ma output adder', '20ma output do', '20ma output kindly',\n",
       "       '20ma the', '20ma the idrn', '20p20 please', '20p20 please we',\n",
       "       '21 please', '21 please hold', '21 we', '21 we do', '2123 120v',\n",
       "       '2123 120v heater', '22 04', '22 04 16', '2206 thank',\n",
       "       '2206 thank you', '2378 ask', '2378 ask for', '239 86',\n",
       "       '239 86 lead', '24 34', '24 34 length', '24 34 tc', '24 omega',\n",
       "       '24 omega engineering', '24 this', '24 this is', '24 tt',\n",
       "       '24 tt and', '24 tt can', '24 vdc', '24 vdc coil', '2400 data',\n",
       "       '2400 data acquisition', '24692166084000101916766 5085',\n",
       "       '24692166084000101916766 5085 961',\n",
       "       '24692166084000101916766 amount',\n",
       "       '24692166084000101916766 amount 961', '24d http', '24d http www',\n",
       "       '24vdc are', '24vdc are both', '24vdc to', '24vdc to power',\n",
       "       '24vdc when', '24vdc when both', '25 03', '25 03 24', '25 34',\n",
       "       '25 34 and', '25 you', '25 you can', '25147 and', '25147 and po',\n",
       "       '25162 rma', '25162 rma c22261', '2574 078', '2574 078 ok',\n",
       "       '25mm boosted', '25mm boosted water', '260s and', '260s and head',\n",
       "       '260s u21', '260s u21 304ss', '26a5t is', '26a5t is this',\n",
       "       '26lpm 19lpm', '26lpm 19lpm the', '280 they', '280 they only',\n",
       "       '2805 lead', '2805 lead time', '28a would', '28a would use',\n",
       "       '2a nema', '2a nema m12', '2d drawing', '2d drawing where', '2d or',\n",
       "       '2d or 3d', '2dj 2ds', '2dj 2ds try', '2ds try', '2ds try this',\n",
       "       '2l min', '2l min may', '2lpm hi', '2lpm hi mr', '30 mm',\n",
       "       '30 mm live', '30 on', '30 on the', '30 psi', '30 psi thank',\n",
       "       '30 units', '30 units per', '30 volts', '30 volts for',\n",
       "       '3000psi with', '3000psi with 12v', '304ss http', '304ss http www',\n",
       "       '30v ok', '30v ok that', '30vac5v so', '30vac5v so have', '31 50',\n",
       "       '31 50 115vac', '313 34', '313 34 we', '316 rtd', '316 rtd 4w',\n",
       "       '316 ss', '316 ss unfortuntely', '316g rsc', '316g rsc that',\n",
       "       '3200 san', '3200 san marcos', '33 feet', '33 feet ok', '34 00',\n",
       "       '34 00 each', '34 and', '34 and the', '34 bar', '34 bar okay',\n",
       "       '34 bar showing', '34 cable', '34 cable in', '34 can',\n",
       "       '34 can work', '34 change', '34 change the', '34 copper',\n",
       "       '34 copper hot', '34 copper pipe', '34 dia', '34 dia sheath',\n",
       "       '34 doubt', '34 doubt that', '34 inch', '34 inch is', '34 it',\n",
       "       '34 it can', '34 length', '34 length black', '34 length round',\n",
       "       '34 npt', '34 npt end', '34 pipe', '34 pipe you', '34 please',\n",
       "       '34 please part', '34 probe', '34 probe can', '34 probe in',\n",
       "       '34 stainless', '34 stainless steel', '34 tall', '34 tall and',\n",
       "       '34 tall which', '34 tc', '34 tc can', '34 that', '34 that it',\n",
       "       '34 there', '34 there is', '34 tri', '34 tri clamp', '34 tubing',\n",
       "       '34 tubing support', '34 we', '34 we bent', '34 what', '34 what do',\n",
       "       '34 xc', '34 xc 14', '3456 good', '3456 good morning', '353 087',\n",
       "       '353 087 2574', '359 1660', '359 1660 ct', '3800 fhmiller',\n",
       "       '3800 fhmiller astrolab', '385s can', '385s can show', '3d cad',\n",
       "       '3d cad models', '3d model', '3d model of', '3d models',\n",
       "       '3d models of', '40 html', '40 html but', '40 is', '40 is the',\n",
       "       '408667 and', '408667 and they', '40mm roughly',\n",
       "       '40mm roughly these', '40ms what', '40ms what is', '41 15m',\n",
       "       '41 15m is', '44 161', '44 161 484', '44 7879558138',\n",
       "       '44 7879558138 tel', '45c to', '45c to 10psi', '47 is', '47 is the',\n",
       "       '484 6504', '484 6504 ok', '488 488', '488 488 thank', '488 thank',\n",
       "       '488 thank you', '4id 45c', '4id 45c to', '4w mo', '4w mo 125',\n",
       "       '50 115vac', '50 115vac 152', '50 load', '50 load cell', '500 00',\n",
       "       '500 00 lbs', '500 1000', '500 1000 ft', '500 is', '500 is 1405',\n",
       "       '500 ml', '500 ml per', '500 need', '500 need to', '500 went',\n",
       "       '500 went through', '500 what', '500 what is', '505 10',\n",
       "       '505 10 in', '505 from', '505 from uk', '505 w2', '505 w2 moment',\n",
       "       '5085 961', '5085 961 00', '51 08', '51 08 am', '5201 34',\n",
       "       '5201 34 that', '5201 fp', '5201 fp 5225', '5201 in',\n",
       "       '5201 in this', '5201 you', '5201 you will', '5202 stainless',\n",
       "       '5202 stainless steel', '5202 yes', '5202 yes that', '5225 idrn',\n",
       "       '5225 idrn fp', '5225 require', '5225 require fitting',\n",
       "       '5310 thanks', '5310 thanks for', '54 per', '54 per foot',\n",
       "       '560 3800', '560 3800 fhmiller', '5a 180', '5a 180 bã',\n",
       "       '5gpm 26lpm', '5gpm 26lpm 19lpm', '5lpm hi', '5lpm hi mr', '5m and',\n",
       "       '5m and 15', '5m is', '5m is 169', '5mv both', '5mv both of',\n",
       "       '5mv is', '5mv is mv', '5v output', '5v output model',\n",
       "       '5v output right', '5v output so', '5vdc rated',\n",
       "       '5vdc rated output', '5voltage out', '5voltage out put', '600 and',\n",
       "       '600 and circulation', '600 wire', '600 wire around', '600 wire to',\n",
       "       '603 731', '603 731 5310', '607 none', '607 none in', '607 star',\n",
       "       '607 star in', '611 excitation', '611 excitation 5vdc', '622 2378',\n",
       "       '622 2378 ask', '625 00', '625 00 indent', '625 hastelloy',\n",
       "       '625 hastelloy and', '6342 ex', '6342 ex 2206', '6349 03',\n",
       "       '6349 03 17', '640 00', '640 00 iserver', '64818 year',\n",
       "       '64818 year warranty', '6504 ok', '6504 ok will', '6he england',\n",
       "       '6he england mobile', '6j4ez the', '6j4ez the connector',\n",
       "       '6mm diameter', '6mm diameter great', '7035 500', '7035 500 need',\n",
       "       '72 and', '72 and it', '72 different', '72 different versions',\n",
       "       '72 is', '72 is the', '72 mpt', '72 mpt ht', '72 nbsp',\n",
       "       '72 nbsp using', '72 that', '72 that is', '731 5310',\n",
       "       '731 5310 thanks', '732 560', '732 560 3800', '75 http',\n",
       "       '75 http www', '750 the', '750 the rd2', '7879558138 tel',\n",
       "       '7879558138 tel 44', '7th of', '7th of april', '800 622',\n",
       "       '800 622 2378', '800 826', '800 826 6342', '826 6342',\n",
       "       '826 6342 ex', '85225 that', '85225 that is', '86 00', '86 00 ok',\n",
       "       '86 lead', '86 lead time', '8ly thanks', '8ly thanks will',\n",
       "       '961 00', '961 00 please', '961 00 reference', 'a3 display',\n",
       "       'a3 display with', 'a3 for', 'a3 for the', 'a3 hi', 'a3 hi mr',\n",
       "       'aaron mellor', 'aaron mellor jv', 'able to', 'able to advise',\n",
       "       'able to attach', 'able to data', 'able to do', 'able to log',\n",
       "       'able to send', 'able to use', 'about 11', 'about 11 34',\n",
       "       'about 30', 'about 30 on', 'about 34', 'about 34 tall',\n",
       "       'about another', 'about another heater', 'about if',\n",
       "       'about if will', 'about just', 'about just flow', 'about nbsp',\n",
       "       'about nbsp temperature', 'about one', 'about one that',\n",
       "       'about temp', 'about temp gauges', 'about that', 'about that let',\n",
       "       'about that you', 'about the', 'about the fp', 'about the fp7002',\n",
       "       'about the recorder', 'about the transmitter', 'about this',\n",
       "       'about this http', 'about this one', 'about weeks',\n",
       "       'about weeks for', 'about weeks there', 'about yes',\n",
       "       'about yes thats', 'above is', 'above is the', 'above link',\n",
       "       'above link yes', 'ac on', 'ac on the', 'ac uk', 'ac uk thank',\n",
       "       'acc320 html', 'acc320 html kindly', 'acceleration velocity',\n",
       "       'acceleration velocity and', 'accept 20', 'accept 20 channels',\n",
       "       'accept thermocouple', 'accept thermocouple or',\n",
       "       'acceptable excitation', 'acceptable excitation voltages',\n",
       "       'acceptable power', 'acceptable power input', 'accepts power',\n",
       "       'accepts power supplies', 'access to', 'access to their',\n",
       "       'account and', 'account and look', 'account for', 'account for the',\n",
       "       'account or', 'account or my', 'accounting department',\n",
       "       'accounting department recordds', 'accuracy is', 'accuracy is ok',\n",
       "       'accuracy tests', 'accuracy tests as', 'accuracy unit',\n",
       "       'accuracy unit comes', 'accurate readout', 'accurate readout the',\n",
       "       'acid cleaning', 'acid cleaning http', 'acquisition and',\n",
       "       'acquisition and get', 'acquisition dept', 'acquisition dept so',\n",
       "       'acquisition device', 'acquisition device is',\n",
       "       'acquisition engineer', 'acquisition engineer hello',\n",
       "       'acquisition group', 'acquisition group for', 'acquisition nbsp',\n",
       "       'acquisition nbsp engineering', 'acquisition nbsp engineers',\n",
       "       'acquisition products', 'acquisition products and',\n",
       "       'acquisition system', 'acquisition system ok', 'acquisition to',\n",
       "       'acquisition to see', 'across to', 'across to you', 'acting with',\n",
       "       'acting with 40ms', 'action this', 'action this yes', 'ad5bd do',\n",
       "       'ad5bd do you', 'ad5bd pcs', 'ad5bd pcs hi', 'ad5db your',\n",
       "       'ad5db your catalog', 'adam unfortunately',\n",
       "       'adam unfortunately omega', 'adapter that', 'adapter that would',\n",
       "       'add display', 'add display for', 'add to', 'add to cart',\n",
       "       'add two', 'add two 20ma', 'add up', 'add up flows', 'adder card',\n",
       "       'adder card not', 'adder card ok', 'additional part',\n",
       "       'additional part numbers', 'addres have', 'addres have it',\n",
       "       'address 3200', 'address 3200 san', 'address 34', 'address 34 what',\n",
       "       'address aaron', 'address aaron mellor', 'address and',\n",
       "       'address and can', 'address and delivery', 'address are',\n",
       "       'address are both', 'address cant', 'address cant find',\n",
       "       'address checked', 'address checked the', 'address contact',\n",
       "       'address contact phone', 'address fhmiller',\n",
       "       'address fhmiller astrolab', 'address is', 'address is ftymon',\n",
       "       'address krasny', 'address krasny bath', 'address presume',\n",
       "       'address presume you', 'address provided', 'address provided no',\n",
       "       'address so', 'address so it', 'address thanks',\n",
       "       'address thanks chris', 'address yes', 'address yes you',\n",
       "       'address you', 'address you would', 'adhesive thaty',\n",
       "       'adhesive thaty is', 'adjust level', 'adjust level okay',\n",
       "       'advise lead', 'advise lead time', 'advise sorry',\n",
       "       'advise sorry dave', 'advise your', 'advise your line', 'affect it',\n",
       "       'affect it all', 'affect the', 'affect the output',\n",
       "       'affect the scale', 'afrad ok', 'afrad ok sounds', 'afraid we',\n",
       "       'afraid we cannot', 'afraid we do', 'after at', 'after at the',\n",
       "       'after installing', 'after installing it', 'after receipt',\n",
       "       'after receipt of', 'after we', 'after we manufacture',\n",
       "       'after what', 'after what about', 'after your',\n",
       "       'after your application', 'afternoon thanks',\n",
       "       'afternoon thanks thank', 'again for', 'again for contacting',\n",
       "       'again have', 'again have great', 'again if', 'again if we',\n",
       "       'again should', 'again should you', 'again thank',\n",
       "       'again thank you', 'again think', 'again think im', 'again you',\n",
       "       'again you are', 'agent in', 'agent in ireland', 'ago was',\n",
       "       'ago was the', 'agree with', 'agree with the', 'ahs 12vdc',\n",
       "       'ahs 12vdc coil', 'air ambient', 'air ambient air', 'air flow',\n",
       "       'air flow sensors', 'air temperature', 'air temperature inside',\n",
       "       'air you', 'air you will', 'akwesi gmail', 'akwesi gmail com',\n",
       "       'akwesi omega', 'akwesi omega com', 'alcohol insulation',\n",
       "       'alcohol insulation is', 'all at', 'all at the', 'all available',\n",
       "       'all available in', 'all be', 'all be smaller', 'all below',\n",
       "       'all below is', 'all listed', 'all listed in', 'all my',\n",
       "       'all my questions', 'all need', 'all need for', 'all record',\n",
       "       'all record in', 'all right', 'all right back', 'all right cool',\n",
       "       'all right got', 'all right then', 'all right well', 'all sales',\n",
       "       'all sales direct', 'all set', 'all set for', 'all times',\n",
       "       'all times more', 'all we', 'all we can', 'allows them',\n",
       "       'allows them to', 'almost cylindrical', 'almost cylindrical type',\n",
       "       'along side', 'along side each', 'already has', 'already has the',\n",
       "       'already have', 'already have my', 'already sent',\n",
       "       'already sent and', 'alright thank', 'alright thank you',\n",
       "       'also advise', 'also advise lead', 'also evaluate',\n",
       "       'also evaluate which', 'also give', 'also give you', 'also have',\n",
       "       'also have button', 'also have surfact', 'also have the', 'also if',\n",
       "       'also if have', 'also include', 'also include lead',\n",
       "       'also interested', 'also interested in', 'also look',\n",
       "       'also look at', 'also may', 'also may be', 'also only',\n",
       "       'also only 34', 'also placing', 'also placing an', 'also pressure',\n",
       "       'also pressure of'], dtype=object)"
      ]
     },
     "execution_count": 11,
     "metadata": {},
     "output_type": "execute_result"
    }
   ],
   "source": [
    "convoDF.columns.values[:1000]"
   ]
  },
  {
   "cell_type": "code",
   "execution_count": 12,
   "metadata": {},
   "outputs": [
    {
     "data": {
      "text/plain": [
       "(80, 18712)"
      ]
     },
     "execution_count": 12,
     "metadata": {},
     "output_type": "execute_result"
    }
   ],
   "source": [
    "X.shape"
   ]
  },
  {
   "cell_type": "code",
   "execution_count": 13,
   "metadata": {},
   "outputs": [
    {
     "data": {
      "text/html": [
       "<div>\n",
       "<style scoped>\n",
       "    .dataframe tbody tr th:only-of-type {\n",
       "        vertical-align: middle;\n",
       "    }\n",
       "\n",
       "    .dataframe tbody tr th {\n",
       "        vertical-align: top;\n",
       "    }\n",
       "\n",
       "    .dataframe thead th {\n",
       "        text-align: right;\n",
       "    }\n",
       "</style>\n",
       "<table border=\"1\" class=\"dataframe\">\n",
       "  <thead>\n",
       "    <tr style=\"text-align: right;\">\n",
       "      <th></th>\n",
       "      <th>00 each</th>\n",
       "      <th>00 each with</th>\n",
       "      <th>00 indent</th>\n",
       "      <th>00 indent about</th>\n",
       "      <th>00 iserver</th>\n",
       "      <th>00 iserver bar</th>\n",
       "      <th>00 lbs</th>\n",
       "      <th>00 lbs found</th>\n",
       "      <th>00 ok</th>\n",
       "      <th>00 ok thanks</th>\n",
       "      <th>...</th>\n",
       "      <th>âºâ hold</th>\n",
       "      <th>âºâ hold on</th>\n",
       "      <th>â½ hour</th>\n",
       "      <th>â½ hour thank</th>\n",
       "      <th>œdoor openâ</th>\n",
       "      <th>œdoor openâ press</th>\n",
       "      <th>œreset data</th>\n",
       "      <th>œreset data press</th>\n",
       "      <th>œyes now</th>\n",
       "      <th>œyes now your</th>\n",
       "    </tr>\n",
       "  </thead>\n",
       "  <tbody>\n",
       "    <tr>\n",
       "      <th>0</th>\n",
       "      <td>0.0</td>\n",
       "      <td>0.0</td>\n",
       "      <td>0.0</td>\n",
       "      <td>0.0</td>\n",
       "      <td>0.0</td>\n",
       "      <td>0.0</td>\n",
       "      <td>0.0</td>\n",
       "      <td>0.0</td>\n",
       "      <td>0.0</td>\n",
       "      <td>0.0</td>\n",
       "      <td>...</td>\n",
       "      <td>0.0</td>\n",
       "      <td>0.0</td>\n",
       "      <td>0.0</td>\n",
       "      <td>0.0</td>\n",
       "      <td>0.0</td>\n",
       "      <td>0.0</td>\n",
       "      <td>0.0</td>\n",
       "      <td>0.0</td>\n",
       "      <td>0.0</td>\n",
       "      <td>0.0</td>\n",
       "    </tr>\n",
       "    <tr>\n",
       "      <th>1</th>\n",
       "      <td>0.0</td>\n",
       "      <td>0.0</td>\n",
       "      <td>0.0</td>\n",
       "      <td>0.0</td>\n",
       "      <td>0.0</td>\n",
       "      <td>0.0</td>\n",
       "      <td>0.0</td>\n",
       "      <td>0.0</td>\n",
       "      <td>0.0</td>\n",
       "      <td>0.0</td>\n",
       "      <td>...</td>\n",
       "      <td>0.0</td>\n",
       "      <td>0.0</td>\n",
       "      <td>0.0</td>\n",
       "      <td>0.0</td>\n",
       "      <td>0.0</td>\n",
       "      <td>0.0</td>\n",
       "      <td>0.0</td>\n",
       "      <td>0.0</td>\n",
       "      <td>0.0</td>\n",
       "      <td>0.0</td>\n",
       "    </tr>\n",
       "    <tr>\n",
       "      <th>2</th>\n",
       "      <td>0.0</td>\n",
       "      <td>0.0</td>\n",
       "      <td>0.0</td>\n",
       "      <td>0.0</td>\n",
       "      <td>0.0</td>\n",
       "      <td>0.0</td>\n",
       "      <td>0.0</td>\n",
       "      <td>0.0</td>\n",
       "      <td>0.0</td>\n",
       "      <td>0.0</td>\n",
       "      <td>...</td>\n",
       "      <td>0.0</td>\n",
       "      <td>0.0</td>\n",
       "      <td>0.0</td>\n",
       "      <td>0.0</td>\n",
       "      <td>0.0</td>\n",
       "      <td>0.0</td>\n",
       "      <td>0.0</td>\n",
       "      <td>0.0</td>\n",
       "      <td>0.0</td>\n",
       "      <td>0.0</td>\n",
       "    </tr>\n",
       "    <tr>\n",
       "      <th>3</th>\n",
       "      <td>0.0</td>\n",
       "      <td>0.0</td>\n",
       "      <td>0.0</td>\n",
       "      <td>0.0</td>\n",
       "      <td>0.0</td>\n",
       "      <td>0.0</td>\n",
       "      <td>0.0</td>\n",
       "      <td>0.0</td>\n",
       "      <td>0.0</td>\n",
       "      <td>0.0</td>\n",
       "      <td>...</td>\n",
       "      <td>0.0</td>\n",
       "      <td>0.0</td>\n",
       "      <td>0.0</td>\n",
       "      <td>0.0</td>\n",
       "      <td>0.0</td>\n",
       "      <td>0.0</td>\n",
       "      <td>0.0</td>\n",
       "      <td>0.0</td>\n",
       "      <td>0.0</td>\n",
       "      <td>0.0</td>\n",
       "    </tr>\n",
       "    <tr>\n",
       "      <th>4</th>\n",
       "      <td>0.0</td>\n",
       "      <td>0.0</td>\n",
       "      <td>0.0</td>\n",
       "      <td>0.0</td>\n",
       "      <td>0.0</td>\n",
       "      <td>0.0</td>\n",
       "      <td>0.0</td>\n",
       "      <td>0.0</td>\n",
       "      <td>0.0</td>\n",
       "      <td>0.0</td>\n",
       "      <td>...</td>\n",
       "      <td>0.0</td>\n",
       "      <td>0.0</td>\n",
       "      <td>0.0</td>\n",
       "      <td>0.0</td>\n",
       "      <td>0.0</td>\n",
       "      <td>0.0</td>\n",
       "      <td>0.0</td>\n",
       "      <td>0.0</td>\n",
       "      <td>0.0</td>\n",
       "      <td>0.0</td>\n",
       "    </tr>\n",
       "  </tbody>\n",
       "</table>\n",
       "<p>5 rows × 18712 columns</p>\n",
       "</div>"
      ],
      "text/plain": [
       "   00 each  00 each with  00 indent  00 indent about  00 iserver  \\\n",
       "0      0.0           0.0        0.0              0.0         0.0   \n",
       "1      0.0           0.0        0.0              0.0         0.0   \n",
       "2      0.0           0.0        0.0              0.0         0.0   \n",
       "3      0.0           0.0        0.0              0.0         0.0   \n",
       "4      0.0           0.0        0.0              0.0         0.0   \n",
       "\n",
       "   00 iserver bar  00 lbs  00 lbs found  00 ok  00 ok thanks      ...        \\\n",
       "0             0.0     0.0           0.0    0.0           0.0      ...         \n",
       "1             0.0     0.0           0.0    0.0           0.0      ...         \n",
       "2             0.0     0.0           0.0    0.0           0.0      ...         \n",
       "3             0.0     0.0           0.0    0.0           0.0      ...         \n",
       "4             0.0     0.0           0.0    0.0           0.0      ...         \n",
       "\n",
       "   âºâ hold  âºâ hold on  â½ hour  â½ hour thank  œdoor openâ  \\\n",
       "0       0.0          0.0      0.0            0.0          0.0   \n",
       "1       0.0          0.0      0.0            0.0          0.0   \n",
       "2       0.0          0.0      0.0            0.0          0.0   \n",
       "3       0.0          0.0      0.0            0.0          0.0   \n",
       "4       0.0          0.0      0.0            0.0          0.0   \n",
       "\n",
       "   œdoor openâ press  œreset data  œreset data press  œyes now  œyes now your  \n",
       "0                0.0          0.0                0.0       0.0            0.0  \n",
       "1                0.0          0.0                0.0       0.0            0.0  \n",
       "2                0.0          0.0                0.0       0.0            0.0  \n",
       "3                0.0          0.0                0.0       0.0            0.0  \n",
       "4                0.0          0.0                0.0       0.0            0.0  \n",
       "\n",
       "[5 rows x 18712 columns]"
      ]
     },
     "execution_count": 13,
     "metadata": {},
     "output_type": "execute_result"
    }
   ],
   "source": [
    "convoDF.head()"
   ]
  },
  {
   "cell_type": "code",
   "execution_count": null,
   "metadata": {},
   "outputs": [],
   "source": []
  },
  {
   "cell_type": "code",
   "execution_count": 14,
   "metadata": {},
   "outputs": [],
   "source": [
    "Y = Chats['Expert label (1=design,2=integration,3=transaction)']"
   ]
  },
  {
   "cell_type": "code",
   "execution_count": 15,
   "metadata": {},
   "outputs": [
    {
     "data": {
      "text/plain": [
       "StandardScaler(copy=True, with_mean=True, with_std=True)"
      ]
     },
     "execution_count": 15,
     "metadata": {},
     "output_type": "execute_result"
    },
    {
     "data": {
      "text/plain": [
       "array([[-0.11250879, -0.11250879, -0.11250879, ..., -0.11250879,\n",
       "        -0.11250879, -0.11250879],\n",
       "       [-0.11250879, -0.11250879, -0.11250879, ..., -0.11250879,\n",
       "        -0.11250879, -0.11250879],\n",
       "       [-0.11250879, -0.11250879, -0.11250879, ..., -0.11250879,\n",
       "        -0.11250879, -0.11250879],\n",
       "       ..., \n",
       "       [-0.11250879, -0.11250879, -0.11250879, ..., -0.11250879,\n",
       "        -0.11250879, -0.11250879],\n",
       "       [-0.11250879, -0.11250879, -0.11250879, ..., -0.11250879,\n",
       "        -0.11250879, -0.11250879],\n",
       "       [-0.11250879, -0.11250879, -0.11250879, ..., -0.11250879,\n",
       "        -0.11250879, -0.11250879]])"
      ]
     },
     "execution_count": 15,
     "metadata": {},
     "output_type": "execute_result"
    },
    {
     "data": {
      "text/plain": [
       "0    3\n",
       "1    2\n",
       "2    3\n",
       "3    2\n",
       "4    3\n",
       "Name: Expert label (1=design,2=integration,3=transaction), dtype: int32"
      ]
     },
     "execution_count": 15,
     "metadata": {},
     "output_type": "execute_result"
    }
   ],
   "source": [
    "scaler = StandardScaler()\n",
    "scaler.fit(convoDF)\n",
    "x_s = scaler.transform(convoDF)\n",
    "x_s\n",
    "Y.head()"
   ]
  },
  {
   "cell_type": "code",
   "execution_count": 16,
   "metadata": {},
   "outputs": [
    {
     "data": {
      "text/plain": [
       "array([[-0.11250879, -0.11250879, -0.11250879, ..., -0.11250879,\n",
       "        -0.11250879, -0.11250879],\n",
       "       [-0.11250879, -0.11250879, -0.11250879, ..., -0.11250879,\n",
       "        -0.11250879, -0.11250879],\n",
       "       [-0.11250879, -0.11250879, -0.11250879, ..., -0.11250879,\n",
       "        -0.11250879, -0.11250879],\n",
       "       ..., \n",
       "       [-0.11250879, -0.11250879, -0.11250879, ..., -0.11250879,\n",
       "        -0.11250879, -0.11250879],\n",
       "       [-0.11250879, -0.11250879,  8.88819442, ..., -0.11250879,\n",
       "        -0.11250879, -0.11250879],\n",
       "       [-0.11250879, -0.11250879, -0.11250879, ..., -0.11250879,\n",
       "        -0.11250879, -0.11250879]])"
      ]
     },
     "execution_count": 16,
     "metadata": {},
     "output_type": "execute_result"
    },
    {
     "data": {
      "text/plain": [
       "73    3\n",
       "61    1\n",
       "55    4\n",
       "40    4\n",
       "9     2\n",
       "Name: Expert label (1=design,2=integration,3=transaction), dtype: int32"
      ]
     },
     "execution_count": 16,
     "metadata": {},
     "output_type": "execute_result"
    }
   ],
   "source": [
    "# Train/test split\n",
    "X_train, X_test, y_train, y_test = train_test_split(x_s, Y, test_size=0.2, random_state=42)\n",
    "X_train\n",
    "y_train[:5]"
   ]
  },
  {
   "cell_type": "code",
   "execution_count": 17,
   "metadata": {},
   "outputs": [
    {
     "name": "stdout",
     "output_type": "stream",
     "text": [
      "[(1, 19), (2, 19), (3, 19), (4, 19)]\n",
      "[(1, 19), (2, 19), (3, 19), (4, 19)]\n"
     ]
    }
   ],
   "source": [
    "## Perform oversampling technique\n",
    "# https://beckernick.github.io/oversampling-modeling/\n",
    "        \n",
    "ros = RandomOverSampler(random_state=0)\n",
    "X_resampled, y_resampled = ros.fit_sample(X_train, y_train)\n",
    "print(sorted(Counter(y_resampled).items()))\n",
    "\n",
    "\n",
    "sm = SMOTE(random_state=42,kind = \"regular\")\n",
    "X_res, y_res = sm.fit_sample(X_train, y_train)\n",
    "print(sorted(Counter(y_res).items()))"
   ]
  },
  {
   "cell_type": "code",
   "execution_count": 18,
   "metadata": {},
   "outputs": [
    {
     "data": {
      "text/plain": [
       "Counter({1: 9, 2: 18, 3: 19, 4: 18})"
      ]
     },
     "execution_count": 18,
     "metadata": {},
     "output_type": "execute_result"
    },
    {
     "data": {
      "text/plain": [
       "Counter({1: 19, 2: 19, 3: 19, 4: 19})"
      ]
     },
     "execution_count": 18,
     "metadata": {},
     "output_type": "execute_result"
    }
   ],
   "source": [
    "Counter(y_train)\n",
    "Counter(y_res)"
   ]
  },
  {
   "cell_type": "code",
   "execution_count": 19,
   "metadata": {},
   "outputs": [
    {
     "data": {
      "text/plain": [
       "GridSearchCV(cv=None, error_score='raise',\n",
       "       estimator=Pipeline(memory=None,\n",
       "     steps=[('pca', PCA(copy=True, iterated_power='auto', n_components=None, random_state=None,\n",
       "  svd_solver='auto', tol=0.0, whiten=False)), ('svc', SVC(C=1.0, cache_size=200, class_weight=None, coef0=0.0,\n",
       "  decision_function_shape='ovr', degree=3, gamma='auto', kernel='rbf',\n",
       "  max_iter=-1, probability=False, random_state=None, shrinking=True,\n",
       "  tol=0.001, verbose=False))]),\n",
       "       fit_params=None, iid=True, n_jobs=1,\n",
       "       param_grid={'svc__kernel': ['linear', 'rbf', 'sigmoid'], 'svc__C': [1, 10, 100, 1000], 'svc__gamma': [0.001, 0.0001], 'pca__n_components': [10, 50, 150]},\n",
       "       pre_dispatch='2*n_jobs', refit=True, return_train_score='warn',\n",
       "       scoring=None, verbose=0)"
      ]
     },
     "execution_count": 19,
     "metadata": {},
     "output_type": "execute_result"
    },
    {
     "name": "stdout",
     "output_type": "stream",
     "text": [
      "{'svc__kernel': 'sigmoid', 'svc__C': 1, 'svc__gamma': 0.0001, 'pca__n_components': 50} 0.578947368421\n"
     ]
    }
   ],
   "source": [
    "# Use Principal Component Analysis to reduce dimensionality\n",
    "# and improve generalization\n",
    "pca = PCA()\n",
    "\n",
    "# Use support vector machine classifier\n",
    "svc = SVC()\n",
    "\n",
    "# Use Gaussian Naive Bayes classifier\n",
    "#mnb = MultinomialNB()\n",
    "\n",
    "# Combine PCA and SVC and MNB to a pipeline\n",
    "pipe = Pipeline(steps=[('pca', pca), ('svc', svc)])\n",
    "\n",
    "# Vary the PCA components\n",
    "n_components = [10, 50, 150]\n",
    "\n",
    "# Define the parameters to search over\n",
    "params_grid = { \n",
    "    'pca__n_components': n_components,\n",
    "    'svc__C': [1, 10, 100, 1000],\n",
    "    'svc__kernel': ['linear', 'rbf', 'sigmoid'],\n",
    "    'svc__gamma' : [0.001, 0.0001],\n",
    "}\n",
    "\n",
    "estimator = GridSearchCV(pipe, params_grid)\n",
    "#estimator.fit(X_train, y_train)\n",
    "estimator.fit(X_res, y_res)\n",
    "\n",
    "print (estimator.best_params_, estimator.best_score_)"
   ]
  },
  {
   "cell_type": "code",
   "execution_count": 20,
   "metadata": {},
   "outputs": [
    {
     "data": {
      "text/plain": [
       "0.57894736842105265"
      ]
     },
     "execution_count": 20,
     "metadata": {},
     "output_type": "execute_result"
    }
   ],
   "source": [
    "estimator.best_score_"
   ]
  },
  {
   "cell_type": "code",
   "execution_count": 21,
   "metadata": {},
   "outputs": [
    {
     "data": {
      "text/plain": [
       "Pipeline(memory=None,\n",
       "     steps=[('pca', PCA(copy=True, iterated_power='auto', n_components=50, random_state=None,\n",
       "  svd_solver='auto', tol=0.0, whiten=False)), ('svc', SVC(C=1, cache_size=200, class_weight=None, coef0=0.0,\n",
       "  decision_function_shape='ovr', degree=3, gamma=0.0001, kernel='sigmoid',\n",
       "  max_iter=-1, probability=False, random_state=None, shrinking=True,\n",
       "  tol=0.001, verbose=False))])"
      ]
     },
     "execution_count": 21,
     "metadata": {},
     "output_type": "execute_result"
    }
   ],
   "source": [
    "estimator.best_estimator_"
   ]
  },
  {
   "cell_type": "code",
   "execution_count": 22,
   "metadata": {},
   "outputs": [],
   "source": [
    "y_pred = estimator.best_estimator_.predict(X_test)"
   ]
  },
  {
   "cell_type": "code",
   "execution_count": 23,
   "metadata": {},
   "outputs": [
    {
     "data": {
      "text/plain": [
       "array([[0, 0, 1, 0],\n",
       "       [0, 1, 2, 0],\n",
       "       [0, 0, 6, 0],\n",
       "       [0, 1, 5, 0]])"
      ]
     },
     "execution_count": 23,
     "metadata": {},
     "output_type": "execute_result"
    }
   ],
   "source": [
    "confusion_matrix(y_test, y_pred)"
   ]
  },
  {
   "cell_type": "code",
   "execution_count": 24,
   "metadata": {},
   "outputs": [
    {
     "name": "stdout",
     "output_type": "stream",
     "text": [
      "             precision    recall  f1-score   support\n",
      "\n",
      "          1       0.00      0.00      0.00         1\n",
      "          2       0.50      0.33      0.40         3\n",
      "          3       0.43      1.00      0.60         6\n",
      "          4       0.00      0.00      0.00         6\n",
      "\n",
      "avg / total       0.25      0.44      0.30        16\n",
      "\n"
     ]
    },
    {
     "name": "stderr",
     "output_type": "stream",
     "text": [
      "/Users/zacklarsen/anaconda3/envs/PY35/lib/python3.5/site-packages/sklearn/metrics/classification.py:1135: UndefinedMetricWarning: Precision and F-score are ill-defined and being set to 0.0 in labels with no predicted samples.\n",
      "  'precision', 'predicted', average, warn_for)\n"
     ]
    }
   ],
   "source": [
    "print(classification_report(y_test, y_pred))"
   ]
  },
  {
   "cell_type": "code",
   "execution_count": null,
   "metadata": {},
   "outputs": [],
   "source": []
  },
  {
   "cell_type": "markdown",
   "metadata": {},
   "source": [
    "## Save model to pickle file"
   ]
  },
  {
   "cell_type": "code",
   "execution_count": 32,
   "metadata": {},
   "outputs": [
    {
     "data": {
      "text/plain": [
       "['model.pkl']"
      ]
     },
     "execution_count": 32,
     "metadata": {},
     "output_type": "execute_result"
    }
   ],
   "source": [
    "from sklearn.externals import joblib\n",
    "joblib.dump(estimator, 'model.pkl')"
   ]
  },
  {
   "cell_type": "code",
   "execution_count": null,
   "metadata": {},
   "outputs": [],
   "source": [
    "# Load it back in\n",
    "\n",
    "clf = joblib.load('model.pkl')"
   ]
  },
  {
   "cell_type": "code",
   "execution_count": null,
   "metadata": {},
   "outputs": [],
   "source": []
  },
  {
   "cell_type": "code",
   "execution_count": null,
   "metadata": {},
   "outputs": [],
   "source": []
  },
  {
   "cell_type": "code",
   "execution_count": null,
   "metadata": {},
   "outputs": [],
   "source": []
  },
  {
   "cell_type": "code",
   "execution_count": null,
   "metadata": {},
   "outputs": [],
   "source": []
  },
  {
   "cell_type": "code",
   "execution_count": null,
   "metadata": {},
   "outputs": [],
   "source": []
  },
  {
   "cell_type": "markdown",
   "metadata": {},
   "source": [
    "## Further refine the model"
   ]
  },
  {
   "cell_type": "code",
   "execution_count": 25,
   "metadata": {},
   "outputs": [
    {
     "data": {
      "text/plain": [
       "GridSearchCV(cv=None, error_score='raise',\n",
       "       estimator=Pipeline(memory=None,\n",
       "     steps=[('pca', PCA(copy=True, iterated_power='auto', n_components=None, random_state=None,\n",
       "  svd_solver='auto', tol=0.0, whiten=False)), ('svc', SVC(C=1.0, cache_size=200, class_weight=None, coef0=0.0,\n",
       "  decision_function_shape='ovr', degree=3, gamma='auto', kernel='rbf',\n",
       "  max_iter=-1, probability=False, random_state=None, shrinking=True,\n",
       "  tol=0.001, verbose=False))]),\n",
       "       fit_params=None, iid=True, n_jobs=1,\n",
       "       param_grid={'svc__kernel': ['rbf', 'sigmoid'], 'svc__C': [0.01, 0.001, 0.5], 'svc__gamma': [0.0001, 0.001, 0.005], 'pca__n_components': [30, 50]},\n",
       "       pre_dispatch='2*n_jobs', refit=True, return_train_score='warn',\n",
       "       scoring=None, verbose=0)"
      ]
     },
     "execution_count": 25,
     "metadata": {},
     "output_type": "execute_result"
    },
    {
     "name": "stdout",
     "output_type": "stream",
     "text": [
      "{'svc__kernel': 'sigmoid', 'svc__C': 0.01, 'svc__gamma': 0.0001, 'pca__n_components': 50} 0.460526315789\n"
     ]
    }
   ],
   "source": [
    "# Use Principal Component Analysis to reduce dimensionality\n",
    "# and improve generalization\n",
    "pca = PCA()\n",
    "\n",
    "# Use support vector machine classifier\n",
    "svc = SVC()\n",
    "\n",
    "# Combine PCA and SVC and MNB to a pipeline\n",
    "pipe = Pipeline(steps=[('pca', pca), ('svc', svc)])\n",
    "\n",
    "\n",
    "# Define the parameters to search over\n",
    "params_grid = { \n",
    "    'pca__n_components': [30,50],\n",
    "    'svc__C': [0.01,0.001,0.5],\n",
    "    'svc__kernel': ['rbf', 'sigmoid'],\n",
    "    'svc__gamma' : [0.0001, 0.001,0.005],\n",
    "}\n",
    "\n",
    "estimator = GridSearchCV(pipe, params_grid)\n",
    "#estimator.fit(X_train, y_train)\n",
    "estimator.fit(X_res, y_res)\n",
    "\n",
    "print (estimator.best_params_, estimator.best_score_)"
   ]
  },
  {
   "cell_type": "code",
   "execution_count": 26,
   "metadata": {},
   "outputs": [
    {
     "data": {
      "text/plain": [
       "0.46052631578947367"
      ]
     },
     "execution_count": 26,
     "metadata": {},
     "output_type": "execute_result"
    }
   ],
   "source": [
    "estimator.best_score_"
   ]
  },
  {
   "cell_type": "code",
   "execution_count": 27,
   "metadata": {},
   "outputs": [
    {
     "data": {
      "text/plain": [
       "Pipeline(memory=None,\n",
       "     steps=[('pca', PCA(copy=True, iterated_power='auto', n_components=50, random_state=None,\n",
       "  svd_solver='auto', tol=0.0, whiten=False)), ('svc', SVC(C=0.01, cache_size=200, class_weight=None, coef0=0.0,\n",
       "  decision_function_shape='ovr', degree=3, gamma=0.0001, kernel='sigmoid',\n",
       "  max_iter=-1, probability=False, random_state=None, shrinking=True,\n",
       "  tol=0.001, verbose=False))])"
      ]
     },
     "execution_count": 27,
     "metadata": {},
     "output_type": "execute_result"
    }
   ],
   "source": [
    "estimator.best_estimator_"
   ]
  },
  {
   "cell_type": "code",
   "execution_count": 28,
   "metadata": {},
   "outputs": [],
   "source": [
    "y_pred = estimator.best_estimator_.predict(X_test)"
   ]
  },
  {
   "cell_type": "code",
   "execution_count": 29,
   "metadata": {},
   "outputs": [
    {
     "data": {
      "text/plain": [
       "array([[0, 0, 1, 0],\n",
       "       [0, 0, 3, 0],\n",
       "       [0, 0, 6, 0],\n",
       "       [0, 0, 6, 0]])"
      ]
     },
     "execution_count": 29,
     "metadata": {},
     "output_type": "execute_result"
    }
   ],
   "source": [
    "confusion_matrix(y_test, y_pred)"
   ]
  },
  {
   "cell_type": "code",
   "execution_count": 30,
   "metadata": {},
   "outputs": [
    {
     "name": "stdout",
     "output_type": "stream",
     "text": [
      "             precision    recall  f1-score   support\n",
      "\n",
      "          1       0.00      0.00      0.00         1\n",
      "          2       0.00      0.00      0.00         3\n",
      "          3       0.38      1.00      0.55         6\n",
      "          4       0.00      0.00      0.00         6\n",
      "\n",
      "avg / total       0.14      0.38      0.20        16\n",
      "\n"
     ]
    },
    {
     "name": "stderr",
     "output_type": "stream",
     "text": [
      "/Users/zacklarsen/anaconda3/envs/PY35/lib/python3.5/site-packages/sklearn/metrics/classification.py:1135: UndefinedMetricWarning: Precision and F-score are ill-defined and being set to 0.0 in labels with no predicted samples.\n",
      "  'precision', 'predicted', average, warn_for)\n"
     ]
    }
   ],
   "source": [
    "print(classification_report(y_test, y_pred))"
   ]
  },
  {
   "cell_type": "code",
   "execution_count": null,
   "metadata": {},
   "outputs": [],
   "source": []
  },
  {
   "cell_type": "code",
   "execution_count": null,
   "metadata": {},
   "outputs": [],
   "source": []
  },
  {
   "cell_type": "code",
   "execution_count": null,
   "metadata": {},
   "outputs": [],
   "source": []
  },
  {
   "cell_type": "code",
   "execution_count": null,
   "metadata": {},
   "outputs": [],
   "source": []
  },
  {
   "cell_type": "code",
   "execution_count": null,
   "metadata": {},
   "outputs": [],
   "source": []
  },
  {
   "cell_type": "code",
   "execution_count": null,
   "metadata": {},
   "outputs": [],
   "source": []
  },
  {
   "cell_type": "code",
   "execution_count": null,
   "metadata": {},
   "outputs": [],
   "source": []
  },
  {
   "cell_type": "code",
   "execution_count": null,
   "metadata": {},
   "outputs": [],
   "source": []
  },
  {
   "cell_type": "markdown",
   "metadata": {},
   "source": [
    "## Gaussian Naive Bayes\n",
    "## http://www.ritchieng.com/machine-learning-multinomial-naive-bayes-vectorization/"
   ]
  },
  {
   "cell_type": "code",
   "execution_count": 183,
   "metadata": {},
   "outputs": [
    {
     "data": {
      "text/plain": [
       "GaussianNB(priors=None)"
      ]
     },
     "execution_count": 183,
     "metadata": {},
     "output_type": "execute_result"
    }
   ],
   "source": [
    "GNB = GaussianNB()\n",
    "GNB.fit(X_train, y_train)"
   ]
  },
  {
   "cell_type": "code",
   "execution_count": 186,
   "metadata": {},
   "outputs": [],
   "source": [
    "y_pred = GNB.predict(X_test)"
   ]
  },
  {
   "cell_type": "code",
   "execution_count": 187,
   "metadata": {},
   "outputs": [
    {
     "data": {
      "text/plain": [
       "0.5625"
      ]
     },
     "execution_count": 187,
     "metadata": {},
     "output_type": "execute_result"
    }
   ],
   "source": [
    "from sklearn import metrics\n",
    "metrics.accuracy_score(y_test, y_pred)"
   ]
  },
  {
   "cell_type": "code",
   "execution_count": 189,
   "metadata": {},
   "outputs": [
    {
     "data": {
      "text/plain": [
       "array([[0, 1, 0, 0],\n",
       "       [0, 3, 0, 0],\n",
       "       [0, 3, 2, 1],\n",
       "       [0, 1, 1, 4]])"
      ]
     },
     "execution_count": 189,
     "metadata": {},
     "output_type": "execute_result"
    }
   ],
   "source": [
    "confusion_matrix(y_test, y_pred)"
   ]
  },
  {
   "cell_type": "code",
   "execution_count": 188,
   "metadata": {},
   "outputs": [
    {
     "name": "stdout",
     "output_type": "stream",
     "text": [
      "             precision    recall  f1-score   support\n",
      "\n",
      "          1       0.00      0.00      0.00         1\n",
      "          2       0.38      1.00      0.55         3\n",
      "          3       0.67      0.33      0.44         6\n",
      "          4       0.80      0.67      0.73         6\n",
      "\n",
      "avg / total       0.62      0.56      0.54        16\n",
      "\n"
     ]
    },
    {
     "name": "stderr",
     "output_type": "stream",
     "text": [
      "/Users/zacklarsen/anaconda3/envs/PY35/lib/python3.5/site-packages/sklearn/metrics/classification.py:1135: UndefinedMetricWarning: Precision and F-score are ill-defined and being set to 0.0 in labels with no predicted samples.\n",
      "  'precision', 'predicted', average, warn_for)\n"
     ]
    }
   ],
   "source": [
    "print(classification_report(y_test, y_pred))"
   ]
  },
  {
   "cell_type": "code",
   "execution_count": 199,
   "metadata": {},
   "outputs": [
    {
     "ename": "ValueError",
     "evalue": "multiclass format is not supported",
     "output_type": "error",
     "traceback": [
      "\u001b[0;31m---------------------------------------------------------------------------\u001b[0m",
      "\u001b[0;31mValueError\u001b[0m                                Traceback (most recent call last)",
      "\u001b[0;32m<ipython-input-199-c0e507c813b2>\u001b[0m in \u001b[0;36m<module>\u001b[0;34m()\u001b[0m\n\u001b[1;32m      1\u001b[0m \u001b[0;31m# calculate AUC\u001b[0m\u001b[0;34m\u001b[0m\u001b[0;34m\u001b[0m\u001b[0m\n\u001b[0;32m----> 2\u001b[0;31m \u001b[0mmetrics\u001b[0m\u001b[0;34m.\u001b[0m\u001b[0mroc_auc_score\u001b[0m\u001b[0;34m(\u001b[0m\u001b[0my_test\u001b[0m\u001b[0;34m,\u001b[0m \u001b[0my_pred\u001b[0m\u001b[0;34m)\u001b[0m\u001b[0;34m\u001b[0m\u001b[0m\n\u001b[0m",
      "\u001b[0;32m~/anaconda3/envs/PY35/lib/python3.5/site-packages/sklearn/metrics/ranking.py\u001b[0m in \u001b[0;36mroc_auc_score\u001b[0;34m(y_true, y_score, average, sample_weight)\u001b[0m\n\u001b[1;32m    275\u001b[0m     return _average_binary_score(\n\u001b[1;32m    276\u001b[0m         \u001b[0m_binary_roc_auc_score\u001b[0m\u001b[0;34m,\u001b[0m \u001b[0my_true\u001b[0m\u001b[0;34m,\u001b[0m \u001b[0my_score\u001b[0m\u001b[0;34m,\u001b[0m \u001b[0maverage\u001b[0m\u001b[0;34m,\u001b[0m\u001b[0;34m\u001b[0m\u001b[0m\n\u001b[0;32m--> 277\u001b[0;31m         sample_weight=sample_weight)\n\u001b[0m\u001b[1;32m    278\u001b[0m \u001b[0;34m\u001b[0m\u001b[0m\n\u001b[1;32m    279\u001b[0m \u001b[0;34m\u001b[0m\u001b[0m\n",
      "\u001b[0;32m~/anaconda3/envs/PY35/lib/python3.5/site-packages/sklearn/metrics/base.py\u001b[0m in \u001b[0;36m_average_binary_score\u001b[0;34m(binary_metric, y_true, y_score, average, sample_weight)\u001b[0m\n\u001b[1;32m     70\u001b[0m     \u001b[0my_type\u001b[0m \u001b[0;34m=\u001b[0m \u001b[0mtype_of_target\u001b[0m\u001b[0;34m(\u001b[0m\u001b[0my_true\u001b[0m\u001b[0;34m)\u001b[0m\u001b[0;34m\u001b[0m\u001b[0m\n\u001b[1;32m     71\u001b[0m     \u001b[0;32mif\u001b[0m \u001b[0my_type\u001b[0m \u001b[0;32mnot\u001b[0m \u001b[0;32min\u001b[0m \u001b[0;34m(\u001b[0m\u001b[0;34m\"binary\"\u001b[0m\u001b[0;34m,\u001b[0m \u001b[0;34m\"multilabel-indicator\"\u001b[0m\u001b[0;34m)\u001b[0m\u001b[0;34m:\u001b[0m\u001b[0;34m\u001b[0m\u001b[0m\n\u001b[0;32m---> 72\u001b[0;31m         \u001b[0;32mraise\u001b[0m \u001b[0mValueError\u001b[0m\u001b[0;34m(\u001b[0m\u001b[0;34m\"{0} format is not supported\"\u001b[0m\u001b[0;34m.\u001b[0m\u001b[0mformat\u001b[0m\u001b[0;34m(\u001b[0m\u001b[0my_type\u001b[0m\u001b[0;34m)\u001b[0m\u001b[0;34m)\u001b[0m\u001b[0;34m\u001b[0m\u001b[0m\n\u001b[0m\u001b[1;32m     73\u001b[0m \u001b[0;34m\u001b[0m\u001b[0m\n\u001b[1;32m     74\u001b[0m     \u001b[0;32mif\u001b[0m \u001b[0my_type\u001b[0m \u001b[0;34m==\u001b[0m \u001b[0;34m\"binary\"\u001b[0m\u001b[0;34m:\u001b[0m\u001b[0;34m\u001b[0m\u001b[0m\n",
      "\u001b[0;31mValueError\u001b[0m: multiclass format is not supported"
     ]
    }
   ],
   "source": [
    "# calculate AUC\n",
    "metrics.roc_auc_score(y_test, y_pred_prob)"
   ]
  },
  {
   "cell_type": "code",
   "execution_count": null,
   "metadata": {},
   "outputs": [],
   "source": []
  },
  {
   "cell_type": "code",
   "execution_count": null,
   "metadata": {},
   "outputs": [],
   "source": []
  },
  {
   "cell_type": "code",
   "execution_count": null,
   "metadata": {},
   "outputs": [],
   "source": []
  },
  {
   "cell_type": "markdown",
   "metadata": {},
   "source": [
    "## https://bbengfort.github.io/tutorials/2016/05/19/text-classification-nltk-sckit-learn.html"
   ]
  },
  {
   "cell_type": "code",
   "execution_count": null,
   "metadata": {},
   "outputs": [],
   "source": []
  },
  {
   "cell_type": "code",
   "execution_count": null,
   "metadata": {},
   "outputs": [],
   "source": []
  },
  {
   "cell_type": "code",
   "execution_count": null,
   "metadata": {},
   "outputs": [],
   "source": []
  },
  {
   "cell_type": "code",
   "execution_count": null,
   "metadata": {},
   "outputs": [],
   "source": []
  },
  {
   "cell_type": "code",
   "execution_count": null,
   "metadata": {},
   "outputs": [],
   "source": []
  },
  {
   "cell_type": "code",
   "execution_count": null,
   "metadata": {},
   "outputs": [],
   "source": []
  },
  {
   "cell_type": "code",
   "execution_count": null,
   "metadata": {},
   "outputs": [],
   "source": []
  },
  {
   "cell_type": "code",
   "execution_count": null,
   "metadata": {},
   "outputs": [],
   "source": []
  },
  {
   "cell_type": "code",
   "execution_count": null,
   "metadata": {},
   "outputs": [],
   "source": []
  },
  {
   "cell_type": "code",
   "execution_count": null,
   "metadata": {},
   "outputs": [],
   "source": []
  },
  {
   "cell_type": "code",
   "execution_count": null,
   "metadata": {},
   "outputs": [],
   "source": []
  },
  {
   "cell_type": "code",
   "execution_count": null,
   "metadata": {},
   "outputs": [],
   "source": []
  },
  {
   "cell_type": "code",
   "execution_count": null,
   "metadata": {},
   "outputs": [],
   "source": []
  },
  {
   "cell_type": "code",
   "execution_count": null,
   "metadata": {},
   "outputs": [],
   "source": []
  },
  {
   "cell_type": "code",
   "execution_count": null,
   "metadata": {},
   "outputs": [],
   "source": []
  },
  {
   "cell_type": "code",
   "execution_count": null,
   "metadata": {},
   "outputs": [],
   "source": []
  }
 ],
 "metadata": {
  "kernelspec": {
   "display_name": "Python 3",
   "language": "python",
   "name": "python3"
  },
  "language_info": {
   "codemirror_mode": {
    "name": "ipython",
    "version": 3
   },
   "file_extension": ".py",
   "mimetype": "text/x-python",
   "name": "python",
   "nbconvert_exporter": "python",
   "pygments_lexer": "ipython3",
   "version": "3.5.4"
  }
 },
 "nbformat": 4,
 "nbformat_minor": 2
}
