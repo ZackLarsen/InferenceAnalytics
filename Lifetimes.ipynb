{
 "cells": [
  {
   "cell_type": "code",
   "execution_count": 1,
   "metadata": {},
   "outputs": [],
   "source": [
    "from IPython.core.interactiveshell import InteractiveShell\n",
    "InteractiveShell.ast_node_interactivity = \"all\"\n",
    "%config InlineBackend.figure_format = 'retina'"
   ]
  },
  {
   "cell_type": "code",
   "execution_count": 2,
   "metadata": {},
   "outputs": [],
   "source": [
    "import os\n",
    "import time\n",
    "\n",
    "%matplotlib inline\n",
    "import matplotlib.pyplot as plt\n",
    "import seaborn as sns\n",
    "import pylab as pl\n",
    "\n",
    "import numpy as np\n",
    "np.set_printoptions(precision=2, linewidth=120, suppress=True, edgeitems=4)\n",
    "\n",
    "import pandas as pd\n",
    "pd.set_option('display.max_columns', 150)\n",
    "pd.set_option('display.max_rows', 50)\n",
    "#pd.set_option('precision', 5)"
   ]
  },
  {
   "cell_type": "code",
   "execution_count": 3,
   "metadata": {},
   "outputs": [
    {
     "name": "stdout",
     "output_type": "stream",
     "text": [
      "AirbnbChicago.csv     AirbnbSanDiego.csv    kc_house_data.csv\r\n",
      "AirbnbLA.csv          CountDF.csv           neighborhoods.csv\r\n",
      "AirbnbNYC.csv         LA_Crime.csv          sample_submission.csv\r\n",
      "AirbnbOakland.csv     Online Retail.csv     train_2016_v2.csv\r\n",
      "AirbnbSF.csv          Tuesday.csv\r\n"
     ]
    }
   ],
   "source": [
    "os.chdir('/Users/zacklarsen/Dropbox/Inference Analytics Team Folder/Zack Work')\n",
    "!ls *csv"
   ]
  },
  {
   "cell_type": "markdown",
   "metadata": {},
   "source": [
    "# Use online retail dataset\n",
    "## http://archive.ics.uci.edu/ml/datasets/online+retail#"
   ]
  },
  {
   "cell_type": "code",
   "execution_count": null,
   "metadata": {},
   "outputs": [],
   "source": [
    "%%time\n",
    "import time\n",
    "\n",
    "time.OR = pd.read_csv('Online Retail.csv',parse_dates=['InvoiceDate'])\n",
    "OR['D_O_W'] = OR['InvoiceDate'].apply(lambda x: x.weekday())\n",
    "OR['Date'] = OR['InvoiceDate'].apply(lambda x: x.date())"
   ]
  },
  {
   "cell_type": "code",
   "execution_count": 6,
   "metadata": {},
   "outputs": [],
   "source": [
    "%%time\n",
    "\n",
    "time.OR.sort_values(['InvoiceNo','StockCode'],ascending=['False','False'],inplace=True)\n",
    "\n",
    "## Remove invoice numbers beginning with 'C' for returns and 'A' for bad debt adjustments\n",
    "\n",
    "OR = OR[~OR['InvoiceNo'].str.startswith(\"C\")]\n",
    "OR = OR[~OR['InvoiceNo'].str.startswith(\"A\")]\n",
    "\n",
    "## Calculate invoice total\n",
    "OR['Total Amount'] = OR['Quantity']*OR['UnitPrice']"
   ]
  },
  {
   "cell_type": "code",
   "execution_count": 63,
   "metadata": {},
   "outputs": [],
   "source": [
    "# sessions = pd.DataFrame(OR.groupby('InvoiceNo')['StockCode'].apply(list))\n",
    "# sessions = pd.DataFrame(OR.groupby('InvoiceNo')['Description'].apply(list))\n",
    "\n",
    "# len(sessions)\n",
    "\n",
    "# sessions.head(5)\n",
    "\n",
    "# ORweekdays = pd.DataFrame(OR.groupby(['D_O_W','Country'])['Description'].agg(lambda x:x.value_counts().index[0]))\n",
    "\n",
    "# ORweekdays = ORweekdays.unstack(0)\n",
    "\n",
    "# #ORweekdays"
   ]
  },
  {
   "cell_type": "code",
   "execution_count": 7,
   "metadata": {},
   "outputs": [],
   "source": [
    "Invoices = pd.DataFrame(OR.groupby(['InvoiceNo','CustomerID','Date'])['Total Amount'].sum().reset_index())"
   ]
  },
  {
   "cell_type": "code",
   "execution_count": 8,
   "metadata": {},
   "outputs": [
    {
     "data": {
      "text/html": [
       "<div>\n",
       "<style>\n",
       "    .dataframe thead tr:only-child th {\n",
       "        text-align: right;\n",
       "    }\n",
       "\n",
       "    .dataframe thead th {\n",
       "        text-align: left;\n",
       "    }\n",
       "\n",
       "    .dataframe tbody tr th {\n",
       "        vertical-align: top;\n",
       "    }\n",
       "</style>\n",
       "<table border=\"1\" class=\"dataframe\">\n",
       "  <thead>\n",
       "    <tr style=\"text-align: right;\">\n",
       "      <th></th>\n",
       "      <th>InvoiceNo</th>\n",
       "      <th>CustomerID</th>\n",
       "      <th>Date</th>\n",
       "      <th>Total Amount</th>\n",
       "    </tr>\n",
       "  </thead>\n",
       "  <tbody>\n",
       "    <tr>\n",
       "      <th>0</th>\n",
       "      <td>536365</td>\n",
       "      <td>17850.0</td>\n",
       "      <td>2010-12-01</td>\n",
       "      <td>139.12</td>\n",
       "    </tr>\n",
       "    <tr>\n",
       "      <th>1</th>\n",
       "      <td>536366</td>\n",
       "      <td>17850.0</td>\n",
       "      <td>2010-12-01</td>\n",
       "      <td>22.20</td>\n",
       "    </tr>\n",
       "    <tr>\n",
       "      <th>2</th>\n",
       "      <td>536367</td>\n",
       "      <td>13047.0</td>\n",
       "      <td>2010-12-01</td>\n",
       "      <td>278.73</td>\n",
       "    </tr>\n",
       "    <tr>\n",
       "      <th>3</th>\n",
       "      <td>536368</td>\n",
       "      <td>13047.0</td>\n",
       "      <td>2010-12-01</td>\n",
       "      <td>70.05</td>\n",
       "    </tr>\n",
       "    <tr>\n",
       "      <th>4</th>\n",
       "      <td>536369</td>\n",
       "      <td>13047.0</td>\n",
       "      <td>2010-12-01</td>\n",
       "      <td>17.85</td>\n",
       "    </tr>\n",
       "  </tbody>\n",
       "</table>\n",
       "</div>"
      ],
      "text/plain": [
       "  InvoiceNo  CustomerID        Date  Total Amount\n",
       "0    536365     17850.0  2010-12-01        139.12\n",
       "1    536366     17850.0  2010-12-01         22.20\n",
       "2    536367     13047.0  2010-12-01        278.73\n",
       "3    536368     13047.0  2010-12-01         70.05\n",
       "4    536369     13047.0  2010-12-01         17.85"
      ]
     },
     "execution_count": 8,
     "metadata": {},
     "output_type": "execute_result"
    }
   ],
   "source": [
    "Invoices.head(5)"
   ]
  },
  {
   "cell_type": "code",
   "execution_count": 9,
   "metadata": {},
   "outputs": [
    {
     "data": {
      "text/plain": [
       "datetime.date(2010, 12, 1)"
      ]
     },
     "execution_count": 9,
     "metadata": {},
     "output_type": "execute_result"
    },
    {
     "data": {
      "text/plain": [
       "datetime.date(2011, 12, 9)"
      ]
     },
     "execution_count": 9,
     "metadata": {},
     "output_type": "execute_result"
    }
   ],
   "source": [
    "Invoices['Date'].min()\n",
    "Invoices['Date'].max()"
   ]
  },
  {
   "cell_type": "markdown",
   "metadata": {},
   "source": [
    "# Use lifetimes package\n",
    "### http://lifetimes.readthedocs.io/en/master/Quickstart.html"
   ]
  },
  {
   "cell_type": "code",
   "execution_count": 10,
   "metadata": {},
   "outputs": [],
   "source": [
    "import lifetimes\n",
    "from lifetimes import BetaGeoFitter, GammaGammaFitter\n",
    "from lifetimes.plotting import plot_frequency_recency_matrix,plot_period_transactions\n",
    "from lifetimes.utils import summary_data_from_transaction_data,calibration_and_holdout_data"
   ]
  },
  {
   "cell_type": "code",
   "execution_count": 11,
   "metadata": {},
   "outputs": [
    {
     "name": "stdout",
     "output_type": "stream",
     "text": [
      "            frequency  recency      T  monetary_value\n",
      "CustomerID                                           \n",
      "12346.0           0.0      0.0  325.0        0.000000\n",
      "12347.0           6.0    365.0  367.0      599.701667\n",
      "12348.0           3.0    283.0  358.0      301.480000\n",
      "12349.0           0.0      0.0   18.0        0.000000\n",
      "12350.0           0.0      0.0  310.0        0.000000\n"
     ]
    }
   ],
   "source": [
    "## Create RFM matrix\n",
    "\n",
    "summary = summary_data_from_transaction_data(Invoices, 'CustomerID', 'Date',monetary_value_col='Total Amount', observation_period_end='2011-12-09')\n",
    "\n",
    "print(summary.head())"
   ]
  },
  {
   "cell_type": "code",
   "execution_count": 15,
   "metadata": {},
   "outputs": [
    {
     "data": {
      "text/html": [
       "<div>\n",
       "<style>\n",
       "    .dataframe thead tr:only-child th {\n",
       "        text-align: right;\n",
       "    }\n",
       "\n",
       "    .dataframe thead th {\n",
       "        text-align: left;\n",
       "    }\n",
       "\n",
       "    .dataframe tbody tr th {\n",
       "        vertical-align: top;\n",
       "    }\n",
       "</style>\n",
       "<table border=\"1\" class=\"dataframe\">\n",
       "  <thead>\n",
       "    <tr style=\"text-align: right;\">\n",
       "      <th></th>\n",
       "      <th>frequency</th>\n",
       "      <th>recency</th>\n",
       "      <th>T</th>\n",
       "      <th>monetary_value</th>\n",
       "    </tr>\n",
       "    <tr>\n",
       "      <th>CustomerID</th>\n",
       "      <th></th>\n",
       "      <th></th>\n",
       "      <th></th>\n",
       "      <th></th>\n",
       "    </tr>\n",
       "  </thead>\n",
       "  <tbody>\n",
       "  </tbody>\n",
       "</table>\n",
       "</div>"
      ],
      "text/plain": [
       "Empty DataFrame\n",
       "Columns: [frequency, recency, T, monetary_value]\n",
       "Index: []"
      ]
     },
     "execution_count": 15,
     "metadata": {},
     "output_type": "execute_result"
    }
   ],
   "source": [
    "summary[summary['monetary_value'] < 0]  # Check for negativity"
   ]
  },
  {
   "cell_type": "code",
   "execution_count": 16,
   "metadata": {},
   "outputs": [
    {
     "data": {
      "text/plain": [
       "<matplotlib.axes._subplots.AxesSubplot at 0x117762b70>"
      ]
     },
     "execution_count": 16,
     "metadata": {},
     "output_type": "execute_result"
    },
    {
     "data": {
      "text/plain": [
       "<matplotlib.axes._subplots.AxesSubplot at 0x117762b70>"
      ]
     },
     "execution_count": 16,
     "metadata": {},
     "output_type": "execute_result"
    },
    {
     "data": {
      "image/png": "[encoded data removed]",
      "text/plain": [
       "<matplotlib.figure.Figure at 0x1106f55f8>"
      ]
     },
     "metadata": {
      "image/png": {
       "height": 250,
       "width": 397
      }
     },
     "output_type": "display_data"
    }
   ],
   "source": [
    "summary[summary['frequency'] > 0]['frequency'].plot(kind='hist', bins=20) #subplot 1\n",
    "summary[summary['recency'] > 0]['recency'].plot(kind='hist', bins=20) #subplot 2"
   ]
  },
  {
   "cell_type": "code",
   "execution_count": 17,
   "metadata": {},
   "outputs": [
    {
     "name": "stdout",
     "output_type": "stream",
     "text": [
      "count    2790.000000\n",
      "mean        4.454122\n",
      "std         6.930419\n",
      "min         1.000000\n",
      "25%         1.000000\n",
      "50%         3.000000\n",
      "75%         5.000000\n",
      "max       131.000000\n",
      "Name: frequency, dtype: float64\n",
      "count    2790.000000\n",
      "mean      203.328674\n",
      "std       111.459556\n",
      "min         1.000000\n",
      "25%       106.000000\n",
      "50%       211.000000\n",
      "75%       301.750000\n",
      "max       373.000000\n",
      "Name: recency, dtype: float64\n"
     ]
    }
   ],
   "source": [
    "print (summary[summary['frequency'] > 0]['frequency'].describe()) #Descriptive statistics\n",
    "print (summary[summary['recency'] > 0]['recency'].describe()) #Descriptive statistics"
   ]
  },
  {
   "cell_type": "code",
   "execution_count": 134,
   "metadata": {},
   "outputs": [
    {
     "ename": "NameError",
     "evalue": "name 'summary' is not defined",
     "output_type": "error",
     "traceback": [
      "\u001b[0;31m---------------------------------------------------------------------------\u001b[0m",
      "\u001b[0;31mNameError\u001b[0m                                 Traceback (most recent call last)",
      "\u001b[0;32m<ipython-input-134-94a7fdf4f4b9>\u001b[0m in \u001b[0;36m<module>\u001b[0;34m()\u001b[0m\n\u001b[1;32m      1\u001b[0m \u001b[0mbgf\u001b[0m \u001b[0;34m=\u001b[0m \u001b[0mBetaGeoFitter\u001b[0m\u001b[0;34m(\u001b[0m\u001b[0mpenalizer_coef\u001b[0m\u001b[0;34m=\u001b[0m\u001b[0;36m0.0\u001b[0m\u001b[0;34m)\u001b[0m\u001b[0;34m\u001b[0m\u001b[0m\n\u001b[0;32m----> 2\u001b[0;31m \u001b[0mbgf\u001b[0m\u001b[0;34m.\u001b[0m\u001b[0mfit\u001b[0m\u001b[0;34m(\u001b[0m\u001b[0msummary\u001b[0m\u001b[0;34m[\u001b[0m\u001b[0;34m'frequency'\u001b[0m\u001b[0;34m]\u001b[0m\u001b[0;34m,\u001b[0m \u001b[0msummary\u001b[0m\u001b[0;34m[\u001b[0m\u001b[0;34m'recency'\u001b[0m\u001b[0;34m]\u001b[0m\u001b[0;34m,\u001b[0m \u001b[0msummary\u001b[0m\u001b[0;34m[\u001b[0m\u001b[0;34m'T'\u001b[0m\u001b[0;34m]\u001b[0m\u001b[0;34m)\u001b[0m\u001b[0;34m\u001b[0m\u001b[0m\n\u001b[0m\u001b[1;32m      3\u001b[0m \u001b[0mprint\u001b[0m\u001b[0;34m(\u001b[0m\u001b[0mbgf\u001b[0m\u001b[0;34m)\u001b[0m\u001b[0;34m\u001b[0m\u001b[0m\n",
      "\u001b[0;31mNameError\u001b[0m: name 'summary' is not defined"
     ]
    }
   ],
   "source": [
    "bgf = BetaGeoFitter(penalizer_coef=0.0)\n",
    "bgf.fit(summary['frequency'], summary['recency'], summary['T'])\n",
    "print(bgf)"
   ]
  },
  {
   "cell_type": "code",
   "execution_count": 19,
   "metadata": {},
   "outputs": [
    {
     "data": {
      "text/plain": [
       "<matplotlib.axes._subplots.AxesSubplot at 0x116dc9ac8>"
      ]
     },
     "execution_count": 19,
     "metadata": {},
     "output_type": "execute_result"
    },
    {
     "data": {
      "image/png": "[encoded data removed]",
      "text/plain": [
       "<matplotlib.figure.Figure at 0x118917390>"
      ]
     },
     "metadata": {
      "image/png": {
       "height": 291,
       "width": 379
      }
     },
     "output_type": "display_data"
    }
   ],
   "source": [
    "from lifetimes.plotting import plot_frequency_recency_matrix,plot_probability_alive_matrix\n",
    "\n",
    "plot_frequency_recency_matrix(bgf,365)"
   ]
  },
  {
   "cell_type": "code",
   "execution_count": 20,
   "metadata": {},
   "outputs": [
    {
     "data": {
      "text/plain": [
       "<matplotlib.axes._subplots.AxesSubplot at 0x115a16048>"
      ]
     },
     "execution_count": 20,
     "metadata": {},
     "output_type": "execute_result"
    },
    {
     "data": {
      "image/png": "[encoded data removed]",
      "text/plain": [
       "<matplotlib.figure.Figure at 0x118918eb8>"
      ]
     },
     "metadata": {
      "image/png": {
       "height": 291,
       "width": 322
      }
     },
     "output_type": "display_data"
    }
   ],
   "source": [
    "plot_probability_alive_matrix(bgf)"
   ]
  },
  {
   "cell_type": "markdown",
   "metadata": {},
   "source": [
    "## Assess model fit"
   ]
  },
  {
   "cell_type": "code",
   "execution_count": 132,
   "metadata": {},
   "outputs": [
    {
     "name": "stderr",
     "output_type": "stream",
     "text": [
      "//anaconda/envs/py36/lib/python3.6/site-packages/lifetimes/generate_data.py:40: RuntimeWarning: divide by zero encountered in double_scalars\n",
      "  lambda_ = stats.gamma.rvs(r, scale=1. / alpha, size=size)\n"
     ]
    },
    {
     "data": {
      "text/plain": [
       "<matplotlib.axes._subplots.AxesSubplot at 0x116eef128>"
      ]
     },
     "execution_count": 132,
     "metadata": {},
     "output_type": "execute_result"
    },
    {
     "data": {
      "image/png": "[encoded data removed]",
      "text/plain": [
       "<matplotlib.figure.Figure at 0x116ed5320>"
      ]
     },
     "metadata": {
      "image/png": {
       "height": 283,
       "width": 384
      }
     },
     "output_type": "display_data"
    }
   ],
   "source": [
    "from lifetimes.plotting import plot_period_transactions\n",
    "plot_period_transactions(bgf)"
   ]
  },
  {
   "cell_type": "code",
   "execution_count": null,
   "metadata": {},
   "outputs": [],
   "source": []
  },
  {
   "cell_type": "code",
   "execution_count": null,
   "metadata": {},
   "outputs": [],
   "source": []
  },
  {
   "cell_type": "markdown",
   "metadata": {},
   "source": [
    "While for computing the total CLV using the DCF method (https://en.wikipedia.org/wiki/Discounted_cash_flow) adjusting for cost of capital:"
   ]
  },
  {
   "cell_type": "code",
   "execution_count": 39,
   "metadata": {},
   "outputs": [
    {
     "data": {
      "text/plain": [
       "<lifetimes.BetaGeoFitter: fitted with 4339 subjects, a: 0.00, alpha: 69.00, b: 1.22, r: 0.83>"
      ]
     },
     "execution_count": 39,
     "metadata": {},
     "output_type": "execute_result"
    },
    {
     "name": "stdout",
     "output_type": "stream",
     "text": [
      "CustomerID\n",
      "12346.0     295.431341\n",
      "12347.0    3012.876924\n",
      "12348.0    1009.583101\n",
      "12349.0    1337.427130\n",
      "12350.0     307.121784\n",
      "12352.0    2374.908940\n",
      "12353.0     426.343398\n",
      "12354.0     386.691320\n",
      "12355.0     411.281353\n",
      "12356.0     784.655049\n",
      "Name: clv, dtype: float64\n"
     ]
    }
   ],
   "source": [
    "# refit the BG model to the summary_with_money_value dataset\n",
    "bgf.fit(summary['frequency'], summary['recency'], summary['T'])\n",
    "\n",
    "print(ggf.customer_lifetime_value(\n",
    "    bgf, #the model to use to predict the number of future transactions\n",
    "    summary['frequency'],\n",
    "    summary['recency'],\n",
    "    summary['T'],\n",
    "    summary['monetary_value'],\n",
    "    time=12, # months\n",
    "    discount_rate=0.01 # monthly discount rate ~ 12.7% annually\n",
    ").head(10))"
   ]
  },
  {
   "cell_type": "markdown",
   "metadata": {},
   "source": [
    "## Ranking customers from least likely to purchase in next period to most likely"
   ]
  },
  {
   "cell_type": "code",
   "execution_count": 28,
   "metadata": {},
   "outputs": [
    {
     "data": {
      "text/html": [
       "<div>\n",
       "<style>\n",
       "    .dataframe thead tr:only-child th {\n",
       "        text-align: right;\n",
       "    }\n",
       "\n",
       "    .dataframe thead th {\n",
       "        text-align: left;\n",
       "    }\n",
       "\n",
       "    .dataframe tbody tr th {\n",
       "        vertical-align: top;\n",
       "    }\n",
       "</style>\n",
       "<table border=\"1\" class=\"dataframe\">\n",
       "  <thead>\n",
       "    <tr style=\"text-align: right;\">\n",
       "      <th></th>\n",
       "      <th>frequency</th>\n",
       "      <th>recency</th>\n",
       "      <th>T</th>\n",
       "      <th>monetary_value</th>\n",
       "      <th>predicted_purchases</th>\n",
       "    </tr>\n",
       "    <tr>\n",
       "      <th>CustomerID</th>\n",
       "      <th></th>\n",
       "      <th></th>\n",
       "      <th></th>\n",
       "      <th></th>\n",
       "      <th></th>\n",
       "    </tr>\n",
       "  </thead>\n",
       "  <tbody>\n",
       "    <tr>\n",
       "      <th>14606.0</th>\n",
       "      <td>88.0</td>\n",
       "      <td>372.0</td>\n",
       "      <td>373.0</td>\n",
       "      <td>135.890114</td>\n",
       "      <td>0.200967</td>\n",
       "    </tr>\n",
       "    <tr>\n",
       "      <th>15311.0</th>\n",
       "      <td>89.0</td>\n",
       "      <td>373.0</td>\n",
       "      <td>373.0</td>\n",
       "      <td>677.729438</td>\n",
       "      <td>0.203230</td>\n",
       "    </tr>\n",
       "    <tr>\n",
       "      <th>17841.0</th>\n",
       "      <td>111.0</td>\n",
       "      <td>372.0</td>\n",
       "      <td>373.0</td>\n",
       "      <td>364.452162</td>\n",
       "      <td>0.253004</td>\n",
       "    </tr>\n",
       "    <tr>\n",
       "      <th>12748.0</th>\n",
       "      <td>113.0</td>\n",
       "      <td>373.0</td>\n",
       "      <td>373.0</td>\n",
       "      <td>298.360885</td>\n",
       "      <td>0.257529</td>\n",
       "    </tr>\n",
       "    <tr>\n",
       "      <th>14911.0</th>\n",
       "      <td>131.0</td>\n",
       "      <td>372.0</td>\n",
       "      <td>373.0</td>\n",
       "      <td>1093.661679</td>\n",
       "      <td>0.298253</td>\n",
       "    </tr>\n",
       "  </tbody>\n",
       "</table>\n",
       "</div>"
      ],
      "text/plain": [
       "            frequency  recency      T  monetary_value  predicted_purchases\n",
       "CustomerID                                                                \n",
       "14606.0          88.0    372.0  373.0      135.890114             0.200967\n",
       "15311.0          89.0    373.0  373.0      677.729438             0.203230\n",
       "17841.0         111.0    372.0  373.0      364.452162             0.253004\n",
       "12748.0         113.0    373.0  373.0      298.360885             0.257529\n",
       "14911.0         131.0    372.0  373.0     1093.661679             0.298253"
      ]
     },
     "execution_count": 28,
     "metadata": {},
     "output_type": "execute_result"
    }
   ],
   "source": [
    "t = 1\n",
    "summary['predicted_purchases'] = bgf.conditional_expected_number_of_purchases_up_to_time(t, \n",
    "                                                                                         summary['frequency'],\n",
    "                                                                                         summary['recency'], summary['T'])\n",
    "summary.sort_values(by='predicted_purchases').tail(5)"
   ]
  },
  {
   "cell_type": "code",
   "execution_count": 30,
   "metadata": {},
   "outputs": [],
   "source": [
    "returning_customers_summary = summary[summary['frequency']>0]"
   ]
  },
  {
   "cell_type": "markdown",
   "metadata": {},
   "source": [
    "### The Gamma-Gamma model and the independence assumption\n",
    "The model we are going to use to estimate the CLV for our userbase is called the Gamma-Gamma submodel, which relies upon an important assumption. The Gamma-Gamma submodel, in fact, assumes that there is no relationship between the monetary value and the purchase frequency. In practice we need to check whether the Pearson correlation between the two vectors is close to 0 in order to use this model."
   ]
  },
  {
   "cell_type": "code",
   "execution_count": 31,
   "metadata": {},
   "outputs": [
    {
     "data": {
      "text/html": [
       "<div>\n",
       "<style>\n",
       "    .dataframe thead tr:only-child th {\n",
       "        text-align: right;\n",
       "    }\n",
       "\n",
       "    .dataframe thead th {\n",
       "        text-align: left;\n",
       "    }\n",
       "\n",
       "    .dataframe tbody tr th {\n",
       "        vertical-align: top;\n",
       "    }\n",
       "</style>\n",
       "<table border=\"1\" class=\"dataframe\">\n",
       "  <thead>\n",
       "    <tr style=\"text-align: right;\">\n",
       "      <th></th>\n",
       "      <th>monetary_value</th>\n",
       "      <th>frequency</th>\n",
       "    </tr>\n",
       "  </thead>\n",
       "  <tbody>\n",
       "    <tr>\n",
       "      <th>monetary_value</th>\n",
       "      <td>1.000000</td>\n",
       "      <td>0.015882</td>\n",
       "    </tr>\n",
       "    <tr>\n",
       "      <th>frequency</th>\n",
       "      <td>0.015882</td>\n",
       "      <td>1.000000</td>\n",
       "    </tr>\n",
       "  </tbody>\n",
       "</table>\n",
       "</div>"
      ],
      "text/plain": [
       "                monetary_value  frequency\n",
       "monetary_value        1.000000   0.015882\n",
       "frequency             0.015882   1.000000"
      ]
     },
     "execution_count": 31,
     "metadata": {},
     "output_type": "execute_result"
    }
   ],
   "source": [
    "returning_customers_summary[['monetary_value', 'frequency']].corr()"
   ]
  },
  {
   "cell_type": "code",
   "execution_count": 33,
   "metadata": {},
   "outputs": [
    {
     "data": {
      "text/plain": [
       "<lifetimes.GammaGammaFitter: fitted with 2790 subjects, p: 2.10, q: 3.45, v: 485.57>"
      ]
     },
     "execution_count": 33,
     "metadata": {},
     "output_type": "execute_result"
    },
    {
     "name": "stdout",
     "output_type": "stream",
     "text": [
      "<lifetimes.GammaGammaFitter: fitted with 2790 subjects, p: 2.10, q: 3.45, v: 485.57>\n"
     ]
    }
   ],
   "source": [
    "ggf = GammaGammaFitter(penalizer_coef = 0)\n",
    "ggf.fit(returning_customers_summary['frequency'],\n",
    "        returning_customers_summary['monetary_value'])\n",
    "print(ggf)"
   ]
  },
  {
   "cell_type": "markdown",
   "metadata": {},
   "source": [
    "### We can now estimate the average transaction value:"
   ]
  },
  {
   "cell_type": "code",
   "execution_count": 35,
   "metadata": {},
   "outputs": [
    {
     "name": "stdout",
     "output_type": "stream",
     "text": [
      "CustomerID\n",
      "12346.0    416.917636\n",
      "12347.0    569.988805\n",
      "12348.0    333.762661\n",
      "12349.0    416.917636\n",
      "12350.0    416.917636\n",
      "12352.0    376.166858\n",
      "12353.0    416.917636\n",
      "12354.0    416.917636\n",
      "12355.0    416.917636\n",
      "12356.0    324.008925\n",
      "dtype: float64\n"
     ]
    }
   ],
   "source": [
    "print(ggf.conditional_expected_average_profit(\n",
    "        summary['frequency'],\n",
    "        summary['monetary_value']\n",
    "    ).head(10))"
   ]
  },
  {
   "cell_type": "code",
   "execution_count": 38,
   "metadata": {},
   "outputs": [
    {
     "name": "stdout",
     "output_type": "stream",
     "text": [
      "Expected conditional average profit: 441.128386294, Average profit: 477.358689254\n"
     ]
    }
   ],
   "source": [
    "print(\"Expected conditional average profit: %s, Average profit: %s\" % (\n",
    "    ggf.conditional_expected_average_profit(\n",
    "        summary['frequency'],\n",
    "        summary['monetary_value']\n",
    "    ).mean(),\n",
    "    summary[summary['frequency']>0]['monetary_value'].mean()\n",
    "))"
   ]
  },
  {
   "cell_type": "markdown",
   "metadata": {},
   "source": [
    "## Create holdout set and compare bgf model on holdout data"
   ]
  },
  {
   "cell_type": "code",
   "execution_count": 45,
   "metadata": {},
   "outputs": [
    {
     "data": {
      "text/plain": [
       "datetime.date(2010, 12, 1)"
      ]
     },
     "execution_count": 45,
     "metadata": {},
     "output_type": "execute_result"
    },
    {
     "data": {
      "text/plain": [
       "datetime.date(2011, 12, 9)"
      ]
     },
     "execution_count": 45,
     "metadata": {},
     "output_type": "execute_result"
    }
   ],
   "source": [
    "Invoices['Date'].min()\n",
    "Invoices['Date'].max()"
   ]
  },
  {
   "cell_type": "code",
   "execution_count": 52,
   "metadata": {},
   "outputs": [
    {
     "data": {
      "text/html": [
       "<div>\n",
       "<style>\n",
       "    .dataframe thead tr:only-child th {\n",
       "        text-align: right;\n",
       "    }\n",
       "\n",
       "    .dataframe thead th {\n",
       "        text-align: left;\n",
       "    }\n",
       "\n",
       "    .dataframe tbody tr th {\n",
       "        vertical-align: top;\n",
       "    }\n",
       "</style>\n",
       "<table border=\"1\" class=\"dataframe\">\n",
       "  <thead>\n",
       "    <tr style=\"text-align: right;\">\n",
       "      <th></th>\n",
       "      <th>InvoiceNo</th>\n",
       "      <th>CustomerID</th>\n",
       "      <th>Date</th>\n",
       "      <th>Total Amount</th>\n",
       "    </tr>\n",
       "  </thead>\n",
       "  <tbody>\n",
       "    <tr>\n",
       "      <th>0</th>\n",
       "      <td>536365</td>\n",
       "      <td>17850.0</td>\n",
       "      <td>2010-12-01</td>\n",
       "      <td>139.12</td>\n",
       "    </tr>\n",
       "  </tbody>\n",
       "</table>\n",
       "</div>"
      ],
      "text/plain": [
       "  InvoiceNo  CustomerID        Date  Total Amount\n",
       "0    536365     17850.0  2010-12-01        139.12"
      ]
     },
     "execution_count": 52,
     "metadata": {},
     "output_type": "execute_result"
    }
   ],
   "source": [
    "Invoices.head(1)"
   ]
  },
  {
   "cell_type": "code",
   "execution_count": 51,
   "metadata": {},
   "outputs": [
    {
     "name": "stdout",
     "output_type": "stream",
     "text": [
      "            frequency_cal  recency_cal  T_cal  frequency_holdout  \\\n",
      "CustomerID                                                         \n",
      "12431.0               0.0          0.0    0.0               13.0   \n",
      "12433.0               0.0          0.0    0.0                5.0   \n",
      "12583.0               0.0          0.0    0.0               14.0   \n",
      "12662.0               0.0          0.0    0.0                9.0   \n",
      "12748.0               0.0          0.0    0.0              113.0   \n",
      "\n",
      "            duration_holdout  \n",
      "CustomerID                    \n",
      "12431.0                  373  \n",
      "12433.0                  373  \n",
      "12583.0                  373  \n",
      "12662.0                  373  \n",
      "12748.0                  373  \n"
     ]
    }
   ],
   "source": [
    "from lifetimes.utils import calibration_and_holdout_data\n",
    "\n",
    "summary_cal_holdout = calibration_and_holdout_data(Invoices, 'CustomerID', 'Date',\n",
    "                                        calibration_period_end='2010-12-01',\n",
    "                                        observation_period_end='2011-12-09' )   \n",
    "print(summary_cal_holdout.head())"
   ]
  },
  {
   "cell_type": "code",
   "execution_count": 53,
   "metadata": {},
   "outputs": [
    {
     "name": "stderr",
     "output_type": "stream",
     "text": [
      "//anaconda/envs/py36/lib/python3.6/site-packages/lifetimes/utils.py:333: RuntimeWarning: divide by zero encountered in double_scalars\n",
      "  return 10. / age.max()\n",
      "//anaconda/envs/py36/lib/python3.6/site-packages/lifetimes/fitters/beta_geo_fitter.py:102: RuntimeWarning: invalid value encountered in multiply\n",
      "  scaled_recency = recency * self._scale\n",
      "//anaconda/envs/py36/lib/python3.6/site-packages/lifetimes/fitters/beta_geo_fitter.py:103: RuntimeWarning: invalid value encountered in multiply\n",
      "  scaled_T = T * self._scale\n"
     ]
    },
    {
     "data": {
      "text/plain": [
       "<lifetimes.BetaGeoFitter: fitted with 95 subjects, a: 1.04, alpha: 0.00, b: 1.08, r: 1.04>"
      ]
     },
     "execution_count": 53,
     "metadata": {},
     "output_type": "execute_result"
    },
    {
     "name": "stderr",
     "output_type": "stream",
     "text": [
      "//anaconda/envs/py36/lib/python3.6/site-packages/lifetimes/fitters/beta_geo_fitter.py:187: RuntimeWarning: divide by zero encountered in log\n",
      "  (_c - _a - _b) * np.log(1 - _z)\n",
      "//anaconda/envs/py36/lib/python3.6/site-packages/lifetimes/fitters/beta_geo_fitter.py:191: RuntimeWarning: divide by zero encountered in log\n",
      "  np.log((alpha + T) / (alpha + t + T))))\n",
      "//anaconda/envs/py36/lib/python3.6/site-packages/lifetimes/fitters/beta_geo_fitter.py:191: RuntimeWarning: invalid value encountered in add\n",
      "  np.log((alpha + T) / (alpha + t + T))))\n",
      "//anaconda/envs/py36/lib/python3.6/site-packages/lifetimes/fitters/beta_geo_fitter.py:195: RuntimeWarning: invalid value encountered in double_scalars\n",
      "  ((alpha + T) / (alpha + recency)) ** (r + x)\n",
      "//anaconda/envs/py36/lib/python3.6/site-packages/matplotlib/axes/_base.py:2917: UserWarning: Attempting to set identical left==right results\n",
      "in singular transformations; automatically expanding.\n",
      "left=0.0, right=0.0\n",
      "  'left=%s, right=%s') % (left, right))\n"
     ]
    },
    {
     "data": {
      "text/plain": [
       "<matplotlib.axes._subplots.AxesSubplot at 0x117c69c18>"
      ]
     },
     "execution_count": 53,
     "metadata": {},
     "output_type": "execute_result"
    },
    {
     "data": {
      "image/png": "[encoded data removed]",
      "text/plain": [
       "<matplotlib.figure.Figure at 0x117c69240>"
      ]
     },
     "metadata": {
      "image/png": {
       "height": 277,
       "width": 412
      }
     },
     "output_type": "display_data"
    }
   ],
   "source": [
    "from lifetimes.plotting import plot_calibration_purchases_vs_holdout_purchases\n",
    "\n",
    "bgf.fit(summary_cal_holdout['frequency_cal'], summary_cal_holdout['recency_cal'], summary_cal_holdout['T_cal'])\n",
    "plot_calibration_purchases_vs_holdout_purchases(bgf, summary_cal_holdout)"
   ]
  },
  {
   "cell_type": "markdown",
   "metadata": {},
   "source": [
    "### Examine individual customers and their predicted number and amount of purchases"
   ]
  },
  {
   "cell_type": "code",
   "execution_count": 58,
   "metadata": {},
   "outputs": [
    {
     "data": {
      "text/plain": [
       "0.27737145494303878"
      ]
     },
     "execution_count": 58,
     "metadata": {},
     "output_type": "execute_result"
    }
   ],
   "source": [
    "t = 10 #predict purchases in 10 periods\n",
    "individual = summary.iloc[190]\n",
    "# The below function is an alias to `bfg.conditional_expected_number_of_purchases_up_to_time`\n",
    "bgf.predict(t, individual['frequency'], individual['recency'], individual['T'])"
   ]
  },
  {
   "cell_type": "code",
   "execution_count": null,
   "metadata": {},
   "outputs": [],
   "source": []
  },
  {
   "cell_type": "code",
   "execution_count": null,
   "metadata": {},
   "outputs": [],
   "source": []
  },
  {
   "cell_type": "code",
   "execution_count": null,
   "metadata": {},
   "outputs": [],
   "source": []
  },
  {
   "cell_type": "code",
   "execution_count": null,
   "metadata": {},
   "outputs": [],
   "source": []
  },
  {
   "cell_type": "markdown",
   "metadata": {},
   "source": [
    "## Customer segmentation\n",
    "### http://blog.yhat.com/posts/customer-segmentation-using-python.html"
   ]
  },
  {
   "cell_type": "code",
   "execution_count": null,
   "metadata": {},
   "outputs": [],
   "source": []
  },
  {
   "cell_type": "code",
   "execution_count": null,
   "metadata": {},
   "outputs": [],
   "source": []
  },
  {
   "cell_type": "code",
   "execution_count": null,
   "metadata": {},
   "outputs": [],
   "source": []
  },
  {
   "cell_type": "code",
   "execution_count": null,
   "metadata": {},
   "outputs": [],
   "source": []
  },
  {
   "cell_type": "markdown",
   "metadata": {},
   "source": [
    "### Define sessions"
   ]
  },
  {
   "cell_type": "code",
   "execution_count": 66,
   "metadata": {},
   "outputs": [],
   "source": [
    "sessions = pd.DataFrame(OR.groupby('InvoiceNo')['StockCode'].apply(list))"
   ]
  },
  {
   "cell_type": "code",
   "execution_count": 69,
   "metadata": {},
   "outputs": [
    {
     "data": {
      "text/html": [
       "<div>\n",
       "<style>\n",
       "    .dataframe thead tr:only-child th {\n",
       "        text-align: right;\n",
       "    }\n",
       "\n",
       "    .dataframe thead th {\n",
       "        text-align: left;\n",
       "    }\n",
       "\n",
       "    .dataframe tbody tr th {\n",
       "        vertical-align: top;\n",
       "    }\n",
       "</style>\n",
       "<table border=\"1\" class=\"dataframe\">\n",
       "  <thead>\n",
       "    <tr style=\"text-align: right;\">\n",
       "      <th></th>\n",
       "      <th>StockCode</th>\n",
       "    </tr>\n",
       "    <tr>\n",
       "      <th>InvoiceNo</th>\n",
       "      <th></th>\n",
       "    </tr>\n",
       "  </thead>\n",
       "  <tbody>\n",
       "    <tr>\n",
       "      <th>536365</th>\n",
       "      <td>[21730, 22752, 71053, 84029E, 84029G, 84406B, ...</td>\n",
       "    </tr>\n",
       "    <tr>\n",
       "      <th>536366</th>\n",
       "      <td>[22632, 22633]</td>\n",
       "    </tr>\n",
       "  </tbody>\n",
       "</table>\n",
       "</div>"
      ],
      "text/plain": [
       "                                                   StockCode\n",
       "InvoiceNo                                                   \n",
       "536365     [21730, 22752, 71053, 84029E, 84029G, 84406B, ...\n",
       "536366                                        [22632, 22633]"
      ]
     },
     "execution_count": 69,
     "metadata": {},
     "output_type": "execute_result"
    }
   ],
   "source": [
    "sessions.head(2)"
   ]
  },
  {
   "cell_type": "markdown",
   "metadata": {},
   "source": [
    "## MLxtend\n",
    "### https://rasbt.github.io/mlxtend/user_guide/frequent_patterns/association_rules/\n",
    "### https://sebastianraschka.com/pdf/software/mlxtend-0.6.0.pdf"
   ]
  },
  {
   "cell_type": "code",
   "execution_count": 70,
   "metadata": {},
   "outputs": [],
   "source": [
    "#https://rasbt.github.io/mlxtend/user_guide/frequent_patterns/apriori/#frequent-itemsets-via-apriori-algorithm\n",
    "from mlxtend.frequent_patterns import apriori, association_rules\n",
    "from mlxtend.preprocessing import OnehotTransactions\n",
    "oht = OnehotTransactions()\n",
    "oht_ary = oht.fit(list(sessions.StockCode)).transform(list(sessions.StockCode))"
   ]
  },
  {
   "cell_type": "code",
   "execution_count": 71,
   "metadata": {},
   "outputs": [],
   "source": [
    "OHTdf = pd.DataFrame(oht_ary, columns=oht.columns_)\n",
    "#OHTdf"
   ]
  },
  {
   "cell_type": "code",
   "execution_count": 72,
   "metadata": {},
   "outputs": [],
   "source": [
    "frequent_itemsets = apriori(OHTdf, min_support=0.02, use_colnames=True)"
   ]
  },
  {
   "cell_type": "code",
   "execution_count": 73,
   "metadata": {},
   "outputs": [],
   "source": [
    "AR = association_rules(frequent_itemsets, metric=\"lift\", min_threshold=10)"
   ]
  },
  {
   "cell_type": "code",
   "execution_count": 74,
   "metadata": {},
   "outputs": [
    {
     "data": {
      "text/html": [
       "<div>\n",
       "<style>\n",
       "    .dataframe thead tr:only-child th {\n",
       "        text-align: right;\n",
       "    }\n",
       "\n",
       "    .dataframe thead th {\n",
       "        text-align: left;\n",
       "    }\n",
       "\n",
       "    .dataframe tbody tr th {\n",
       "        vertical-align: top;\n",
       "    }\n",
       "</style>\n",
       "<table border=\"1\" class=\"dataframe\">\n",
       "  <thead>\n",
       "    <tr style=\"text-align: right;\">\n",
       "      <th></th>\n",
       "      <th>antecedants</th>\n",
       "      <th>consequents</th>\n",
       "      <th>support</th>\n",
       "      <th>confidence</th>\n",
       "      <th>lift</th>\n",
       "    </tr>\n",
       "  </thead>\n",
       "  <tbody>\n",
       "    <tr>\n",
       "      <th>34</th>\n",
       "      <td>(22698)</td>\n",
       "      <td>(22699, 22697)</td>\n",
       "      <td>0.034767</td>\n",
       "      <td>0.706649</td>\n",
       "      <td>20.298685</td>\n",
       "    </tr>\n",
       "    <tr>\n",
       "      <th>31</th>\n",
       "      <td>(22699, 22697)</td>\n",
       "      <td>(22698)</td>\n",
       "      <td>0.034813</td>\n",
       "      <td>0.705729</td>\n",
       "      <td>20.298685</td>\n",
       "    </tr>\n",
       "    <tr>\n",
       "      <th>35</th>\n",
       "      <td>(22697)</td>\n",
       "      <td>(22699, 22698)</td>\n",
       "      <td>0.046009</td>\n",
       "      <td>0.533990</td>\n",
       "      <td>19.666706</td>\n",
       "    </tr>\n",
       "    <tr>\n",
       "      <th>30</th>\n",
       "      <td>(22699, 22698)</td>\n",
       "      <td>(22697)</td>\n",
       "      <td>0.027152</td>\n",
       "      <td>0.904841</td>\n",
       "      <td>19.666706</td>\n",
       "    </tr>\n",
       "    <tr>\n",
       "      <th>14</th>\n",
       "      <td>(22698)</td>\n",
       "      <td>(22697)</td>\n",
       "      <td>0.034767</td>\n",
       "      <td>0.825293</td>\n",
       "      <td>17.937731</td>\n",
       "    </tr>\n",
       "    <tr>\n",
       "      <th>15</th>\n",
       "      <td>(22697)</td>\n",
       "      <td>(22698)</td>\n",
       "      <td>0.046009</td>\n",
       "      <td>0.623645</td>\n",
       "      <td>17.937731</td>\n",
       "    </tr>\n",
       "    <tr>\n",
       "      <th>33</th>\n",
       "      <td>(22699)</td>\n",
       "      <td>(22698, 22697)</td>\n",
       "      <td>0.048321</td>\n",
       "      <td>0.508443</td>\n",
       "      <td>17.719994</td>\n",
       "    </tr>\n",
       "    <tr>\n",
       "      <th>32</th>\n",
       "      <td>(22698, 22697)</td>\n",
       "      <td>(22699)</td>\n",
       "      <td>0.028693</td>\n",
       "      <td>0.856240</td>\n",
       "      <td>17.719994</td>\n",
       "    </tr>\n",
       "    <tr>\n",
       "      <th>26</th>\n",
       "      <td>(23300)</td>\n",
       "      <td>(23301)</td>\n",
       "      <td>0.034359</td>\n",
       "      <td>0.720317</td>\n",
       "      <td>17.405153</td>\n",
       "    </tr>\n",
       "    <tr>\n",
       "      <th>27</th>\n",
       "      <td>(23301)</td>\n",
       "      <td>(23300)</td>\n",
       "      <td>0.041385</td>\n",
       "      <td>0.598028</td>\n",
       "      <td>17.405153</td>\n",
       "    </tr>\n",
       "    <tr>\n",
       "      <th>19</th>\n",
       "      <td>(22699)</td>\n",
       "      <td>(22698)</td>\n",
       "      <td>0.048321</td>\n",
       "      <td>0.561914</td>\n",
       "      <td>16.162162</td>\n",
       "    </tr>\n",
       "    <tr>\n",
       "      <th>18</th>\n",
       "      <td>(22698)</td>\n",
       "      <td>(22699)</td>\n",
       "      <td>0.034767</td>\n",
       "      <td>0.780965</td>\n",
       "      <td>16.162162</td>\n",
       "    </tr>\n",
       "    <tr>\n",
       "      <th>16</th>\n",
       "      <td>(22699)</td>\n",
       "      <td>(22697)</td>\n",
       "      <td>0.048321</td>\n",
       "      <td>0.720450</td>\n",
       "      <td>15.658969</td>\n",
       "    </tr>\n",
       "    <tr>\n",
       "      <th>17</th>\n",
       "      <td>(22697)</td>\n",
       "      <td>(22699)</td>\n",
       "      <td>0.046009</td>\n",
       "      <td>0.756650</td>\n",
       "      <td>15.658969</td>\n",
       "    </tr>\n",
       "    <tr>\n",
       "      <th>13</th>\n",
       "      <td>(22630)</td>\n",
       "      <td>(22629)</td>\n",
       "      <td>0.038530</td>\n",
       "      <td>0.632941</td>\n",
       "      <td>15.514795</td>\n",
       "    </tr>\n",
       "    <tr>\n",
       "      <th>12</th>\n",
       "      <td>(22629)</td>\n",
       "      <td>(22630)</td>\n",
       "      <td>0.040796</td>\n",
       "      <td>0.597778</td>\n",
       "      <td>15.514795</td>\n",
       "    </tr>\n",
       "    <tr>\n",
       "      <th>9</th>\n",
       "      <td>(20724)</td>\n",
       "      <td>(22356)</td>\n",
       "      <td>0.046870</td>\n",
       "      <td>0.504836</td>\n",
       "      <td>14.989472</td>\n",
       "    </tr>\n",
       "    <tr>\n",
       "      <th>8</th>\n",
       "      <td>(22356)</td>\n",
       "      <td>(20724)</td>\n",
       "      <td>0.033679</td>\n",
       "      <td>0.702557</td>\n",
       "      <td>14.989472</td>\n",
       "    </tr>\n",
       "    <tr>\n",
       "      <th>5</th>\n",
       "      <td>(20723)</td>\n",
       "      <td>(20724)</td>\n",
       "      <td>0.032727</td>\n",
       "      <td>0.673130</td>\n",
       "      <td>14.361630</td>\n",
       "    </tr>\n",
       "    <tr>\n",
       "      <th>4</th>\n",
       "      <td>(20724)</td>\n",
       "      <td>(20723)</td>\n",
       "      <td>0.046870</td>\n",
       "      <td>0.470019</td>\n",
       "      <td>14.361630</td>\n",
       "    </tr>\n",
       "    <tr>\n",
       "      <th>20</th>\n",
       "      <td>(22727)</td>\n",
       "      <td>(22726)</td>\n",
       "      <td>0.047641</td>\n",
       "      <td>0.608944</td>\n",
       "      <td>13.680153</td>\n",
       "    </tr>\n",
       "    <tr>\n",
       "      <th>21</th>\n",
       "      <td>(22726)</td>\n",
       "      <td>(22727)</td>\n",
       "      <td>0.044513</td>\n",
       "      <td>0.651731</td>\n",
       "      <td>13.680153</td>\n",
       "    </tr>\n",
       "    <tr>\n",
       "      <th>2</th>\n",
       "      <td>(22355)</td>\n",
       "      <td>(20719)</td>\n",
       "      <td>0.040025</td>\n",
       "      <td>0.516421</td>\n",
       "      <td>13.644036</td>\n",
       "    </tr>\n",
       "    <tr>\n",
       "      <th>3</th>\n",
       "      <td>(20719)</td>\n",
       "      <td>(22355)</td>\n",
       "      <td>0.037850</td>\n",
       "      <td>0.546108</td>\n",
       "      <td>13.644036</td>\n",
       "    </tr>\n",
       "    <tr>\n",
       "      <th>0</th>\n",
       "      <td>(20724)</td>\n",
       "      <td>(20719)</td>\n",
       "      <td>0.046870</td>\n",
       "      <td>0.489362</td>\n",
       "      <td>12.929112</td>\n",
       "    </tr>\n",
       "    <tr>\n",
       "      <th>1</th>\n",
       "      <td>(20719)</td>\n",
       "      <td>(20724)</td>\n",
       "      <td>0.037850</td>\n",
       "      <td>0.605988</td>\n",
       "      <td>12.929112</td>\n",
       "    </tr>\n",
       "    <tr>\n",
       "      <th>10</th>\n",
       "      <td>(22086)</td>\n",
       "      <td>(22910)</td>\n",
       "      <td>0.052581</td>\n",
       "      <td>0.475862</td>\n",
       "      <td>12.802431</td>\n",
       "    </tr>\n",
       "    <tr>\n",
       "      <th>11</th>\n",
       "      <td>(22910)</td>\n",
       "      <td>(22086)</td>\n",
       "      <td>0.037170</td>\n",
       "      <td>0.673171</td>\n",
       "      <td>12.802431</td>\n",
       "    </tr>\n",
       "    <tr>\n",
       "      <th>23</th>\n",
       "      <td>(22727)</td>\n",
       "      <td>(22728)</td>\n",
       "      <td>0.047641</td>\n",
       "      <td>0.447193</td>\n",
       "      <td>12.599653</td>\n",
       "    </tr>\n",
       "    <tr>\n",
       "      <th>22</th>\n",
       "      <td>(22728)</td>\n",
       "      <td>(22727)</td>\n",
       "      <td>0.035492</td>\n",
       "      <td>0.600255</td>\n",
       "      <td>12.599653</td>\n",
       "    </tr>\n",
       "    <tr>\n",
       "      <th>7</th>\n",
       "      <td>(22355)</td>\n",
       "      <td>(20724)</td>\n",
       "      <td>0.040025</td>\n",
       "      <td>0.574179</td>\n",
       "      <td>12.250446</td>\n",
       "    </tr>\n",
       "    <tr>\n",
       "      <th>6</th>\n",
       "      <td>(20724)</td>\n",
       "      <td>(22355)</td>\n",
       "      <td>0.046870</td>\n",
       "      <td>0.490329</td>\n",
       "      <td>12.250446</td>\n",
       "    </tr>\n",
       "    <tr>\n",
       "      <th>28</th>\n",
       "      <td>(82494L)</td>\n",
       "      <td>(82482)</td>\n",
       "      <td>0.041476</td>\n",
       "      <td>0.551913</td>\n",
       "      <td>11.068857</td>\n",
       "    </tr>\n",
       "    <tr>\n",
       "      <th>29</th>\n",
       "      <td>(82482)</td>\n",
       "      <td>(82494L)</td>\n",
       "      <td>0.049862</td>\n",
       "      <td>0.459091</td>\n",
       "      <td>11.068857</td>\n",
       "    </tr>\n",
       "    <tr>\n",
       "      <th>25</th>\n",
       "      <td>(23202)</td>\n",
       "      <td>(23203)</td>\n",
       "      <td>0.039889</td>\n",
       "      <td>0.586364</td>\n",
       "      <td>10.499812</td>\n",
       "    </tr>\n",
       "    <tr>\n",
       "      <th>24</th>\n",
       "      <td>(23203)</td>\n",
       "      <td>(23202)</td>\n",
       "      <td>0.055845</td>\n",
       "      <td>0.418831</td>\n",
       "      <td>10.499812</td>\n",
       "    </tr>\n",
       "  </tbody>\n",
       "</table>\n",
       "</div>"
      ],
      "text/plain": [
       "       antecedants     consequents   support  confidence       lift\n",
       "34         (22698)  (22699, 22697)  0.034767    0.706649  20.298685\n",
       "31  (22699, 22697)         (22698)  0.034813    0.705729  20.298685\n",
       "35         (22697)  (22699, 22698)  0.046009    0.533990  19.666706\n",
       "30  (22699, 22698)         (22697)  0.027152    0.904841  19.666706\n",
       "14         (22698)         (22697)  0.034767    0.825293  17.937731\n",
       "15         (22697)         (22698)  0.046009    0.623645  17.937731\n",
       "33         (22699)  (22698, 22697)  0.048321    0.508443  17.719994\n",
       "32  (22698, 22697)         (22699)  0.028693    0.856240  17.719994\n",
       "26         (23300)         (23301)  0.034359    0.720317  17.405153\n",
       "27         (23301)         (23300)  0.041385    0.598028  17.405153\n",
       "19         (22699)         (22698)  0.048321    0.561914  16.162162\n",
       "18         (22698)         (22699)  0.034767    0.780965  16.162162\n",
       "16         (22699)         (22697)  0.048321    0.720450  15.658969\n",
       "17         (22697)         (22699)  0.046009    0.756650  15.658969\n",
       "13         (22630)         (22629)  0.038530    0.632941  15.514795\n",
       "12         (22629)         (22630)  0.040796    0.597778  15.514795\n",
       "9          (20724)         (22356)  0.046870    0.504836  14.989472\n",
       "8          (22356)         (20724)  0.033679    0.702557  14.989472\n",
       "5          (20723)         (20724)  0.032727    0.673130  14.361630\n",
       "4          (20724)         (20723)  0.046870    0.470019  14.361630\n",
       "20         (22727)         (22726)  0.047641    0.608944  13.680153\n",
       "21         (22726)         (22727)  0.044513    0.651731  13.680153\n",
       "2          (22355)         (20719)  0.040025    0.516421  13.644036\n",
       "3          (20719)         (22355)  0.037850    0.546108  13.644036\n",
       "0          (20724)         (20719)  0.046870    0.489362  12.929112\n",
       "1          (20719)         (20724)  0.037850    0.605988  12.929112\n",
       "10         (22086)         (22910)  0.052581    0.475862  12.802431\n",
       "11         (22910)         (22086)  0.037170    0.673171  12.802431\n",
       "23         (22727)         (22728)  0.047641    0.447193  12.599653\n",
       "22         (22728)         (22727)  0.035492    0.600255  12.599653\n",
       "7          (22355)         (20724)  0.040025    0.574179  12.250446\n",
       "6          (20724)         (22355)  0.046870    0.490329  12.250446\n",
       "28        (82494L)         (82482)  0.041476    0.551913  11.068857\n",
       "29         (82482)        (82494L)  0.049862    0.459091  11.068857\n",
       "25         (23202)         (23203)  0.039889    0.586364  10.499812\n",
       "24         (23203)         (23202)  0.055845    0.418831  10.499812"
      ]
     },
     "execution_count": 74,
     "metadata": {},
     "output_type": "execute_result"
    }
   ],
   "source": [
    "AR.sort_values('lift',ascending=False)#.head(10)"
   ]
  },
  {
   "cell_type": "code",
   "execution_count": 75,
   "metadata": {},
   "outputs": [],
   "source": [
    "frequent_itemsets['length'] = frequent_itemsets['itemsets'].apply(lambda x: len(x))"
   ]
  },
  {
   "cell_type": "code",
   "execution_count": 76,
   "metadata": {},
   "outputs": [
    {
     "data": {
      "text/html": [
       "<div>\n",
       "<style>\n",
       "    .dataframe thead tr:only-child th {\n",
       "        text-align: right;\n",
       "    }\n",
       "\n",
       "    .dataframe thead th {\n",
       "        text-align: left;\n",
       "    }\n",
       "\n",
       "    .dataframe tbody tr th {\n",
       "        vertical-align: top;\n",
       "    }\n",
       "</style>\n",
       "<table border=\"1\" class=\"dataframe\">\n",
       "  <thead>\n",
       "    <tr style=\"text-align: right;\">\n",
       "      <th></th>\n",
       "      <th>support</th>\n",
       "      <th>itemsets</th>\n",
       "      <th>length</th>\n",
       "    </tr>\n",
       "  </thead>\n",
       "  <tbody>\n",
       "    <tr>\n",
       "      <th>246</th>\n",
       "      <td>0.020353</td>\n",
       "      <td>[20712, 21931]</td>\n",
       "      <td>2</td>\n",
       "    </tr>\n",
       "    <tr>\n",
       "      <th>247</th>\n",
       "      <td>0.024251</td>\n",
       "      <td>[20712, 85099B]</td>\n",
       "      <td>2</td>\n",
       "    </tr>\n",
       "    <tr>\n",
       "      <th>248</th>\n",
       "      <td>0.022936</td>\n",
       "      <td>[20719, 20724]</td>\n",
       "      <td>2</td>\n",
       "    </tr>\n",
       "    <tr>\n",
       "      <th>249</th>\n",
       "      <td>0.020670</td>\n",
       "      <td>[20719, 22355]</td>\n",
       "      <td>2</td>\n",
       "    </tr>\n",
       "    <tr>\n",
       "      <th>250</th>\n",
       "      <td>0.022030</td>\n",
       "      <td>[20723, 20724]</td>\n",
       "      <td>2</td>\n",
       "    </tr>\n",
       "    <tr>\n",
       "      <th>251</th>\n",
       "      <td>0.022982</td>\n",
       "      <td>[20724, 22355]</td>\n",
       "      <td>2</td>\n",
       "    </tr>\n",
       "    <tr>\n",
       "      <th>252</th>\n",
       "      <td>0.023662</td>\n",
       "      <td>[20724, 22356]</td>\n",
       "      <td>2</td>\n",
       "    </tr>\n",
       "    <tr>\n",
       "      <th>253</th>\n",
       "      <td>0.023843</td>\n",
       "      <td>[20725, 20726]</td>\n",
       "      <td>2</td>\n",
       "    </tr>\n",
       "    <tr>\n",
       "      <th>254</th>\n",
       "      <td>0.029056</td>\n",
       "      <td>[20725, 20727]</td>\n",
       "      <td>2</td>\n",
       "    </tr>\n",
       "    <tr>\n",
       "      <th>255</th>\n",
       "      <td>0.025158</td>\n",
       "      <td>[20725, 20728]</td>\n",
       "      <td>2</td>\n",
       "    </tr>\n",
       "    <tr>\n",
       "      <th>256</th>\n",
       "      <td>0.025384</td>\n",
       "      <td>[20725, 22382]</td>\n",
       "      <td>2</td>\n",
       "    </tr>\n",
       "    <tr>\n",
       "      <th>257</th>\n",
       "      <td>0.029690</td>\n",
       "      <td>[20725, 22383]</td>\n",
       "      <td>2</td>\n",
       "    </tr>\n",
       "    <tr>\n",
       "      <th>258</th>\n",
       "      <td>0.027469</td>\n",
       "      <td>[20725, 22384]</td>\n",
       "      <td>2</td>\n",
       "    </tr>\n",
       "    <tr>\n",
       "      <th>259</th>\n",
       "      <td>0.022075</td>\n",
       "      <td>[20725, 23206]</td>\n",
       "      <td>2</td>\n",
       "    </tr>\n",
       "    <tr>\n",
       "      <th>260</th>\n",
       "      <td>0.020942</td>\n",
       "      <td>[20725, 23209]</td>\n",
       "      <td>2</td>\n",
       "    </tr>\n",
       "    <tr>\n",
       "      <th>261</th>\n",
       "      <td>0.026245</td>\n",
       "      <td>[20725, 85099B]</td>\n",
       "      <td>2</td>\n",
       "    </tr>\n",
       "    <tr>\n",
       "      <th>262</th>\n",
       "      <td>0.020126</td>\n",
       "      <td>[20726, 20727]</td>\n",
       "      <td>2</td>\n",
       "    </tr>\n",
       "    <tr>\n",
       "      <th>263</th>\n",
       "      <td>0.020307</td>\n",
       "      <td>[20726, 20728]</td>\n",
       "      <td>2</td>\n",
       "    </tr>\n",
       "    <tr>\n",
       "      <th>264</th>\n",
       "      <td>0.021713</td>\n",
       "      <td>[20726, 22382]</td>\n",
       "      <td>2</td>\n",
       "    </tr>\n",
       "    <tr>\n",
       "      <th>265</th>\n",
       "      <td>0.020353</td>\n",
       "      <td>[20726, 22383]</td>\n",
       "      <td>2</td>\n",
       "    </tr>\n",
       "    <tr>\n",
       "      <th>266</th>\n",
       "      <td>0.023662</td>\n",
       "      <td>[20727, 20728]</td>\n",
       "      <td>2</td>\n",
       "    </tr>\n",
       "    <tr>\n",
       "      <th>267</th>\n",
       "      <td>0.023208</td>\n",
       "      <td>[20727, 22382]</td>\n",
       "      <td>2</td>\n",
       "    </tr>\n",
       "    <tr>\n",
       "      <th>268</th>\n",
       "      <td>0.026472</td>\n",
       "      <td>[20727, 22383]</td>\n",
       "      <td>2</td>\n",
       "    </tr>\n",
       "    <tr>\n",
       "      <th>269</th>\n",
       "      <td>0.024659</td>\n",
       "      <td>[20727, 22384]</td>\n",
       "      <td>2</td>\n",
       "    </tr>\n",
       "    <tr>\n",
       "      <th>270</th>\n",
       "      <td>0.021894</td>\n",
       "      <td>[20728, 22382]</td>\n",
       "      <td>2</td>\n",
       "    </tr>\n",
       "    <tr>\n",
       "      <th>...</th>\n",
       "      <td>...</td>\n",
       "      <td>...</td>\n",
       "      <td>...</td>\n",
       "    </tr>\n",
       "    <tr>\n",
       "      <th>283</th>\n",
       "      <td>0.020353</td>\n",
       "      <td>[22383, 23206]</td>\n",
       "      <td>2</td>\n",
       "    </tr>\n",
       "    <tr>\n",
       "      <th>284</th>\n",
       "      <td>0.021214</td>\n",
       "      <td>[22386, 22411]</td>\n",
       "      <td>2</td>\n",
       "    </tr>\n",
       "    <tr>\n",
       "      <th>285</th>\n",
       "      <td>0.037396</td>\n",
       "      <td>[22386, 85099B]</td>\n",
       "      <td>2</td>\n",
       "    </tr>\n",
       "    <tr>\n",
       "      <th>286</th>\n",
       "      <td>0.030824</td>\n",
       "      <td>[22411, 85099B]</td>\n",
       "      <td>2</td>\n",
       "    </tr>\n",
       "    <tr>\n",
       "      <th>287</th>\n",
       "      <td>0.023072</td>\n",
       "      <td>[22423, 22697]</td>\n",
       "      <td>2</td>\n",
       "    </tr>\n",
       "    <tr>\n",
       "      <th>288</th>\n",
       "      <td>0.023798</td>\n",
       "      <td>[22423, 22699]</td>\n",
       "      <td>2</td>\n",
       "    </tr>\n",
       "    <tr>\n",
       "      <th>289</th>\n",
       "      <td>0.022347</td>\n",
       "      <td>[22469, 22470]</td>\n",
       "      <td>2</td>\n",
       "    </tr>\n",
       "    <tr>\n",
       "      <th>290</th>\n",
       "      <td>0.024387</td>\n",
       "      <td>[22629, 22630]</td>\n",
       "      <td>2</td>\n",
       "    </tr>\n",
       "    <tr>\n",
       "      <th>291</th>\n",
       "      <td>0.028693</td>\n",
       "      <td>[22697, 22698]</td>\n",
       "      <td>2</td>\n",
       "    </tr>\n",
       "    <tr>\n",
       "      <th>292</th>\n",
       "      <td>0.034813</td>\n",
       "      <td>[22697, 22699]</td>\n",
       "      <td>2</td>\n",
       "    </tr>\n",
       "    <tr>\n",
       "      <th>293</th>\n",
       "      <td>0.027152</td>\n",
       "      <td>[22698, 22699]</td>\n",
       "      <td>2</td>\n",
       "    </tr>\n",
       "    <tr>\n",
       "      <th>294</th>\n",
       "      <td>0.029010</td>\n",
       "      <td>[22726, 22727]</td>\n",
       "      <td>2</td>\n",
       "    </tr>\n",
       "    <tr>\n",
       "      <th>295</th>\n",
       "      <td>0.021305</td>\n",
       "      <td>[22727, 22728]</td>\n",
       "      <td>2</td>\n",
       "    </tr>\n",
       "    <tr>\n",
       "      <th>296</th>\n",
       "      <td>0.021395</td>\n",
       "      <td>[22960, 22961]</td>\n",
       "      <td>2</td>\n",
       "    </tr>\n",
       "    <tr>\n",
       "      <th>297</th>\n",
       "      <td>0.024750</td>\n",
       "      <td>[23199, 85099B]</td>\n",
       "      <td>2</td>\n",
       "    </tr>\n",
       "    <tr>\n",
       "      <th>298</th>\n",
       "      <td>0.023390</td>\n",
       "      <td>[23202, 23203]</td>\n",
       "      <td>2</td>\n",
       "    </tr>\n",
       "    <tr>\n",
       "      <th>299</th>\n",
       "      <td>0.022846</td>\n",
       "      <td>[23203, 23209]</td>\n",
       "      <td>2</td>\n",
       "    </tr>\n",
       "    <tr>\n",
       "      <th>300</th>\n",
       "      <td>0.026155</td>\n",
       "      <td>[23203, 85099B]</td>\n",
       "      <td>2</td>\n",
       "    </tr>\n",
       "    <tr>\n",
       "      <th>301</th>\n",
       "      <td>0.021894</td>\n",
       "      <td>[23298, 47566]</td>\n",
       "      <td>2</td>\n",
       "    </tr>\n",
       "    <tr>\n",
       "      <th>302</th>\n",
       "      <td>0.024750</td>\n",
       "      <td>[23300, 23301]</td>\n",
       "      <td>2</td>\n",
       "    </tr>\n",
       "    <tr>\n",
       "      <th>303</th>\n",
       "      <td>0.022891</td>\n",
       "      <td>[82482, 82494L]</td>\n",
       "      <td>2</td>\n",
       "    </tr>\n",
       "    <tr>\n",
       "      <th>304</th>\n",
       "      <td>0.026517</td>\n",
       "      <td>[85099B, 85099C]</td>\n",
       "      <td>2</td>\n",
       "    </tr>\n",
       "    <tr>\n",
       "      <th>305</th>\n",
       "      <td>0.024342</td>\n",
       "      <td>[85099B, 85099F]</td>\n",
       "      <td>2</td>\n",
       "    </tr>\n",
       "    <tr>\n",
       "      <th>306</th>\n",
       "      <td>0.021984</td>\n",
       "      <td>[85099B, DOT]</td>\n",
       "      <td>2</td>\n",
       "    </tr>\n",
       "    <tr>\n",
       "      <th>307</th>\n",
       "      <td>0.024568</td>\n",
       "      <td>[22697, 22698, 22699]</td>\n",
       "      <td>3</td>\n",
       "    </tr>\n",
       "  </tbody>\n",
       "</table>\n",
       "<p>62 rows × 3 columns</p>\n",
       "</div>"
      ],
      "text/plain": [
       "      support               itemsets  length\n",
       "246  0.020353         [20712, 21931]       2\n",
       "247  0.024251        [20712, 85099B]       2\n",
       "248  0.022936         [20719, 20724]       2\n",
       "249  0.020670         [20719, 22355]       2\n",
       "250  0.022030         [20723, 20724]       2\n",
       "251  0.022982         [20724, 22355]       2\n",
       "252  0.023662         [20724, 22356]       2\n",
       "253  0.023843         [20725, 20726]       2\n",
       "254  0.029056         [20725, 20727]       2\n",
       "255  0.025158         [20725, 20728]       2\n",
       "256  0.025384         [20725, 22382]       2\n",
       "257  0.029690         [20725, 22383]       2\n",
       "258  0.027469         [20725, 22384]       2\n",
       "259  0.022075         [20725, 23206]       2\n",
       "260  0.020942         [20725, 23209]       2\n",
       "261  0.026245        [20725, 85099B]       2\n",
       "262  0.020126         [20726, 20727]       2\n",
       "263  0.020307         [20726, 20728]       2\n",
       "264  0.021713         [20726, 22382]       2\n",
       "265  0.020353         [20726, 22383]       2\n",
       "266  0.023662         [20727, 20728]       2\n",
       "267  0.023208         [20727, 22382]       2\n",
       "268  0.026472         [20727, 22383]       2\n",
       "269  0.024659         [20727, 22384]       2\n",
       "270  0.021894         [20728, 22382]       2\n",
       "..        ...                    ...     ...\n",
       "283  0.020353         [22383, 23206]       2\n",
       "284  0.021214         [22386, 22411]       2\n",
       "285  0.037396        [22386, 85099B]       2\n",
       "286  0.030824        [22411, 85099B]       2\n",
       "287  0.023072         [22423, 22697]       2\n",
       "288  0.023798         [22423, 22699]       2\n",
       "289  0.022347         [22469, 22470]       2\n",
       "290  0.024387         [22629, 22630]       2\n",
       "291  0.028693         [22697, 22698]       2\n",
       "292  0.034813         [22697, 22699]       2\n",
       "293  0.027152         [22698, 22699]       2\n",
       "294  0.029010         [22726, 22727]       2\n",
       "295  0.021305         [22727, 22728]       2\n",
       "296  0.021395         [22960, 22961]       2\n",
       "297  0.024750        [23199, 85099B]       2\n",
       "298  0.023390         [23202, 23203]       2\n",
       "299  0.022846         [23203, 23209]       2\n",
       "300  0.026155        [23203, 85099B]       2\n",
       "301  0.021894         [23298, 47566]       2\n",
       "302  0.024750         [23300, 23301]       2\n",
       "303  0.022891        [82482, 82494L]       2\n",
       "304  0.026517       [85099B, 85099C]       2\n",
       "305  0.024342       [85099B, 85099F]       2\n",
       "306  0.021984          [85099B, DOT]       2\n",
       "307  0.024568  [22697, 22698, 22699]       3\n",
       "\n",
       "[62 rows x 3 columns]"
      ]
     },
     "execution_count": 76,
     "metadata": {},
     "output_type": "execute_result"
    }
   ],
   "source": [
    "#Filter to show only those transactions with multiple products and a support of 0.8 minimally\n",
    "frequent_itemsets[ (frequent_itemsets['length'] >= 2) &\n",
    "                  (frequent_itemsets['support'] >= 0.02) ]"
   ]
  },
  {
   "cell_type": "markdown",
   "metadata": {},
   "source": [
    "## Model by customer rather than invoice"
   ]
  },
  {
   "cell_type": "code",
   "execution_count": 77,
   "metadata": {},
   "outputs": [
    {
     "data": {
      "text/plain": [
       "4339"
      ]
     },
     "execution_count": 77,
     "metadata": {},
     "output_type": "execute_result"
    },
    {
     "data": {
      "text/html": [
       "<div>\n",
       "<style>\n",
       "    .dataframe thead tr:only-child th {\n",
       "        text-align: right;\n",
       "    }\n",
       "\n",
       "    .dataframe thead th {\n",
       "        text-align: left;\n",
       "    }\n",
       "\n",
       "    .dataframe tbody tr th {\n",
       "        vertical-align: top;\n",
       "    }\n",
       "</style>\n",
       "<table border=\"1\" class=\"dataframe\">\n",
       "  <thead>\n",
       "    <tr style=\"text-align: right;\">\n",
       "      <th></th>\n",
       "      <th>StockCode</th>\n",
       "    </tr>\n",
       "    <tr>\n",
       "      <th>CustomerID</th>\n",
       "      <th></th>\n",
       "    </tr>\n",
       "  </thead>\n",
       "  <tbody>\n",
       "    <tr>\n",
       "      <th>12346.0</th>\n",
       "      <td>[23166]</td>\n",
       "    </tr>\n",
       "    <tr>\n",
       "      <th>12347.0</th>\n",
       "      <td>[20780, 20782, 21064, 21171, 21731, 22195, 222...</td>\n",
       "    </tr>\n",
       "    <tr>\n",
       "      <th>12348.0</th>\n",
       "      <td>[21211, 21213, 21213, 21725, 21977, 21977, 219...</td>\n",
       "    </tr>\n",
       "    <tr>\n",
       "      <th>12349.0</th>\n",
       "      <td>[20685, 20914, 21086, 21136, 21231, 21232, 214...</td>\n",
       "    </tr>\n",
       "  </tbody>\n",
       "</table>\n",
       "</div>"
      ],
      "text/plain": [
       "                                                    StockCode\n",
       "CustomerID                                                   \n",
       "12346.0                                               [23166]\n",
       "12347.0     [20780, 20782, 21064, 21171, 21731, 22195, 222...\n",
       "12348.0     [21211, 21213, 21213, 21725, 21977, 21977, 219...\n",
       "12349.0     [20685, 20914, 21086, 21136, 21231, 21232, 214..."
      ]
     },
     "execution_count": 77,
     "metadata": {},
     "output_type": "execute_result"
    }
   ],
   "source": [
    "customer_sessions = pd.DataFrame(OR.groupby('CustomerID')['StockCode'].apply(list))\n",
    "len(customer_sessions)\n",
    "customer_sessions.head(4)"
   ]
  },
  {
   "cell_type": "code",
   "execution_count": 78,
   "metadata": {},
   "outputs": [],
   "source": [
    "#from mlxtend.frequent_patterns import apriori, association_rules\n",
    "#from mlxtend.preprocessing import OnehotTransactions\n",
    "#oht = OnehotTransactions()\n",
    "customer_sessionsOHT = oht.fit(customer_sessions.StockCode).transform(customer_sessions.StockCode)"
   ]
  },
  {
   "cell_type": "code",
   "execution_count": 79,
   "metadata": {},
   "outputs": [],
   "source": [
    "customer_sessionsOHTdf = pd.DataFrame(customer_sessionsOHT, columns=oht.columns_)"
   ]
  },
  {
   "cell_type": "code",
   "execution_count": 105,
   "metadata": {},
   "outputs": [],
   "source": [
    "customer_sessions_frequent_itemsets = apriori(customer_sessionsOHTdf, min_support=0.04, use_colnames=True)"
   ]
  },
  {
   "cell_type": "code",
   "execution_count": 100,
   "metadata": {},
   "outputs": [],
   "source": [
    "customer_sessions_frequent_itemsets['length'] = customer_sessions_frequent_itemsets['itemsets'].apply(lambda x: len(x))"
   ]
  },
  {
   "cell_type": "code",
   "execution_count": 101,
   "metadata": {},
   "outputs": [
    {
     "data": {
      "text/html": [
       "<div>\n",
       "<style>\n",
       "    .dataframe thead tr:only-child th {\n",
       "        text-align: right;\n",
       "    }\n",
       "\n",
       "    .dataframe thead th {\n",
       "        text-align: left;\n",
       "    }\n",
       "\n",
       "    .dataframe tbody tr th {\n",
       "        vertical-align: top;\n",
       "    }\n",
       "</style>\n",
       "<table border=\"1\" class=\"dataframe\">\n",
       "  <thead>\n",
       "    <tr style=\"text-align: right;\">\n",
       "      <th></th>\n",
       "      <th>support</th>\n",
       "      <th>itemsets</th>\n",
       "      <th>length</th>\n",
       "    </tr>\n",
       "  </thead>\n",
       "  <tbody>\n",
       "    <tr>\n",
       "      <th>174</th>\n",
       "      <td>0.069140</td>\n",
       "      <td>[20725, 20727]</td>\n",
       "      <td>2</td>\n",
       "    </tr>\n",
       "    <tr>\n",
       "      <th>175</th>\n",
       "      <td>0.070984</td>\n",
       "      <td>[20725, 20728]</td>\n",
       "      <td>2</td>\n",
       "    </tr>\n",
       "    <tr>\n",
       "      <th>176</th>\n",
       "      <td>0.069601</td>\n",
       "      <td>[20725, 22382]</td>\n",
       "      <td>2</td>\n",
       "    </tr>\n",
       "    <tr>\n",
       "      <th>177</th>\n",
       "      <td>0.065222</td>\n",
       "      <td>[20725, 22383]</td>\n",
       "      <td>2</td>\n",
       "    </tr>\n",
       "    <tr>\n",
       "      <th>178</th>\n",
       "      <td>0.067988</td>\n",
       "      <td>[20725, 22384]</td>\n",
       "      <td>2</td>\n",
       "    </tr>\n",
       "    <tr>\n",
       "      <th>179</th>\n",
       "      <td>0.061304</td>\n",
       "      <td>[20725, 23209]</td>\n",
       "      <td>2</td>\n",
       "    </tr>\n",
       "    <tr>\n",
       "      <th>180</th>\n",
       "      <td>0.062687</td>\n",
       "      <td>[20725, 85099B]</td>\n",
       "      <td>2</td>\n",
       "    </tr>\n",
       "    <tr>\n",
       "      <th>181</th>\n",
       "      <td>0.060152</td>\n",
       "      <td>[20726, 22382]</td>\n",
       "      <td>2</td>\n",
       "    </tr>\n",
       "    <tr>\n",
       "      <th>182</th>\n",
       "      <td>0.060383</td>\n",
       "      <td>[20727, 20728]</td>\n",
       "      <td>2</td>\n",
       "    </tr>\n",
       "    <tr>\n",
       "      <th>183</th>\n",
       "      <td>0.061304</td>\n",
       "      <td>[20727, 22382]</td>\n",
       "      <td>2</td>\n",
       "    </tr>\n",
       "    <tr>\n",
       "      <th>184</th>\n",
       "      <td>0.061535</td>\n",
       "      <td>[20727, 22383]</td>\n",
       "      <td>2</td>\n",
       "    </tr>\n",
       "    <tr>\n",
       "      <th>185</th>\n",
       "      <td>0.064301</td>\n",
       "      <td>[20727, 22384]</td>\n",
       "      <td>2</td>\n",
       "    </tr>\n",
       "    <tr>\n",
       "      <th>186</th>\n",
       "      <td>0.065222</td>\n",
       "      <td>[20728, 22382]</td>\n",
       "      <td>2</td>\n",
       "    </tr>\n",
       "    <tr>\n",
       "      <th>187</th>\n",
       "      <td>0.065914</td>\n",
       "      <td>[20728, 22383]</td>\n",
       "      <td>2</td>\n",
       "    </tr>\n",
       "    <tr>\n",
       "      <th>188</th>\n",
       "      <td>0.065453</td>\n",
       "      <td>[20728, 22384]</td>\n",
       "      <td>2</td>\n",
       "    </tr>\n",
       "    <tr>\n",
       "      <th>189</th>\n",
       "      <td>0.063148</td>\n",
       "      <td>[21212, 21977]</td>\n",
       "      <td>2</td>\n",
       "    </tr>\n",
       "    <tr>\n",
       "      <th>190</th>\n",
       "      <td>0.061996</td>\n",
       "      <td>[21212, 84991]</td>\n",
       "      <td>2</td>\n",
       "    </tr>\n",
       "    <tr>\n",
       "      <th>191</th>\n",
       "      <td>0.071906</td>\n",
       "      <td>[21733, 85123A]</td>\n",
       "      <td>2</td>\n",
       "    </tr>\n",
       "    <tr>\n",
       "      <th>192</th>\n",
       "      <td>0.075363</td>\n",
       "      <td>[22086, 22910]</td>\n",
       "      <td>2</td>\n",
       "    </tr>\n",
       "    <tr>\n",
       "      <th>193</th>\n",
       "      <td>0.064992</td>\n",
       "      <td>[22382, 22383]</td>\n",
       "      <td>2</td>\n",
       "    </tr>\n",
       "    <tr>\n",
       "      <th>194</th>\n",
       "      <td>0.065683</td>\n",
       "      <td>[22386, 85099B]</td>\n",
       "      <td>2</td>\n",
       "    </tr>\n",
       "    <tr>\n",
       "      <th>195</th>\n",
       "      <td>0.068449</td>\n",
       "      <td>[22423, 22697]</td>\n",
       "      <td>2</td>\n",
       "    </tr>\n",
       "    <tr>\n",
       "      <th>196</th>\n",
       "      <td>0.073980</td>\n",
       "      <td>[22423, 22699]</td>\n",
       "      <td>2</td>\n",
       "    </tr>\n",
       "    <tr>\n",
       "      <th>197</th>\n",
       "      <td>0.069371</td>\n",
       "      <td>[22423, 23245]</td>\n",
       "      <td>2</td>\n",
       "    </tr>\n",
       "    <tr>\n",
       "      <th>198</th>\n",
       "      <td>0.063609</td>\n",
       "      <td>[22423, 47566]</td>\n",
       "      <td>2</td>\n",
       "    </tr>\n",
       "    <tr>\n",
       "      <th>199</th>\n",
       "      <td>0.060152</td>\n",
       "      <td>[22423, 85123A]</td>\n",
       "      <td>2</td>\n",
       "    </tr>\n",
       "    <tr>\n",
       "      <th>200</th>\n",
       "      <td>0.070984</td>\n",
       "      <td>[22469, 22470]</td>\n",
       "      <td>2</td>\n",
       "    </tr>\n",
       "    <tr>\n",
       "      <th>201</th>\n",
       "      <td>0.061304</td>\n",
       "      <td>[22469, 85123A]</td>\n",
       "      <td>2</td>\n",
       "    </tr>\n",
       "    <tr>\n",
       "      <th>202</th>\n",
       "      <td>0.061074</td>\n",
       "      <td>[22470, 85123A]</td>\n",
       "      <td>2</td>\n",
       "    </tr>\n",
       "    <tr>\n",
       "      <th>203</th>\n",
       "      <td>0.061074</td>\n",
       "      <td>[22666, 22720]</td>\n",
       "      <td>2</td>\n",
       "    </tr>\n",
       "    <tr>\n",
       "      <th>204</th>\n",
       "      <td>0.068218</td>\n",
       "      <td>[22697, 22698]</td>\n",
       "      <td>2</td>\n",
       "    </tr>\n",
       "    <tr>\n",
       "      <th>205</th>\n",
       "      <td>0.073980</td>\n",
       "      <td>[22697, 22699]</td>\n",
       "      <td>2</td>\n",
       "    </tr>\n",
       "    <tr>\n",
       "      <th>206</th>\n",
       "      <td>0.062687</td>\n",
       "      <td>[22698, 22699]</td>\n",
       "      <td>2</td>\n",
       "    </tr>\n",
       "    <tr>\n",
       "      <th>207</th>\n",
       "      <td>0.062687</td>\n",
       "      <td>[22720, 22722]</td>\n",
       "      <td>2</td>\n",
       "    </tr>\n",
       "    <tr>\n",
       "      <th>208</th>\n",
       "      <td>0.060844</td>\n",
       "      <td>[22726, 22727]</td>\n",
       "      <td>2</td>\n",
       "    </tr>\n",
       "    <tr>\n",
       "      <th>209</th>\n",
       "      <td>0.063379</td>\n",
       "      <td>[23203, 23209]</td>\n",
       "      <td>2</td>\n",
       "    </tr>\n",
       "    <tr>\n",
       "      <th>210</th>\n",
       "      <td>0.070984</td>\n",
       "      <td>[23203, 85099B]</td>\n",
       "      <td>2</td>\n",
       "    </tr>\n",
       "    <tr>\n",
       "      <th>211</th>\n",
       "      <td>0.069140</td>\n",
       "      <td>[23298, 47566]</td>\n",
       "      <td>2</td>\n",
       "    </tr>\n",
       "    <tr>\n",
       "      <th>212</th>\n",
       "      <td>0.061304</td>\n",
       "      <td>[23300, 23301]</td>\n",
       "      <td>2</td>\n",
       "    </tr>\n",
       "    <tr>\n",
       "      <th>213</th>\n",
       "      <td>0.064992</td>\n",
       "      <td>[82482, 82494L]</td>\n",
       "      <td>2</td>\n",
       "    </tr>\n",
       "    <tr>\n",
       "      <th>214</th>\n",
       "      <td>0.060152</td>\n",
       "      <td>[22697, 22698, 22699]</td>\n",
       "      <td>3</td>\n",
       "    </tr>\n",
       "  </tbody>\n",
       "</table>\n",
       "</div>"
      ],
      "text/plain": [
       "      support               itemsets  length\n",
       "174  0.069140         [20725, 20727]       2\n",
       "175  0.070984         [20725, 20728]       2\n",
       "176  0.069601         [20725, 22382]       2\n",
       "177  0.065222         [20725, 22383]       2\n",
       "178  0.067988         [20725, 22384]       2\n",
       "179  0.061304         [20725, 23209]       2\n",
       "180  0.062687        [20725, 85099B]       2\n",
       "181  0.060152         [20726, 22382]       2\n",
       "182  0.060383         [20727, 20728]       2\n",
       "183  0.061304         [20727, 22382]       2\n",
       "184  0.061535         [20727, 22383]       2\n",
       "185  0.064301         [20727, 22384]       2\n",
       "186  0.065222         [20728, 22382]       2\n",
       "187  0.065914         [20728, 22383]       2\n",
       "188  0.065453         [20728, 22384]       2\n",
       "189  0.063148         [21212, 21977]       2\n",
       "190  0.061996         [21212, 84991]       2\n",
       "191  0.071906        [21733, 85123A]       2\n",
       "192  0.075363         [22086, 22910]       2\n",
       "193  0.064992         [22382, 22383]       2\n",
       "194  0.065683        [22386, 85099B]       2\n",
       "195  0.068449         [22423, 22697]       2\n",
       "196  0.073980         [22423, 22699]       2\n",
       "197  0.069371         [22423, 23245]       2\n",
       "198  0.063609         [22423, 47566]       2\n",
       "199  0.060152        [22423, 85123A]       2\n",
       "200  0.070984         [22469, 22470]       2\n",
       "201  0.061304        [22469, 85123A]       2\n",
       "202  0.061074        [22470, 85123A]       2\n",
       "203  0.061074         [22666, 22720]       2\n",
       "204  0.068218         [22697, 22698]       2\n",
       "205  0.073980         [22697, 22699]       2\n",
       "206  0.062687         [22698, 22699]       2\n",
       "207  0.062687         [22720, 22722]       2\n",
       "208  0.060844         [22726, 22727]       2\n",
       "209  0.063379         [23203, 23209]       2\n",
       "210  0.070984        [23203, 85099B]       2\n",
       "211  0.069140         [23298, 47566]       2\n",
       "212  0.061304         [23300, 23301]       2\n",
       "213  0.064992        [82482, 82494L]       2\n",
       "214  0.060152  [22697, 22698, 22699]       3"
      ]
     },
     "execution_count": 101,
     "metadata": {},
     "output_type": "execute_result"
    }
   ],
   "source": [
    "customer_sessions_frequent_itemsets[ (customer_sessions_frequent_itemsets['length'] >= 2) &\n",
    "                  (customer_sessions_frequent_itemsets['support'] >= 0.02) ]"
   ]
  },
  {
   "cell_type": "code",
   "execution_count": 103,
   "metadata": {},
   "outputs": [],
   "source": [
    "AR = association_rules(customer_sessions_frequent_itemsets, metric=\"lift\", min_threshold=10)"
   ]
  },
  {
   "cell_type": "code",
   "execution_count": 106,
   "metadata": {},
   "outputs": [
    {
     "data": {
      "text/html": [
       "<div>\n",
       "<style>\n",
       "    .dataframe thead tr:only-child th {\n",
       "        text-align: right;\n",
       "    }\n",
       "\n",
       "    .dataframe thead th {\n",
       "        text-align: left;\n",
       "    }\n",
       "\n",
       "    .dataframe tbody tr th {\n",
       "        vertical-align: top;\n",
       "    }\n",
       "</style>\n",
       "<table border=\"1\" class=\"dataframe\">\n",
       "  <thead>\n",
       "    <tr style=\"text-align: right;\">\n",
       "      <th></th>\n",
       "      <th>antecedants</th>\n",
       "      <th>consequents</th>\n",
       "      <th>support</th>\n",
       "      <th>confidence</th>\n",
       "      <th>lift</th>\n",
       "    </tr>\n",
       "  </thead>\n",
       "  <tbody>\n",
       "    <tr>\n",
       "      <th>3</th>\n",
       "      <td>(22699, 22697)</td>\n",
       "      <td>(22698)</td>\n",
       "      <td>0.073980</td>\n",
       "      <td>0.813084</td>\n",
       "      <td>11.059473</td>\n",
       "    </tr>\n",
       "    <tr>\n",
       "      <th>4</th>\n",
       "      <td>(22698)</td>\n",
       "      <td>(22699, 22697)</td>\n",
       "      <td>0.073519</td>\n",
       "      <td>0.818182</td>\n",
       "      <td>11.059473</td>\n",
       "    </tr>\n",
       "    <tr>\n",
       "      <th>2</th>\n",
       "      <td>(22699, 22698)</td>\n",
       "      <td>(22697)</td>\n",
       "      <td>0.062687</td>\n",
       "      <td>0.959559</td>\n",
       "      <td>10.758464</td>\n",
       "    </tr>\n",
       "    <tr>\n",
       "      <th>5</th>\n",
       "      <td>(22697)</td>\n",
       "      <td>(22699, 22698)</td>\n",
       "      <td>0.089191</td>\n",
       "      <td>0.674419</td>\n",
       "      <td>10.758464</td>\n",
       "    </tr>\n",
       "    <tr>\n",
       "      <th>0</th>\n",
       "      <td>(22698)</td>\n",
       "      <td>(22697)</td>\n",
       "      <td>0.073519</td>\n",
       "      <td>0.927900</td>\n",
       "      <td>10.403506</td>\n",
       "    </tr>\n",
       "    <tr>\n",
       "      <th>1</th>\n",
       "      <td>(22697)</td>\n",
       "      <td>(22698)</td>\n",
       "      <td>0.089191</td>\n",
       "      <td>0.764858</td>\n",
       "      <td>10.403506</td>\n",
       "    </tr>\n",
       "  </tbody>\n",
       "</table>\n",
       "</div>"
      ],
      "text/plain": [
       "      antecedants     consequents   support  confidence       lift\n",
       "3  (22699, 22697)         (22698)  0.073980    0.813084  11.059473\n",
       "4         (22698)  (22699, 22697)  0.073519    0.818182  11.059473\n",
       "2  (22699, 22698)         (22697)  0.062687    0.959559  10.758464\n",
       "5         (22697)  (22699, 22698)  0.089191    0.674419  10.758464\n",
       "0         (22698)         (22697)  0.073519    0.927900  10.403506\n",
       "1         (22697)         (22698)  0.089191    0.764858  10.403506"
      ]
     },
     "execution_count": 106,
     "metadata": {},
     "output_type": "execute_result"
    }
   ],
   "source": [
    "AR.sort_values('lift',ascending=False)#.head(10)"
   ]
  },
  {
   "cell_type": "code",
   "execution_count": 131,
   "metadata": {},
   "outputs": [
    {
     "name": "stdout",
     "output_type": "stream",
     "text": [
      "Variable                              Type         Data/Info\n",
      "------------------------------------------------------------\n",
      "AR                                    DataFrame          antecedants     con<...>91    0.674419  10.758464\n",
      "customer_sessions                     DataFrame                             <...>\\n[4339 rows x 1 columns]\n",
      "customer_sessions_frequent_itemsets   DataFrame          support            <...>n\\n[748 rows x 2 columns]\n",
      "returning_customers_summary           DataFrame                frequency  re<...>\\n[2790 rows x 5 columns]\n",
      "sessions                              DataFrame                             <...>n[22061 rows x 1 columns]\n"
     ]
    }
   ],
   "source": [
    "whos DataFrame"
   ]
  },
  {
   "cell_type": "code",
   "execution_count": 121,
   "metadata": {},
   "outputs": [],
   "source": [
    "# del frequent_itemsets"
   ]
  },
  {
   "cell_type": "code",
   "execution_count": 130,
   "metadata": {},
   "outputs": [
    {
     "name": "stdout",
     "output_type": "stream",
     "text": [
      "No variables match your requested type.\n"
     ]
    }
   ],
   "source": [
    "whos ndarray"
   ]
  },
  {
   "cell_type": "code",
   "execution_count": null,
   "metadata": {},
   "outputs": [],
   "source": []
  },
  {
   "cell_type": "code",
   "execution_count": null,
   "metadata": {},
   "outputs": [],
   "source": []
  },
  {
   "cell_type": "code",
   "execution_count": null,
   "metadata": {},
   "outputs": [],
   "source": []
  },
  {
   "cell_type": "code",
   "execution_count": null,
   "metadata": {},
   "outputs": [],
   "source": []
  },
  {
   "cell_type": "code",
   "execution_count": null,
   "metadata": {},
   "outputs": [],
   "source": []
  },
  {
   "cell_type": "code",
   "execution_count": null,
   "metadata": {},
   "outputs": [],
   "source": []
  },
  {
   "cell_type": "code",
   "execution_count": null,
   "metadata": {},
   "outputs": [],
   "source": []
  },
  {
   "cell_type": "code",
   "execution_count": null,
   "metadata": {},
   "outputs": [],
   "source": []
  },
  {
   "cell_type": "code",
   "execution_count": null,
   "metadata": {},
   "outputs": [],
   "source": []
  },
  {
   "cell_type": "code",
   "execution_count": null,
   "metadata": {},
   "outputs": [],
   "source": []
  },
  {
   "cell_type": "code",
   "execution_count": null,
   "metadata": {},
   "outputs": [],
   "source": []
  },
  {
   "cell_type": "markdown",
   "metadata": {},
   "source": [
    "## Use pomegranate library for Bayesian network"
   ]
  },
  {
   "cell_type": "code",
   "execution_count": null,
   "metadata": {},
   "outputs": [],
   "source": [
    "from pomegranate import *"
   ]
  },
  {
   "cell_type": "code",
   "execution_count": null,
   "metadata": {},
   "outputs": [],
   "source": [
    "# # The guests initial door selection is completely random\n",
    "# guest = DiscreteDistribution( { 'A': 1./3, 'B': 1./3, 'C': 1./3 } )\n",
    "\n",
    "# # The door the prize is behind is also completely random\n",
    "# prize = DiscreteDistribution( { 'A': 1./3, 'B': 1./3, 'C': 1./3 } )\n",
    "\n",
    "# # Monty is dependent on both the guest and the prize. \n",
    "# monty = ConditionalProbabilityTable(\n",
    "#         [[ 'A', 'A', 'A', 0.0 ],\n",
    "#          [ 'A', 'A', 'B', 0.5 ],\n",
    "#          [ 'A', 'A', 'C', 0.5 ],\n",
    "#          [ 'A', 'B', 'A', 0.0 ],\n",
    "#          [ 'A', 'B', 'B', 0.0 ],\n",
    "#          [ 'A', 'B', 'C', 1.0 ],\n",
    "#          [ 'A', 'C', 'A', 0.0 ],\n",
    "#          [ 'A', 'C', 'B', 1.0 ],\n",
    "#          [ 'A', 'C', 'C', 0.0 ],\n",
    "#          [ 'B', 'A', 'A', 0.0 ],\n",
    "#          [ 'B', 'A', 'B', 0.0 ],\n",
    "#          [ 'B', 'A', 'C', 1.0 ],\n",
    "#          [ 'B', 'B', 'A', 0.5 ],\n",
    "#          [ 'B', 'B', 'B', 0.0 ],\n",
    "#          [ 'B', 'B', 'C', 0.5 ],\n",
    "#          [ 'B', 'C', 'A', 1.0 ],\n",
    "#          [ 'B', 'C', 'B', 0.0 ],\n",
    "#          [ 'B', 'C', 'C', 0.0 ],\n",
    "#          [ 'C', 'A', 'A', 0.0 ],\n",
    "#          [ 'C', 'A', 'B', 1.0 ],\n",
    "#          [ 'C', 'A', 'C', 0.0 ],\n",
    "#          [ 'C', 'B', 'A', 1.0 ],\n",
    "#          [ 'C', 'B', 'B', 0.0 ],\n",
    "#          [ 'C', 'B', 'C', 0.0 ],\n",
    "#          [ 'C', 'C', 'A', 0.5 ],\n",
    "#          [ 'C', 'C', 'B', 0.5 ],\n",
    "#          [ 'C', 'C', 'C', 0.0 ]], [guest, prize] )  \n",
    "\n",
    "# # State objects hold both the distribution, and a high level name.\n",
    "# s1 = State( guest, name=\"guest\" )\n",
    "# s2 = State( prize, name=\"prize\" )\n",
    "# s3 = State( monty, name=\"monty\" )\n",
    "\n",
    "# # Create the Bayesian network object with a useful name\n",
    "# model = BayesianNetwork( \"Monty Hall Problem\" )\n",
    "\n",
    "# # Add the three states to the network \n",
    "# model.add_states(s1)\n",
    "\n",
    "# # Add transitions which represent conditional dependencies, where the second node is conditionally dependent on the first node (Monty is dependent on both guest and prize)\n",
    "# # model.add_transition(s1, s3)\n",
    "# # model.add_transition(s2, s3)\n",
    "# # model.bake()\n",
    "\n",
    "\n",
    "\n",
    "# d = NormalDistribution( 0, 1 ) # The normal distribution\n",
    "# plt.figure( figsize=(10,6) )\n",
    "# d.plot( n=100000, edgecolor='c', facecolor='c', alpha=1, bins=50 )\n",
    "\n",
    "# print (d.log_probability(3))\n",
    "# print (d.log_probability(-3))"
   ]
  },
  {
   "cell_type": "code",
   "execution_count": null,
   "metadata": {},
   "outputs": [],
   "source": []
  },
  {
   "cell_type": "code",
   "execution_count": null,
   "metadata": {},
   "outputs": [],
   "source": []
  },
  {
   "cell_type": "code",
   "execution_count": null,
   "metadata": {},
   "outputs": [],
   "source": []
  },
  {
   "cell_type": "code",
   "execution_count": null,
   "metadata": {},
   "outputs": [],
   "source": []
  },
  {
   "cell_type": "code",
   "execution_count": null,
   "metadata": {},
   "outputs": [],
   "source": []
  },
  {
   "cell_type": "code",
   "execution_count": null,
   "metadata": {},
   "outputs": [],
   "source": []
  },
  {
   "cell_type": "code",
   "execution_count": null,
   "metadata": {},
   "outputs": [],
   "source": []
  },
  {
   "cell_type": "code",
   "execution_count": null,
   "metadata": {},
   "outputs": [],
   "source": []
  },
  {
   "cell_type": "markdown",
   "metadata": {},
   "source": [
    "## Instacart"
   ]
  },
  {
   "cell_type": "code",
   "execution_count": null,
   "metadata": {},
   "outputs": [],
   "source": [
    "# # Read in data and make appropriate joins\n",
    "# aisles = pd.read_csv('aisles.csv',sep=',',error_bad_lines=False)\n",
    "\n",
    "# products = pd.read_csv('products.csv',sep=',',error_bad_lines=False)\n",
    "\n",
    "# orders = pd.read_csv('orders.csv',sep=',',error_bad_lines=False)\n",
    "\n",
    "# departments = pd.read_csv('departments.csv',sep=',',error_bad_lines=False)\n",
    "\n",
    "# order_products__prior = pd.read_csv('order_products__prior.csv',sep=',',error_bad_lines=False)\n",
    "\n",
    "# order_products__train = pd.read_csv('order_products__train.csv',sep=',',error_bad_lines=False)\n",
    "\n",
    "# product_aisle = pd.merge(products,aisles,on='aisle_id')\n",
    "\n",
    "# product_aisle_department = pd.merge(product_aisle,departments,on='department_id')\n",
    "\n",
    "# user_order = pd.merge(order_products__train,orders,on='order_id')\n",
    "\n",
    "# user_order = user_order.sort_values(by='order_id',ascending='False')\n",
    "\n",
    "#aisles.head(10)\n",
    "#products.head(10)\n",
    "#orders.head(10)\n",
    "#departments.head(10)\n",
    "#order_products__prior.head(10)\n",
    "#order_products__train.head(10)\n",
    "#product_aisle.head(10)\n",
    "#product_aisle_department.head(10)\n",
    "#user_order.head(10)\n",
    "\n",
    "# Master = pd.merge(user_order,product_aisle_department,on='product_id')\n",
    "# Master = Master.sort_values(by=['order_id','product_id'],ascending='False')\n",
    "# Master.head(10)\n",
    "\n",
    "#Master.to_csv('Master.csv')\n",
    "\n",
    "# #https://stackoverflow.com/questions/15222754/group-by-pandas-dataframe-and-select-most-common-string-factor\n",
    "\n",
    "# weekdays = pd.DataFrame(Master.groupby(['order_dow','department'])['product_name'].agg(lambda x:x.value_counts().index[0]))\n",
    "\n",
    "# weekdays = weekdays.unstack(0)\n",
    "\n",
    "# weekdays.head()\n",
    "\n",
    "# weekdays.to_csv('Weekdays.csv')"
   ]
  },
  {
   "cell_type": "code",
   "execution_count": null,
   "metadata": {},
   "outputs": [],
   "source": [
    "# Master = pd.read_csv('Master.csv')\n",
    "# #Master.head()\n",
    "# Master.drop(['Unnamed: 0'], axis = 1, inplace = True)\n",
    "\n",
    "# Master.head(1)"
   ]
  },
  {
   "cell_type": "code",
   "execution_count": null,
   "metadata": {},
   "outputs": [],
   "source": [
    "#weekdays = pd.read_csv('weekdays.csv')\n",
    "\n",
    "# trim = Master.iloc[:,[0,1,10]]\n",
    "# trim.head()\n",
    "\n",
    "# sessions = pd.DataFrame(trim.groupby('order_id')['product_id'].apply(list))\n",
    "# sessions.head()\n",
    "\n",
    "#sessions.product_id[:10]\n",
    "\n",
    "# #sessions.to_csv('Sessions.csv')"
   ]
  },
  {
   "cell_type": "code",
   "execution_count": null,
   "metadata": {},
   "outputs": [],
   "source": [
    "# sessions = pd.read_csv('sessions.csv')\n",
    "# sessions.head()"
   ]
  },
  {
   "cell_type": "code",
   "execution_count": null,
   "metadata": {},
   "outputs": [],
   "source": []
  },
  {
   "cell_type": "code",
   "execution_count": null,
   "metadata": {},
   "outputs": [],
   "source": []
  },
  {
   "cell_type": "code",
   "execution_count": null,
   "metadata": {},
   "outputs": [],
   "source": []
  },
  {
   "cell_type": "code",
   "execution_count": null,
   "metadata": {},
   "outputs": [],
   "source": []
  },
  {
   "cell_type": "code",
   "execution_count": null,
   "metadata": {},
   "outputs": [],
   "source": []
  },
  {
   "cell_type": "code",
   "execution_count": null,
   "metadata": {},
   "outputs": [],
   "source": []
  },
  {
   "cell_type": "code",
   "execution_count": null,
   "metadata": {},
   "outputs": [],
   "source": []
  },
  {
   "cell_type": "code",
   "execution_count": null,
   "metadata": {},
   "outputs": [],
   "source": []
  }
 ],
 "metadata": {
  "kernelspec": {
   "display_name": "Python 3",
   "language": "python",
   "name": "python3"
  },
  "language_info": {
   "codemirror_mode": {
    "name": "ipython",
    "version": 3
   },
   "file_extension": ".py",
   "mimetype": "text/x-python",
   "name": "python",
   "nbconvert_exporter": "python",
   "pygments_lexer": "ipython3",
   "version": "3.6.2"
  }
 },
 "nbformat": 4,
 "nbformat_minor": 2
}
