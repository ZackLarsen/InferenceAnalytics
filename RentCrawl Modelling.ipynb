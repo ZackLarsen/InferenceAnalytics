{
 "cells": [
  {
   "cell_type": "code",
   "execution_count": 1,
   "metadata": {},
   "outputs": [],
   "source": [
    "from IPython.core.interactiveshell import InteractiveShell\n",
    "InteractiveShell.ast_node_interactivity = \"all\"\n",
    "%config InlineBackend.figure_format = 'retina'"
   ]
  },
  {
   "cell_type": "code",
   "execution_count": 2,
   "metadata": {},
   "outputs": [],
   "source": [
    "import os\n",
    "import time\n",
    "\n",
    "%matplotlib inline\n",
    "import matplotlib.pyplot as plt\n",
    "import seaborn as sns\n",
    "import pylab as pl\n",
    "\n",
    "import numpy as np\n",
    "np.set_printoptions(precision=2, linewidth=120, suppress=True, edgeitems=4)\n",
    "\n",
    "import pandas as pd\n",
    "pd.set_option('display.max_columns', 150)\n",
    "pd.set_option('display.max_rows', 50)\n",
    "#pd.set_option('precision', 5)"
   ]
  },
  {
   "cell_type": "code",
   "execution_count": 3,
   "metadata": {},
   "outputs": [],
   "source": [
    "from sklearn.model_selection import KFold, train_test_split, StratifiedKFold, GridSearchCV,learning_curve\n",
    "from sklearn.linear_model import LinearRegression, Lasso, Ridge, ElasticNet, SGDRegressor,RandomizedLasso\n",
    "from sklearn.feature_selection import RFE, f_regression, RFECV\n",
    "from sklearn.preprocessing import MinMaxScaler, StandardScaler\n",
    "from sklearn.ensemble import RandomForestRegressor\n",
    "from sklearn.metrics import mean_squared_error, r2_score\n",
    "from sklearn.svm import SVR\n",
    "from sklearn import decomposition\n",
    "from sklearn.pipeline import Pipeline\n",
    "from sklearn.kernel_ridge import KernelRidge"
   ]
  },
  {
   "cell_type": "code",
   "execution_count": 10,
   "metadata": {},
   "outputs": [
    {
     "name": "stdout",
     "output_type": "stream",
     "text": [
      "Adeel Qureshi - Assessor.xlsx         Int%2FExt Attribute Example (1).xlsx\r\n",
      "Axiometrics Trends.xlsx               Rent Zip Map.xlsx\r\n",
      "CA_census_by_zip.xlsx                 RentCrawlModel_v2.xlsx\r\n",
      "Chuckor_Assessor_Layout_20161103.xlsx Rental Crawl Sample.xlsx\r\n"
     ]
    }
   ],
   "source": [
    "os.chdir('/Users/zacklarsen/Dropbox/Inference Analytics Team Folder/Markeza/Datasets/')\n",
    "!ls *xlsx"
   ]
  },
  {
   "cell_type": "code",
   "execution_count": 26,
   "metadata": {},
   "outputs": [
    {
     "data": {
      "text/html": [
       "<div>\n",
       "<style>\n",
       "    .dataframe thead tr:only-child th {\n",
       "        text-align: right;\n",
       "    }\n",
       "\n",
       "    .dataframe thead th {\n",
       "        text-align: left;\n",
       "    }\n",
       "\n",
       "    .dataframe tbody tr th {\n",
       "        vertical-align: top;\n",
       "    }\n",
       "</style>\n",
       "<table border=\"1\" class=\"dataframe\">\n",
       "  <thead>\n",
       "    <tr style=\"text-align: right;\">\n",
       "      <th></th>\n",
       "      <th>Unnamed: 0</th>\n",
       "      <th>Rent</th>\n",
       "      <th>Bedrooms</th>\n",
       "      <th>Bathrooms</th>\n",
       "      <th>Squarefootage</th>\n",
       "      <th>No_Amenities</th>\n",
       "      <th>a/c</th>\n",
       "      <th>affordable</th>\n",
       "      <th>balcony</th>\n",
       "      <th>beautiful</th>\n",
       "      <th>beautifully maintained</th>\n",
       "      <th>brand new</th>\n",
       "      <th>city views</th>\n",
       "      <th>controlled access</th>\n",
       "      <th>conveniently located</th>\n",
       "      <th>covered parking</th>\n",
       "      <th>cozy</th>\n",
       "      <th>duplex</th>\n",
       "      <th>easy access</th>\n",
       "      <th>free rent</th>\n",
       "      <th>freshly painted</th>\n",
       "      <th>garage</th>\n",
       "      <th>gated</th>\n",
       "      <th>gym</th>\n",
       "      <th>hardwood floors</th>\n",
       "      <th>laminate</th>\n",
       "      <th>laundry</th>\n",
       "      <th>loft</th>\n",
       "      <th>low income</th>\n",
       "      <th>luxurious</th>\n",
       "      <th>modern</th>\n",
       "      <th>modern kitchen</th>\n",
       "      <th>move in special</th>\n",
       "      <th>new appliances</th>\n",
       "      <th>new construction</th>\n",
       "      <th>new paint</th>\n",
       "      <th>newly painted</th>\n",
       "      <th>newly renovated</th>\n",
       "      <th>open concept</th>\n",
       "      <th>open floor plan</th>\n",
       "      <th>penthouse</th>\n",
       "      <th>pet friendly</th>\n",
       "      <th>pets allowed</th>\n",
       "      <th>pets welcome</th>\n",
       "      <th>pool</th>\n",
       "      <th>prime location</th>\n",
       "      <th>private owner</th>\n",
       "      <th>private yard</th>\n",
       "      <th>public transit</th>\n",
       "      <th>quiet</th>\n",
       "      <th>remodeled kitchen</th>\n",
       "      <th>reserved parking</th>\n",
       "      <th>section 8</th>\n",
       "      <th>spacious balcony</th>\n",
       "      <th>stainless steel appliances</th>\n",
       "      <th>sunlight</th>\n",
       "      <th>tile floors</th>\n",
       "      <th>upgraded</th>\n",
       "      <th>utilities included</th>\n",
       "      <th>walk score</th>\n",
       "      <th>washer dryer</th>\n",
       "      <th>waterfront views</th>\n",
       "      <th>wheelchair accessible</th>\n",
       "    </tr>\n",
       "  </thead>\n",
       "  <tbody>\n",
       "    <tr>\n",
       "      <th>0</th>\n",
       "      <td>0</td>\n",
       "      <td>1700</td>\n",
       "      <td>2</td>\n",
       "      <td>2</td>\n",
       "      <td>1000</td>\n",
       "      <td>0</td>\n",
       "      <td>0</td>\n",
       "      <td>0</td>\n",
       "      <td>0</td>\n",
       "      <td>0</td>\n",
       "      <td>0</td>\n",
       "      <td>0</td>\n",
       "      <td>0</td>\n",
       "      <td>1</td>\n",
       "      <td>0</td>\n",
       "      <td>0</td>\n",
       "      <td>0</td>\n",
       "      <td>0</td>\n",
       "      <td>1</td>\n",
       "      <td>0</td>\n",
       "      <td>0</td>\n",
       "      <td>0</td>\n",
       "      <td>0</td>\n",
       "      <td>0</td>\n",
       "      <td>0</td>\n",
       "      <td>0</td>\n",
       "      <td>0</td>\n",
       "      <td>0</td>\n",
       "      <td>0</td>\n",
       "      <td>0</td>\n",
       "      <td>1</td>\n",
       "      <td>0</td>\n",
       "      <td>0</td>\n",
       "      <td>0</td>\n",
       "      <td>0</td>\n",
       "      <td>0</td>\n",
       "      <td>0</td>\n",
       "      <td>0</td>\n",
       "      <td>0</td>\n",
       "      <td>0</td>\n",
       "      <td>0</td>\n",
       "      <td>0</td>\n",
       "      <td>0</td>\n",
       "      <td>0</td>\n",
       "      <td>0</td>\n",
       "      <td>0</td>\n",
       "      <td>0</td>\n",
       "      <td>0</td>\n",
       "      <td>0</td>\n",
       "      <td>0</td>\n",
       "      <td>0</td>\n",
       "      <td>0</td>\n",
       "      <td>0</td>\n",
       "      <td>0</td>\n",
       "      <td>0</td>\n",
       "      <td>0</td>\n",
       "      <td>0</td>\n",
       "      <td>0</td>\n",
       "      <td>0</td>\n",
       "      <td>0</td>\n",
       "      <td>0</td>\n",
       "      <td>0</td>\n",
       "      <td>0</td>\n",
       "    </tr>\n",
       "    <tr>\n",
       "      <th>1</th>\n",
       "      <td>1</td>\n",
       "      <td>1800</td>\n",
       "      <td>2</td>\n",
       "      <td>2</td>\n",
       "      <td>1000</td>\n",
       "      <td>0</td>\n",
       "      <td>0</td>\n",
       "      <td>0</td>\n",
       "      <td>0</td>\n",
       "      <td>0</td>\n",
       "      <td>0</td>\n",
       "      <td>0</td>\n",
       "      <td>0</td>\n",
       "      <td>1</td>\n",
       "      <td>0</td>\n",
       "      <td>0</td>\n",
       "      <td>0</td>\n",
       "      <td>0</td>\n",
       "      <td>1</td>\n",
       "      <td>0</td>\n",
       "      <td>0</td>\n",
       "      <td>0</td>\n",
       "      <td>0</td>\n",
       "      <td>0</td>\n",
       "      <td>0</td>\n",
       "      <td>0</td>\n",
       "      <td>0</td>\n",
       "      <td>0</td>\n",
       "      <td>0</td>\n",
       "      <td>0</td>\n",
       "      <td>1</td>\n",
       "      <td>0</td>\n",
       "      <td>0</td>\n",
       "      <td>0</td>\n",
       "      <td>0</td>\n",
       "      <td>0</td>\n",
       "      <td>0</td>\n",
       "      <td>0</td>\n",
       "      <td>0</td>\n",
       "      <td>0</td>\n",
       "      <td>0</td>\n",
       "      <td>0</td>\n",
       "      <td>0</td>\n",
       "      <td>0</td>\n",
       "      <td>0</td>\n",
       "      <td>0</td>\n",
       "      <td>0</td>\n",
       "      <td>0</td>\n",
       "      <td>0</td>\n",
       "      <td>0</td>\n",
       "      <td>0</td>\n",
       "      <td>0</td>\n",
       "      <td>0</td>\n",
       "      <td>0</td>\n",
       "      <td>0</td>\n",
       "      <td>0</td>\n",
       "      <td>0</td>\n",
       "      <td>0</td>\n",
       "      <td>0</td>\n",
       "      <td>0</td>\n",
       "      <td>0</td>\n",
       "      <td>0</td>\n",
       "      <td>0</td>\n",
       "    </tr>\n",
       "    <tr>\n",
       "      <th>2</th>\n",
       "      <td>2</td>\n",
       "      <td>2900</td>\n",
       "      <td>2</td>\n",
       "      <td>2</td>\n",
       "      <td>1000</td>\n",
       "      <td>0</td>\n",
       "      <td>0</td>\n",
       "      <td>0</td>\n",
       "      <td>0</td>\n",
       "      <td>0</td>\n",
       "      <td>0</td>\n",
       "      <td>0</td>\n",
       "      <td>0</td>\n",
       "      <td>0</td>\n",
       "      <td>1</td>\n",
       "      <td>0</td>\n",
       "      <td>0</td>\n",
       "      <td>0</td>\n",
       "      <td>0</td>\n",
       "      <td>0</td>\n",
       "      <td>0</td>\n",
       "      <td>0</td>\n",
       "      <td>0</td>\n",
       "      <td>0</td>\n",
       "      <td>0</td>\n",
       "      <td>0</td>\n",
       "      <td>0</td>\n",
       "      <td>0</td>\n",
       "      <td>0</td>\n",
       "      <td>0</td>\n",
       "      <td>0</td>\n",
       "      <td>0</td>\n",
       "      <td>0</td>\n",
       "      <td>0</td>\n",
       "      <td>0</td>\n",
       "      <td>0</td>\n",
       "      <td>0</td>\n",
       "      <td>0</td>\n",
       "      <td>0</td>\n",
       "      <td>0</td>\n",
       "      <td>0</td>\n",
       "      <td>0</td>\n",
       "      <td>0</td>\n",
       "      <td>0</td>\n",
       "      <td>0</td>\n",
       "      <td>0</td>\n",
       "      <td>0</td>\n",
       "      <td>0</td>\n",
       "      <td>0</td>\n",
       "      <td>0</td>\n",
       "      <td>0</td>\n",
       "      <td>0</td>\n",
       "      <td>0</td>\n",
       "      <td>0</td>\n",
       "      <td>0</td>\n",
       "      <td>0</td>\n",
       "      <td>0</td>\n",
       "      <td>0</td>\n",
       "      <td>0</td>\n",
       "      <td>0</td>\n",
       "      <td>0</td>\n",
       "      <td>0</td>\n",
       "      <td>0</td>\n",
       "    </tr>\n",
       "    <tr>\n",
       "      <th>3</th>\n",
       "      <td>3</td>\n",
       "      <td>1500</td>\n",
       "      <td>2</td>\n",
       "      <td>2</td>\n",
       "      <td>1000</td>\n",
       "      <td>0</td>\n",
       "      <td>0</td>\n",
       "      <td>0</td>\n",
       "      <td>0</td>\n",
       "      <td>0</td>\n",
       "      <td>0</td>\n",
       "      <td>0</td>\n",
       "      <td>0</td>\n",
       "      <td>0</td>\n",
       "      <td>0</td>\n",
       "      <td>0</td>\n",
       "      <td>0</td>\n",
       "      <td>0</td>\n",
       "      <td>0</td>\n",
       "      <td>0</td>\n",
       "      <td>0</td>\n",
       "      <td>0</td>\n",
       "      <td>0</td>\n",
       "      <td>0</td>\n",
       "      <td>1</td>\n",
       "      <td>0</td>\n",
       "      <td>0</td>\n",
       "      <td>0</td>\n",
       "      <td>0</td>\n",
       "      <td>0</td>\n",
       "      <td>0</td>\n",
       "      <td>0</td>\n",
       "      <td>0</td>\n",
       "      <td>0</td>\n",
       "      <td>0</td>\n",
       "      <td>0</td>\n",
       "      <td>0</td>\n",
       "      <td>0</td>\n",
       "      <td>0</td>\n",
       "      <td>0</td>\n",
       "      <td>0</td>\n",
       "      <td>0</td>\n",
       "      <td>0</td>\n",
       "      <td>0</td>\n",
       "      <td>0</td>\n",
       "      <td>0</td>\n",
       "      <td>0</td>\n",
       "      <td>0</td>\n",
       "      <td>0</td>\n",
       "      <td>0</td>\n",
       "      <td>0</td>\n",
       "      <td>1</td>\n",
       "      <td>0</td>\n",
       "      <td>0</td>\n",
       "      <td>0</td>\n",
       "      <td>1</td>\n",
       "      <td>0</td>\n",
       "      <td>0</td>\n",
       "      <td>0</td>\n",
       "      <td>0</td>\n",
       "      <td>0</td>\n",
       "      <td>0</td>\n",
       "      <td>0</td>\n",
       "    </tr>\n",
       "    <tr>\n",
       "      <th>4</th>\n",
       "      <td>4</td>\n",
       "      <td>1600</td>\n",
       "      <td>2</td>\n",
       "      <td>2</td>\n",
       "      <td>1000</td>\n",
       "      <td>0</td>\n",
       "      <td>0</td>\n",
       "      <td>0</td>\n",
       "      <td>0</td>\n",
       "      <td>0</td>\n",
       "      <td>0</td>\n",
       "      <td>0</td>\n",
       "      <td>0</td>\n",
       "      <td>0</td>\n",
       "      <td>0</td>\n",
       "      <td>0</td>\n",
       "      <td>0</td>\n",
       "      <td>0</td>\n",
       "      <td>0</td>\n",
       "      <td>0</td>\n",
       "      <td>0</td>\n",
       "      <td>1</td>\n",
       "      <td>0</td>\n",
       "      <td>0</td>\n",
       "      <td>0</td>\n",
       "      <td>0</td>\n",
       "      <td>0</td>\n",
       "      <td>0</td>\n",
       "      <td>0</td>\n",
       "      <td>0</td>\n",
       "      <td>0</td>\n",
       "      <td>0</td>\n",
       "      <td>0</td>\n",
       "      <td>0</td>\n",
       "      <td>0</td>\n",
       "      <td>0</td>\n",
       "      <td>0</td>\n",
       "      <td>0</td>\n",
       "      <td>0</td>\n",
       "      <td>0</td>\n",
       "      <td>0</td>\n",
       "      <td>0</td>\n",
       "      <td>0</td>\n",
       "      <td>0</td>\n",
       "      <td>0</td>\n",
       "      <td>0</td>\n",
       "      <td>0</td>\n",
       "      <td>0</td>\n",
       "      <td>0</td>\n",
       "      <td>0</td>\n",
       "      <td>0</td>\n",
       "      <td>0</td>\n",
       "      <td>0</td>\n",
       "      <td>0</td>\n",
       "      <td>0</td>\n",
       "      <td>0</td>\n",
       "      <td>0</td>\n",
       "      <td>0</td>\n",
       "      <td>0</td>\n",
       "      <td>0</td>\n",
       "      <td>0</td>\n",
       "      <td>0</td>\n",
       "      <td>0</td>\n",
       "    </tr>\n",
       "  </tbody>\n",
       "</table>\n",
       "</div>"
      ],
      "text/plain": [
       "   Unnamed: 0  Rent  Bedrooms  Bathrooms  Squarefootage  No_Amenities  a/c  \\\n",
       "0           0  1700         2          2           1000             0    0   \n",
       "1           1  1800         2          2           1000             0    0   \n",
       "2           2  2900         2          2           1000             0    0   \n",
       "3           3  1500         2          2           1000             0    0   \n",
       "4           4  1600         2          2           1000             0    0   \n",
       "\n",
       "   affordable  balcony  beautiful  beautifully maintained  brand new  \\\n",
       "0           0        0          0                       0          0   \n",
       "1           0        0          0                       0          0   \n",
       "2           0        0          0                       0          0   \n",
       "3           0        0          0                       0          0   \n",
       "4           0        0          0                       0          0   \n",
       "\n",
       "   city views  controlled access  conveniently located  covered parking  cozy  \\\n",
       "0           0                  1                     0                0     0   \n",
       "1           0                  1                     0                0     0   \n",
       "2           0                  0                     1                0     0   \n",
       "3           0                  0                     0                0     0   \n",
       "4           0                  0                     0                0     0   \n",
       "\n",
       "   duplex  easy access  free rent  freshly painted  garage  gated  gym  \\\n",
       "0       0            1          0                0       0      0    0   \n",
       "1       0            1          0                0       0      0    0   \n",
       "2       0            0          0                0       0      0    0   \n",
       "3       0            0          0                0       0      0    0   \n",
       "4       0            0          0                0       1      0    0   \n",
       "\n",
       "   hardwood floors  laminate  laundry  loft  low income  luxurious  modern  \\\n",
       "0                0         0        0     0           0          0       1   \n",
       "1                0         0        0     0           0          0       1   \n",
       "2                0         0        0     0           0          0       0   \n",
       "3                1         0        0     0           0          0       0   \n",
       "4                0         0        0     0           0          0       0   \n",
       "\n",
       "   modern kitchen  move in special  new appliances  new construction  \\\n",
       "0               0                0               0                 0   \n",
       "1               0                0               0                 0   \n",
       "2               0                0               0                 0   \n",
       "3               0                0               0                 0   \n",
       "4               0                0               0                 0   \n",
       "\n",
       "   new paint  newly painted  newly renovated  open concept  open floor plan  \\\n",
       "0          0              0                0             0                0   \n",
       "1          0              0                0             0                0   \n",
       "2          0              0                0             0                0   \n",
       "3          0              0                0             0                0   \n",
       "4          0              0                0             0                0   \n",
       "\n",
       "   penthouse  pet friendly  pets allowed  pets welcome  pool  prime location  \\\n",
       "0          0             0             0             0     0               0   \n",
       "1          0             0             0             0     0               0   \n",
       "2          0             0             0             0     0               0   \n",
       "3          0             0             0             0     0               0   \n",
       "4          0             0             0             0     0               0   \n",
       "\n",
       "   private owner  private yard  public transit  quiet  remodeled kitchen  \\\n",
       "0              0             0               0      0                  0   \n",
       "1              0             0               0      0                  0   \n",
       "2              0             0               0      0                  0   \n",
       "3              0             0               0      0                  0   \n",
       "4              0             0               0      0                  0   \n",
       "\n",
       "   reserved parking  section 8  spacious balcony  stainless steel appliances  \\\n",
       "0                 0          0                 0                           0   \n",
       "1                 0          0                 0                           0   \n",
       "2                 0          0                 0                           0   \n",
       "3                 1          0                 0                           0   \n",
       "4                 0          0                 0                           0   \n",
       "\n",
       "   sunlight  tile floors  upgraded  utilities included  walk score  \\\n",
       "0         0            0         0                   0           0   \n",
       "1         0            0         0                   0           0   \n",
       "2         0            0         0                   0           0   \n",
       "3         1            0         0                   0           0   \n",
       "4         0            0         0                   0           0   \n",
       "\n",
       "   washer dryer  waterfront views  wheelchair accessible  \n",
       "0             0                 0                      0  \n",
       "1             0                 0                      0  \n",
       "2             0                 0                      0  \n",
       "3             0                 0                      0  \n",
       "4             0                 0                      0  "
      ]
     },
     "execution_count": 26,
     "metadata": {},
     "output_type": "execute_result"
    }
   ],
   "source": [
    "RCM2 = pd.read_csv('RentCrawlModel_v2.csv')\n",
    "RCM2.head(5)"
   ]
  },
  {
   "cell_type": "code",
   "execution_count": 16,
   "metadata": {},
   "outputs": [],
   "source": [
    "Y = RCM2['Rent']"
   ]
  },
  {
   "cell_type": "code",
   "execution_count": 27,
   "metadata": {},
   "outputs": [],
   "source": [
    "X = RCM2.iloc[:,2:]"
   ]
  },
  {
   "cell_type": "code",
   "execution_count": 28,
   "metadata": {},
   "outputs": [
    {
     "data": {
      "text/plain": [
       "StandardScaler(copy=True, with_mean=True, with_std=True)"
      ]
     },
     "execution_count": 28,
     "metadata": {},
     "output_type": "execute_result"
    },
    {
     "data": {
      "text/plain": [
       "array([[ 0.25,  0.94, -0.24, -0.29, ...,  0.  , -0.15, -0.03, -0.07],\n",
       "       [ 0.25,  0.94, -0.24, -0.29, ...,  0.  , -0.15, -0.03, -0.07],\n",
       "       [ 0.25,  0.94, -0.24, -0.29, ...,  0.  , -0.15, -0.03, -0.07],\n",
       "       [ 0.25,  0.94, -0.24, -0.29, ...,  0.  , -0.15, -0.03, -0.07],\n",
       "       ..., \n",
       "       [ 0.25,  0.94, -0.24, -0.29, ...,  0.  , -0.15, -0.03, -0.07],\n",
       "       [-1.04, -0.74, -0.24,  3.45, ...,  0.  , -0.15, -0.03, -0.07],\n",
       "       [ 0.25, -0.74, -0.24, -0.29, ...,  0.  , -0.15, -0.03, -0.07],\n",
       "       [ 0.25, -0.74, -0.24, -0.29, ...,  0.  , -0.15, -0.03, -0.07]])"
      ]
     },
     "execution_count": 28,
     "metadata": {},
     "output_type": "execute_result"
    }
   ],
   "source": [
    "scaler = StandardScaler()\n",
    "scaler.fit(X)\n",
    "x_s = scaler.transform(X)\n",
    "x_s"
   ]
  },
  {
   "cell_type": "code",
   "execution_count": 23,
   "metadata": {},
   "outputs": [],
   "source": [
    "# Train/test split\n",
    "X_train, X_test, y_train, y_test = train_test_split(x_s, Y, test_size=0.33, random_state=42)"
   ]
  },
  {
   "cell_type": "code",
   "execution_count": 25,
   "metadata": {},
   "outputs": [
    {
     "data": {
      "text/plain": [
       "GridSearchCV(cv=None, error_score='raise',\n",
       "       estimator=Pipeline(memory=None,\n",
       "     steps=[('pca', PCA(copy=True, iterated_power='auto', n_components=None, random_state=None,\n",
       "  svd_solver='auto', tol=0.0, whiten=False)), ('svm', SVR(C=1.0, cache_size=200, coef0=0.0, degree=3, epsilon=0.1, gamma='auto',\n",
       "  kernel='rbf', max_iter=-1, shrinking=True, tol=0.001, verbose=False))]),\n",
       "       fit_params=None, iid=True, n_jobs=1,\n",
       "       param_grid={'svm__C': [1, 10, 100, 1000], 'svm__kernel': ['linear', 'rbf'], 'svm__gamma': [0.001, 0.0001], 'pca__n_components': [5, 10, 15]},\n",
       "       pre_dispatch='2*n_jobs', refit=True, return_train_score=True,\n",
       "       scoring=None, verbose=0)"
      ]
     },
     "execution_count": 25,
     "metadata": {},
     "output_type": "execute_result"
    },
    {
     "name": "stdout",
     "output_type": "stream",
     "text": [
      "{'pca__n_components': 15, 'svm__C': 100, 'svm__gamma': 0.001, 'svm__kernel': 'linear'} 0.346639056575\n"
     ]
    }
   ],
   "source": [
    "# Use Principal Component Analysis to reduce dimensionality\n",
    "# and improve generalization\n",
    "pca = decomposition.PCA()\n",
    "# Use a linear SVR\n",
    "svm = SVR()\n",
    "# Combine PCA and SVR to a pipeline\n",
    "pipe = Pipeline(steps=[('pca', pca), ('svm', svm)])\n",
    "# Check the training time for the SVR\n",
    "n_components = [5, 10, 15]\n",
    "\n",
    "params_grid = {\n",
    "    'svm__C': [1, 10, 100, 1000],\n",
    "    'svm__kernel': ['linear', 'rbf'],\n",
    "    'svm__gamma': [0.001, 0.0001],\n",
    "    'pca__n_components': n_components,\n",
    "}\n",
    "\n",
    "estimator = GridSearchCV(pipe, params_grid)\n",
    "estimator.fit(X_train, y_train)\n",
    "\n",
    "print (estimator.best_params_, estimator.best_score_)"
   ]
  },
  {
   "cell_type": "code",
   "execution_count": null,
   "metadata": {},
   "outputs": [],
   "source": []
  },
  {
   "cell_type": "code",
   "execution_count": null,
   "metadata": {},
   "outputs": [],
   "source": []
  },
  {
   "cell_type": "code",
   "execution_count": null,
   "metadata": {},
   "outputs": [],
   "source": []
  },
  {
   "cell_type": "code",
   "execution_count": null,
   "metadata": {},
   "outputs": [],
   "source": []
  },
  {
   "cell_type": "code",
   "execution_count": 32,
   "metadata": {},
   "outputs": [
    {
     "data": {
      "text/plain": [
       "(959, 61)"
      ]
     },
     "execution_count": 32,
     "metadata": {},
     "output_type": "execute_result"
    }
   ],
   "source": [
    "X_train.shape"
   ]
  },
  {
   "cell_type": "code",
   "execution_count": 33,
   "metadata": {},
   "outputs": [
    {
     "data": {
      "text/plain": [
       "(959,)"
      ]
     },
     "execution_count": 33,
     "metadata": {},
     "output_type": "execute_result"
    }
   ],
   "source": [
    "y_train.shape"
   ]
  },
  {
   "cell_type": "code",
   "execution_count": 35,
   "metadata": {},
   "outputs": [
    {
     "data": {
      "text/plain": [
       "(473, 61)"
      ]
     },
     "execution_count": 35,
     "metadata": {},
     "output_type": "execute_result"
    }
   ],
   "source": [
    "X_test.shape"
   ]
  },
  {
   "cell_type": "code",
   "execution_count": 36,
   "metadata": {},
   "outputs": [
    {
     "data": {
      "text/plain": [
       "(473,)"
      ]
     },
     "execution_count": 36,
     "metadata": {},
     "output_type": "execute_result"
    }
   ],
   "source": [
    "y_test.shape"
   ]
  },
  {
   "cell_type": "code",
   "execution_count": null,
   "metadata": {},
   "outputs": [],
   "source": []
  },
  {
   "cell_type": "code",
   "execution_count": null,
   "metadata": {},
   "outputs": [],
   "source": []
  },
  {
   "cell_type": "code",
   "execution_count": 41,
   "metadata": {},
   "outputs": [
    {
     "data": {
      "text/plain": [
       "RandomForestRegressor(bootstrap=False, criterion='mse', max_depth=None,\n",
       "           max_features='auto', max_leaf_nodes=None,\n",
       "           min_impurity_decrease=0.0, min_impurity_split=None,\n",
       "           min_samples_leaf=5, min_samples_split=2,\n",
       "           min_weight_fraction_leaf=0.0, n_estimators=100, n_jobs=1,\n",
       "           oob_score=False, random_state=0, verbose=0, warm_start=False)"
      ]
     },
     "execution_count": 41,
     "metadata": {},
     "output_type": "execute_result"
    },
    {
     "data": {
      "text/plain": [
       "0.61884810231455933"
      ]
     },
     "execution_count": 41,
     "metadata": {},
     "output_type": "execute_result"
    },
    {
     "data": {
      "text/plain": [
       "0.47656592992733354"
      ]
     },
     "execution_count": 41,
     "metadata": {},
     "output_type": "execute_result"
    },
    {
     "data": {
      "text/plain": [
       "0.4765659299273336"
      ]
     },
     "execution_count": 41,
     "metadata": {},
     "output_type": "execute_result"
    },
    {
     "data": {
      "text/plain": [
       "<matplotlib.figure.Figure at 0x1a20c949b0>"
      ]
     },
     "execution_count": 41,
     "metadata": {},
     "output_type": "execute_result"
    },
    {
     "data": {
      "text/plain": [
       "<matplotlib.collections.PathCollection at 0x1a2134fe48>"
      ]
     },
     "execution_count": 41,
     "metadata": {},
     "output_type": "execute_result"
    },
    {
     "data": {
      "text/plain": [
       "(0, 8000)"
      ]
     },
     "execution_count": 41,
     "metadata": {},
     "output_type": "execute_result"
    },
    {
     "data": {
      "text/plain": [
       "(0, 8000)"
      ]
     },
     "execution_count": 41,
     "metadata": {},
     "output_type": "execute_result"
    },
    {
     "data": {
      "text/plain": [
       "[<matplotlib.lines.Line2D at 0x1a20c66358>]"
      ]
     },
     "execution_count": 41,
     "metadata": {},
     "output_type": "execute_result"
    },
    {
     "data": {
      "image/png": "[encoded data removed]",
      "text/plain": [
       "<matplotlib.figure.Figure at 0x1a20c949b0>"
      ]
     },
     "metadata": {
      "image/png": {
       "height": 360,
       "width": 506
      }
     },
     "output_type": "display_data"
    }
   ],
   "source": [
    "regressor = RandomForestRegressor(random_state=0, n_estimators=100, max_depth=None, \n",
    "                                  min_samples_leaf=5, min_samples_split=2, bootstrap=False)\n",
    "\n",
    "regressor.fit(X_train, y_train)\n",
    "y_pred = regressor.predict(X_test)\n",
    "\n",
    "\n",
    "\n",
    "regressor.score(X_train, y_train)\n",
    "\n",
    "regressor.score(X_test, y_test)\n",
    "r2_score(y_test,y_pred) # Equivalent to line above\n",
    "\n",
    "\n",
    "# Plot the predictions vs. actual prices\n",
    "plt.figure(figsize=(8, 6))\n",
    "plt.scatter(x=y_test, y=y_pred)\n",
    "plt.xlim([0,8000])\n",
    "plt.ylim([0,8000])\n",
    "plt.plot([0,8000],[0,8000])\n",
    "plt.show()"
   ]
  },
  {
   "cell_type": "code",
   "execution_count": null,
   "metadata": {},
   "outputs": [],
   "source": []
  },
  {
   "cell_type": "markdown",
   "metadata": {},
   "source": [
    "## Ridge regression"
   ]
  },
  {
   "cell_type": "code",
   "execution_count": 42,
   "metadata": {},
   "outputs": [
    {
     "data": {
      "text/plain": [
       "Ridge(alpha=0.5, copy_X=True, fit_intercept=True, max_iter=None,\n",
       "   normalize=False, random_state=None, solver='auto', tol=0.001)"
      ]
     },
     "execution_count": 42,
     "metadata": {},
     "output_type": "execute_result"
    }
   ],
   "source": [
    "# Create linear regression object with a ridge coefficient 0.5\n",
    "ridge = Ridge(fit_intercept=True, alpha=0.5)\n",
    "\n",
    "# Train the model using the training set\n",
    "ridge.fit(X_train,y_train)"
   ]
  },
  {
   "cell_type": "code",
   "execution_count": 44,
   "metadata": {},
   "outputs": [
    {
     "name": "stdout",
     "output_type": "stream",
     "text": [
      "Method: Ridge Regression\n",
      "RMSE on train: 1344.6894\n",
      "RMSE on test: 1107.7593\n"
     ]
    }
   ],
   "source": [
    "# Compute RMSE on training data\n",
    "# p = np.array([ridge.predict(xi) for xi in x])\n",
    "p = ridge.predict(X_train)\n",
    "err = p-y_train\n",
    "total_error = np.dot(err,err)\n",
    "rmse_train = np.sqrt(total_error/len(p))\n",
    "\n",
    "\n",
    "# Compute RMSE on test data\n",
    "# p = np.array([ridge.predict(xi) for xi in x])\n",
    "p = ridge.predict(X_test)\n",
    "err = p-y_test\n",
    "total_error = np.dot(err,err)\n",
    "rmse_test = np.sqrt(total_error/len(p))\n",
    "\n",
    "\n",
    "method_name = 'Ridge Regression'\n",
    "print('Method: %s' %method_name)\n",
    "print('RMSE on train: %.4f' %rmse_train) # 1344.6894\n",
    "print('RMSE on test: %.4f' %rmse_test) # 1107.7593"
   ]
  },
  {
   "cell_type": "code",
   "execution_count": null,
   "metadata": {},
   "outputs": [],
   "source": []
  },
  {
   "cell_type": "code",
   "execution_count": null,
   "metadata": {},
   "outputs": [],
   "source": []
  },
  {
   "cell_type": "code",
   "execution_count": null,
   "metadata": {},
   "outputs": [],
   "source": []
  },
  {
   "cell_type": "code",
   "execution_count": null,
   "metadata": {},
   "outputs": [],
   "source": []
  },
  {
   "cell_type": "code",
   "execution_count": null,
   "metadata": {},
   "outputs": [],
   "source": []
  },
  {
   "cell_type": "code",
   "execution_count": null,
   "metadata": {},
   "outputs": [],
   "source": []
  }
 ],
 "metadata": {
  "kernelspec": {
   "display_name": "Python 3",
   "language": "python",
   "name": "python3"
  },
  "language_info": {
   "codemirror_mode": {
    "name": "ipython",
    "version": 3
   },
   "file_extension": ".py",
   "mimetype": "text/x-python",
   "name": "python",
   "nbconvert_exporter": "python",
   "pygments_lexer": "ipython3",
   "version": "3.5.4"
  }
 },
 "nbformat": 4,
 "nbformat_minor": 2
}
